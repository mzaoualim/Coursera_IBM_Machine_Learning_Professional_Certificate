{
  "cells": [
    {
      "cell_type": "markdown",
      "metadata": {
        "run_control": {
          "marked": true
        },
        "id": "bbVOdo-8_6Ox"
      },
      "source": [
        "# Machine Learning Foundation\n",
        "\n",
        "## Course 5, Part b: Intro to Neural Networks LAB"
      ]
    },
    {
      "cell_type": "markdown",
      "metadata": {
        "id": "OkAh2-c__6O3"
      },
      "source": [
        "## Exercise: neurons as logic gates\n",
        "In this exercise we will experiment with neuron computations.  We will show how to represent basic logic functions like AND, OR, and XOR using single neurons (or more complicated structures).  Finally, at the end we will walk through how to represent neural networks as a chain of matrix computations."
      ]
    },
    {
      "cell_type": "code",
      "execution_count": 1,
      "metadata": {
        "id": "b8aTodZS_6O8"
      },
      "outputs": [],
      "source": [
        "import numpy as np\n",
        "import matplotlib.pyplot as plt"
      ]
    },
    {
      "cell_type": "markdown",
      "metadata": {
        "id": "efFihgqP_6PA"
      },
      "source": [
        "### Sigmoid function:\n",
        "\n",
        "$$\n",
        "\\sigma = \\frac{1}{1 + e^{-x}}\n",
        "$$\n",
        "\n",
        "$\\sigma$ ranges from (0, 1). When the input $x$ is negative, $\\sigma$ is close to 0. When $x$ is positive, $\\sigma$ is close to 1. At $x=0$, $\\sigma=0.5$"
      ]
    },
    {
      "cell_type": "code",
      "execution_count": 2,
      "metadata": {
        "id": "JdeJOI7f_6PF"
      },
      "outputs": [],
      "source": [
        "## Quickly define the sigmoid function\n",
        "def sigmoid(x):\n",
        "    \"\"\"Sigmoid function\"\"\"\n",
        "    return 1.0 / (1.0 + np.exp(-x))"
      ]
    },
    {
      "cell_type": "code",
      "execution_count": 3,
      "metadata": {
        "id": "L7s4y40b_6PH",
        "outputId": "a8a4d059-fa6a-40e7-c06e-456f0c6bb34b",
        "colab": {
          "base_uri": "https://localhost:8080/",
          "height": 417
        }
      },
      "outputs": [
        {
          "output_type": "display_data",
          "data": {
            "text/plain": [
              "<Figure size 864x432 with 1 Axes>"
            ],
            "image/png": "[encoded data removed]"
          },
          "metadata": {
            "needs_background": "light"
          }
        }
      ],
      "source": [
        "# Plot the sigmoid function\n",
        "vals = np.linspace(-10, 10, num=100, dtype=np.float32)\n",
        "activation = sigmoid(vals)\n",
        "fig = plt.figure(figsize=(12,6))\n",
        "fig.suptitle('Sigmoid function')\n",
        "plt.plot(vals, activation)\n",
        "plt.grid(True, which='both')\n",
        "plt.axhline(y=0, color='k')\n",
        "plt.axvline(x=0, color='k')\n",
        "plt.yticks()\n",
        "plt.ylim([-0.5, 1.5]);"
      ]
    },
    {
      "cell_type": "markdown",
      "metadata": {
        "id": "3O2ktxTE_6PM"
      },
      "source": [
        "### Thinking of neurons as boolean logic gates\n",
        "\n",
        "A logic gate takes in two boolean (true/false or 1/0) inputs, and returns either a 0 or 1 depending on its rule. The truth table for a logic gate shows the outputs for each combination of inputs, (0, 0), (0, 1), (1,0), and (1, 1). For example, let's look at the truth table for an \"OR\" gate:\n",
        "\n",
        "### OR Gate\n",
        "\n",
        "<table>\n",
        "\n",
        "<tr>\n",
        "<th colspan=\"3\">OR gate truth table</th>\n",
        "</tr>\n",
        "\n",
        "<tr>\n",
        "<th colspan=\"2\">Input</th>\n",
        "<th>Output</th>\n",
        "</tr>\n",
        "\n",
        "<tr>\n",
        "<td>0</td>\n",
        "<td>0</td>\n",
        "<td>0</td>\n",
        "</tr>\n",
        "\n",
        "<tr>\n",
        "<td>0</td>\n",
        "<td>1</td>\n",
        "<td>1</td>\n",
        "</tr>\n",
        "\n",
        "<tr>\n",
        "<td>1</td>\n",
        "<td>0</td>\n",
        "<td>1</td>\n",
        "</tr>\n",
        "\n",
        "<tr>\n",
        "<td>1</td>\n",
        "<td>1</td>\n",
        "<td>1</td>\n",
        "</tr>\n",
        "\n",
        "</table>\n",
        "\n",
        "A neuron that uses the sigmoid activation function outputs a value between (0, 1). This naturally leads us to think about boolean values. Imagine a neuron that takes in two inputs, $x_1$ and $x_2$, and a bias term:\n",
        "\n",
        "![](https://github.com/mzaoualim/Coursera_IBM_Machine_Learning_Professional_Certificate/blob/main/Deep%20Learning%20and%20Reinforcement%20Learning/data/logic01.png?raw=1)\n",
        "\n",
        "By limiting the inputs of $x_1$ and $x_2$ to be in $\\left\\{0, 1\\right\\}$, we can simulate the effect of logic gates with our neuron. The goal is to find the weights (represented by ? marks above), such that it returns an output close to 0 or 1 depending on the inputs.\n",
        "\n",
        "What numbers for the weights would we need to fill in for this gate to output OR logic? Observe from the plot above that $\\sigma(z)$ is close to 0 when $z$ is largely negative (around -10 or less), and is close to 1 when $z$ is largely positive (around +10 or greater).\n",
        "\n",
        "$$\n",
        "z = w_1 x_1 + w_2 x_2 + b\n",
        "$$\n",
        "\n",
        "Let's think this through:\n",
        "\n",
        "* When $x_1$ and $x_2$ are both 0, the only value affecting $z$ is $b$. Because we want the result for (0, 0) to be close to zero, $b$ should be negative (at least -10)\n",
        "* If either $x_1$ or $x_2$ is 1, we want the output to be close to 1. That means the weights associated with $x_1$ and $x_2$ should be enough to offset $b$ to the point of causing $z$ to be at least 10.\n",
        "* Let's give $b$ a value of -10. How big do we need $w_1$ and $w_2$ to be? \n",
        "    * At least +20\n",
        "* So let's try out $w_1=20$, $w_2=20$, and $b=-10$!\n",
        "\n",
        "![](https://github.com/mzaoualim/Coursera_IBM_Machine_Learning_Professional_Certificate/blob/main/Deep%20Learning%20and%20Reinforcement%20Learning/data/logic02.png?raw=1)"
      ]
    },
    {
      "cell_type": "code",
      "execution_count": 4,
      "metadata": {
        "id": "__ZNaRh5_6PS"
      },
      "outputs": [],
      "source": [
        "def logic_gate(w1, w2, b):\n",
        "    # Helper to create logic gate functions\n",
        "    # Plug in values for weight_a, weight_b, and bias\n",
        "    return lambda x1, x2: sigmoid(w1 * x1 + w2 * x2 + b)\n",
        "\n",
        "def test(gate):\n",
        "    # Helper function to test out our weight functions.\n",
        "    for a, b in (0, 0), (0, 1), (1, 0), (1, 1):\n",
        "        print(\"{}, {}: {}\".format(a, b, np.round(gate(a, b))))"
      ]
    },
    {
      "cell_type": "code",
      "execution_count": 5,
      "metadata": {
        "id": "TSD-tP6i_6PU",
        "outputId": "e5706ac5-9799-4163-8ea7-bdd6740192e9",
        "colab": {
          "base_uri": "https://localhost:8080/"
        }
      },
      "outputs": [
        {
          "output_type": "stream",
          "name": "stdout",
          "text": [
            "0, 0: 0.0\n",
            "0, 1: 1.0\n",
            "1, 0: 1.0\n",
            "1, 1: 1.0\n"
          ]
        }
      ],
      "source": [
        "or_gate = logic_gate(20, 20, -10)\n",
        "test(or_gate)"
      ]
    },
    {
      "cell_type": "markdown",
      "metadata": {
        "id": "ATP4Vpe3_6PY"
      },
      "source": [
        "<table>\n",
        "\n",
        "<tr>\n",
        "<th colspan=\"3\">OR gate truth table</th>\n",
        "</tr>\n",
        "\n",
        "<tr>\n",
        "<th colspan=\"2\">Input</th>\n",
        "<th>Output</th>\n",
        "</tr>\n",
        "\n",
        "<tr>\n",
        "<td>0</td>\n",
        "<td>0</td>\n",
        "<td>0</td>\n",
        "</tr>\n",
        "\n",
        "<tr>\n",
        "<td>0</td>\n",
        "<td>1</td>\n",
        "<td>1</td>\n",
        "</tr>\n",
        "\n",
        "<tr>\n",
        "<td>1</td>\n",
        "<td>0</td>\n",
        "<td>1</td>\n",
        "</tr>\n",
        "\n",
        "<tr>\n",
        "<td>1</td>\n",
        "<td>1</td>\n",
        "<td>1</td>\n",
        "</tr>\n",
        "\n",
        "</table>\n",
        "\n",
        "This matches! Great! Now you try finding the appropriate weight values for each truth table. Try not to guess and check- think through it logically and try to derive values that work.\n",
        "\n",
        "### AND Gate\n",
        "\n",
        "<table>\n",
        "\n",
        "<tr>\n",
        "<th colspan=\"3\">AND gate truth table</th>\n",
        "</tr>\n",
        "\n",
        "<tr>\n",
        "<th colspan=\"2\">Input</th>\n",
        "<th>Output</th>\n",
        "</tr>\n",
        "\n",
        "<tr>\n",
        "<td>0</td>\n",
        "<td>0</td>\n",
        "<td>0</td>\n",
        "</tr>\n",
        "\n",
        "<tr>\n",
        "<td>0</td>\n",
        "<td>1</td>\n",
        "<td>0</td>\n",
        "</tr>\n",
        "\n",
        "<tr>\n",
        "<td>1</td>\n",
        "<td>0</td>\n",
        "<td>0</td>\n",
        "</tr>\n",
        "\n",
        "<tr>\n",
        "<td>1</td>\n",
        "<td>1</td>\n",
        "<td>1</td>\n",
        "</tr>\n",
        "\n",
        "</table>"
      ]
    },
    {
      "cell_type": "markdown",
      "metadata": {
        "id": "3r0jQyfQ_6Pa"
      },
      "source": [
        "## Exercise 1\n",
        "Determine what values for the neurons would make this function as an AND gate."
      ]
    },
    {
      "cell_type": "code",
      "execution_count": 6,
      "metadata": {
        "id": "0o0bRn3G_6Pd",
        "outputId": "2981bba4-9d53-4764-a205-f4cef0bc0482",
        "colab": {
          "base_uri": "https://localhost:8080/"
        }
      },
      "outputs": [
        {
          "output_type": "stream",
          "name": "stdout",
          "text": [
            "0, 0: 0.0\n",
            "0, 1: 0.0\n",
            "1, 0: 0.0\n",
            "1, 1: 1.0\n"
          ]
        }
      ],
      "source": [
        "# TO DO: Fill in the w1, w2, and b parameters such that \n",
        "# the truth table matches\n",
        "### BEGIN SOLUTION\n",
        "w1 = 11\n",
        "w2 = 10\n",
        "b = -20\n",
        "and_gate = logic_gate(w1, w2, b)\n",
        "### END SOLUTION\n",
        "test(and_gate)"
      ]
    },
    {
      "cell_type": "markdown",
      "metadata": {
        "id": "V0iyAppj_6Pf"
      },
      "source": [
        "## Exercise 2\n",
        "Do the same for the NOR gate and the NAND gate."
      ]
    },
    {
      "cell_type": "markdown",
      "metadata": {
        "id": "_ykqsquh_6Ph"
      },
      "source": [
        "### NOR (Not Or) Gate\n",
        "\n",
        "<table>\n",
        "\n",
        "<tr>\n",
        "<th colspan=\"3\">NOR gate truth table</th>\n",
        "</tr>\n",
        "\n",
        "<tr>\n",
        "<th colspan=\"2\">Input</th>\n",
        "<th>Output</th>\n",
        "</tr>\n",
        "\n",
        "<tr>\n",
        "<td>0</td>\n",
        "<td>0</td>\n",
        "<td>1</td>\n",
        "</tr>\n",
        "\n",
        "<tr>\n",
        "<td>0</td>\n",
        "<td>1</td>\n",
        "<td>0</td>\n",
        "</tr>\n",
        "\n",
        "<tr>\n",
        "<td>1</td>\n",
        "<td>0</td>\n",
        "<td>0</td>\n",
        "</tr>\n",
        "\n",
        "<tr>\n",
        "<td>1</td>\n",
        "<td>1</td>\n",
        "<td>0</td>\n",
        "</tr>\n",
        "\n",
        "</table>"
      ]
    },
    {
      "cell_type": "code",
      "execution_count": 7,
      "metadata": {
        "id": "BzO__UVc_6Pj",
        "outputId": "78c35a22-9f38-4dfe-ef53-be20eb1a01c5",
        "colab": {
          "base_uri": "https://localhost:8080/"
        }
      },
      "outputs": [
        {
          "output_type": "stream",
          "name": "stdout",
          "text": [
            "0, 0: 1.0\n",
            "0, 1: 0.0\n",
            "1, 0: 0.0\n",
            "1, 1: 0.0\n"
          ]
        }
      ],
      "source": [
        "# TO DO: Fill in the w1, w2, and b parameters such that the \n",
        "# truth table matches\n",
        "### BEGIN SOLUTION\n",
        "w1 = -20\n",
        "w2 = -20\n",
        "b = 10\n",
        "nor_gate = logic_gate(w1, w2, b)\n",
        "### END SOLUTION\n",
        "\n",
        "test(nor_gate)"
      ]
    },
    {
      "cell_type": "markdown",
      "metadata": {
        "id": "eSZS12ON_6Pl"
      },
      "source": [
        "### NAND (Not And) Gate\n",
        "\n",
        "<table>\n",
        "\n",
        "<tr>\n",
        "<th colspan=\"3\">NAND gate truth table</th>\n",
        "</tr>\n",
        "\n",
        "<tr>\n",
        "<th colspan=\"2\">Input</th>\n",
        "<th>Output</th>\n",
        "</tr>\n",
        "\n",
        "<tr>\n",
        "<td>0</td>\n",
        "<td>0</td>\n",
        "<td>1</td>\n",
        "</tr>\n",
        "\n",
        "<tr>\n",
        "<td>0</td>\n",
        "<td>1</td>\n",
        "<td>1</td>\n",
        "</tr>\n",
        "\n",
        "<tr>\n",
        "<td>1</td>\n",
        "<td>0</td>\n",
        "<td>1</td>\n",
        "</tr>\n",
        "\n",
        "<tr>\n",
        "<td>1</td>\n",
        "<td>1</td>\n",
        "<td>0</td>\n",
        "</tr>\n",
        "\n",
        "</table>"
      ]
    },
    {
      "cell_type": "code",
      "execution_count": 8,
      "metadata": {
        "id": "YQMHpfre_6Pn",
        "outputId": "88fcbd5c-2917-4e86-f103-858a55052071",
        "colab": {
          "base_uri": "https://localhost:8080/"
        }
      },
      "outputs": [
        {
          "output_type": "stream",
          "name": "stdout",
          "text": [
            "0, 0: 1.0\n",
            "0, 1: 1.0\n",
            "1, 0: 1.0\n",
            "1, 1: 0.0\n"
          ]
        }
      ],
      "source": [
        "### BEGIN SOLUTION\n",
        "# TO DO: Fill in the w1, w2, and b parameters such that the \n",
        "# truth table matches\n",
        "w1 = -11\n",
        "w2 = -10\n",
        "b = 20\n",
        "nand_gate = logic_gate(w1, w2, b)\n",
        "### END SOLUTION\n",
        "\n",
        "test(nand_gate)"
      ]
    },
    {
      "cell_type": "markdown",
      "metadata": {
        "id": "TaVxsucO_6Pq"
      },
      "source": [
        "## The limits of single neurons\n",
        "\n",
        "If you've taken computer science courses, you may know that the XOR gates are the basis of computation. They can be used as so-called \"half-adders\", the foundation of being able to add numbers together. Here's the truth table for XOR:\n",
        "\n",
        "### XOR (Exclusive Or) Gate\n",
        "\n",
        "<table>\n",
        "\n",
        "<tr>\n",
        "<th colspan=\"3\">XOR gate truth table</th>\n",
        "</tr>\n",
        "\n",
        "<tr>\n",
        "<th colspan=\"2\">Input</th>\n",
        "<th>Output</th>\n",
        "</tr>\n",
        "\n",
        "<tr>\n",
        "<td>0</td>\n",
        "<td>0</td>\n",
        "<td>0</td>\n",
        "</tr>\n",
        "\n",
        "<tr>\n",
        "<td>0</td>\n",
        "<td>1</td>\n",
        "<td>1</td>\n",
        "</tr>\n",
        "\n",
        "<tr>\n",
        "<td>1</td>\n",
        "<td>0</td>\n",
        "<td>1</td>\n",
        "</tr>\n",
        "\n",
        "<tr>\n",
        "<td>1</td>\n",
        "<td>1</td>\n",
        "<td>0</td>\n",
        "</tr>\n",
        "\n",
        "</table>\n",
        "\n",
        "Can we create a set of weights such that a single neuron can output this property?\n",
        "\n",
        "It turns out we cannot, since single neurons can't correlate inputs. Can we still use neurons to somehow form an XOR gate?\n",
        "\n",
        "What if we tried something more complex:\n",
        "\n",
        "![](https://github.com/mzaoualim/Coursera_IBM_Machine_Learning_Professional_Certificate/blob/main/Deep%20Learning%20and%20Reinforcement%20Learning/data/logic03.png?raw=1)\n",
        "\n",
        "Here, we've got the inputs going to two separate gates: the top neuron is an OR gate, and the bottom is a NAND gate. The output of these gates then get passed to another neuron, which is an AND gate. If you work out the outputs at each combination of input values, you'll see that this is an XOR gate."
      ]
    },
    {
      "cell_type": "code",
      "execution_count": 9,
      "metadata": {
        "id": "g0Tzla2j_6Ps",
        "outputId": "34020206-74a2-426f-991c-e5979f791930",
        "colab": {
          "base_uri": "https://localhost:8080/"
        }
      },
      "outputs": [
        {
          "output_type": "stream",
          "name": "stdout",
          "text": [
            "0, 0: 0.0\n",
            "0, 1: 1.0\n",
            "1, 0: 1.0\n",
            "1, 1: 0.0\n"
          ]
        }
      ],
      "source": [
        "# Make sure we have or_gate, nand_gate, and and_gate working from above!\n",
        "def xor_gate(a, b):\n",
        "    c = or_gate(a, b)\n",
        "    d = nand_gate(a, b)\n",
        "    return and_gate(c, d)\n",
        "test(xor_gate)"
      ]
    },
    {
      "cell_type": "markdown",
      "metadata": {
        "id": "f64QYPhR_6Pu"
      },
      "source": [
        "## Feedforward Networks as Matrix Computations\n",
        "\n",
        "We discussed previously how the feed-forward computation of a neural network can be thought of as matrix calculations and activation functions.  We will do some actual computations with matrices to see this in action.\n",
        "\n",
        "![](https://github.com/mzaoualim/Coursera_IBM_Machine_Learning_Professional_Certificate/blob/main/Deep%20Learning%20and%20Reinforcement%20Learning/data/FF_NN.png?raw=1)"
      ]
    },
    {
      "cell_type": "markdown",
      "metadata": {
        "id": "NFO20Lng_6Pw"
      },
      "source": [
        "## Exercise 3\n",
        "Provided below are the following:\n",
        "\n",
        "- Three weight matrices `W_1`, `W_2` and `W_3` representing the weights in each layer.  The convention for these matrices is that each $W_{i,j}$ gives the weight from neuron $i$ in the previous (left) layer to neuron $j$ in the next (right) layer.  \n",
        "- A vector `x_in` representing a single input and a matrix `x_mat_in` representing 7 different inputs.\n",
        "- Two functions: `soft_max_vec` and `soft_max_mat` which apply the soft_max function to a single vector, and row-wise to a matrix.\n",
        "\n",
        "The goals for this exercise are:\n",
        "1. For input `x_in` calculate the inputs and outputs to each layer (assuming sigmoid activations for the middle two layers and soft_max output for the final layer.\n",
        "2. Write a function that does the entire neural network calculation for a single input\n",
        "3. Write a function that does the entire neural network calculation for a matrix of inputs, where each row is a single input.\n",
        "4. Test your functions on `x_in` and `x_mat_in`.\n",
        "\n",
        "This illustrates what happens in a NN during one single forward pass. Roughly speaking, after this forward pass, it remains to compare the output of the network to the known truth values, compute the gradient of the loss function and adjust the weight matrices `W_1`, `W_2` and `W_3` accordingly, and iterate. Hopefully this process will result in better weight matrices and our loss will be smaller afterwards."
      ]
    },
    {
      "cell_type": "code",
      "execution_count": 10,
      "metadata": {
        "id": "o1dFROit_6Py",
        "outputId": "c35ae105-a66f-42bb-93b8-d3d4ebd87c44",
        "colab": {
          "base_uri": "https://localhost:8080/"
        }
      },
      "outputs": [
        {
          "output_type": "stream",
          "name": "stdout",
          "text": [
            "the matrix W_1\n",
            "\n",
            "[[ 2 -1  1  4]\n",
            " [-1  2 -3  1]\n",
            " [ 3 -2 -1  5]]\n",
            "------------------------------\n",
            "vector input x_in\n",
            "\n",
            "[0.5 0.8 0.2]\n",
            "------------------------------\n",
            "matrix input x_mat_in -- starts with the vector `x_in`\n",
            "\n",
            "[[0.5 0.8 0.2]\n",
            " [0.1 0.9 0.6]\n",
            " [0.2 0.2 0.3]\n",
            " [0.6 0.1 0.9]\n",
            " [0.5 0.5 0.4]\n",
            " [0.9 0.1 0.9]\n",
            " [0.1 0.8 0.7]]\n"
          ]
        }
      ],
      "source": [
        "W_1 = np.array([[2,-1,1,4],[-1,2,-3,1],[3,-2,-1,5]])\n",
        "W_2 = np.array([[3,1,-2,1],[-2,4,1,-4],[-1,-3,2,-5],[3,1,1,1]])\n",
        "W_3 = np.array([[-1,3,-2],[1,-1,-3],[3,-2,2],[1,2,1]])\n",
        "x_in = np.array([.5,.8,.2])\n",
        "x_mat_in = np.array([[.5,.8,.2],[.1,.9,.6],[.2,.2,.3],\n",
        "                     [.6,.1,.9],[.5,.5,.4],[.9,.1,.9],[.1,.8,.7]])\n",
        "\n",
        "def soft_max_vec(vec):\n",
        "    return np.exp(vec)/(np.sum(np.exp(vec)))\n",
        "\n",
        "def soft_max_mat(mat):\n",
        "    return np.exp(mat)/(np.sum(np.exp(mat),axis=1).reshape(-1,1))\n",
        "\n",
        "print('the matrix W_1\\n')\n",
        "print(W_1)\n",
        "print('-'*30)\n",
        "print('vector input x_in\\n')\n",
        "print(x_in)\n",
        "print ('-'*30)\n",
        "print('matrix input x_mat_in -- starts with the vector `x_in`\\n')\n",
        "print(x_mat_in)"
      ]
    },
    {
      "cell_type": "code",
      "execution_count": 11,
      "metadata": {
        "id": "2vQSGl8B_6P1",
        "outputId": "83fbc2d6-3cd6-4265-9e37-58647fa42c5e",
        "colab": {
          "base_uri": "https://localhost:8080/"
        }
      },
      "outputs": [
        {
          "output_type": "execute_result",
          "data": {
            "text/plain": [
              "array([ 0.8,  0.7, -2.1,  3.8])"
            ]
          },
          "metadata": {},
          "execution_count": 11
        }
      ],
      "source": [
        "### BEGIN SOLUTION\n",
        "z_2 = np.dot(x_in,W_1)\n",
        "z_2"
      ]
    },
    {
      "cell_type": "code",
      "execution_count": 12,
      "metadata": {
        "id": "FMt58Vo4_6P4",
        "outputId": "d47869f9-a17d-4376-932d-6bed173505d3",
        "colab": {
          "base_uri": "https://localhost:8080/"
        }
      },
      "outputs": [
        {
          "output_type": "execute_result",
          "data": {
            "text/plain": [
              "array([0.68997448, 0.66818777, 0.10909682, 0.97811873])"
            ]
          },
          "metadata": {},
          "execution_count": 12
        }
      ],
      "source": [
        "a_2 = sigmoid(z_2)\n",
        "a_2"
      ]
    },
    {
      "cell_type": "code",
      "execution_count": 13,
      "metadata": {
        "id": "zGLIvpA2_6P7",
        "outputId": "e950749d-3462-4230-a600-e3587d798348",
        "colab": {
          "base_uri": "https://localhost:8080/"
        }
      },
      "outputs": [
        {
          "output_type": "execute_result",
          "data": {
            "text/plain": [
              "array([ 3.55880727,  4.01355384,  0.48455118, -1.55014198])"
            ]
          },
          "metadata": {},
          "execution_count": 13
        }
      ],
      "source": [
        "z_3 = np.dot(a_2,W_2)\n",
        "z_3"
      ]
    },
    {
      "cell_type": "code",
      "execution_count": 14,
      "metadata": {
        "id": "b0hveUpf_6P8",
        "outputId": "cf04007f-2029-4daf-b142-4c293d3f0fb4",
        "colab": {
          "base_uri": "https://localhost:8080/"
        }
      },
      "outputs": [
        {
          "output_type": "execute_result",
          "data": {
            "text/plain": [
              "array([0.97231549, 0.98225163, 0.61882199, 0.17506576])"
            ]
          },
          "metadata": {},
          "execution_count": 14
        }
      ],
      "source": [
        "a_3 = sigmoid(z_3)\n",
        "a_3"
      ]
    },
    {
      "cell_type": "code",
      "execution_count": 15,
      "metadata": {
        "id": "31OfSM73_6P-",
        "outputId": "0edfd19d-2295-48f9-b8cb-39c6c1c88bbf",
        "colab": {
          "base_uri": "https://localhost:8080/"
        }
      },
      "outputs": [
        {
          "output_type": "execute_result",
          "data": {
            "text/plain": [
              "array([ 2.04146788,  1.04718238, -3.47867612])"
            ]
          },
          "metadata": {},
          "execution_count": 15
        }
      ],
      "source": [
        "z_4 = np.dot(a_3,W_3)\n",
        "z_4"
      ]
    },
    {
      "cell_type": "code",
      "execution_count": 16,
      "metadata": {
        "id": "FGseqbQH_6QA",
        "outputId": "3c3454a2-7862-48ce-bf83-a729866b2126",
        "colab": {
          "base_uri": "https://localhost:8080/"
        }
      },
      "outputs": [
        {
          "output_type": "execute_result",
          "data": {
            "text/plain": [
              "array([0.72780576, 0.26927918, 0.00291506])"
            ]
          },
          "metadata": {},
          "execution_count": 16
        }
      ],
      "source": [
        "y_out = soft_max_vec(z_4)\n",
        "y_out\n",
        "### END SOLUTION"
      ]
    },
    {
      "cell_type": "code",
      "execution_count": 17,
      "metadata": {
        "id": "SeqjX70Y_6QC"
      },
      "outputs": [],
      "source": [
        "## A one-line function to do the entire neural net computation\n",
        "\n",
        "def nn_comp_vec(x):\n",
        "    return soft_max_vec(sigmoid(sigmoid(np.dot(x,W_1)).dot(W_2)).dot(W_3))\n",
        "\n",
        "def nn_comp_mat(x):\n",
        "    return soft_max_mat(sigmoid(sigmoid(np.dot(x,W_1)).dot(W_2)).dot(W_3))"
      ]
    },
    {
      "cell_type": "code",
      "execution_count": 18,
      "metadata": {
        "id": "wZYk9Za2_6QD",
        "outputId": "0c171270-1bbf-4879-da74-bcbdb4d2fa3d",
        "colab": {
          "base_uri": "https://localhost:8080/"
        }
      },
      "outputs": [
        {
          "output_type": "execute_result",
          "data": {
            "text/plain": [
              "array([0.72780576, 0.26927918, 0.00291506])"
            ]
          },
          "metadata": {},
          "execution_count": 18
        }
      ],
      "source": [
        "nn_comp_vec(x_in)"
      ]
    },
    {
      "cell_type": "code",
      "execution_count": 19,
      "metadata": {
        "id": "fkoeV2oI_6QF",
        "outputId": "54af300a-a1e6-4da0-f217-6c6ecdf56a60",
        "colab": {
          "base_uri": "https://localhost:8080/"
        }
      },
      "outputs": [
        {
          "output_type": "execute_result",
          "data": {
            "text/plain": [
              "array([[0.72780576, 0.26927918, 0.00291506],\n",
              "       [0.62054212, 0.37682531, 0.00263257],\n",
              "       [0.69267581, 0.30361576, 0.00370844],\n",
              "       [0.36618794, 0.63016955, 0.00364252],\n",
              "       [0.57199769, 0.4251982 , 0.00280411],\n",
              "       [0.38373781, 0.61163804, 0.00462415],\n",
              "       [0.52510443, 0.4725011 , 0.00239447]])"
            ]
          },
          "metadata": {},
          "execution_count": 19
        }
      ],
      "source": [
        "nn_comp_mat(x_mat_in)"
      ]
    },
    {
      "cell_type": "markdown",
      "metadata": {
        "id": "XC20ZZTs_6QG"
      },
      "source": [
        "---\n",
        "### Machine Learning Foundation (C) 2020 IBM Corporation"
      ]
    }
  ],
  "metadata": {
    "kernelspec": {
      "display_name": "Python 3",
      "language": "python",
      "name": "python3"
    },
    "language_info": {
      "codemirror_mode": {
        "name": "ipython",
        "version": 3
      },
      "file_extension": ".py",
      "mimetype": "text/x-python",
      "name": "python",
      "nbconvert_exporter": "python",
      "pygments_lexer": "ipython3",
      "version": "3.7.4"
    },
    "colab": {
      "name": "05b_LAB_Intro_NN.ipynb",
      "provenance": []
    }
  },
  "nbformat": 4,
  "nbformat_minor": 0
}