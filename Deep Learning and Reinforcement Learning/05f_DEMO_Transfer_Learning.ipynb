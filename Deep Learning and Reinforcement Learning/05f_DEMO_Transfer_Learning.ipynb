{
  "cells": [
    {
      "cell_type": "markdown",
      "metadata": {
        "run_control": {
          "marked": true
        },
        "id": "fGb06u2fNGcK"
      },
      "source": [
        "# Machine Learning Foundation\n",
        "\n",
        "## Course 5, Part g: Transfer Learning DEMO"
      ]
    },
    {
      "cell_type": "markdown",
      "metadata": {
        "id": "j1s-glRlNGcS"
      },
      "source": [
        "For this exercise, we will use the well-known MNIST digit data. To illustrate the power and concept of transfer learning, we will train a CNN on just the digits 5,6,7,8,9.  Then we will train just the last layer(s) of the network on the digits 0,1,2,3,4 and see how well the features learned on 5-9 help with classifying 0-4.\n",
        "\n",
        "Adapted from https://github.com/fchollet/keras/blob/master/examples/mnist_transfer_cnn.py"
      ]
    },
    {
      "cell_type": "code",
      "execution_count": 1,
      "metadata": {
        "id": "GOvMHUl3NGcW"
      },
      "outputs": [],
      "source": [
        "import datetime\n",
        "# import keras\n",
        "# from keras.datasets import mnist\n",
        "# from keras.models import Sequential\n",
        "# from keras.layers import Dense, Dropout, Activation, Flatten\n",
        "# from keras.layers import Conv2D, MaxPooling2D\n",
        "# from keras import backend as K\n",
        "from tensorflow import keras\n",
        "from tensorflow.keras.datasets import mnist\n",
        "from tensorflow.keras.models import Sequential\n",
        "from tensorflow.keras.layers import Dense, Dropout, Activation, Flatten\n",
        "from tensorflow.keras.layers import Conv2D, MaxPooling2D\n",
        "from tensorflow.keras import backend as K"
      ]
    },
    {
      "cell_type": "code",
      "execution_count": 2,
      "metadata": {
        "id": "jKeFtTeBNGcc"
      },
      "outputs": [],
      "source": [
        "#used to help some of the timing functions\n",
        "now = datetime.datetime.now"
      ]
    },
    {
      "cell_type": "code",
      "execution_count": 3,
      "metadata": {
        "id": "A5YrVpf3NGcg"
      },
      "outputs": [],
      "source": [
        "# set some parameters\n",
        "batch_size = 128\n",
        "num_classes = 5\n",
        "epochs = 5"
      ]
    },
    {
      "cell_type": "code",
      "execution_count": 4,
      "metadata": {
        "id": "33NvscF0NGci"
      },
      "outputs": [],
      "source": [
        "# set some more parameters\n",
        "img_rows, img_cols = 28, 28\n",
        "filters = 32\n",
        "pool_size = 2\n",
        "kernel_size = 3"
      ]
    },
    {
      "cell_type": "code",
      "execution_count": 5,
      "metadata": {
        "id": "L84xrBlwNGcl"
      },
      "outputs": [],
      "source": [
        "## This just handles some variability in how the input data is loaded\n",
        "\n",
        "if K.image_data_format() == 'channels_first':\n",
        "    input_shape = (1, img_rows, img_cols)\n",
        "else:\n",
        "    input_shape = (img_rows, img_cols, 1)"
      ]
    },
    {
      "cell_type": "code",
      "execution_count": 6,
      "metadata": {
        "id": "nRSRUR5cNGcl"
      },
      "outputs": [],
      "source": [
        "## To simplify things, write a function to include all the training steps\n",
        "## As input, function takes a model, training set, test set, and the number of classes\n",
        "## Inside the model object will be the state about which layers we are freezing and which we are training\n",
        "\n",
        "def train_model(model, train, test, num_classes):\n",
        "    x_train = train[0].reshape((train[0].shape[0],) + input_shape)\n",
        "    x_test = test[0].reshape((test[0].shape[0],) + input_shape)\n",
        "    x_train = x_train.astype('float32')\n",
        "    x_test = x_test.astype('float32')\n",
        "    x_train /= 255\n",
        "    x_test /= 255\n",
        "    print('x_train shape:', x_train.shape)\n",
        "    print(x_train.shape[0], 'train samples')\n",
        "    print(x_test.shape[0], 'test samples')\n",
        "\n",
        "    # convert class vectors to binary class matrices\n",
        "    y_train = keras.utils.to_categorical(train[1], num_classes)\n",
        "    y_test = keras.utils.to_categorical(test[1], num_classes)\n",
        "\n",
        "    model.compile(loss='categorical_crossentropy',\n",
        "                  optimizer='adadelta',\n",
        "                  metrics=['accuracy'])\n",
        "\n",
        "    t = now()\n",
        "    model.fit(x_train, y_train,\n",
        "              batch_size=batch_size,\n",
        "              epochs=epochs,\n",
        "              verbose=1,\n",
        "              validation_data=(x_test, y_test))\n",
        "    print('Training time: %s' % (now() - t))\n",
        "\n",
        "    score = model.evaluate(x_test, y_test, verbose=0)\n",
        "    print('Test score:', score[0])\n",
        "    print('Test accuracy:', score[1])"
      ]
    },
    {
      "cell_type": "code",
      "execution_count": 7,
      "metadata": {
        "id": "0QKV8knBNGcr",
        "outputId": "9b1521d4-e1f9-49d1-b888-9e16390ff4f0",
        "colab": {
          "base_uri": "https://localhost:8080/"
        }
      },
      "outputs": [
        {
          "output_type": "stream",
          "name": "stdout",
          "text": [
            "Downloading data from https://storage.googleapis.com/tensorflow/tf-keras-datasets/mnist.npz\n",
            "11493376/11490434 [==============================] - 0s 0us/step\n",
            "11501568/11490434 [==============================] - 0s 0us/step\n"
          ]
        }
      ],
      "source": [
        "# the data, shuffled and split between train and test sets\n",
        "(x_train, y_train), (x_test, y_test) = mnist.load_data()\n",
        "\n",
        "# create two datasets: one with digits below 5 and one with 5 and above\n",
        "x_train_lt5 = x_train[y_train < 5]\n",
        "y_train_lt5 = y_train[y_train < 5]\n",
        "x_test_lt5 = x_test[y_test < 5]\n",
        "y_test_lt5 = y_test[y_test < 5]\n",
        "\n",
        "x_train_gte5 = x_train[y_train >= 5]\n",
        "y_train_gte5 = y_train[y_train >= 5] - 5\n",
        "x_test_gte5 = x_test[y_test >= 5]\n",
        "y_test_gte5 = y_test[y_test >= 5] - 5"
      ]
    },
    {
      "cell_type": "code",
      "execution_count": 8,
      "metadata": {
        "id": "7SSttFRDNGcx"
      },
      "outputs": [],
      "source": [
        "# Define the \"feature\" layers.  These are the early layers that we expect will \"transfer\"\n",
        "# to a new problem.  We will freeze these layers during the fine-tuning process\n",
        "\n",
        "feature_layers = [\n",
        "    Conv2D(filters, kernel_size,\n",
        "           padding='valid',\n",
        "           input_shape=input_shape),\n",
        "    Activation('relu'),\n",
        "    Conv2D(filters, kernel_size),\n",
        "    Activation('relu'),\n",
        "    MaxPooling2D(pool_size=pool_size),\n",
        "    Dropout(0.25),\n",
        "    Flatten(),\n",
        "]"
      ]
    },
    {
      "cell_type": "code",
      "execution_count": 9,
      "metadata": {
        "id": "kaittxwdNGc1"
      },
      "outputs": [],
      "source": [
        "# Define the \"classification\" layers.  These are the later layers that predict the specific classes from the features\n",
        "# learned by the feature layers.  This is the part of the model that needs to be re-trained for a new problem\n",
        "\n",
        "classification_layers = [\n",
        "    Dense(128),\n",
        "    Activation('relu'),\n",
        "    Dropout(0.5),\n",
        "    Dense(num_classes),\n",
        "    Activation('softmax')\n",
        "]"
      ]
    },
    {
      "cell_type": "code",
      "execution_count": 10,
      "metadata": {
        "id": "V4qmifAnNGc3"
      },
      "outputs": [],
      "source": [
        "# We create our model by combining the two sets of layers as follows\n",
        "model = Sequential(feature_layers + classification_layers)"
      ]
    },
    {
      "cell_type": "code",
      "execution_count": 11,
      "metadata": {
        "id": "jksvQ3d0NGc4",
        "outputId": "85b9e9fd-f16e-4bea-abe0-7473e8079dd5",
        "colab": {
          "base_uri": "https://localhost:8080/"
        }
      },
      "outputs": [
        {
          "output_type": "stream",
          "name": "stdout",
          "text": [
            "Model: \"sequential\"\n",
            "_________________________________________________________________\n",
            " Layer (type)                Output Shape              Param #   \n",
            "=================================================================\n",
            " conv2d (Conv2D)             (None, 26, 26, 32)        320       \n",
            "                                                                 \n",
            " activation (Activation)     (None, 26, 26, 32)        0         \n",
            "                                                                 \n",
            " conv2d_1 (Conv2D)           (None, 24, 24, 32)        9248      \n",
            "                                                                 \n",
            " activation_1 (Activation)   (None, 24, 24, 32)        0         \n",
            "                                                                 \n",
            " max_pooling2d (MaxPooling2D  (None, 12, 12, 32)       0         \n",
            " )                                                               \n",
            "                                                                 \n",
            " dropout (Dropout)           (None, 12, 12, 32)        0         \n",
            "                                                                 \n",
            " flatten (Flatten)           (None, 4608)              0         \n",
            "                                                                 \n",
            " dense (Dense)               (None, 128)               589952    \n",
            "                                                                 \n",
            " activation_2 (Activation)   (None, 128)               0         \n",
            "                                                                 \n",
            " dropout_1 (Dropout)         (None, 128)               0         \n",
            "                                                                 \n",
            " dense_1 (Dense)             (None, 5)                 645       \n",
            "                                                                 \n",
            " activation_3 (Activation)   (None, 5)                 0         \n",
            "                                                                 \n",
            "=================================================================\n",
            "Total params: 600,165\n",
            "Trainable params: 600,165\n",
            "Non-trainable params: 0\n",
            "_________________________________________________________________\n"
          ]
        }
      ],
      "source": [
        "# Let's take a look\n",
        "model.summary()"
      ]
    },
    {
      "cell_type": "code",
      "execution_count": 12,
      "metadata": {
        "id": "f5lqBtCGNGc7",
        "outputId": "867004c0-43ad-43dd-be4a-57e56dd9d38d",
        "colab": {
          "base_uri": "https://localhost:8080/"
        }
      },
      "outputs": [
        {
          "output_type": "stream",
          "name": "stdout",
          "text": [
            "x_train shape: (29404, 28, 28, 1)\n",
            "29404 train samples\n",
            "4861 test samples\n",
            "Epoch 1/5\n",
            "230/230 [==============================] - 49s 207ms/step - loss: 1.5995 - accuracy: 0.2400 - val_loss: 1.5717 - val_accuracy: 0.3263\n",
            "Epoch 2/5\n",
            "230/230 [==============================] - 46s 202ms/step - loss: 1.5675 - accuracy: 0.3088 - val_loss: 1.5377 - val_accuracy: 0.5106\n",
            "Epoch 3/5\n",
            "230/230 [==============================] - 47s 206ms/step - loss: 1.5372 - accuracy: 0.3723 - val_loss: 1.5012 - val_accuracy: 0.6246\n",
            "Epoch 4/5\n",
            "230/230 [==============================] - 46s 201ms/step - loss: 1.5015 - accuracy: 0.4356 - val_loss: 1.4606 - val_accuracy: 0.6793\n",
            "Epoch 5/5\n",
            "230/230 [==============================] - 48s 208ms/step - loss: 1.4625 - accuracy: 0.4916 - val_loss: 1.4145 - val_accuracy: 0.7077\n",
            "Training time: 0:04:22.800499\n",
            "Test score: 1.4144878387451172\n",
            "Test accuracy: 0.7076733112335205\n"
          ]
        }
      ],
      "source": [
        "# Now, let's train our model on the digits 5,6,7,8,9\n",
        "\n",
        "train_model(model,\n",
        "            (x_train_gte5, y_train_gte5),\n",
        "            (x_test_gte5, y_test_gte5), num_classes)"
      ]
    },
    {
      "cell_type": "markdown",
      "metadata": {
        "id": "e1HzNoW6NGc-"
      },
      "source": [
        "### Freezing Layers\n",
        "Keras allows layers to be \"frozen\" during the training process.  That is, some layers would have their weights updated during the training process, while others would not.  This is a core part of transfer learning, the ability to train just the last one or several layers.\n",
        "\n",
        "Note also, that a lot of the training time is spent \"back-propagating\" the gradients back to the first layer.  Therefore, if we only need to compute the gradients back a small number of layers, the training time is much quicker per iteration.  This is in addition to the savings gained by being able to train on a smaller data set."
      ]
    },
    {
      "cell_type": "code",
      "execution_count": 13,
      "metadata": {
        "id": "PGT6qffYNGc_"
      },
      "outputs": [],
      "source": [
        "# Freeze only the feature layers\n",
        "for l in feature_layers:\n",
        "    l.trainable = False"
      ]
    },
    {
      "cell_type": "markdown",
      "metadata": {
        "id": "y8PdsFq9NGdB"
      },
      "source": [
        "Observe below the differences between the number of *total params*, *trainable params*, and *non-trainable params*."
      ]
    },
    {
      "cell_type": "code",
      "execution_count": 14,
      "metadata": {
        "id": "-6pUSCVuNGdC",
        "outputId": "bcfb2758-37dc-4792-d551-d566f0023070",
        "colab": {
          "base_uri": "https://localhost:8080/"
        }
      },
      "outputs": [
        {
          "output_type": "stream",
          "name": "stdout",
          "text": [
            "Model: \"sequential\"\n",
            "_________________________________________________________________\n",
            " Layer (type)                Output Shape              Param #   \n",
            "=================================================================\n",
            " conv2d (Conv2D)             (None, 26, 26, 32)        320       \n",
            "                                                                 \n",
            " activation (Activation)     (None, 26, 26, 32)        0         \n",
            "                                                                 \n",
            " conv2d_1 (Conv2D)           (None, 24, 24, 32)        9248      \n",
            "                                                                 \n",
            " activation_1 (Activation)   (None, 24, 24, 32)        0         \n",
            "                                                                 \n",
            " max_pooling2d (MaxPooling2D  (None, 12, 12, 32)       0         \n",
            " )                                                               \n",
            "                                                                 \n",
            " dropout (Dropout)           (None, 12, 12, 32)        0         \n",
            "                                                                 \n",
            " flatten (Flatten)           (None, 4608)              0         \n",
            "                                                                 \n",
            " dense (Dense)               (None, 128)               589952    \n",
            "                                                                 \n",
            " activation_2 (Activation)   (None, 128)               0         \n",
            "                                                                 \n",
            " dropout_1 (Dropout)         (None, 128)               0         \n",
            "                                                                 \n",
            " dense_1 (Dense)             (None, 5)                 645       \n",
            "                                                                 \n",
            " activation_3 (Activation)   (None, 5)                 0         \n",
            "                                                                 \n",
            "=================================================================\n",
            "Total params: 600,165\n",
            "Trainable params: 590,597\n",
            "Non-trainable params: 9,568\n",
            "_________________________________________________________________\n"
          ]
        }
      ],
      "source": [
        "model.summary()"
      ]
    },
    {
      "cell_type": "code",
      "execution_count": 15,
      "metadata": {
        "id": "cBfMqqZWNGdD",
        "outputId": "53b86d41-db12-472f-894c-52a753735fc8",
        "colab": {
          "base_uri": "https://localhost:8080/"
        }
      },
      "outputs": [
        {
          "output_type": "stream",
          "name": "stdout",
          "text": [
            "x_train shape: (30596, 28, 28, 1)\n",
            "30596 train samples\n",
            "5139 test samples\n",
            "Epoch 1/5\n",
            "240/240 [==============================] - 17s 68ms/step - loss: 1.5947 - accuracy: 0.2558 - val_loss: 1.5506 - val_accuracy: 0.3884\n",
            "Epoch 2/5\n",
            "240/240 [==============================] - 15s 63ms/step - loss: 1.5379 - accuracy: 0.3422 - val_loss: 1.4920 - val_accuracy: 0.5758\n",
            "Epoch 3/5\n",
            "240/240 [==============================] - 15s 63ms/step - loss: 1.4840 - accuracy: 0.4360 - val_loss: 1.4359 - val_accuracy: 0.7116\n",
            "Epoch 4/5\n",
            "240/240 [==============================] - 15s 61ms/step - loss: 1.4346 - accuracy: 0.5115 - val_loss: 1.3816 - val_accuracy: 0.7879\n",
            "Epoch 5/5\n",
            "240/240 [==============================] - 15s 61ms/step - loss: 1.3840 - accuracy: 0.5824 - val_loss: 1.3288 - val_accuracy: 0.8301\n",
            "Training time: 0:01:16.723432\n",
            "Test score: 1.3287795782089233\n",
            "Test accuracy: 0.8301225900650024\n"
          ]
        }
      ],
      "source": [
        "train_model(model,\n",
        "            (x_train_lt5, y_train_lt5),\n",
        "            (x_test_lt5, y_test_lt5), num_classes)"
      ]
    },
    {
      "cell_type": "markdown",
      "metadata": {
        "id": "cvBbB-FVNGdE"
      },
      "source": [
        "Note that after a single epoch, we are already achieving results on classifying 0-4 that are comparable to those achieved on 5-9 after 5 full epochs.  This despite the fact the we are only \"fine-tuning\" the last layer of the network, and all the early layers have never seen what the digits 0-4 look like.\n",
        "\n",
        "Also, note that even though nearly all (590K/600K) of the *parameters* were trainable, the training time per epoch was still much reduced.  This is because the unfrozen part of the network was very shallow, making backpropagation faster. "
      ]
    },
    {
      "cell_type": "markdown",
      "metadata": {
        "id": "bL-UUxaZNGdF"
      },
      "source": [
        "## Exercise\n",
        "- Now we will write code to reverse this training process.  That is, train on the digits 0-4, then finetune only the last layers on the digits 5-9."
      ]
    },
    {
      "cell_type": "code",
      "execution_count": 16,
      "metadata": {
        "id": "2YUsSkQ6NGdG",
        "outputId": "404ca5c5-c79e-4da3-95fa-23b455d1603f",
        "colab": {
          "base_uri": "https://localhost:8080/"
        }
      },
      "outputs": [
        {
          "output_type": "stream",
          "name": "stdout",
          "text": [
            "Model: \"sequential_1\"\n",
            "_________________________________________________________________\n",
            " Layer (type)                Output Shape              Param #   \n",
            "=================================================================\n",
            " conv2d_2 (Conv2D)           (None, 26, 26, 32)        320       \n",
            "                                                                 \n",
            " activation_4 (Activation)   (None, 26, 26, 32)        0         \n",
            "                                                                 \n",
            " conv2d_3 (Conv2D)           (None, 24, 24, 32)        9248      \n",
            "                                                                 \n",
            " activation_5 (Activation)   (None, 24, 24, 32)        0         \n",
            "                                                                 \n",
            " max_pooling2d_1 (MaxPooling  (None, 12, 12, 32)       0         \n",
            " 2D)                                                             \n",
            "                                                                 \n",
            " dropout_2 (Dropout)         (None, 12, 12, 32)        0         \n",
            "                                                                 \n",
            " flatten_1 (Flatten)         (None, 4608)              0         \n",
            "                                                                 \n",
            " dense_2 (Dense)             (None, 128)               589952    \n",
            "                                                                 \n",
            " activation_6 (Activation)   (None, 128)               0         \n",
            "                                                                 \n",
            " dropout_3 (Dropout)         (None, 128)               0         \n",
            "                                                                 \n",
            " dense_3 (Dense)             (None, 5)                 645       \n",
            "                                                                 \n",
            " activation_7 (Activation)   (None, 5)                 0         \n",
            "                                                                 \n",
            "=================================================================\n",
            "Total params: 600,165\n",
            "Trainable params: 600,165\n",
            "Non-trainable params: 0\n",
            "_________________________________________________________________\n"
          ]
        }
      ],
      "source": [
        "# Create layers and define the model as above\n",
        "feature_layers2 = [\n",
        "    Conv2D(filters, kernel_size,\n",
        "           padding='valid',\n",
        "           input_shape=input_shape),\n",
        "    Activation('relu'),\n",
        "    Conv2D(filters, kernel_size),\n",
        "    Activation('relu'),\n",
        "    MaxPooling2D(pool_size=pool_size),\n",
        "    Dropout(0.25),\n",
        "    Flatten(),\n",
        "]\n",
        "\n",
        "classification_layers2 = [\n",
        "    Dense(128),\n",
        "    Activation('relu'),\n",
        "    Dropout(0.5),\n",
        "    Dense(num_classes),\n",
        "    Activation('softmax')\n",
        "]\n",
        "model2 = Sequential(feature_layers2 + classification_layers2)\n",
        "model2.summary()"
      ]
    },
    {
      "cell_type": "code",
      "execution_count": 17,
      "metadata": {
        "id": "OOB-vC_9NGdH",
        "outputId": "800072e4-d38e-4a95-bef5-74989cdf1682",
        "colab": {
          "base_uri": "https://localhost:8080/"
        }
      },
      "outputs": [
        {
          "output_type": "stream",
          "name": "stdout",
          "text": [
            "x_train shape: (30596, 28, 28, 1)\n",
            "30596 train samples\n",
            "5139 test samples\n",
            "Epoch 1/5\n",
            "240/240 [==============================] - 49s 201ms/step - loss: 1.6002 - accuracy: 0.2366 - val_loss: 1.5817 - val_accuracy: 0.3470\n",
            "Epoch 2/5\n",
            "240/240 [==============================] - 49s 205ms/step - loss: 1.5704 - accuracy: 0.3171 - val_loss: 1.5478 - val_accuracy: 0.4588\n",
            "Epoch 3/5\n",
            "240/240 [==============================] - 48s 202ms/step - loss: 1.5383 - accuracy: 0.3960 - val_loss: 1.5085 - val_accuracy: 0.5865\n",
            "Epoch 4/5\n",
            "240/240 [==============================] - 50s 208ms/step - loss: 1.5004 - accuracy: 0.4720 - val_loss: 1.4632 - val_accuracy: 0.6711\n",
            "Epoch 5/5\n",
            "240/240 [==============================] - 48s 201ms/step - loss: 1.4560 - accuracy: 0.5435 - val_loss: 1.4099 - val_accuracy: 0.7507\n",
            "Training time: 0:04:22.447323\n",
            "Test score: 1.4098838567733765\n",
            "Test accuracy: 0.7507297396659851\n"
          ]
        }
      ],
      "source": [
        "# Now, let's train our model on the digits 0,1,2,3,4\n",
        "train_model(model2,\n",
        "            (x_train_lt5, y_train_lt5),\n",
        "            (x_test_lt5, y_test_lt5), num_classes)"
      ]
    },
    {
      "cell_type": "code",
      "execution_count": 18,
      "metadata": {
        "id": "mGULcSoDNGdH"
      },
      "outputs": [],
      "source": [
        "#Freeze layers\n",
        "for l in feature_layers2:\n",
        "    l.trainable = False"
      ]
    },
    {
      "cell_type": "code",
      "execution_count": 19,
      "metadata": {
        "id": "RQl5OfvoNGdJ",
        "outputId": "808fc983-0fbf-4e15-d55b-b418eb1d777a",
        "colab": {
          "base_uri": "https://localhost:8080/"
        }
      },
      "outputs": [
        {
          "output_type": "stream",
          "name": "stdout",
          "text": [
            "Model: \"sequential_1\"\n",
            "_________________________________________________________________\n",
            " Layer (type)                Output Shape              Param #   \n",
            "=================================================================\n",
            " conv2d_2 (Conv2D)           (None, 26, 26, 32)        320       \n",
            "                                                                 \n",
            " activation_4 (Activation)   (None, 26, 26, 32)        0         \n",
            "                                                                 \n",
            " conv2d_3 (Conv2D)           (None, 24, 24, 32)        9248      \n",
            "                                                                 \n",
            " activation_5 (Activation)   (None, 24, 24, 32)        0         \n",
            "                                                                 \n",
            " max_pooling2d_1 (MaxPooling  (None, 12, 12, 32)       0         \n",
            " 2D)                                                             \n",
            "                                                                 \n",
            " dropout_2 (Dropout)         (None, 12, 12, 32)        0         \n",
            "                                                                 \n",
            " flatten_1 (Flatten)         (None, 4608)              0         \n",
            "                                                                 \n",
            " dense_2 (Dense)             (None, 128)               589952    \n",
            "                                                                 \n",
            " activation_6 (Activation)   (None, 128)               0         \n",
            "                                                                 \n",
            " dropout_3 (Dropout)         (None, 128)               0         \n",
            "                                                                 \n",
            " dense_3 (Dense)             (None, 5)                 645       \n",
            "                                                                 \n",
            " activation_7 (Activation)   (None, 5)                 0         \n",
            "                                                                 \n",
            "=================================================================\n",
            "Total params: 600,165\n",
            "Trainable params: 590,597\n",
            "Non-trainable params: 9,568\n",
            "_________________________________________________________________\n"
          ]
        }
      ],
      "source": [
        "model2.summary()"
      ]
    },
    {
      "cell_type": "code",
      "execution_count": 20,
      "metadata": {
        "id": "uv4DCfw9NGdL",
        "outputId": "8b5030af-71f7-4291-e95f-a4d9be769b8f",
        "colab": {
          "base_uri": "https://localhost:8080/"
        }
      },
      "outputs": [
        {
          "output_type": "stream",
          "name": "stdout",
          "text": [
            "x_train shape: (29404, 28, 28, 1)\n",
            "29404 train samples\n",
            "4861 test samples\n",
            "Epoch 1/5\n",
            "230/230 [==============================] - 15s 63ms/step - loss: 1.5889 - accuracy: 0.2621 - val_loss: 1.5633 - val_accuracy: 0.3672\n",
            "Epoch 2/5\n",
            "230/230 [==============================] - 14s 62ms/step - loss: 1.5645 - accuracy: 0.3040 - val_loss: 1.5367 - val_accuracy: 0.4293\n",
            "Epoch 3/5\n",
            "230/230 [==============================] - 14s 63ms/step - loss: 1.5391 - accuracy: 0.3541 - val_loss: 1.5102 - val_accuracy: 0.5133\n",
            "Epoch 4/5\n",
            "230/230 [==============================] - 16s 68ms/step - loss: 1.5152 - accuracy: 0.4023 - val_loss: 1.4840 - val_accuracy: 0.6050\n",
            "Epoch 5/5\n",
            "230/230 [==============================] - 15s 63ms/step - loss: 1.4912 - accuracy: 0.4605 - val_loss: 1.4579 - val_accuracy: 0.6626\n",
            "Training time: 0:01:14.088903\n",
            "Test score: 1.4578971862792969\n",
            "Test accuracy: 0.6626208424568176\n"
          ]
        }
      ],
      "source": [
        "train_model(model2,\n",
        "            (x_train_gte5, y_train_gte5),\n",
        "            (x_test_gte5, y_test_gte5), num_classes)"
      ]
    },
    {
      "cell_type": "markdown",
      "metadata": {
        "id": "PyenZmW5NGdN"
      },
      "source": [
        "---\n",
        "### Machine Learning Foundation (C) 2020 IBM Corporation"
      ]
    }
  ],
  "metadata": {
    "kernelspec": {
      "display_name": "Python 3",
      "language": "python",
      "name": "python3"
    },
    "language_info": {
      "codemirror_mode": {
        "name": "ipython",
        "version": 3
      },
      "file_extension": ".py",
      "mimetype": "text/x-python",
      "name": "python",
      "nbconvert_exporter": "python",
      "pygments_lexer": "ipython3",
      "version": "3.7.4"
    },
    "colab": {
      "name": "05f_DEMO_Transfer_Learning.ipynb",
      "provenance": []
    }
  },
  "nbformat": 4,
  "nbformat_minor": 0
}