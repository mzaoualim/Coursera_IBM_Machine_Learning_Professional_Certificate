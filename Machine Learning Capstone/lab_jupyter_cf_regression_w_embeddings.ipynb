{
  "cells": [
    {
      "cell_type": "markdown",
      "metadata": {
        "id": "5LWbLSvZ_eP-"
      },
      "source": [
        "<p style=\"text-align:center\">\n",
        "    <a href=\"https://skills.network/?utm_medium=Exinfluencer&utm_source=Exinfluencer&utm_content=000026UJ&utm_term=10006555&utm_id=NA-SkillsNetwork-Channel-SkillsNetworkCoursesIBMML321ENSkillsNetwork32585014-2022-01-01\" target=\"_blank\">\n",
        "    <img src=\"https://cf-courses-data.s3.us.cloud-object-storage.appdomain.cloud/assets/logos/SN_web_lightmode.png\" width=\"200\" alt=\"Skills Network Logo\"  />\n",
        "    </a>\n",
        "</p>\n"
      ]
    },
    {
      "cell_type": "markdown",
      "metadata": {
        "id": "GLeGhZes_eQG"
      },
      "source": [
        "# **Regression-based Rating Score Prediction using Embedding Features**\n"
      ]
    },
    {
      "cell_type": "markdown",
      "metadata": {
        "id": "rxobEmZ3_eQL"
      },
      "source": [
        "Estimated time needed: **45** minutes\n"
      ]
    },
    {
      "cell_type": "markdown",
      "metadata": {
        "id": "2z3MZ1ET_eQN"
      },
      "source": [
        "In our previous lab, you have trained a neural network to predict the user-item interactions while simultaneously extracting the user and item embedding features. In the neural network, extends this by using  two embedding vectors as an input into a Neural Network to predict the rating.\n"
      ]
    },
    {
      "cell_type": "markdown",
      "metadata": {
        "id": "Lxh6MCoQ_eQQ"
      },
      "source": [
        "![](https://cf-courses-data.s3.us.cloud-object-storage.appdomain.cloud/IBM-ML321EN-SkillsNetwork/labs/module\\_4/images/rating_regression.png)\n"
      ]
    },
    {
      "cell_type": "markdown",
      "metadata": {
        "id": "zcwTuULu_eQU"
      },
      "source": [
        "Another way to make rating predictions is to use the embedding as an input to a neural network by aggregating them into a single feature vector as input data `X`.\n",
        "\n",
        "With the interaction label `Y` such as a rating score or an enrollment mode, we can build our other standalone predictive models to approximate the mapping from `X` to `Y`, as shown in the above flowchart.\n"
      ]
    },
    {
      "cell_type": "markdown",
      "metadata": {
        "id": "QfXIOK_x_eQX"
      },
      "source": [
        "In this lab, you will be given the course interaction feature vectors as input data `X` and consider label `Y` as the numerical rating scores. As such, we turn the recommender system into a common regression task and you can apply what you have learned about regression modeling to predict the ratings.\n"
      ]
    },
    {
      "cell_type": "markdown",
      "metadata": {
        "id": "aAQd4NLb_eQZ"
      },
      "source": [
        "## Objectives\n"
      ]
    },
    {
      "cell_type": "markdown",
      "metadata": {
        "id": "WD7BMxmF_eQb"
      },
      "source": [
        "After completing this lab you will be able to:\n"
      ]
    },
    {
      "cell_type": "markdown",
      "metadata": {
        "id": "JNtq_E0j_eQf"
      },
      "source": [
        "*   Build regression models to predict ratings using the combined embedding vectors\n"
      ]
    },
    {
      "cell_type": "markdown",
      "metadata": {
        "id": "p_q2HjB9_eQi"
      },
      "source": [
        "***\n"
      ]
    },
    {
      "cell_type": "markdown",
      "metadata": {
        "id": "HZn4NvIX_eQk"
      },
      "source": [
        "## Prepare and setup lab environment\n"
      ]
    },
    {
      "cell_type": "markdown",
      "metadata": {
        "id": "dO0OPdVN_eQl"
      },
      "source": [
        "First install and import required libraries:\n"
      ]
    },
    {
      "cell_type": "code",
      "execution_count": 2,
      "metadata": {
        "id": "ZihJ9-e5_eQm",
        "outputId": "b79a1a0a-e1b9-424d-d40b-f0b45e4426b1",
        "colab": {
          "base_uri": "https://localhost:8080/"
        }
      },
      "outputs": [
        {
          "output_type": "stream",
          "name": "stdout",
          "text": [
            "Looking in indexes: https://pypi.org/simple, https://us-python.pkg.dev/colab-wheels/public/simple/\n",
            "Requirement already satisfied: scikit-learn in /usr/local/lib/python3.7/dist-packages (1.0.2)\n",
            "Requirement already satisfied: scipy>=1.1.0 in /usr/local/lib/python3.7/dist-packages (from scikit-learn) (1.7.3)\n",
            "Requirement already satisfied: threadpoolctl>=2.0.0 in /usr/local/lib/python3.7/dist-packages (from scikit-learn) (3.1.0)\n",
            "Requirement already satisfied: numpy>=1.14.6 in /usr/local/lib/python3.7/dist-packages (from scikit-learn) (1.21.6)\n",
            "Requirement already satisfied: joblib>=0.11 in /usr/local/lib/python3.7/dist-packages (from scikit-learn) (1.1.0)\n"
          ]
        }
      ],
      "source": [
        "!pip install scikit-learn #==1.0.2"
      ]
    },
    {
      "cell_type": "code",
      "execution_count": 3,
      "metadata": {
        "id": "SOYkhJCP_eQp"
      },
      "outputs": [],
      "source": [
        "# also set a random state\n",
        "rs = 123"
      ]
    },
    {
      "cell_type": "code",
      "execution_count": 4,
      "metadata": {
        "id": "DSnHBd0s_eQr"
      },
      "outputs": [],
      "source": [
        "import pandas as pd\n",
        "\n",
        "from sklearn.model_selection import train_test_split\n",
        "from sklearn import linear_model\n",
        "from sklearn.metrics import mean_squared_error"
      ]
    },
    {
      "cell_type": "markdown",
      "metadata": {
        "id": "FTYiYmpm_eQs"
      },
      "source": [
        "### Load datasets\n"
      ]
    },
    {
      "cell_type": "code",
      "execution_count": 5,
      "metadata": {
        "id": "mrWtnWVg_eQu"
      },
      "outputs": [],
      "source": [
        "rating_url = \"https://cf-courses-data.s3.us.cloud-object-storage.appdomain.cloud/IBM-ML321EN-SkillsNetwork/labs/datasets/ratings.csv\"\n",
        "user_emb_url = \"https://cf-courses-data.s3.us.cloud-object-storage.appdomain.cloud/IBM-ML321EN-SkillsNetwork/labs/datasets/user_embeddings.csv\"\n",
        "item_emb_url = \"https://cf-courses-data.s3.us.cloud-object-storage.appdomain.cloud/IBM-ML321EN-SkillsNetwork/labs/datasets/course_embeddings.csv\""
      ]
    },
    {
      "cell_type": "markdown",
      "metadata": {
        "id": "Z8T7k4rB_eQv"
      },
      "source": [
        "The first dataset is the rating dataset that contains a user-item interaction matrix\n"
      ]
    },
    {
      "cell_type": "code",
      "execution_count": 6,
      "metadata": {
        "id": "h_Ae90Y0_eQw"
      },
      "outputs": [],
      "source": [
        "rating_df = pd.read_csv(rating_url)"
      ]
    },
    {
      "cell_type": "code",
      "execution_count": 7,
      "metadata": {
        "id": "WmeG7kzp_eQx",
        "outputId": "a2019416-569e-4b92-9877-7448408d8c61",
        "colab": {
          "base_uri": "https://localhost:8080/",
          "height": 206
        }
      },
      "outputs": [
        {
          "output_type": "execute_result",
          "data": {
            "text/plain": [
              "      user        item  rating\n",
              "0  1889878    CC0101EN     3.0\n",
              "1  1342067    CL0101EN     3.0\n",
              "2  1990814  ML0120ENv3     3.0\n",
              "3   380098    BD0211EN     3.0\n",
              "4   779563    DS0101EN     3.0"
            ],
            "text/html": [
              "\n",
              "  <div id=\"df-e379c8cd-ba58-4f45-8c8a-274649de9fd7\">\n",
              "    <div class=\"colab-df-container\">\n",
              "      <div>\n",
              "<style scoped>\n",
              "    .dataframe tbody tr th:only-of-type {\n",
              "        vertical-align: middle;\n",
              "    }\n",
              "\n",
              "    .dataframe tbody tr th {\n",
              "        vertical-align: top;\n",
              "    }\n",
              "\n",
              "    .dataframe thead th {\n",
              "        text-align: right;\n",
              "    }\n",
              "</style>\n",
              "<table border=\"1\" class=\"dataframe\">\n",
              "  <thead>\n",
              "    <tr style=\"text-align: right;\">\n",
              "      <th></th>\n",
              "      <th>user</th>\n",
              "      <th>item</th>\n",
              "      <th>rating</th>\n",
              "    </tr>\n",
              "  </thead>\n",
              "  <tbody>\n",
              "    <tr>\n",
              "      <th>0</th>\n",
              "      <td>1889878</td>\n",
              "      <td>CC0101EN</td>\n",
              "      <td>3.0</td>\n",
              "    </tr>\n",
              "    <tr>\n",
              "      <th>1</th>\n",
              "      <td>1342067</td>\n",
              "      <td>CL0101EN</td>\n",
              "      <td>3.0</td>\n",
              "    </tr>\n",
              "    <tr>\n",
              "      <th>2</th>\n",
              "      <td>1990814</td>\n",
              "      <td>ML0120ENv3</td>\n",
              "      <td>3.0</td>\n",
              "    </tr>\n",
              "    <tr>\n",
              "      <th>3</th>\n",
              "      <td>380098</td>\n",
              "      <td>BD0211EN</td>\n",
              "      <td>3.0</td>\n",
              "    </tr>\n",
              "    <tr>\n",
              "      <th>4</th>\n",
              "      <td>779563</td>\n",
              "      <td>DS0101EN</td>\n",
              "      <td>3.0</td>\n",
              "    </tr>\n",
              "  </tbody>\n",
              "</table>\n",
              "</div>\n",
              "      <button class=\"colab-df-convert\" onclick=\"convertToInteractive('df-e379c8cd-ba58-4f45-8c8a-274649de9fd7')\"\n",
              "              title=\"Convert this dataframe to an interactive table.\"\n",
              "              style=\"display:none;\">\n",
              "        \n",
              "  <svg xmlns=\"http://www.w3.org/2000/svg\" height=\"24px\"viewBox=\"0 0 24 24\"\n",
              "       width=\"24px\">\n",
              "    <path d=\"M0 0h24v24H0V0z\" fill=\"none\"/>\n",
              "    <path d=\"M18.56 5.44l.94 2.06.94-2.06 2.06-.94-2.06-.94-.94-2.06-.94 2.06-2.06.94zm-11 1L8.5 8.5l.94-2.06 2.06-.94-2.06-.94L8.5 2.5l-.94 2.06-2.06.94zm10 10l.94 2.06.94-2.06 2.06-.94-2.06-.94-.94-2.06-.94 2.06-2.06.94z\"/><path d=\"M17.41 7.96l-1.37-1.37c-.4-.4-.92-.59-1.43-.59-.52 0-1.04.2-1.43.59L10.3 9.45l-7.72 7.72c-.78.78-.78 2.05 0 2.83L4 21.41c.39.39.9.59 1.41.59.51 0 1.02-.2 1.41-.59l7.78-7.78 2.81-2.81c.8-.78.8-2.07 0-2.86zM5.41 20L4 18.59l7.72-7.72 1.47 1.35L5.41 20z\"/>\n",
              "  </svg>\n",
              "      </button>\n",
              "      \n",
              "  <style>\n",
              "    .colab-df-container {\n",
              "      display:flex;\n",
              "      flex-wrap:wrap;\n",
              "      gap: 12px;\n",
              "    }\n",
              "\n",
              "    .colab-df-convert {\n",
              "      background-color: #E8F0FE;\n",
              "      border: none;\n",
              "      border-radius: 50%;\n",
              "      cursor: pointer;\n",
              "      display: none;\n",
              "      fill: #1967D2;\n",
              "      height: 32px;\n",
              "      padding: 0 0 0 0;\n",
              "      width: 32px;\n",
              "    }\n",
              "\n",
              "    .colab-df-convert:hover {\n",
              "      background-color: #E2EBFA;\n",
              "      box-shadow: 0px 1px 2px rgba(60, 64, 67, 0.3), 0px 1px 3px 1px rgba(60, 64, 67, 0.15);\n",
              "      fill: #174EA6;\n",
              "    }\n",
              "\n",
              "    [theme=dark] .colab-df-convert {\n",
              "      background-color: #3B4455;\n",
              "      fill: #D2E3FC;\n",
              "    }\n",
              "\n",
              "    [theme=dark] .colab-df-convert:hover {\n",
              "      background-color: #434B5C;\n",
              "      box-shadow: 0px 1px 3px 1px rgba(0, 0, 0, 0.15);\n",
              "      filter: drop-shadow(0px 1px 2px rgba(0, 0, 0, 0.3));\n",
              "      fill: #FFFFFF;\n",
              "    }\n",
              "  </style>\n",
              "\n",
              "      <script>\n",
              "        const buttonEl =\n",
              "          document.querySelector('#df-e379c8cd-ba58-4f45-8c8a-274649de9fd7 button.colab-df-convert');\n",
              "        buttonEl.style.display =\n",
              "          google.colab.kernel.accessAllowed ? 'block' : 'none';\n",
              "\n",
              "        async function convertToInteractive(key) {\n",
              "          const element = document.querySelector('#df-e379c8cd-ba58-4f45-8c8a-274649de9fd7');\n",
              "          const dataTable =\n",
              "            await google.colab.kernel.invokeFunction('convertToInteractive',\n",
              "                                                     [key], {});\n",
              "          if (!dataTable) return;\n",
              "\n",
              "          const docLinkHtml = 'Like what you see? Visit the ' +\n",
              "            '<a target=\"_blank\" href=https://colab.research.google.com/notebooks/data_table.ipynb>data table notebook</a>'\n",
              "            + ' to learn more about interactive tables.';\n",
              "          element.innerHTML = '';\n",
              "          dataTable['output_type'] = 'display_data';\n",
              "          await google.colab.output.renderOutput(dataTable, element);\n",
              "          const docLink = document.createElement('div');\n",
              "          docLink.innerHTML = docLinkHtml;\n",
              "          element.appendChild(docLink);\n",
              "        }\n",
              "      </script>\n",
              "    </div>\n",
              "  </div>\n",
              "  "
            ]
          },
          "metadata": {},
          "execution_count": 7
        }
      ],
      "source": [
        "rating_df.head()"
      ]
    },
    {
      "cell_type": "markdown",
      "metadata": {
        "id": "awF3oovW_eQx"
      },
      "source": [
        "As you can see from the above data, the user and item are just ids, let's substitute them by their embedding vectors:\n"
      ]
    },
    {
      "cell_type": "code",
      "execution_count": 8,
      "metadata": {
        "id": "0bQB9nwH_eQz"
      },
      "outputs": [],
      "source": [
        "# Load user embeddings\n",
        "user_emb = pd.read_csv(user_emb_url)\n",
        "# Load item embeddings\n",
        "item_emb = pd.read_csv(item_emb_url)"
      ]
    },
    {
      "cell_type": "code",
      "execution_count": 9,
      "metadata": {
        "id": "I6_VSWrV_eQ0",
        "outputId": "8a52b7b8-bd39-4c83-8279-210e8e27a6f7",
        "colab": {
          "base_uri": "https://localhost:8080/",
          "height": 270
        }
      },
      "outputs": [
        {
          "output_type": "execute_result",
          "data": {
            "text/plain": [
              "      user  UFeature0  UFeature1  UFeature2  UFeature3  UFeature4  UFeature5  \\\n",
              "0  1889878   0.080721  -0.129561   0.087998   0.030231   0.082691  -0.004176   \n",
              "1  1342067   0.068047  -0.112781   0.045208  -0.007570  -0.038382   0.068037   \n",
              "2  1990814   0.124623   0.012910  -0.072627   0.049935   0.020158   0.133306   \n",
              "3   380098  -0.034870   0.000715   0.077406   0.070311  -0.043007  -0.035446   \n",
              "4   779563   0.106414  -0.001887  -0.017211  -0.042277  -0.074953  -0.056732   \n",
              "\n",
              "   UFeature6  UFeature7  UFeature8  UFeature9  UFeature10  UFeature11  \\\n",
              "0  -0.003480   0.091464  -0.040247   0.018958   -0.153328   -0.090143   \n",
              "1   0.114949   0.104128  -0.034401   0.004011    0.064832    0.165857   \n",
              "2  -0.035366  -0.156026   0.039269   0.042195    0.014695   -0.115989   \n",
              "3   0.032846  -0.060944   0.112384   0.002114    0.090660   -0.068545   \n",
              "4   0.074610  -0.019367  -0.031341   0.064896   -0.048158   -0.047309   \n",
              "\n",
              "   UFeature12  UFeature13  UFeature14  UFeature15  \n",
              "0    0.082830   -0.058721    0.057929   -0.001472  \n",
              "1   -0.004384    0.053257    0.014308    0.056684  \n",
              "2    0.031158    0.102021   -0.020601    0.116488  \n",
              "3    0.008967    0.063962    0.052347    0.018072  \n",
              "4   -0.007544    0.010474   -0.032287   -0.083983  "
            ],
            "text/html": [
              "\n",
              "  <div id=\"df-b7424e9d-4d36-46bb-8c5f-9e7e63fc332f\">\n",
              "    <div class=\"colab-df-container\">\n",
              "      <div>\n",
              "<style scoped>\n",
              "    .dataframe tbody tr th:only-of-type {\n",
              "        vertical-align: middle;\n",
              "    }\n",
              "\n",
              "    .dataframe tbody tr th {\n",
              "        vertical-align: top;\n",
              "    }\n",
              "\n",
              "    .dataframe thead th {\n",
              "        text-align: right;\n",
              "    }\n",
              "</style>\n",
              "<table border=\"1\" class=\"dataframe\">\n",
              "  <thead>\n",
              "    <tr style=\"text-align: right;\">\n",
              "      <th></th>\n",
              "      <th>user</th>\n",
              "      <th>UFeature0</th>\n",
              "      <th>UFeature1</th>\n",
              "      <th>UFeature2</th>\n",
              "      <th>UFeature3</th>\n",
              "      <th>UFeature4</th>\n",
              "      <th>UFeature5</th>\n",
              "      <th>UFeature6</th>\n",
              "      <th>UFeature7</th>\n",
              "      <th>UFeature8</th>\n",
              "      <th>UFeature9</th>\n",
              "      <th>UFeature10</th>\n",
              "      <th>UFeature11</th>\n",
              "      <th>UFeature12</th>\n",
              "      <th>UFeature13</th>\n",
              "      <th>UFeature14</th>\n",
              "      <th>UFeature15</th>\n",
              "    </tr>\n",
              "  </thead>\n",
              "  <tbody>\n",
              "    <tr>\n",
              "      <th>0</th>\n",
              "      <td>1889878</td>\n",
              "      <td>0.080721</td>\n",
              "      <td>-0.129561</td>\n",
              "      <td>0.087998</td>\n",
              "      <td>0.030231</td>\n",
              "      <td>0.082691</td>\n",
              "      <td>-0.004176</td>\n",
              "      <td>-0.003480</td>\n",
              "      <td>0.091464</td>\n",
              "      <td>-0.040247</td>\n",
              "      <td>0.018958</td>\n",
              "      <td>-0.153328</td>\n",
              "      <td>-0.090143</td>\n",
              "      <td>0.082830</td>\n",
              "      <td>-0.058721</td>\n",
              "      <td>0.057929</td>\n",
              "      <td>-0.001472</td>\n",
              "    </tr>\n",
              "    <tr>\n",
              "      <th>1</th>\n",
              "      <td>1342067</td>\n",
              "      <td>0.068047</td>\n",
              "      <td>-0.112781</td>\n",
              "      <td>0.045208</td>\n",
              "      <td>-0.007570</td>\n",
              "      <td>-0.038382</td>\n",
              "      <td>0.068037</td>\n",
              "      <td>0.114949</td>\n",
              "      <td>0.104128</td>\n",
              "      <td>-0.034401</td>\n",
              "      <td>0.004011</td>\n",
              "      <td>0.064832</td>\n",
              "      <td>0.165857</td>\n",
              "      <td>-0.004384</td>\n",
              "      <td>0.053257</td>\n",
              "      <td>0.014308</td>\n",
              "      <td>0.056684</td>\n",
              "    </tr>\n",
              "    <tr>\n",
              "      <th>2</th>\n",
              "      <td>1990814</td>\n",
              "      <td>0.124623</td>\n",
              "      <td>0.012910</td>\n",
              "      <td>-0.072627</td>\n",
              "      <td>0.049935</td>\n",
              "      <td>0.020158</td>\n",
              "      <td>0.133306</td>\n",
              "      <td>-0.035366</td>\n",
              "      <td>-0.156026</td>\n",
              "      <td>0.039269</td>\n",
              "      <td>0.042195</td>\n",
              "      <td>0.014695</td>\n",
              "      <td>-0.115989</td>\n",
              "      <td>0.031158</td>\n",
              "      <td>0.102021</td>\n",
              "      <td>-0.020601</td>\n",
              "      <td>0.116488</td>\n",
              "    </tr>\n",
              "    <tr>\n",
              "      <th>3</th>\n",
              "      <td>380098</td>\n",
              "      <td>-0.034870</td>\n",
              "      <td>0.000715</td>\n",
              "      <td>0.077406</td>\n",
              "      <td>0.070311</td>\n",
              "      <td>-0.043007</td>\n",
              "      <td>-0.035446</td>\n",
              "      <td>0.032846</td>\n",
              "      <td>-0.060944</td>\n",
              "      <td>0.112384</td>\n",
              "      <td>0.002114</td>\n",
              "      <td>0.090660</td>\n",
              "      <td>-0.068545</td>\n",
              "      <td>0.008967</td>\n",
              "      <td>0.063962</td>\n",
              "      <td>0.052347</td>\n",
              "      <td>0.018072</td>\n",
              "    </tr>\n",
              "    <tr>\n",
              "      <th>4</th>\n",
              "      <td>779563</td>\n",
              "      <td>0.106414</td>\n",
              "      <td>-0.001887</td>\n",
              "      <td>-0.017211</td>\n",
              "      <td>-0.042277</td>\n",
              "      <td>-0.074953</td>\n",
              "      <td>-0.056732</td>\n",
              "      <td>0.074610</td>\n",
              "      <td>-0.019367</td>\n",
              "      <td>-0.031341</td>\n",
              "      <td>0.064896</td>\n",
              "      <td>-0.048158</td>\n",
              "      <td>-0.047309</td>\n",
              "      <td>-0.007544</td>\n",
              "      <td>0.010474</td>\n",
              "      <td>-0.032287</td>\n",
              "      <td>-0.083983</td>\n",
              "    </tr>\n",
              "  </tbody>\n",
              "</table>\n",
              "</div>\n",
              "      <button class=\"colab-df-convert\" onclick=\"convertToInteractive('df-b7424e9d-4d36-46bb-8c5f-9e7e63fc332f')\"\n",
              "              title=\"Convert this dataframe to an interactive table.\"\n",
              "              style=\"display:none;\">\n",
              "        \n",
              "  <svg xmlns=\"http://www.w3.org/2000/svg\" height=\"24px\"viewBox=\"0 0 24 24\"\n",
              "       width=\"24px\">\n",
              "    <path d=\"M0 0h24v24H0V0z\" fill=\"none\"/>\n",
              "    <path d=\"M18.56 5.44l.94 2.06.94-2.06 2.06-.94-2.06-.94-.94-2.06-.94 2.06-2.06.94zm-11 1L8.5 8.5l.94-2.06 2.06-.94-2.06-.94L8.5 2.5l-.94 2.06-2.06.94zm10 10l.94 2.06.94-2.06 2.06-.94-2.06-.94-.94-2.06-.94 2.06-2.06.94z\"/><path d=\"M17.41 7.96l-1.37-1.37c-.4-.4-.92-.59-1.43-.59-.52 0-1.04.2-1.43.59L10.3 9.45l-7.72 7.72c-.78.78-.78 2.05 0 2.83L4 21.41c.39.39.9.59 1.41.59.51 0 1.02-.2 1.41-.59l7.78-7.78 2.81-2.81c.8-.78.8-2.07 0-2.86zM5.41 20L4 18.59l7.72-7.72 1.47 1.35L5.41 20z\"/>\n",
              "  </svg>\n",
              "      </button>\n",
              "      \n",
              "  <style>\n",
              "    .colab-df-container {\n",
              "      display:flex;\n",
              "      flex-wrap:wrap;\n",
              "      gap: 12px;\n",
              "    }\n",
              "\n",
              "    .colab-df-convert {\n",
              "      background-color: #E8F0FE;\n",
              "      border: none;\n",
              "      border-radius: 50%;\n",
              "      cursor: pointer;\n",
              "      display: none;\n",
              "      fill: #1967D2;\n",
              "      height: 32px;\n",
              "      padding: 0 0 0 0;\n",
              "      width: 32px;\n",
              "    }\n",
              "\n",
              "    .colab-df-convert:hover {\n",
              "      background-color: #E2EBFA;\n",
              "      box-shadow: 0px 1px 2px rgba(60, 64, 67, 0.3), 0px 1px 3px 1px rgba(60, 64, 67, 0.15);\n",
              "      fill: #174EA6;\n",
              "    }\n",
              "\n",
              "    [theme=dark] .colab-df-convert {\n",
              "      background-color: #3B4455;\n",
              "      fill: #D2E3FC;\n",
              "    }\n",
              "\n",
              "    [theme=dark] .colab-df-convert:hover {\n",
              "      background-color: #434B5C;\n",
              "      box-shadow: 0px 1px 3px 1px rgba(0, 0, 0, 0.15);\n",
              "      filter: drop-shadow(0px 1px 2px rgba(0, 0, 0, 0.3));\n",
              "      fill: #FFFFFF;\n",
              "    }\n",
              "  </style>\n",
              "\n",
              "      <script>\n",
              "        const buttonEl =\n",
              "          document.querySelector('#df-b7424e9d-4d36-46bb-8c5f-9e7e63fc332f button.colab-df-convert');\n",
              "        buttonEl.style.display =\n",
              "          google.colab.kernel.accessAllowed ? 'block' : 'none';\n",
              "\n",
              "        async function convertToInteractive(key) {\n",
              "          const element = document.querySelector('#df-b7424e9d-4d36-46bb-8c5f-9e7e63fc332f');\n",
              "          const dataTable =\n",
              "            await google.colab.kernel.invokeFunction('convertToInteractive',\n",
              "                                                     [key], {});\n",
              "          if (!dataTable) return;\n",
              "\n",
              "          const docLinkHtml = 'Like what you see? Visit the ' +\n",
              "            '<a target=\"_blank\" href=https://colab.research.google.com/notebooks/data_table.ipynb>data table notebook</a>'\n",
              "            + ' to learn more about interactive tables.';\n",
              "          element.innerHTML = '';\n",
              "          dataTable['output_type'] = 'display_data';\n",
              "          await google.colab.output.renderOutput(dataTable, element);\n",
              "          const docLink = document.createElement('div');\n",
              "          docLink.innerHTML = docLinkHtml;\n",
              "          element.appendChild(docLink);\n",
              "        }\n",
              "      </script>\n",
              "    </div>\n",
              "  </div>\n",
              "  "
            ]
          },
          "metadata": {},
          "execution_count": 9
        }
      ],
      "source": [
        "user_emb.head()"
      ]
    },
    {
      "cell_type": "code",
      "execution_count": 10,
      "metadata": {
        "id": "U1OhwVlV_eQ0",
        "outputId": "8afefe6a-7749-4d2d-92b5-277c83798ff2",
        "colab": {
          "base_uri": "https://localhost:8080/",
          "height": 270
        }
      },
      "outputs": [
        {
          "output_type": "execute_result",
          "data": {
            "text/plain": [
              "         item  CFeature0  CFeature1  CFeature2  CFeature3  CFeature4  \\\n",
              "0    CC0101EN   0.009657  -0.005238  -0.004098   0.016303  -0.005274   \n",
              "1    CL0101EN  -0.008611   0.028041   0.021899  -0.001465   0.006900   \n",
              "2  ML0120ENv3   0.027439  -0.027649  -0.007484  -0.059451   0.003972   \n",
              "3    BD0211EN   0.020163  -0.011972  -0.003714  -0.015548  -0.007540   \n",
              "4    DS0101EN   0.006399   0.000492   0.005640   0.009639  -0.005487   \n",
              "\n",
              "   CFeature5  CFeature6  CFeature7  CFeature8  CFeature9  CFeature10  \\\n",
              "0  -0.000361  -0.015081  -0.012229   0.015686   0.008401   -0.035495   \n",
              "1  -0.017981   0.010899  -0.037610  -0.019397  -0.025682   -0.000620   \n",
              "2   0.020496  -0.012695   0.036138   0.019965   0.018686   -0.010450   \n",
              "3   0.014847  -0.005700  -0.006068  -0.005792  -0.023036    0.015999   \n",
              "4  -0.000590  -0.010015  -0.001514  -0.017598   0.003590    0.016799   \n",
              "\n",
              "   CFeature11  CFeature12  CFeature13  CFeature14  CFeature15  \n",
              "0    0.009381   -0.032560   -0.007292    0.000966   -0.006218  \n",
              "1    0.038803    0.000196   -0.045343    0.012863    0.019429  \n",
              "2   -0.050011    0.013845   -0.044454   -0.001480   -0.007559  \n",
              "3   -0.023480    0.015469    0.022221   -0.023115   -0.001785  \n",
              "4    0.002732    0.005162    0.015031   -0.000877   -0.021283  "
            ],
            "text/html": [
              "\n",
              "  <div id=\"df-c416fec6-5659-4cc2-9fe9-4ce56fb72ff3\">\n",
              "    <div class=\"colab-df-container\">\n",
              "      <div>\n",
              "<style scoped>\n",
              "    .dataframe tbody tr th:only-of-type {\n",
              "        vertical-align: middle;\n",
              "    }\n",
              "\n",
              "    .dataframe tbody tr th {\n",
              "        vertical-align: top;\n",
              "    }\n",
              "\n",
              "    .dataframe thead th {\n",
              "        text-align: right;\n",
              "    }\n",
              "</style>\n",
              "<table border=\"1\" class=\"dataframe\">\n",
              "  <thead>\n",
              "    <tr style=\"text-align: right;\">\n",
              "      <th></th>\n",
              "      <th>item</th>\n",
              "      <th>CFeature0</th>\n",
              "      <th>CFeature1</th>\n",
              "      <th>CFeature2</th>\n",
              "      <th>CFeature3</th>\n",
              "      <th>CFeature4</th>\n",
              "      <th>CFeature5</th>\n",
              "      <th>CFeature6</th>\n",
              "      <th>CFeature7</th>\n",
              "      <th>CFeature8</th>\n",
              "      <th>CFeature9</th>\n",
              "      <th>CFeature10</th>\n",
              "      <th>CFeature11</th>\n",
              "      <th>CFeature12</th>\n",
              "      <th>CFeature13</th>\n",
              "      <th>CFeature14</th>\n",
              "      <th>CFeature15</th>\n",
              "    </tr>\n",
              "  </thead>\n",
              "  <tbody>\n",
              "    <tr>\n",
              "      <th>0</th>\n",
              "      <td>CC0101EN</td>\n",
              "      <td>0.009657</td>\n",
              "      <td>-0.005238</td>\n",
              "      <td>-0.004098</td>\n",
              "      <td>0.016303</td>\n",
              "      <td>-0.005274</td>\n",
              "      <td>-0.000361</td>\n",
              "      <td>-0.015081</td>\n",
              "      <td>-0.012229</td>\n",
              "      <td>0.015686</td>\n",
              "      <td>0.008401</td>\n",
              "      <td>-0.035495</td>\n",
              "      <td>0.009381</td>\n",
              "      <td>-0.032560</td>\n",
              "      <td>-0.007292</td>\n",
              "      <td>0.000966</td>\n",
              "      <td>-0.006218</td>\n",
              "    </tr>\n",
              "    <tr>\n",
              "      <th>1</th>\n",
              "      <td>CL0101EN</td>\n",
              "      <td>-0.008611</td>\n",
              "      <td>0.028041</td>\n",
              "      <td>0.021899</td>\n",
              "      <td>-0.001465</td>\n",
              "      <td>0.006900</td>\n",
              "      <td>-0.017981</td>\n",
              "      <td>0.010899</td>\n",
              "      <td>-0.037610</td>\n",
              "      <td>-0.019397</td>\n",
              "      <td>-0.025682</td>\n",
              "      <td>-0.000620</td>\n",
              "      <td>0.038803</td>\n",
              "      <td>0.000196</td>\n",
              "      <td>-0.045343</td>\n",
              "      <td>0.012863</td>\n",
              "      <td>0.019429</td>\n",
              "    </tr>\n",
              "    <tr>\n",
              "      <th>2</th>\n",
              "      <td>ML0120ENv3</td>\n",
              "      <td>0.027439</td>\n",
              "      <td>-0.027649</td>\n",
              "      <td>-0.007484</td>\n",
              "      <td>-0.059451</td>\n",
              "      <td>0.003972</td>\n",
              "      <td>0.020496</td>\n",
              "      <td>-0.012695</td>\n",
              "      <td>0.036138</td>\n",
              "      <td>0.019965</td>\n",
              "      <td>0.018686</td>\n",
              "      <td>-0.010450</td>\n",
              "      <td>-0.050011</td>\n",
              "      <td>0.013845</td>\n",
              "      <td>-0.044454</td>\n",
              "      <td>-0.001480</td>\n",
              "      <td>-0.007559</td>\n",
              "    </tr>\n",
              "    <tr>\n",
              "      <th>3</th>\n",
              "      <td>BD0211EN</td>\n",
              "      <td>0.020163</td>\n",
              "      <td>-0.011972</td>\n",
              "      <td>-0.003714</td>\n",
              "      <td>-0.015548</td>\n",
              "      <td>-0.007540</td>\n",
              "      <td>0.014847</td>\n",
              "      <td>-0.005700</td>\n",
              "      <td>-0.006068</td>\n",
              "      <td>-0.005792</td>\n",
              "      <td>-0.023036</td>\n",
              "      <td>0.015999</td>\n",
              "      <td>-0.023480</td>\n",
              "      <td>0.015469</td>\n",
              "      <td>0.022221</td>\n",
              "      <td>-0.023115</td>\n",
              "      <td>-0.001785</td>\n",
              "    </tr>\n",
              "    <tr>\n",
              "      <th>4</th>\n",
              "      <td>DS0101EN</td>\n",
              "      <td>0.006399</td>\n",
              "      <td>0.000492</td>\n",
              "      <td>0.005640</td>\n",
              "      <td>0.009639</td>\n",
              "      <td>-0.005487</td>\n",
              "      <td>-0.000590</td>\n",
              "      <td>-0.010015</td>\n",
              "      <td>-0.001514</td>\n",
              "      <td>-0.017598</td>\n",
              "      <td>0.003590</td>\n",
              "      <td>0.016799</td>\n",
              "      <td>0.002732</td>\n",
              "      <td>0.005162</td>\n",
              "      <td>0.015031</td>\n",
              "      <td>-0.000877</td>\n",
              "      <td>-0.021283</td>\n",
              "    </tr>\n",
              "  </tbody>\n",
              "</table>\n",
              "</div>\n",
              "      <button class=\"colab-df-convert\" onclick=\"convertToInteractive('df-c416fec6-5659-4cc2-9fe9-4ce56fb72ff3')\"\n",
              "              title=\"Convert this dataframe to an interactive table.\"\n",
              "              style=\"display:none;\">\n",
              "        \n",
              "  <svg xmlns=\"http://www.w3.org/2000/svg\" height=\"24px\"viewBox=\"0 0 24 24\"\n",
              "       width=\"24px\">\n",
              "    <path d=\"M0 0h24v24H0V0z\" fill=\"none\"/>\n",
              "    <path d=\"M18.56 5.44l.94 2.06.94-2.06 2.06-.94-2.06-.94-.94-2.06-.94 2.06-2.06.94zm-11 1L8.5 8.5l.94-2.06 2.06-.94-2.06-.94L8.5 2.5l-.94 2.06-2.06.94zm10 10l.94 2.06.94-2.06 2.06-.94-2.06-.94-.94-2.06-.94 2.06-2.06.94z\"/><path d=\"M17.41 7.96l-1.37-1.37c-.4-.4-.92-.59-1.43-.59-.52 0-1.04.2-1.43.59L10.3 9.45l-7.72 7.72c-.78.78-.78 2.05 0 2.83L4 21.41c.39.39.9.59 1.41.59.51 0 1.02-.2 1.41-.59l7.78-7.78 2.81-2.81c.8-.78.8-2.07 0-2.86zM5.41 20L4 18.59l7.72-7.72 1.47 1.35L5.41 20z\"/>\n",
              "  </svg>\n",
              "      </button>\n",
              "      \n",
              "  <style>\n",
              "    .colab-df-container {\n",
              "      display:flex;\n",
              "      flex-wrap:wrap;\n",
              "      gap: 12px;\n",
              "    }\n",
              "\n",
              "    .colab-df-convert {\n",
              "      background-color: #E8F0FE;\n",
              "      border: none;\n",
              "      border-radius: 50%;\n",
              "      cursor: pointer;\n",
              "      display: none;\n",
              "      fill: #1967D2;\n",
              "      height: 32px;\n",
              "      padding: 0 0 0 0;\n",
              "      width: 32px;\n",
              "    }\n",
              "\n",
              "    .colab-df-convert:hover {\n",
              "      background-color: #E2EBFA;\n",
              "      box-shadow: 0px 1px 2px rgba(60, 64, 67, 0.3), 0px 1px 3px 1px rgba(60, 64, 67, 0.15);\n",
              "      fill: #174EA6;\n",
              "    }\n",
              "\n",
              "    [theme=dark] .colab-df-convert {\n",
              "      background-color: #3B4455;\n",
              "      fill: #D2E3FC;\n",
              "    }\n",
              "\n",
              "    [theme=dark] .colab-df-convert:hover {\n",
              "      background-color: #434B5C;\n",
              "      box-shadow: 0px 1px 3px 1px rgba(0, 0, 0, 0.15);\n",
              "      filter: drop-shadow(0px 1px 2px rgba(0, 0, 0, 0.3));\n",
              "      fill: #FFFFFF;\n",
              "    }\n",
              "  </style>\n",
              "\n",
              "      <script>\n",
              "        const buttonEl =\n",
              "          document.querySelector('#df-c416fec6-5659-4cc2-9fe9-4ce56fb72ff3 button.colab-df-convert');\n",
              "        buttonEl.style.display =\n",
              "          google.colab.kernel.accessAllowed ? 'block' : 'none';\n",
              "\n",
              "        async function convertToInteractive(key) {\n",
              "          const element = document.querySelector('#df-c416fec6-5659-4cc2-9fe9-4ce56fb72ff3');\n",
              "          const dataTable =\n",
              "            await google.colab.kernel.invokeFunction('convertToInteractive',\n",
              "                                                     [key], {});\n",
              "          if (!dataTable) return;\n",
              "\n",
              "          const docLinkHtml = 'Like what you see? Visit the ' +\n",
              "            '<a target=\"_blank\" href=https://colab.research.google.com/notebooks/data_table.ipynb>data table notebook</a>'\n",
              "            + ' to learn more about interactive tables.';\n",
              "          element.innerHTML = '';\n",
              "          dataTable['output_type'] = 'display_data';\n",
              "          await google.colab.output.renderOutput(dataTable, element);\n",
              "          const docLink = document.createElement('div');\n",
              "          docLink.innerHTML = docLinkHtml;\n",
              "          element.appendChild(docLink);\n",
              "        }\n",
              "      </script>\n",
              "    </div>\n",
              "  </div>\n",
              "  "
            ]
          },
          "metadata": {},
          "execution_count": 10
        }
      ],
      "source": [
        "item_emb.head()"
      ]
    },
    {
      "cell_type": "code",
      "execution_count": 11,
      "metadata": {
        "id": "dT0BXr6L_eQ2"
      },
      "outputs": [],
      "source": [
        "# Merge user embedding features\n",
        "user_emb_merged = pd.merge(rating_df, user_emb, how='left', left_on='user', right_on='user').fillna(0)\n",
        "# Merge course embedding features\n",
        "merged_df = pd.merge(user_emb_merged, item_emb, how='left', left_on='item', right_on='item').fillna(0)"
      ]
    },
    {
      "cell_type": "code",
      "execution_count": 12,
      "metadata": {
        "id": "vhoJX7fK_eQ3",
        "outputId": "744e5645-8e94-4094-b70c-918a86e2cde7",
        "colab": {
          "base_uri": "https://localhost:8080/",
          "height": 300
        }
      },
      "outputs": [
        {
          "output_type": "execute_result",
          "data": {
            "text/plain": [
              "      user        item  rating  UFeature0  UFeature1  UFeature2  UFeature3  \\\n",
              "0  1889878    CC0101EN     3.0   0.080721  -0.129561   0.087998   0.030231   \n",
              "1  1342067    CL0101EN     3.0   0.068047  -0.112781   0.045208  -0.007570   \n",
              "2  1990814  ML0120ENv3     3.0   0.124623   0.012910  -0.072627   0.049935   \n",
              "3   380098    BD0211EN     3.0  -0.034870   0.000715   0.077406   0.070311   \n",
              "4   779563    DS0101EN     3.0   0.106414  -0.001887  -0.017211  -0.042277   \n",
              "\n",
              "   UFeature4  UFeature5  UFeature6  ...  CFeature6  CFeature7  CFeature8  \\\n",
              "0   0.082691  -0.004176  -0.003480  ...  -0.015081  -0.012229   0.015686   \n",
              "1  -0.038382   0.068037   0.114949  ...   0.010899  -0.037610  -0.019397   \n",
              "2   0.020158   0.133306  -0.035366  ...  -0.012695   0.036138   0.019965   \n",
              "3  -0.043007  -0.035446   0.032846  ...  -0.005700  -0.006068  -0.005792   \n",
              "4  -0.074953  -0.056732   0.074610  ...  -0.010015  -0.001514  -0.017598   \n",
              "\n",
              "   CFeature9  CFeature10  CFeature11  CFeature12  CFeature13  CFeature14  \\\n",
              "0   0.008401   -0.035495    0.009381   -0.032560   -0.007292    0.000966   \n",
              "1  -0.025682   -0.000620    0.038803    0.000196   -0.045343    0.012863   \n",
              "2   0.018686   -0.010450   -0.050011    0.013845   -0.044454   -0.001480   \n",
              "3  -0.023036    0.015999   -0.023480    0.015469    0.022221   -0.023115   \n",
              "4   0.003590    0.016799    0.002732    0.005162    0.015031   -0.000877   \n",
              "\n",
              "   CFeature15  \n",
              "0   -0.006218  \n",
              "1    0.019429  \n",
              "2   -0.007559  \n",
              "3   -0.001785  \n",
              "4   -0.021283  \n",
              "\n",
              "[5 rows x 35 columns]"
            ],
            "text/html": [
              "\n",
              "  <div id=\"df-e9699c49-0ca5-4daa-8787-2c3e329d77c8\">\n",
              "    <div class=\"colab-df-container\">\n",
              "      <div>\n",
              "<style scoped>\n",
              "    .dataframe tbody tr th:only-of-type {\n",
              "        vertical-align: middle;\n",
              "    }\n",
              "\n",
              "    .dataframe tbody tr th {\n",
              "        vertical-align: top;\n",
              "    }\n",
              "\n",
              "    .dataframe thead th {\n",
              "        text-align: right;\n",
              "    }\n",
              "</style>\n",
              "<table border=\"1\" class=\"dataframe\">\n",
              "  <thead>\n",
              "    <tr style=\"text-align: right;\">\n",
              "      <th></th>\n",
              "      <th>user</th>\n",
              "      <th>item</th>\n",
              "      <th>rating</th>\n",
              "      <th>UFeature0</th>\n",
              "      <th>UFeature1</th>\n",
              "      <th>UFeature2</th>\n",
              "      <th>UFeature3</th>\n",
              "      <th>UFeature4</th>\n",
              "      <th>UFeature5</th>\n",
              "      <th>UFeature6</th>\n",
              "      <th>...</th>\n",
              "      <th>CFeature6</th>\n",
              "      <th>CFeature7</th>\n",
              "      <th>CFeature8</th>\n",
              "      <th>CFeature9</th>\n",
              "      <th>CFeature10</th>\n",
              "      <th>CFeature11</th>\n",
              "      <th>CFeature12</th>\n",
              "      <th>CFeature13</th>\n",
              "      <th>CFeature14</th>\n",
              "      <th>CFeature15</th>\n",
              "    </tr>\n",
              "  </thead>\n",
              "  <tbody>\n",
              "    <tr>\n",
              "      <th>0</th>\n",
              "      <td>1889878</td>\n",
              "      <td>CC0101EN</td>\n",
              "      <td>3.0</td>\n",
              "      <td>0.080721</td>\n",
              "      <td>-0.129561</td>\n",
              "      <td>0.087998</td>\n",
              "      <td>0.030231</td>\n",
              "      <td>0.082691</td>\n",
              "      <td>-0.004176</td>\n",
              "      <td>-0.003480</td>\n",
              "      <td>...</td>\n",
              "      <td>-0.015081</td>\n",
              "      <td>-0.012229</td>\n",
              "      <td>0.015686</td>\n",
              "      <td>0.008401</td>\n",
              "      <td>-0.035495</td>\n",
              "      <td>0.009381</td>\n",
              "      <td>-0.032560</td>\n",
              "      <td>-0.007292</td>\n",
              "      <td>0.000966</td>\n",
              "      <td>-0.006218</td>\n",
              "    </tr>\n",
              "    <tr>\n",
              "      <th>1</th>\n",
              "      <td>1342067</td>\n",
              "      <td>CL0101EN</td>\n",
              "      <td>3.0</td>\n",
              "      <td>0.068047</td>\n",
              "      <td>-0.112781</td>\n",
              "      <td>0.045208</td>\n",
              "      <td>-0.007570</td>\n",
              "      <td>-0.038382</td>\n",
              "      <td>0.068037</td>\n",
              "      <td>0.114949</td>\n",
              "      <td>...</td>\n",
              "      <td>0.010899</td>\n",
              "      <td>-0.037610</td>\n",
              "      <td>-0.019397</td>\n",
              "      <td>-0.025682</td>\n",
              "      <td>-0.000620</td>\n",
              "      <td>0.038803</td>\n",
              "      <td>0.000196</td>\n",
              "      <td>-0.045343</td>\n",
              "      <td>0.012863</td>\n",
              "      <td>0.019429</td>\n",
              "    </tr>\n",
              "    <tr>\n",
              "      <th>2</th>\n",
              "      <td>1990814</td>\n",
              "      <td>ML0120ENv3</td>\n",
              "      <td>3.0</td>\n",
              "      <td>0.124623</td>\n",
              "      <td>0.012910</td>\n",
              "      <td>-0.072627</td>\n",
              "      <td>0.049935</td>\n",
              "      <td>0.020158</td>\n",
              "      <td>0.133306</td>\n",
              "      <td>-0.035366</td>\n",
              "      <td>...</td>\n",
              "      <td>-0.012695</td>\n",
              "      <td>0.036138</td>\n",
              "      <td>0.019965</td>\n",
              "      <td>0.018686</td>\n",
              "      <td>-0.010450</td>\n",
              "      <td>-0.050011</td>\n",
              "      <td>0.013845</td>\n",
              "      <td>-0.044454</td>\n",
              "      <td>-0.001480</td>\n",
              "      <td>-0.007559</td>\n",
              "    </tr>\n",
              "    <tr>\n",
              "      <th>3</th>\n",
              "      <td>380098</td>\n",
              "      <td>BD0211EN</td>\n",
              "      <td>3.0</td>\n",
              "      <td>-0.034870</td>\n",
              "      <td>0.000715</td>\n",
              "      <td>0.077406</td>\n",
              "      <td>0.070311</td>\n",
              "      <td>-0.043007</td>\n",
              "      <td>-0.035446</td>\n",
              "      <td>0.032846</td>\n",
              "      <td>...</td>\n",
              "      <td>-0.005700</td>\n",
              "      <td>-0.006068</td>\n",
              "      <td>-0.005792</td>\n",
              "      <td>-0.023036</td>\n",
              "      <td>0.015999</td>\n",
              "      <td>-0.023480</td>\n",
              "      <td>0.015469</td>\n",
              "      <td>0.022221</td>\n",
              "      <td>-0.023115</td>\n",
              "      <td>-0.001785</td>\n",
              "    </tr>\n",
              "    <tr>\n",
              "      <th>4</th>\n",
              "      <td>779563</td>\n",
              "      <td>DS0101EN</td>\n",
              "      <td>3.0</td>\n",
              "      <td>0.106414</td>\n",
              "      <td>-0.001887</td>\n",
              "      <td>-0.017211</td>\n",
              "      <td>-0.042277</td>\n",
              "      <td>-0.074953</td>\n",
              "      <td>-0.056732</td>\n",
              "      <td>0.074610</td>\n",
              "      <td>...</td>\n",
              "      <td>-0.010015</td>\n",
              "      <td>-0.001514</td>\n",
              "      <td>-0.017598</td>\n",
              "      <td>0.003590</td>\n",
              "      <td>0.016799</td>\n",
              "      <td>0.002732</td>\n",
              "      <td>0.005162</td>\n",
              "      <td>0.015031</td>\n",
              "      <td>-0.000877</td>\n",
              "      <td>-0.021283</td>\n",
              "    </tr>\n",
              "  </tbody>\n",
              "</table>\n",
              "<p>5 rows × 35 columns</p>\n",
              "</div>\n",
              "      <button class=\"colab-df-convert\" onclick=\"convertToInteractive('df-e9699c49-0ca5-4daa-8787-2c3e329d77c8')\"\n",
              "              title=\"Convert this dataframe to an interactive table.\"\n",
              "              style=\"display:none;\">\n",
              "        \n",
              "  <svg xmlns=\"http://www.w3.org/2000/svg\" height=\"24px\"viewBox=\"0 0 24 24\"\n",
              "       width=\"24px\">\n",
              "    <path d=\"M0 0h24v24H0V0z\" fill=\"none\"/>\n",
              "    <path d=\"M18.56 5.44l.94 2.06.94-2.06 2.06-.94-2.06-.94-.94-2.06-.94 2.06-2.06.94zm-11 1L8.5 8.5l.94-2.06 2.06-.94-2.06-.94L8.5 2.5l-.94 2.06-2.06.94zm10 10l.94 2.06.94-2.06 2.06-.94-2.06-.94-.94-2.06-.94 2.06-2.06.94z\"/><path d=\"M17.41 7.96l-1.37-1.37c-.4-.4-.92-.59-1.43-.59-.52 0-1.04.2-1.43.59L10.3 9.45l-7.72 7.72c-.78.78-.78 2.05 0 2.83L4 21.41c.39.39.9.59 1.41.59.51 0 1.02-.2 1.41-.59l7.78-7.78 2.81-2.81c.8-.78.8-2.07 0-2.86zM5.41 20L4 18.59l7.72-7.72 1.47 1.35L5.41 20z\"/>\n",
              "  </svg>\n",
              "      </button>\n",
              "      \n",
              "  <style>\n",
              "    .colab-df-container {\n",
              "      display:flex;\n",
              "      flex-wrap:wrap;\n",
              "      gap: 12px;\n",
              "    }\n",
              "\n",
              "    .colab-df-convert {\n",
              "      background-color: #E8F0FE;\n",
              "      border: none;\n",
              "      border-radius: 50%;\n",
              "      cursor: pointer;\n",
              "      display: none;\n",
              "      fill: #1967D2;\n",
              "      height: 32px;\n",
              "      padding: 0 0 0 0;\n",
              "      width: 32px;\n",
              "    }\n",
              "\n",
              "    .colab-df-convert:hover {\n",
              "      background-color: #E2EBFA;\n",
              "      box-shadow: 0px 1px 2px rgba(60, 64, 67, 0.3), 0px 1px 3px 1px rgba(60, 64, 67, 0.15);\n",
              "      fill: #174EA6;\n",
              "    }\n",
              "\n",
              "    [theme=dark] .colab-df-convert {\n",
              "      background-color: #3B4455;\n",
              "      fill: #D2E3FC;\n",
              "    }\n",
              "\n",
              "    [theme=dark] .colab-df-convert:hover {\n",
              "      background-color: #434B5C;\n",
              "      box-shadow: 0px 1px 3px 1px rgba(0, 0, 0, 0.15);\n",
              "      filter: drop-shadow(0px 1px 2px rgba(0, 0, 0, 0.3));\n",
              "      fill: #FFFFFF;\n",
              "    }\n",
              "  </style>\n",
              "\n",
              "      <script>\n",
              "        const buttonEl =\n",
              "          document.querySelector('#df-e9699c49-0ca5-4daa-8787-2c3e329d77c8 button.colab-df-convert');\n",
              "        buttonEl.style.display =\n",
              "          google.colab.kernel.accessAllowed ? 'block' : 'none';\n",
              "\n",
              "        async function convertToInteractive(key) {\n",
              "          const element = document.querySelector('#df-e9699c49-0ca5-4daa-8787-2c3e329d77c8');\n",
              "          const dataTable =\n",
              "            await google.colab.kernel.invokeFunction('convertToInteractive',\n",
              "                                                     [key], {});\n",
              "          if (!dataTable) return;\n",
              "\n",
              "          const docLinkHtml = 'Like what you see? Visit the ' +\n",
              "            '<a target=\"_blank\" href=https://colab.research.google.com/notebooks/data_table.ipynb>data table notebook</a>'\n",
              "            + ' to learn more about interactive tables.';\n",
              "          element.innerHTML = '';\n",
              "          dataTable['output_type'] = 'display_data';\n",
              "          await google.colab.output.renderOutput(dataTable, element);\n",
              "          const docLink = document.createElement('div');\n",
              "          docLink.innerHTML = docLinkHtml;\n",
              "          element.appendChild(docLink);\n",
              "        }\n",
              "      </script>\n",
              "    </div>\n",
              "  </div>\n",
              "  "
            ]
          },
          "metadata": {},
          "execution_count": 12
        }
      ],
      "source": [
        "merged_df.head()"
      ]
    },
    {
      "cell_type": "markdown",
      "metadata": {
        "id": "SQPhJJsB_eQ4"
      },
      "source": [
        "Next, we can combine the user features (the column labels starting with `UFeature` and item features (the column labels starting with `CFeature`. In machine learning, there are many ways to aggregate two feature vectors such as element-wise add, multiply, max/min, average, etc. Here we simply add the two sets of feature columns:\n"
      ]
    },
    {
      "cell_type": "code",
      "execution_count": 13,
      "metadata": {
        "id": "_UmXPRFl_eQ5",
        "outputId": "9d3a429c-4a06-418d-c8ad-2b4af4f2be84",
        "colab": {
          "base_uri": "https://localhost:8080/",
          "height": 270
        }
      },
      "outputs": [
        {
          "output_type": "execute_result",
          "data": {
            "text/plain": [
              "   Feature0  Feature1  Feature2  Feature3  Feature4  Feature5  Feature6  \\\n",
              "0  0.090378 -0.134799  0.083900  0.046534  0.077417 -0.004537 -0.018561   \n",
              "1  0.059437 -0.084740  0.067107 -0.009036 -0.031482  0.050057  0.125847   \n",
              "2  0.152061 -0.014739 -0.080112 -0.009516  0.024130  0.153802 -0.048061   \n",
              "3 -0.014707 -0.011257  0.073692  0.054763 -0.050547 -0.020599  0.027146   \n",
              "4  0.112812 -0.001395 -0.011572 -0.032638 -0.080440 -0.057321  0.064595   \n",
              "\n",
              "   Feature7  Feature8  Feature9  Feature10  Feature11  Feature12  Feature13  \\\n",
              "0  0.079236 -0.024561  0.027359  -0.188823  -0.080762   0.050271  -0.066013   \n",
              "1  0.066517 -0.053798 -0.021671   0.064212   0.204660  -0.004188   0.007914   \n",
              "2 -0.119888  0.059234  0.060882   0.004244  -0.166000   0.045002   0.057566   \n",
              "3 -0.067012  0.106593 -0.020921   0.106658  -0.092025   0.024436   0.086183   \n",
              "4 -0.020880 -0.048939  0.068486  -0.031359  -0.044577  -0.002381   0.025505   \n",
              "\n",
              "   Feature14  Feature15  rating  \n",
              "0   0.058894  -0.007689     3.0  \n",
              "1   0.027170   0.076114     3.0  \n",
              "2  -0.022081   0.108929     3.0  \n",
              "3   0.029232   0.016287     3.0  \n",
              "4  -0.033164  -0.105266     3.0  "
            ],
            "text/html": [
              "\n",
              "  <div id=\"df-857f1438-8336-4439-b529-38a3aaa4c015\">\n",
              "    <div class=\"colab-df-container\">\n",
              "      <div>\n",
              "<style scoped>\n",
              "    .dataframe tbody tr th:only-of-type {\n",
              "        vertical-align: middle;\n",
              "    }\n",
              "\n",
              "    .dataframe tbody tr th {\n",
              "        vertical-align: top;\n",
              "    }\n",
              "\n",
              "    .dataframe thead th {\n",
              "        text-align: right;\n",
              "    }\n",
              "</style>\n",
              "<table border=\"1\" class=\"dataframe\">\n",
              "  <thead>\n",
              "    <tr style=\"text-align: right;\">\n",
              "      <th></th>\n",
              "      <th>Feature0</th>\n",
              "      <th>Feature1</th>\n",
              "      <th>Feature2</th>\n",
              "      <th>Feature3</th>\n",
              "      <th>Feature4</th>\n",
              "      <th>Feature5</th>\n",
              "      <th>Feature6</th>\n",
              "      <th>Feature7</th>\n",
              "      <th>Feature8</th>\n",
              "      <th>Feature9</th>\n",
              "      <th>Feature10</th>\n",
              "      <th>Feature11</th>\n",
              "      <th>Feature12</th>\n",
              "      <th>Feature13</th>\n",
              "      <th>Feature14</th>\n",
              "      <th>Feature15</th>\n",
              "      <th>rating</th>\n",
              "    </tr>\n",
              "  </thead>\n",
              "  <tbody>\n",
              "    <tr>\n",
              "      <th>0</th>\n",
              "      <td>0.090378</td>\n",
              "      <td>-0.134799</td>\n",
              "      <td>0.083900</td>\n",
              "      <td>0.046534</td>\n",
              "      <td>0.077417</td>\n",
              "      <td>-0.004537</td>\n",
              "      <td>-0.018561</td>\n",
              "      <td>0.079236</td>\n",
              "      <td>-0.024561</td>\n",
              "      <td>0.027359</td>\n",
              "      <td>-0.188823</td>\n",
              "      <td>-0.080762</td>\n",
              "      <td>0.050271</td>\n",
              "      <td>-0.066013</td>\n",
              "      <td>0.058894</td>\n",
              "      <td>-0.007689</td>\n",
              "      <td>3.0</td>\n",
              "    </tr>\n",
              "    <tr>\n",
              "      <th>1</th>\n",
              "      <td>0.059437</td>\n",
              "      <td>-0.084740</td>\n",
              "      <td>0.067107</td>\n",
              "      <td>-0.009036</td>\n",
              "      <td>-0.031482</td>\n",
              "      <td>0.050057</td>\n",
              "      <td>0.125847</td>\n",
              "      <td>0.066517</td>\n",
              "      <td>-0.053798</td>\n",
              "      <td>-0.021671</td>\n",
              "      <td>0.064212</td>\n",
              "      <td>0.204660</td>\n",
              "      <td>-0.004188</td>\n",
              "      <td>0.007914</td>\n",
              "      <td>0.027170</td>\n",
              "      <td>0.076114</td>\n",
              "      <td>3.0</td>\n",
              "    </tr>\n",
              "    <tr>\n",
              "      <th>2</th>\n",
              "      <td>0.152061</td>\n",
              "      <td>-0.014739</td>\n",
              "      <td>-0.080112</td>\n",
              "      <td>-0.009516</td>\n",
              "      <td>0.024130</td>\n",
              "      <td>0.153802</td>\n",
              "      <td>-0.048061</td>\n",
              "      <td>-0.119888</td>\n",
              "      <td>0.059234</td>\n",
              "      <td>0.060882</td>\n",
              "      <td>0.004244</td>\n",
              "      <td>-0.166000</td>\n",
              "      <td>0.045002</td>\n",
              "      <td>0.057566</td>\n",
              "      <td>-0.022081</td>\n",
              "      <td>0.108929</td>\n",
              "      <td>3.0</td>\n",
              "    </tr>\n",
              "    <tr>\n",
              "      <th>3</th>\n",
              "      <td>-0.014707</td>\n",
              "      <td>-0.011257</td>\n",
              "      <td>0.073692</td>\n",
              "      <td>0.054763</td>\n",
              "      <td>-0.050547</td>\n",
              "      <td>-0.020599</td>\n",
              "      <td>0.027146</td>\n",
              "      <td>-0.067012</td>\n",
              "      <td>0.106593</td>\n",
              "      <td>-0.020921</td>\n",
              "      <td>0.106658</td>\n",
              "      <td>-0.092025</td>\n",
              "      <td>0.024436</td>\n",
              "      <td>0.086183</td>\n",
              "      <td>0.029232</td>\n",
              "      <td>0.016287</td>\n",
              "      <td>3.0</td>\n",
              "    </tr>\n",
              "    <tr>\n",
              "      <th>4</th>\n",
              "      <td>0.112812</td>\n",
              "      <td>-0.001395</td>\n",
              "      <td>-0.011572</td>\n",
              "      <td>-0.032638</td>\n",
              "      <td>-0.080440</td>\n",
              "      <td>-0.057321</td>\n",
              "      <td>0.064595</td>\n",
              "      <td>-0.020880</td>\n",
              "      <td>-0.048939</td>\n",
              "      <td>0.068486</td>\n",
              "      <td>-0.031359</td>\n",
              "      <td>-0.044577</td>\n",
              "      <td>-0.002381</td>\n",
              "      <td>0.025505</td>\n",
              "      <td>-0.033164</td>\n",
              "      <td>-0.105266</td>\n",
              "      <td>3.0</td>\n",
              "    </tr>\n",
              "  </tbody>\n",
              "</table>\n",
              "</div>\n",
              "      <button class=\"colab-df-convert\" onclick=\"convertToInteractive('df-857f1438-8336-4439-b529-38a3aaa4c015')\"\n",
              "              title=\"Convert this dataframe to an interactive table.\"\n",
              "              style=\"display:none;\">\n",
              "        \n",
              "  <svg xmlns=\"http://www.w3.org/2000/svg\" height=\"24px\"viewBox=\"0 0 24 24\"\n",
              "       width=\"24px\">\n",
              "    <path d=\"M0 0h24v24H0V0z\" fill=\"none\"/>\n",
              "    <path d=\"M18.56 5.44l.94 2.06.94-2.06 2.06-.94-2.06-.94-.94-2.06-.94 2.06-2.06.94zm-11 1L8.5 8.5l.94-2.06 2.06-.94-2.06-.94L8.5 2.5l-.94 2.06-2.06.94zm10 10l.94 2.06.94-2.06 2.06-.94-2.06-.94-.94-2.06-.94 2.06-2.06.94z\"/><path d=\"M17.41 7.96l-1.37-1.37c-.4-.4-.92-.59-1.43-.59-.52 0-1.04.2-1.43.59L10.3 9.45l-7.72 7.72c-.78.78-.78 2.05 0 2.83L4 21.41c.39.39.9.59 1.41.59.51 0 1.02-.2 1.41-.59l7.78-7.78 2.81-2.81c.8-.78.8-2.07 0-2.86zM5.41 20L4 18.59l7.72-7.72 1.47 1.35L5.41 20z\"/>\n",
              "  </svg>\n",
              "      </button>\n",
              "      \n",
              "  <style>\n",
              "    .colab-df-container {\n",
              "      display:flex;\n",
              "      flex-wrap:wrap;\n",
              "      gap: 12px;\n",
              "    }\n",
              "\n",
              "    .colab-df-convert {\n",
              "      background-color: #E8F0FE;\n",
              "      border: none;\n",
              "      border-radius: 50%;\n",
              "      cursor: pointer;\n",
              "      display: none;\n",
              "      fill: #1967D2;\n",
              "      height: 32px;\n",
              "      padding: 0 0 0 0;\n",
              "      width: 32px;\n",
              "    }\n",
              "\n",
              "    .colab-df-convert:hover {\n",
              "      background-color: #E2EBFA;\n",
              "      box-shadow: 0px 1px 2px rgba(60, 64, 67, 0.3), 0px 1px 3px 1px rgba(60, 64, 67, 0.15);\n",
              "      fill: #174EA6;\n",
              "    }\n",
              "\n",
              "    [theme=dark] .colab-df-convert {\n",
              "      background-color: #3B4455;\n",
              "      fill: #D2E3FC;\n",
              "    }\n",
              "\n",
              "    [theme=dark] .colab-df-convert:hover {\n",
              "      background-color: #434B5C;\n",
              "      box-shadow: 0px 1px 3px 1px rgba(0, 0, 0, 0.15);\n",
              "      filter: drop-shadow(0px 1px 2px rgba(0, 0, 0, 0.3));\n",
              "      fill: #FFFFFF;\n",
              "    }\n",
              "  </style>\n",
              "\n",
              "      <script>\n",
              "        const buttonEl =\n",
              "          document.querySelector('#df-857f1438-8336-4439-b529-38a3aaa4c015 button.colab-df-convert');\n",
              "        buttonEl.style.display =\n",
              "          google.colab.kernel.accessAllowed ? 'block' : 'none';\n",
              "\n",
              "        async function convertToInteractive(key) {\n",
              "          const element = document.querySelector('#df-857f1438-8336-4439-b529-38a3aaa4c015');\n",
              "          const dataTable =\n",
              "            await google.colab.kernel.invokeFunction('convertToInteractive',\n",
              "                                                     [key], {});\n",
              "          if (!dataTable) return;\n",
              "\n",
              "          const docLinkHtml = 'Like what you see? Visit the ' +\n",
              "            '<a target=\"_blank\" href=https://colab.research.google.com/notebooks/data_table.ipynb>data table notebook</a>'\n",
              "            + ' to learn more about interactive tables.';\n",
              "          element.innerHTML = '';\n",
              "          dataTable['output_type'] = 'display_data';\n",
              "          await google.colab.output.renderOutput(dataTable, element);\n",
              "          const docLink = document.createElement('div');\n",
              "          docLink.innerHTML = docLinkHtml;\n",
              "          element.appendChild(docLink);\n",
              "        }\n",
              "      </script>\n",
              "    </div>\n",
              "  </div>\n",
              "  "
            ]
          },
          "metadata": {},
          "execution_count": 13
        }
      ],
      "source": [
        "u_feautres = [f\"UFeature{i}\" for i in range(16)]\n",
        "c_features = [f\"CFeature{i}\" for i in range(16)]\n",
        "\n",
        "user_embeddings = merged_df[u_feautres]\n",
        "course_embeddings = merged_df[c_features]\n",
        "ratings = merged_df['rating']\n",
        "\n",
        "# Aggregate the two feature columns using element-wise add\n",
        "regression_dataset = user_embeddings + course_embeddings.values\n",
        "regression_dataset.columns = [f\"Feature{i}\" for i in range(16)]\n",
        "regression_dataset['rating'] = ratings\n",
        "regression_dataset.head()"
      ]
    },
    {
      "cell_type": "markdown",
      "metadata": {
        "id": "mncFBrr2_eQ6"
      },
      "source": [
        "By now, we have built the input dataset `X` and the output vector `y`:\n"
      ]
    },
    {
      "cell_type": "code",
      "execution_count": 14,
      "metadata": {
        "id": "SuRJcsIO_eQ7",
        "outputId": "afbcc112-4bdf-40cd-a9df-02191978a936",
        "colab": {
          "base_uri": "https://localhost:8080/"
        }
      },
      "outputs": [
        {
          "output_type": "stream",
          "name": "stdout",
          "text": [
            "Input data shape: (233306, 16), Output data shape: (233306,)\n"
          ]
        }
      ],
      "source": [
        "X = regression_dataset.iloc[:, :-1]\n",
        "y = regression_dataset.iloc[:, -1]\n",
        "print(f\"Input data shape: {X.shape}, Output data shape: {y.shape}\")"
      ]
    },
    {
      "cell_type": "markdown",
      "metadata": {
        "id": "IRg3UPt9_eQ8"
      },
      "source": [
        "## TASK: Perform regression on the interaction dataset\n"
      ]
    },
    {
      "cell_type": "markdown",
      "metadata": {
        "id": "zDm0eOWW_eQ9"
      },
      "source": [
        "Now our input data `X` and output `y` are ready, let's build regression models to map X to y and predict ratings.\n"
      ]
    },
    {
      "cell_type": "code",
      "execution_count": 15,
      "metadata": {
        "id": "5PMdG_jQ_eQ_",
        "outputId": "14c7c954-5484-4d22-aaf1-2e2d39d02c0a",
        "colab": {
          "base_uri": "https://localhost:8080/"
        }
      },
      "outputs": [
        {
          "output_type": "execute_result",
          "data": {
            "text/plain": [
              "array([3., 2.])"
            ]
          },
          "metadata": {},
          "execution_count": 15
        }
      ],
      "source": [
        "y.unique()"
      ]
    },
    {
      "cell_type": "markdown",
      "metadata": {
        "id": "G51Bh4_e_eRA"
      },
      "source": [
        "In an online course system, we may consider the `Completion` mode to be `larger` than the `Audit` mode as a learner needs to put more efforts towards completion.  Now if we treat it as a regression problem,  we would expect the regression model to output ratings ranging from 2.0 to 3.0. To interpret regression model output, we can treat values closer to 2.0 as `Audit` and values closer to 3.0 as `Completion`.\n"
      ]
    },
    {
      "cell_type": "markdown",
      "metadata": {
        "id": "nDyNmKS__eRB"
      },
      "source": [
        "You may use `sklearn` to train and evaluate various regression models.\n"
      ]
    },
    {
      "cell_type": "markdown",
      "metadata": {
        "id": "QA0xaIVi_eRC"
      },
      "source": [
        "*TODO: First split dataset into training and testing datasets*\n"
      ]
    },
    {
      "cell_type": "code",
      "execution_count": 19,
      "metadata": {
        "id": "W8Dbx_OQ_eRD"
      },
      "outputs": [],
      "source": [
        "### WRITE YOUR CODE HERE\n",
        "x_train, x_test, y_train, y_test = train_test_split(X, y, test_size=.3, random_state=rs)"
      ]
    },
    {
      "cell_type": "markdown",
      "metadata": {
        "id": "VmD06aOf_eRD"
      },
      "source": [
        "*TODO: Create a basic linear regression model*\n"
      ]
    },
    {
      "cell_type": "code",
      "execution_count": 17,
      "metadata": {
        "id": "ZFxJN-9V_eRE"
      },
      "outputs": [],
      "source": [
        "### WRITE YOUR CODE HERE\n",
        "model = linear_model.LinearRegression()"
      ]
    },
    {
      "cell_type": "markdown",
      "metadata": {
        "id": "dQuisI-7_eRF"
      },
      "source": [
        "*TODO: Train the basic regression model with training data*\n"
      ]
    },
    {
      "cell_type": "code",
      "execution_count": 20,
      "metadata": {
        "id": "332JIgFN_eRG",
        "outputId": "a0e6f505-d617-4c6f-ad94-3fe6af460606",
        "colab": {
          "base_uri": "https://localhost:8080/"
        }
      },
      "outputs": [
        {
          "output_type": "execute_result",
          "data": {
            "text/plain": [
              "LinearRegression()"
            ]
          },
          "metadata": {},
          "execution_count": 20
        }
      ],
      "source": [
        "### WRITE YOUR CODE HERE\n",
        "model.fit(x_train, y_train)"
      ]
    },
    {
      "cell_type": "markdown",
      "metadata": {
        "id": "Kc-4h7RR_eRG"
      },
      "source": [
        "*TODO: Evaluate the basic regression model*\n"
      ]
    },
    {
      "cell_type": "code",
      "execution_count": 21,
      "metadata": {
        "id": "qZZ9DU-e_eRH"
      },
      "outputs": [],
      "source": [
        "### WRITE YOUR CODE HERE\n",
        "\n",
        "### The main evaluation metric is RMSE but you may use other metrics as well\n",
        "y_pred = model.predict(x_test)"
      ]
    },
    {
      "cell_type": "code",
      "source": [
        "from sklearn.metrics import r2_score\n",
        "r2_score(y_test, y_pred)"
      ],
      "metadata": {
        "id": "eCSkWcmtCngk",
        "outputId": "ef841136-0cd3-49e1-fbc4-661b9a9288a3",
        "colab": {
          "base_uri": "https://localhost:8080/"
        }
      },
      "execution_count": 25,
      "outputs": [
        {
          "output_type": "execute_result",
          "data": {
            "text/plain": [
              "0.0067463967097532995"
            ]
          },
          "metadata": {},
          "execution_count": 25
        }
      ]
    },
    {
      "cell_type": "markdown",
      "metadata": {
        "id": "WuMlGo0k_eRH"
      },
      "source": [
        "*TODO: Try different regression models such as Ridge, Lasso, ElasticNet and tune their hyperparameters to see which one has the best performance*\n"
      ]
    },
    {
      "cell_type": "code",
      "execution_count": 26,
      "metadata": {
        "id": "Vz3WPyLY_eRI",
        "outputId": "a5bcbbe5-2dd9-4631-b744-7f02b4e66455",
        "colab": {
          "base_uri": "https://localhost:8080/"
        }
      },
      "outputs": [
        {
          "output_type": "execute_result",
          "data": {
            "text/plain": [
              "0.006746142630455809"
            ]
          },
          "metadata": {},
          "execution_count": 26
        }
      ],
      "source": [
        "### WRITE YOUR CODE HERE\n",
        "model_ridge = linear_model.Ridge()\n",
        "model_ridge.fit(x_train, y_train)\n",
        "y_pred_ridge = model_ridge.predict(x_test)\n",
        "r2_score(y_test, y_pred_ridge)"
      ]
    },
    {
      "cell_type": "markdown",
      "metadata": {
        "id": "_RdG_dh1_eRJ"
      },
      "source": [
        "### Summary\n"
      ]
    },
    {
      "cell_type": "markdown",
      "metadata": {
        "id": "Y0CY0d2r_eRK"
      },
      "source": [
        "In this lab, you have built regression models to predict numerical course ratings using the embedding feature vectors extracted from neural networks. In the next lab, we can treat the prediction problem as a classification problem as rating only has two categorical values so classification can be a more natural problem statement.\n"
      ]
    },
    {
      "cell_type": "markdown",
      "metadata": {
        "id": "_Cq91gf4_eRL"
      },
      "source": [
        "## Authors\n"
      ]
    },
    {
      "cell_type": "markdown",
      "metadata": {
        "id": "_NKyyRd-_eRM"
      },
      "source": [
        "[Yan Luo](https://www.linkedin.com/in/yan-luo-96288783/?utm_medium=Exinfluencer&utm_source=Exinfluencer&utm_content=000026UJ&utm_term=10006555&utm_id=NA-SkillsNetwork-Channel-SkillsNetworkCoursesIBMML321ENSkillsNetwork32585014-2022-01-01)\n"
      ]
    },
    {
      "cell_type": "markdown",
      "metadata": {
        "id": "8PIRzy02_eRN"
      },
      "source": [
        "### Other Contributors\n"
      ]
    },
    {
      "cell_type": "markdown",
      "metadata": {
        "id": "7cS0ansX_eRO"
      },
      "source": [
        "## Change Log\n"
      ]
    },
    {
      "cell_type": "markdown",
      "metadata": {
        "id": "UVXJZOHU_eRP"
      },
      "source": [
        "| Date (YYYY-MM-DD) | Version | Changed By | Change Description          |\n",
        "| ----------------- | ------- | ---------- | --------------------------- |\n",
        "| 2021-10-25        | 1.0     | Yan        | Created the initial version |\n"
      ]
    },
    {
      "cell_type": "markdown",
      "metadata": {
        "id": "kpHZNw9X_eRR"
      },
      "source": [
        "Copyright © 2021 IBM Corporation. All rights reserved.\n"
      ]
    }
  ],
  "metadata": {
    "kernelspec": {
      "display_name": "Python 3",
      "language": "python",
      "name": "python3"
    },
    "language_info": {
      "codemirror_mode": {
        "name": "ipython",
        "version": 3
      },
      "file_extension": ".py",
      "mimetype": "text/x-python",
      "name": "python",
      "nbconvert_exporter": "python",
      "pygments_lexer": "ipython3",
      "version": "3.8.8"
    },
    "colab": {
      "name": "lab_jupyter_cf_regression_w_embeddings.ipynb",
      "provenance": []
    }
  },
  "nbformat": 4,
  "nbformat_minor": 0
}