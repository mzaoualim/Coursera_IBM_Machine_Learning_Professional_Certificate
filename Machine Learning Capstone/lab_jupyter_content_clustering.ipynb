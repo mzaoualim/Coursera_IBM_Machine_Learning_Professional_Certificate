{
  "cells": [
    {
      "cell_type": "markdown",
      "metadata": {
        "id": "830Z0qH6JwVt"
      },
      "source": [
        "<p style=\"text-align:center\">\n",
        "    <a href=\"https://skills.network/?utm_medium=Exinfluencer&utm_source=Exinfluencer&utm_content=000026UJ&utm_term=10006555&utm_id=NA-SkillsNetwork-Channel-SkillsNetworkCoursesIBMML321ENSkillsNetwork32585014-2022-01-01\" target=\"_blank\">\n",
        "    <img src=\"https://cf-courses-data.s3.us.cloud-object-storage.appdomain.cloud/assets/logos/SN_web_lightmode.png\" width=\"200\" alt=\"Skills Network Logo\"  />\n",
        "    </a>\n",
        "</p>\n"
      ]
    },
    {
      "cell_type": "markdown",
      "metadata": {
        "id": "WaSxl-78JwWB"
      },
      "source": [
        "# **Clustering based Course Recommender System**\n"
      ]
    },
    {
      "cell_type": "markdown",
      "metadata": {
        "id": "trrQVzSjJwWJ"
      },
      "source": [
        "Estimated time needed: **90** minutes\n"
      ]
    },
    {
      "cell_type": "markdown",
      "metadata": {
        "id": "m1rPaf2iJwWO"
      },
      "source": [
        "Previously, we have generated user profile vectors based on course ratings and genres.\n",
        "\n",
        "A user profile vector may look like a row vector in the following matrix, for example, we can see the Database column for user2 has a value 1 which means user2 is very interesting in courses related to the databases. With the user profile vectors generated, we can also easily compute the similarity among users based on their shared interests.\n"
      ]
    },
    {
      "cell_type": "markdown",
      "metadata": {
        "id": "YpG1_H29JwWf"
      },
      "source": [
        "![](https://cf-courses-data.s3.us.cloud-object-storage.appdomain.cloud/IBM-ML321EN-SkillsNetwork/labs/module\\_3/images/userprofiles.png)\n"
      ]
    },
    {
      "cell_type": "markdown",
      "metadata": {
        "id": "ns1-24hAJwWl"
      },
      "source": [
        "Furthermore, we could perform clustering algorithms such as K-means or DBSCAN to group users with similar learning interests. For example, in the below user clusters, we have user clusters whom have learned courses related to machine learning, cloud computing, databases, and web development, etc.\n"
      ]
    },
    {
      "cell_type": "markdown",
      "metadata": {
        "id": "xO979hl_JwWr"
      },
      "source": [
        "![](https://cf-courses-data.s3.us.cloud-object-storage.appdomain.cloud/IBM-ML321EN-SkillsNetwork/labs/module\\_3/images/userprofiles_clustering.png)\n"
      ]
    },
    {
      "cell_type": "markdown",
      "metadata": {
        "id": "-MeRy8Z4JwWy"
      },
      "source": [
        "For each user group, we can come up with a list of popular courses. For example, for the machine learning user cluster/learning group, we can count the most frequently enrolled courses, which are very likely to be the most popular and good machine learning courses because they are enrolled by many users who are interested in machine learning.\n",
        "\n",
        "If we know a user belongs to the machine learning group, we may recommend the most enrolled courses to them and it is very likely the user will be interested in them.\n"
      ]
    },
    {
      "cell_type": "markdown",
      "metadata": {
        "id": "ik6nGtgqJwW3"
      },
      "source": [
        "Next in this lab, you will be implementing some clustering-based recommender system algorithms.\n"
      ]
    },
    {
      "cell_type": "markdown",
      "metadata": {
        "id": "MVEQ0Ll0JwW_"
      },
      "source": [
        "## Objectives\n"
      ]
    },
    {
      "cell_type": "markdown",
      "metadata": {
        "id": "rDrxQGB3JwXC"
      },
      "source": [
        "After completing this lab you will be able to:\n"
      ]
    },
    {
      "cell_type": "markdown",
      "metadata": {
        "id": "7gj9jD6aJwXG"
      },
      "source": [
        "*   Perform k-means clustering on the original user profile feature vectors\n",
        "*   Apply PCA (Principle Component Analysis ) on user profile feature vectors to reduce dimensions\n",
        "*   Perform k-means clustering on the PCA transformed main components\n",
        "*   Generate course recommendations based on other group members' enrollment history\n"
      ]
    },
    {
      "cell_type": "markdown",
      "metadata": {
        "id": "Che2DxAnJwXI"
      },
      "source": [
        "***\n"
      ]
    },
    {
      "cell_type": "markdown",
      "metadata": {
        "id": "-vI5okwxJwXJ"
      },
      "source": [
        "## Prepare and setup lab environment\n"
      ]
    },
    {
      "cell_type": "markdown",
      "metadata": {
        "id": "9s9oWvmcJwXO"
      },
      "source": [
        "First install and import required libraries:\n"
      ]
    },
    {
      "cell_type": "code",
      "execution_count": null,
      "metadata": {
        "id": "htzeELZvJwXP",
        "outputId": "e4eafb08-6c9d-41a1-e3de-dc357d455f69"
      },
      "outputs": [
        {
          "name": "stdout",
          "output_type": "stream",
          "text": [
            "Requirement already satisfied: scikit-learn==1.0.2 in /Users/yluo/opt/anaconda3/envs/py-ml/lib/python3.8/site-packages (1.0.2)\n",
            "Requirement already satisfied: joblib>=0.11 in /Users/yluo/opt/anaconda3/envs/py-ml/lib/python3.8/site-packages (from scikit-learn==1.0.2) (1.0.1)\n",
            "Requirement already satisfied: scipy>=1.1.0 in /Users/yluo/opt/anaconda3/envs/py-ml/lib/python3.8/site-packages (from scikit-learn==1.0.2) (1.6.3)\n",
            "Requirement already satisfied: threadpoolctl>=2.0.0 in /Users/yluo/opt/anaconda3/envs/py-ml/lib/python3.8/site-packages (from scikit-learn==1.0.2) (2.2.0)\n",
            "Requirement already satisfied: numpy>=1.14.6 in /Users/yluo/opt/anaconda3/envs/py-ml/lib/python3.8/site-packages (from scikit-learn==1.0.2) (1.20.2)\n",
            "Requirement already satisfied: seaborn==0.11.1 in /Users/yluo/opt/anaconda3/envs/py-ml/lib/python3.8/site-packages (0.11.1)\n",
            "Requirement already satisfied: matplotlib>=2.2 in /Users/yluo/opt/anaconda3/envs/py-ml/lib/python3.8/site-packages (from seaborn==0.11.1) (3.3.4)\n",
            "Requirement already satisfied: scipy>=1.0 in /Users/yluo/opt/anaconda3/envs/py-ml/lib/python3.8/site-packages (from seaborn==0.11.1) (1.6.3)\n",
            "Requirement already satisfied: pandas>=0.23 in /Users/yluo/opt/anaconda3/envs/py-ml/lib/python3.8/site-packages (from seaborn==0.11.1) (1.2.4)\n",
            "Requirement already satisfied: numpy>=1.15 in /Users/yluo/opt/anaconda3/envs/py-ml/lib/python3.8/site-packages (from seaborn==0.11.1) (1.20.2)\n",
            "Requirement already satisfied: python-dateutil>=2.1 in /Users/yluo/opt/anaconda3/envs/py-ml/lib/python3.8/site-packages (from matplotlib>=2.2->seaborn==0.11.1) (2.8.1)\n",
            "Requirement already satisfied: pillow>=6.2.0 in /Users/yluo/opt/anaconda3/envs/py-ml/lib/python3.8/site-packages (from matplotlib>=2.2->seaborn==0.11.1) (8.2.0)\n",
            "Requirement already satisfied: cycler>=0.10 in /Users/yluo/opt/anaconda3/envs/py-ml/lib/python3.8/site-packages (from matplotlib>=2.2->seaborn==0.11.1) (0.10.0)\n",
            "Requirement already satisfied: pyparsing!=2.0.4,!=2.1.2,!=2.1.6,>=2.0.3 in /Users/yluo/opt/anaconda3/envs/py-ml/lib/python3.8/site-packages (from matplotlib>=2.2->seaborn==0.11.1) (2.4.7)\n",
            "Requirement already satisfied: kiwisolver>=1.0.1 in /Users/yluo/opt/anaconda3/envs/py-ml/lib/python3.8/site-packages (from matplotlib>=2.2->seaborn==0.11.1) (1.3.1)\n",
            "Requirement already satisfied: six in /Users/yluo/opt/anaconda3/envs/py-ml/lib/python3.8/site-packages (from cycler>=0.10->matplotlib>=2.2->seaborn==0.11.1) (1.15.0)\n",
            "Requirement already satisfied: pytz>=2017.3 in /Users/yluo/opt/anaconda3/envs/py-ml/lib/python3.8/site-packages (from pandas>=0.23->seaborn==0.11.1) (2021.1)\n"
          ]
        }
      ],
      "source": [
        "!pip install scikit-learn==1.0.2\n",
        "!pip install seaborn==0.11.1"
      ]
    },
    {
      "cell_type": "code",
      "execution_count": 1,
      "metadata": {
        "id": "hOc2AMxpJwXW"
      },
      "outputs": [],
      "source": [
        "import seaborn as sns\n",
        "import pandas as pd\n",
        "import numpy as np\n",
        "import matplotlib.pyplot as plt\n",
        "\n",
        "from sklearn.cluster import KMeans\n",
        "from sklearn.preprocessing import StandardScaler\n",
        "from sklearn.decomposition import PCA\n",
        "\n",
        "%matplotlib inline"
      ]
    },
    {
      "cell_type": "code",
      "execution_count": 2,
      "metadata": {
        "id": "lkCnYCGcJwXf"
      },
      "outputs": [],
      "source": [
        "# also set a random state\n",
        "rs = 123"
      ]
    },
    {
      "cell_type": "markdown",
      "metadata": {
        "id": "6sCz2lxWJwXk"
      },
      "source": [
        "### Load the user profile dataset\n"
      ]
    },
    {
      "cell_type": "markdown",
      "metadata": {
        "id": "iXowae3rJwXm"
      },
      "source": [
        "Let's first load the original user profile feature vectors:\n"
      ]
    },
    {
      "cell_type": "code",
      "execution_count": 3,
      "metadata": {
        "id": "9YspZ1R7JwXp",
        "outputId": "e868bec9-6073-408c-b2cf-7e5ce0e56c77",
        "colab": {
          "base_uri": "https://localhost:8080/",
          "height": 270
        }
      },
      "outputs": [
        {
          "output_type": "execute_result",
          "data": {
            "text/plain": [
              "   user  Database  Python  CloudComputing  DataAnalysis  Containers  \\\n",
              "0     2      52.0    14.0             6.0          43.0         3.0   \n",
              "1     4      40.0     2.0             4.0          28.0         0.0   \n",
              "2     5      24.0     8.0            18.0          24.0         0.0   \n",
              "3     7       2.0     0.0             0.0           2.0         0.0   \n",
              "4     8       6.0     0.0             0.0           4.0         0.0   \n",
              "\n",
              "   MachineLearning  ComputerVision  DataScience  BigData  Chatbot     R  \\\n",
              "0             33.0             0.0         29.0     41.0      2.0  18.0   \n",
              "1             14.0             0.0         20.0     24.0      0.0   6.0   \n",
              "2             30.0             0.0         22.0     14.0      2.0  14.0   \n",
              "3              0.0             0.0          0.0      2.0      0.0   0.0   \n",
              "4              0.0             0.0          0.0      6.0      0.0   2.0   \n",
              "\n",
              "   BackendDev  FrontendDev  Blockchain  \n",
              "0        34.0          9.0         6.0  \n",
              "1         6.0          0.0         2.0  \n",
              "2        26.0          4.0         6.0  \n",
              "3         0.0          0.0         0.0  \n",
              "4         0.0          0.0         0.0  "
            ],
            "text/html": [
              "\n",
              "  <div id=\"df-08a0b25a-c3ee-477a-bd16-5033397c3def\">\n",
              "    <div class=\"colab-df-container\">\n",
              "      <div>\n",
              "<style scoped>\n",
              "    .dataframe tbody tr th:only-of-type {\n",
              "        vertical-align: middle;\n",
              "    }\n",
              "\n",
              "    .dataframe tbody tr th {\n",
              "        vertical-align: top;\n",
              "    }\n",
              "\n",
              "    .dataframe thead th {\n",
              "        text-align: right;\n",
              "    }\n",
              "</style>\n",
              "<table border=\"1\" class=\"dataframe\">\n",
              "  <thead>\n",
              "    <tr style=\"text-align: right;\">\n",
              "      <th></th>\n",
              "      <th>user</th>\n",
              "      <th>Database</th>\n",
              "      <th>Python</th>\n",
              "      <th>CloudComputing</th>\n",
              "      <th>DataAnalysis</th>\n",
              "      <th>Containers</th>\n",
              "      <th>MachineLearning</th>\n",
              "      <th>ComputerVision</th>\n",
              "      <th>DataScience</th>\n",
              "      <th>BigData</th>\n",
              "      <th>Chatbot</th>\n",
              "      <th>R</th>\n",
              "      <th>BackendDev</th>\n",
              "      <th>FrontendDev</th>\n",
              "      <th>Blockchain</th>\n",
              "    </tr>\n",
              "  </thead>\n",
              "  <tbody>\n",
              "    <tr>\n",
              "      <th>0</th>\n",
              "      <td>2</td>\n",
              "      <td>52.0</td>\n",
              "      <td>14.0</td>\n",
              "      <td>6.0</td>\n",
              "      <td>43.0</td>\n",
              "      <td>3.0</td>\n",
              "      <td>33.0</td>\n",
              "      <td>0.0</td>\n",
              "      <td>29.0</td>\n",
              "      <td>41.0</td>\n",
              "      <td>2.0</td>\n",
              "      <td>18.0</td>\n",
              "      <td>34.0</td>\n",
              "      <td>9.0</td>\n",
              "      <td>6.0</td>\n",
              "    </tr>\n",
              "    <tr>\n",
              "      <th>1</th>\n",
              "      <td>4</td>\n",
              "      <td>40.0</td>\n",
              "      <td>2.0</td>\n",
              "      <td>4.0</td>\n",
              "      <td>28.0</td>\n",
              "      <td>0.0</td>\n",
              "      <td>14.0</td>\n",
              "      <td>0.0</td>\n",
              "      <td>20.0</td>\n",
              "      <td>24.0</td>\n",
              "      <td>0.0</td>\n",
              "      <td>6.0</td>\n",
              "      <td>6.0</td>\n",
              "      <td>0.0</td>\n",
              "      <td>2.0</td>\n",
              "    </tr>\n",
              "    <tr>\n",
              "      <th>2</th>\n",
              "      <td>5</td>\n",
              "      <td>24.0</td>\n",
              "      <td>8.0</td>\n",
              "      <td>18.0</td>\n",
              "      <td>24.0</td>\n",
              "      <td>0.0</td>\n",
              "      <td>30.0</td>\n",
              "      <td>0.0</td>\n",
              "      <td>22.0</td>\n",
              "      <td>14.0</td>\n",
              "      <td>2.0</td>\n",
              "      <td>14.0</td>\n",
              "      <td>26.0</td>\n",
              "      <td>4.0</td>\n",
              "      <td>6.0</td>\n",
              "    </tr>\n",
              "    <tr>\n",
              "      <th>3</th>\n",
              "      <td>7</td>\n",
              "      <td>2.0</td>\n",
              "      <td>0.0</td>\n",
              "      <td>0.0</td>\n",
              "      <td>2.0</td>\n",
              "      <td>0.0</td>\n",
              "      <td>0.0</td>\n",
              "      <td>0.0</td>\n",
              "      <td>0.0</td>\n",
              "      <td>2.0</td>\n",
              "      <td>0.0</td>\n",
              "      <td>0.0</td>\n",
              "      <td>0.0</td>\n",
              "      <td>0.0</td>\n",
              "      <td>0.0</td>\n",
              "    </tr>\n",
              "    <tr>\n",
              "      <th>4</th>\n",
              "      <td>8</td>\n",
              "      <td>6.0</td>\n",
              "      <td>0.0</td>\n",
              "      <td>0.0</td>\n",
              "      <td>4.0</td>\n",
              "      <td>0.0</td>\n",
              "      <td>0.0</td>\n",
              "      <td>0.0</td>\n",
              "      <td>0.0</td>\n",
              "      <td>6.0</td>\n",
              "      <td>0.0</td>\n",
              "      <td>2.0</td>\n",
              "      <td>0.0</td>\n",
              "      <td>0.0</td>\n",
              "      <td>0.0</td>\n",
              "    </tr>\n",
              "  </tbody>\n",
              "</table>\n",
              "</div>\n",
              "      <button class=\"colab-df-convert\" onclick=\"convertToInteractive('df-08a0b25a-c3ee-477a-bd16-5033397c3def')\"\n",
              "              title=\"Convert this dataframe to an interactive table.\"\n",
              "              style=\"display:none;\">\n",
              "        \n",
              "  <svg xmlns=\"http://www.w3.org/2000/svg\" height=\"24px\"viewBox=\"0 0 24 24\"\n",
              "       width=\"24px\">\n",
              "    <path d=\"M0 0h24v24H0V0z\" fill=\"none\"/>\n",
              "    <path d=\"M18.56 5.44l.94 2.06.94-2.06 2.06-.94-2.06-.94-.94-2.06-.94 2.06-2.06.94zm-11 1L8.5 8.5l.94-2.06 2.06-.94-2.06-.94L8.5 2.5l-.94 2.06-2.06.94zm10 10l.94 2.06.94-2.06 2.06-.94-2.06-.94-.94-2.06-.94 2.06-2.06.94z\"/><path d=\"M17.41 7.96l-1.37-1.37c-.4-.4-.92-.59-1.43-.59-.52 0-1.04.2-1.43.59L10.3 9.45l-7.72 7.72c-.78.78-.78 2.05 0 2.83L4 21.41c.39.39.9.59 1.41.59.51 0 1.02-.2 1.41-.59l7.78-7.78 2.81-2.81c.8-.78.8-2.07 0-2.86zM5.41 20L4 18.59l7.72-7.72 1.47 1.35L5.41 20z\"/>\n",
              "  </svg>\n",
              "      </button>\n",
              "      \n",
              "  <style>\n",
              "    .colab-df-container {\n",
              "      display:flex;\n",
              "      flex-wrap:wrap;\n",
              "      gap: 12px;\n",
              "    }\n",
              "\n",
              "    .colab-df-convert {\n",
              "      background-color: #E8F0FE;\n",
              "      border: none;\n",
              "      border-radius: 50%;\n",
              "      cursor: pointer;\n",
              "      display: none;\n",
              "      fill: #1967D2;\n",
              "      height: 32px;\n",
              "      padding: 0 0 0 0;\n",
              "      width: 32px;\n",
              "    }\n",
              "\n",
              "    .colab-df-convert:hover {\n",
              "      background-color: #E2EBFA;\n",
              "      box-shadow: 0px 1px 2px rgba(60, 64, 67, 0.3), 0px 1px 3px 1px rgba(60, 64, 67, 0.15);\n",
              "      fill: #174EA6;\n",
              "    }\n",
              "\n",
              "    [theme=dark] .colab-df-convert {\n",
              "      background-color: #3B4455;\n",
              "      fill: #D2E3FC;\n",
              "    }\n",
              "\n",
              "    [theme=dark] .colab-df-convert:hover {\n",
              "      background-color: #434B5C;\n",
              "      box-shadow: 0px 1px 3px 1px rgba(0, 0, 0, 0.15);\n",
              "      filter: drop-shadow(0px 1px 2px rgba(0, 0, 0, 0.3));\n",
              "      fill: #FFFFFF;\n",
              "    }\n",
              "  </style>\n",
              "\n",
              "      <script>\n",
              "        const buttonEl =\n",
              "          document.querySelector('#df-08a0b25a-c3ee-477a-bd16-5033397c3def button.colab-df-convert');\n",
              "        buttonEl.style.display =\n",
              "          google.colab.kernel.accessAllowed ? 'block' : 'none';\n",
              "\n",
              "        async function convertToInteractive(key) {\n",
              "          const element = document.querySelector('#df-08a0b25a-c3ee-477a-bd16-5033397c3def');\n",
              "          const dataTable =\n",
              "            await google.colab.kernel.invokeFunction('convertToInteractive',\n",
              "                                                     [key], {});\n",
              "          if (!dataTable) return;\n",
              "\n",
              "          const docLinkHtml = 'Like what you see? Visit the ' +\n",
              "            '<a target=\"_blank\" href=https://colab.research.google.com/notebooks/data_table.ipynb>data table notebook</a>'\n",
              "            + ' to learn more about interactive tables.';\n",
              "          element.innerHTML = '';\n",
              "          dataTable['output_type'] = 'display_data';\n",
              "          await google.colab.output.renderOutput(dataTable, element);\n",
              "          const docLink = document.createElement('div');\n",
              "          docLink.innerHTML = docLinkHtml;\n",
              "          element.appendChild(docLink);\n",
              "        }\n",
              "      </script>\n",
              "    </div>\n",
              "  </div>\n",
              "  "
            ]
          },
          "metadata": {},
          "execution_count": 3
        }
      ],
      "source": [
        "user_profile_url = \"https://cf-courses-data.s3.us.cloud-object-storage.appdomain.cloud/IBM-ML321EN-SkillsNetwork/labs/datasets/user_profile.csv\"\n",
        "user_profile_df = pd.read_csv(user_profile_url)\n",
        "user_profile_df.head()"
      ]
    },
    {
      "cell_type": "code",
      "execution_count": 4,
      "metadata": {
        "id": "jwpN70yYJwXs",
        "outputId": "e021881f-3390-44ba-f2d8-85fa6631a69b",
        "colab": {
          "base_uri": "https://localhost:8080/"
        }
      },
      "outputs": [
        {
          "output_type": "execute_result",
          "data": {
            "text/plain": [
              "(33901, 15)"
            ]
          },
          "metadata": {},
          "execution_count": 4
        }
      ],
      "source": [
        "user_profile_df.shape"
      ]
    },
    {
      "cell_type": "markdown",
      "metadata": {
        "id": "2xzeL5baJwXx"
      },
      "source": [
        "we can then list the feature names, they are the user interested topics (course genres):\n"
      ]
    },
    {
      "cell_type": "code",
      "execution_count": 5,
      "metadata": {
        "id": "myLw6OTfJwXz",
        "outputId": "23fa30cb-2225-4723-9c2b-8edc2a7a37a0",
        "colab": {
          "base_uri": "https://localhost:8080/"
        }
      },
      "outputs": [
        {
          "output_type": "execute_result",
          "data": {
            "text/plain": [
              "['Database',\n",
              " 'Python',\n",
              " 'CloudComputing',\n",
              " 'DataAnalysis',\n",
              " 'Containers',\n",
              " 'MachineLearning',\n",
              " 'ComputerVision',\n",
              " 'DataScience',\n",
              " 'BigData',\n",
              " 'Chatbot',\n",
              " 'R',\n",
              " 'BackendDev',\n",
              " 'FrontendDev',\n",
              " 'Blockchain']"
            ]
          },
          "metadata": {},
          "execution_count": 5
        }
      ],
      "source": [
        "feature_names = list(user_profile_df.columns[1:])\n",
        "feature_names"
      ]
    },
    {
      "cell_type": "markdown",
      "metadata": {
        "id": "dhe07FGmJwX3"
      },
      "source": [
        "As we can see from the user profile dataset, we have about 33K unique users with interests in areas like `Database`, `Python`, `CloudComputing`, etc. Then, let's check the  summary statistics for each feature.\n"
      ]
    },
    {
      "cell_type": "code",
      "execution_count": 6,
      "metadata": {
        "id": "YYQp4ceTJwX6",
        "outputId": "b148e44d-ddb7-4a63-9157-e69152ae84f2",
        "colab": {
          "base_uri": "https://localhost:8080/",
          "height": 364
        }
      },
      "outputs": [
        {
          "output_type": "execute_result",
          "data": {
            "text/plain": [
              "               user      Database        Python  CloudComputing  DataAnalysis  \\\n",
              "count  3.390100e+04  33901.000000  33901.000000    33901.000000  33901.000000   \n",
              "mean   1.064064e+06      5.518569      3.493791        2.307100      3.624701   \n",
              "std    4.972578e+05      7.611941      4.227254        3.841858      4.760135   \n",
              "min    2.000000e+00      0.000000      0.000000        0.000000      0.000000   \n",
              "25%    6.813480e+05      0.000000      0.000000        0.000000      0.000000   \n",
              "50%    1.043907e+06      3.000000      3.000000        0.000000      3.000000   \n",
              "75%    1.451159e+06      9.000000      6.000000        3.000000      6.000000   \n",
              "max    2.103039e+06     63.000000     18.000000       38.000000     48.000000   \n",
              "\n",
              "         Containers  MachineLearning  ComputerVision   DataScience  \\\n",
              "count  33901.000000     33901.000000    33901.000000  33901.000000   \n",
              "mean       0.998938         3.048022        0.001770      5.087343   \n",
              "std        2.351764         4.624004        0.072846      5.230697   \n",
              "min        0.000000         0.000000        0.000000      0.000000   \n",
              "25%        0.000000         0.000000        0.000000      0.000000   \n",
              "50%        0.000000         0.000000        0.000000      3.000000   \n",
              "75%        0.000000         3.000000        0.000000      9.000000   \n",
              "max       15.000000        39.000000        3.000000     32.000000   \n",
              "\n",
              "            BigData       Chatbot             R    BackendDev   FrontendDev  \\\n",
              "count  33901.000000  33901.000000  33901.000000  33901.000000  33901.000000   \n",
              "mean       4.750450      0.462995      1.017433      2.269461      0.315802   \n",
              "std        7.216228      1.055186      2.342532      4.310752      1.363462   \n",
              "min        0.000000      0.000000      0.000000      0.000000      0.000000   \n",
              "25%        0.000000      0.000000      0.000000      0.000000      0.000000   \n",
              "50%        2.000000      0.000000      0.000000      0.000000      0.000000   \n",
              "75%        6.000000      0.000000      0.000000      3.000000      0.000000   \n",
              "max       54.000000      6.000000     18.000000     54.000000     15.000000   \n",
              "\n",
              "         Blockchain  \n",
              "count  33901.000000  \n",
              "mean       0.986844  \n",
              "std        1.950585  \n",
              "min        0.000000  \n",
              "25%        0.000000  \n",
              "50%        0.000000  \n",
              "75%        2.000000  \n",
              "max       12.000000  "
            ],
            "text/html": [
              "\n",
              "  <div id=\"df-c7c1c010-803a-455c-b9c2-899f157c66b5\">\n",
              "    <div class=\"colab-df-container\">\n",
              "      <div>\n",
              "<style scoped>\n",
              "    .dataframe tbody tr th:only-of-type {\n",
              "        vertical-align: middle;\n",
              "    }\n",
              "\n",
              "    .dataframe tbody tr th {\n",
              "        vertical-align: top;\n",
              "    }\n",
              "\n",
              "    .dataframe thead th {\n",
              "        text-align: right;\n",
              "    }\n",
              "</style>\n",
              "<table border=\"1\" class=\"dataframe\">\n",
              "  <thead>\n",
              "    <tr style=\"text-align: right;\">\n",
              "      <th></th>\n",
              "      <th>user</th>\n",
              "      <th>Database</th>\n",
              "      <th>Python</th>\n",
              "      <th>CloudComputing</th>\n",
              "      <th>DataAnalysis</th>\n",
              "      <th>Containers</th>\n",
              "      <th>MachineLearning</th>\n",
              "      <th>ComputerVision</th>\n",
              "      <th>DataScience</th>\n",
              "      <th>BigData</th>\n",
              "      <th>Chatbot</th>\n",
              "      <th>R</th>\n",
              "      <th>BackendDev</th>\n",
              "      <th>FrontendDev</th>\n",
              "      <th>Blockchain</th>\n",
              "    </tr>\n",
              "  </thead>\n",
              "  <tbody>\n",
              "    <tr>\n",
              "      <th>count</th>\n",
              "      <td>3.390100e+04</td>\n",
              "      <td>33901.000000</td>\n",
              "      <td>33901.000000</td>\n",
              "      <td>33901.000000</td>\n",
              "      <td>33901.000000</td>\n",
              "      <td>33901.000000</td>\n",
              "      <td>33901.000000</td>\n",
              "      <td>33901.000000</td>\n",
              "      <td>33901.000000</td>\n",
              "      <td>33901.000000</td>\n",
              "      <td>33901.000000</td>\n",
              "      <td>33901.000000</td>\n",
              "      <td>33901.000000</td>\n",
              "      <td>33901.000000</td>\n",
              "      <td>33901.000000</td>\n",
              "    </tr>\n",
              "    <tr>\n",
              "      <th>mean</th>\n",
              "      <td>1.064064e+06</td>\n",
              "      <td>5.518569</td>\n",
              "      <td>3.493791</td>\n",
              "      <td>2.307100</td>\n",
              "      <td>3.624701</td>\n",
              "      <td>0.998938</td>\n",
              "      <td>3.048022</td>\n",
              "      <td>0.001770</td>\n",
              "      <td>5.087343</td>\n",
              "      <td>4.750450</td>\n",
              "      <td>0.462995</td>\n",
              "      <td>1.017433</td>\n",
              "      <td>2.269461</td>\n",
              "      <td>0.315802</td>\n",
              "      <td>0.986844</td>\n",
              "    </tr>\n",
              "    <tr>\n",
              "      <th>std</th>\n",
              "      <td>4.972578e+05</td>\n",
              "      <td>7.611941</td>\n",
              "      <td>4.227254</td>\n",
              "      <td>3.841858</td>\n",
              "      <td>4.760135</td>\n",
              "      <td>2.351764</td>\n",
              "      <td>4.624004</td>\n",
              "      <td>0.072846</td>\n",
              "      <td>5.230697</td>\n",
              "      <td>7.216228</td>\n",
              "      <td>1.055186</td>\n",
              "      <td>2.342532</td>\n",
              "      <td>4.310752</td>\n",
              "      <td>1.363462</td>\n",
              "      <td>1.950585</td>\n",
              "    </tr>\n",
              "    <tr>\n",
              "      <th>min</th>\n",
              "      <td>2.000000e+00</td>\n",
              "      <td>0.000000</td>\n",
              "      <td>0.000000</td>\n",
              "      <td>0.000000</td>\n",
              "      <td>0.000000</td>\n",
              "      <td>0.000000</td>\n",
              "      <td>0.000000</td>\n",
              "      <td>0.000000</td>\n",
              "      <td>0.000000</td>\n",
              "      <td>0.000000</td>\n",
              "      <td>0.000000</td>\n",
              "      <td>0.000000</td>\n",
              "      <td>0.000000</td>\n",
              "      <td>0.000000</td>\n",
              "      <td>0.000000</td>\n",
              "    </tr>\n",
              "    <tr>\n",
              "      <th>25%</th>\n",
              "      <td>6.813480e+05</td>\n",
              "      <td>0.000000</td>\n",
              "      <td>0.000000</td>\n",
              "      <td>0.000000</td>\n",
              "      <td>0.000000</td>\n",
              "      <td>0.000000</td>\n",
              "      <td>0.000000</td>\n",
              "      <td>0.000000</td>\n",
              "      <td>0.000000</td>\n",
              "      <td>0.000000</td>\n",
              "      <td>0.000000</td>\n",
              "      <td>0.000000</td>\n",
              "      <td>0.000000</td>\n",
              "      <td>0.000000</td>\n",
              "      <td>0.000000</td>\n",
              "    </tr>\n",
              "    <tr>\n",
              "      <th>50%</th>\n",
              "      <td>1.043907e+06</td>\n",
              "      <td>3.000000</td>\n",
              "      <td>3.000000</td>\n",
              "      <td>0.000000</td>\n",
              "      <td>3.000000</td>\n",
              "      <td>0.000000</td>\n",
              "      <td>0.000000</td>\n",
              "      <td>0.000000</td>\n",
              "      <td>3.000000</td>\n",
              "      <td>2.000000</td>\n",
              "      <td>0.000000</td>\n",
              "      <td>0.000000</td>\n",
              "      <td>0.000000</td>\n",
              "      <td>0.000000</td>\n",
              "      <td>0.000000</td>\n",
              "    </tr>\n",
              "    <tr>\n",
              "      <th>75%</th>\n",
              "      <td>1.451159e+06</td>\n",
              "      <td>9.000000</td>\n",
              "      <td>6.000000</td>\n",
              "      <td>3.000000</td>\n",
              "      <td>6.000000</td>\n",
              "      <td>0.000000</td>\n",
              "      <td>3.000000</td>\n",
              "      <td>0.000000</td>\n",
              "      <td>9.000000</td>\n",
              "      <td>6.000000</td>\n",
              "      <td>0.000000</td>\n",
              "      <td>0.000000</td>\n",
              "      <td>3.000000</td>\n",
              "      <td>0.000000</td>\n",
              "      <td>2.000000</td>\n",
              "    </tr>\n",
              "    <tr>\n",
              "      <th>max</th>\n",
              "      <td>2.103039e+06</td>\n",
              "      <td>63.000000</td>\n",
              "      <td>18.000000</td>\n",
              "      <td>38.000000</td>\n",
              "      <td>48.000000</td>\n",
              "      <td>15.000000</td>\n",
              "      <td>39.000000</td>\n",
              "      <td>3.000000</td>\n",
              "      <td>32.000000</td>\n",
              "      <td>54.000000</td>\n",
              "      <td>6.000000</td>\n",
              "      <td>18.000000</td>\n",
              "      <td>54.000000</td>\n",
              "      <td>15.000000</td>\n",
              "      <td>12.000000</td>\n",
              "    </tr>\n",
              "  </tbody>\n",
              "</table>\n",
              "</div>\n",
              "      <button class=\"colab-df-convert\" onclick=\"convertToInteractive('df-c7c1c010-803a-455c-b9c2-899f157c66b5')\"\n",
              "              title=\"Convert this dataframe to an interactive table.\"\n",
              "              style=\"display:none;\">\n",
              "        \n",
              "  <svg xmlns=\"http://www.w3.org/2000/svg\" height=\"24px\"viewBox=\"0 0 24 24\"\n",
              "       width=\"24px\">\n",
              "    <path d=\"M0 0h24v24H0V0z\" fill=\"none\"/>\n",
              "    <path d=\"M18.56 5.44l.94 2.06.94-2.06 2.06-.94-2.06-.94-.94-2.06-.94 2.06-2.06.94zm-11 1L8.5 8.5l.94-2.06 2.06-.94-2.06-.94L8.5 2.5l-.94 2.06-2.06.94zm10 10l.94 2.06.94-2.06 2.06-.94-2.06-.94-.94-2.06-.94 2.06-2.06.94z\"/><path d=\"M17.41 7.96l-1.37-1.37c-.4-.4-.92-.59-1.43-.59-.52 0-1.04.2-1.43.59L10.3 9.45l-7.72 7.72c-.78.78-.78 2.05 0 2.83L4 21.41c.39.39.9.59 1.41.59.51 0 1.02-.2 1.41-.59l7.78-7.78 2.81-2.81c.8-.78.8-2.07 0-2.86zM5.41 20L4 18.59l7.72-7.72 1.47 1.35L5.41 20z\"/>\n",
              "  </svg>\n",
              "      </button>\n",
              "      \n",
              "  <style>\n",
              "    .colab-df-container {\n",
              "      display:flex;\n",
              "      flex-wrap:wrap;\n",
              "      gap: 12px;\n",
              "    }\n",
              "\n",
              "    .colab-df-convert {\n",
              "      background-color: #E8F0FE;\n",
              "      border: none;\n",
              "      border-radius: 50%;\n",
              "      cursor: pointer;\n",
              "      display: none;\n",
              "      fill: #1967D2;\n",
              "      height: 32px;\n",
              "      padding: 0 0 0 0;\n",
              "      width: 32px;\n",
              "    }\n",
              "\n",
              "    .colab-df-convert:hover {\n",
              "      background-color: #E2EBFA;\n",
              "      box-shadow: 0px 1px 2px rgba(60, 64, 67, 0.3), 0px 1px 3px 1px rgba(60, 64, 67, 0.15);\n",
              "      fill: #174EA6;\n",
              "    }\n",
              "\n",
              "    [theme=dark] .colab-df-convert {\n",
              "      background-color: #3B4455;\n",
              "      fill: #D2E3FC;\n",
              "    }\n",
              "\n",
              "    [theme=dark] .colab-df-convert:hover {\n",
              "      background-color: #434B5C;\n",
              "      box-shadow: 0px 1px 3px 1px rgba(0, 0, 0, 0.15);\n",
              "      filter: drop-shadow(0px 1px 2px rgba(0, 0, 0, 0.3));\n",
              "      fill: #FFFFFF;\n",
              "    }\n",
              "  </style>\n",
              "\n",
              "      <script>\n",
              "        const buttonEl =\n",
              "          document.querySelector('#df-c7c1c010-803a-455c-b9c2-899f157c66b5 button.colab-df-convert');\n",
              "        buttonEl.style.display =\n",
              "          google.colab.kernel.accessAllowed ? 'block' : 'none';\n",
              "\n",
              "        async function convertToInteractive(key) {\n",
              "          const element = document.querySelector('#df-c7c1c010-803a-455c-b9c2-899f157c66b5');\n",
              "          const dataTable =\n",
              "            await google.colab.kernel.invokeFunction('convertToInteractive',\n",
              "                                                     [key], {});\n",
              "          if (!dataTable) return;\n",
              "\n",
              "          const docLinkHtml = 'Like what you see? Visit the ' +\n",
              "            '<a target=\"_blank\" href=https://colab.research.google.com/notebooks/data_table.ipynb>data table notebook</a>'\n",
              "            + ' to learn more about interactive tables.';\n",
              "          element.innerHTML = '';\n",
              "          dataTable['output_type'] = 'display_data';\n",
              "          await google.colab.output.renderOutput(dataTable, element);\n",
              "          const docLink = document.createElement('div');\n",
              "          docLink.innerHTML = docLinkHtml;\n",
              "          element.appendChild(docLink);\n",
              "        }\n",
              "      </script>\n",
              "    </div>\n",
              "  </div>\n",
              "  "
            ]
          },
          "metadata": {},
          "execution_count": 6
        }
      ],
      "source": [
        "user_profile_df.describe()"
      ]
    },
    {
      "cell_type": "markdown",
      "metadata": {
        "id": "DKFtGbm6JwX8"
      },
      "source": [
        "The original user profile feature vector is not normalized, which may cause issues when we perform clustering and Principal component analysis (PCA), therefor we standardize the data.\n"
      ]
    },
    {
      "cell_type": "code",
      "execution_count": 7,
      "metadata": {
        "id": "pmUdRV0KJwYC",
        "outputId": "5f0d2c14-1f12-479f-ef6c-26269d769197",
        "colab": {
          "base_uri": "https://localhost:8080/"
        }
      },
      "outputs": [
        {
          "output_type": "stream",
          "name": "stdout",
          "text": [
            "mean Database          -3.353495e-17\n",
            "Python            -5.700942e-17\n",
            "CloudComputing    -3.521170e-17\n",
            "DataAnalysis      -7.671120e-17\n",
            "Containers         3.353495e-18\n",
            "MachineLearning    3.688845e-17\n",
            "ComputerVision    -1.509073e-17\n",
            "DataScience       -1.676748e-17\n",
            "BigData            6.706990e-17\n",
            "Chatbot           -6.874665e-17\n",
            "R                  4.233788e-17\n",
            "BackendDev         1.383317e-17\n",
            "FrontendDev        5.051202e-17\n",
            "Blockchain        -5.281755e-17\n",
            "dtype: float64 and standard deviationDatabase           1.000015\n",
            "Python             1.000015\n",
            "CloudComputing     1.000015\n",
            "DataAnalysis       1.000015\n",
            "Containers         1.000015\n",
            "MachineLearning    1.000015\n",
            "ComputerVision     1.000015\n",
            "DataScience        1.000015\n",
            "BigData            1.000015\n",
            "Chatbot            1.000015\n",
            "R                  1.000015\n",
            "BackendDev         1.000015\n",
            "FrontendDev        1.000015\n",
            "Blockchain         1.000015\n",
            "dtype: float64 \n"
          ]
        }
      ],
      "source": [
        "# Use StandardScaler to make each feature with mean 0, standard deviation 1\n",
        "scaler = StandardScaler()\n",
        "user_profile_df[feature_names] = scaler.fit_transform(user_profile_df[feature_names])\n",
        "print(\"mean {} and standard deviation{} \".format(user_profile_df[feature_names].mean(),user_profile_df[feature_names].std()))"
      ]
    },
    {
      "cell_type": "code",
      "execution_count": 8,
      "metadata": {
        "id": "pgMKIZeBJwYG",
        "outputId": "6ceb9770-e3be-467f-aae7-f4baa4e191b9",
        "colab": {
          "base_uri": "https://localhost:8080/",
          "height": 364
        }
      },
      "outputs": [
        {
          "output_type": "execute_result",
          "data": {
            "text/plain": [
              "               user      Database        Python  CloudComputing  DataAnalysis  \\\n",
              "count  3.390100e+04  3.390100e+04  3.390100e+04    3.390100e+04  3.390100e+04   \n",
              "mean   1.064064e+06 -3.353495e-17 -5.700942e-17   -3.521170e-17 -7.671120e-17   \n",
              "std    4.972578e+05  1.000015e+00  1.000015e+00    1.000015e+00  1.000015e+00   \n",
              "min    2.000000e+00 -7.249991e-01 -8.265040e-01   -6.005256e-01 -7.614816e-01   \n",
              "25%    6.813480e+05 -7.249991e-01 -8.265040e-01   -6.005256e-01 -7.614816e-01   \n",
              "50%    1.043907e+06 -3.308757e-01 -1.168130e-01   -6.005256e-01 -1.312380e-01   \n",
              "75%    1.451159e+06  4.573712e-01  5.928781e-01    1.803581e-01  4.990056e-01   \n",
              "max    2.103039e+06  7.551593e+00  3.431642e+00    9.290667e+00  9.322416e+00   \n",
              "\n",
              "         Containers  MachineLearning  ComputerVision   DataScience  \\\n",
              "count  3.390100e+04     3.390100e+04    3.390100e+04  3.390100e+04   \n",
              "mean   3.353495e-18     3.688845e-17   -1.509073e-17 -1.676748e-17   \n",
              "std    1.000015e+00     1.000015e+00    1.000015e+00  1.000015e+00   \n",
              "min   -4.247674e-01    -6.591835e-01   -2.429612e-02 -9.726080e-01   \n",
              "25%   -4.247674e-01    -6.591835e-01   -2.429612e-02 -9.726080e-01   \n",
              "50%   -4.247674e-01    -6.591835e-01   -2.429612e-02 -3.990622e-01   \n",
              "75%   -4.247674e-01    -1.038556e-02   -2.429612e-02  7.480294e-01   \n",
              "max    5.953517e+00     7.775190e+00    4.115884e+01  5.145214e+00   \n",
              "\n",
              "            BigData       Chatbot             R    BackendDev   FrontendDev  \\\n",
              "count  3.390100e+04  3.390100e+04  3.390100e+04  3.390100e+04  3.390100e+04   \n",
              "mean   6.706990e-17 -6.874665e-17  4.233788e-17  1.383317e-17  5.051202e-17   \n",
              "std    1.000015e+00  1.000015e+00  1.000015e+00  1.000015e+00  1.000015e+00   \n",
              "min   -6.583107e-01 -4.387873e-01 -4.343370e-01 -5.264730e-01 -2.316212e-01   \n",
              "25%   -6.583107e-01 -4.387873e-01 -4.343370e-01 -5.264730e-01 -2.316212e-01   \n",
              "50%   -3.811535e-01 -4.387873e-01 -4.343370e-01 -5.264730e-01 -2.316212e-01   \n",
              "75%    1.731609e-01 -4.387873e-01 -4.343370e-01  1.694715e-01 -2.316212e-01   \n",
              "max    6.824934e+00  5.247500e+00  7.249771e+00  1.200053e+01  1.076995e+01   \n",
              "\n",
              "         Blockchain  \n",
              "count  3.390100e+04  \n",
              "mean  -5.281755e-17  \n",
              "std    1.000015e+00  \n",
              "min   -5.059295e-01  \n",
              "25%   -5.059295e-01  \n",
              "50%   -5.059295e-01  \n",
              "75%    5.194189e-01  \n",
              "max    5.646161e+00  "
            ],
            "text/html": [
              "\n",
              "  <div id=\"df-c1db25d1-ae82-4e69-8422-0f89eebdad8e\">\n",
              "    <div class=\"colab-df-container\">\n",
              "      <div>\n",
              "<style scoped>\n",
              "    .dataframe tbody tr th:only-of-type {\n",
              "        vertical-align: middle;\n",
              "    }\n",
              "\n",
              "    .dataframe tbody tr th {\n",
              "        vertical-align: top;\n",
              "    }\n",
              "\n",
              "    .dataframe thead th {\n",
              "        text-align: right;\n",
              "    }\n",
              "</style>\n",
              "<table border=\"1\" class=\"dataframe\">\n",
              "  <thead>\n",
              "    <tr style=\"text-align: right;\">\n",
              "      <th></th>\n",
              "      <th>user</th>\n",
              "      <th>Database</th>\n",
              "      <th>Python</th>\n",
              "      <th>CloudComputing</th>\n",
              "      <th>DataAnalysis</th>\n",
              "      <th>Containers</th>\n",
              "      <th>MachineLearning</th>\n",
              "      <th>ComputerVision</th>\n",
              "      <th>DataScience</th>\n",
              "      <th>BigData</th>\n",
              "      <th>Chatbot</th>\n",
              "      <th>R</th>\n",
              "      <th>BackendDev</th>\n",
              "      <th>FrontendDev</th>\n",
              "      <th>Blockchain</th>\n",
              "    </tr>\n",
              "  </thead>\n",
              "  <tbody>\n",
              "    <tr>\n",
              "      <th>count</th>\n",
              "      <td>3.390100e+04</td>\n",
              "      <td>3.390100e+04</td>\n",
              "      <td>3.390100e+04</td>\n",
              "      <td>3.390100e+04</td>\n",
              "      <td>3.390100e+04</td>\n",
              "      <td>3.390100e+04</td>\n",
              "      <td>3.390100e+04</td>\n",
              "      <td>3.390100e+04</td>\n",
              "      <td>3.390100e+04</td>\n",
              "      <td>3.390100e+04</td>\n",
              "      <td>3.390100e+04</td>\n",
              "      <td>3.390100e+04</td>\n",
              "      <td>3.390100e+04</td>\n",
              "      <td>3.390100e+04</td>\n",
              "      <td>3.390100e+04</td>\n",
              "    </tr>\n",
              "    <tr>\n",
              "      <th>mean</th>\n",
              "      <td>1.064064e+06</td>\n",
              "      <td>-3.353495e-17</td>\n",
              "      <td>-5.700942e-17</td>\n",
              "      <td>-3.521170e-17</td>\n",
              "      <td>-7.671120e-17</td>\n",
              "      <td>3.353495e-18</td>\n",
              "      <td>3.688845e-17</td>\n",
              "      <td>-1.509073e-17</td>\n",
              "      <td>-1.676748e-17</td>\n",
              "      <td>6.706990e-17</td>\n",
              "      <td>-6.874665e-17</td>\n",
              "      <td>4.233788e-17</td>\n",
              "      <td>1.383317e-17</td>\n",
              "      <td>5.051202e-17</td>\n",
              "      <td>-5.281755e-17</td>\n",
              "    </tr>\n",
              "    <tr>\n",
              "      <th>std</th>\n",
              "      <td>4.972578e+05</td>\n",
              "      <td>1.000015e+00</td>\n",
              "      <td>1.000015e+00</td>\n",
              "      <td>1.000015e+00</td>\n",
              "      <td>1.000015e+00</td>\n",
              "      <td>1.000015e+00</td>\n",
              "      <td>1.000015e+00</td>\n",
              "      <td>1.000015e+00</td>\n",
              "      <td>1.000015e+00</td>\n",
              "      <td>1.000015e+00</td>\n",
              "      <td>1.000015e+00</td>\n",
              "      <td>1.000015e+00</td>\n",
              "      <td>1.000015e+00</td>\n",
              "      <td>1.000015e+00</td>\n",
              "      <td>1.000015e+00</td>\n",
              "    </tr>\n",
              "    <tr>\n",
              "      <th>min</th>\n",
              "      <td>2.000000e+00</td>\n",
              "      <td>-7.249991e-01</td>\n",
              "      <td>-8.265040e-01</td>\n",
              "      <td>-6.005256e-01</td>\n",
              "      <td>-7.614816e-01</td>\n",
              "      <td>-4.247674e-01</td>\n",
              "      <td>-6.591835e-01</td>\n",
              "      <td>-2.429612e-02</td>\n",
              "      <td>-9.726080e-01</td>\n",
              "      <td>-6.583107e-01</td>\n",
              "      <td>-4.387873e-01</td>\n",
              "      <td>-4.343370e-01</td>\n",
              "      <td>-5.264730e-01</td>\n",
              "      <td>-2.316212e-01</td>\n",
              "      <td>-5.059295e-01</td>\n",
              "    </tr>\n",
              "    <tr>\n",
              "      <th>25%</th>\n",
              "      <td>6.813480e+05</td>\n",
              "      <td>-7.249991e-01</td>\n",
              "      <td>-8.265040e-01</td>\n",
              "      <td>-6.005256e-01</td>\n",
              "      <td>-7.614816e-01</td>\n",
              "      <td>-4.247674e-01</td>\n",
              "      <td>-6.591835e-01</td>\n",
              "      <td>-2.429612e-02</td>\n",
              "      <td>-9.726080e-01</td>\n",
              "      <td>-6.583107e-01</td>\n",
              "      <td>-4.387873e-01</td>\n",
              "      <td>-4.343370e-01</td>\n",
              "      <td>-5.264730e-01</td>\n",
              "      <td>-2.316212e-01</td>\n",
              "      <td>-5.059295e-01</td>\n",
              "    </tr>\n",
              "    <tr>\n",
              "      <th>50%</th>\n",
              "      <td>1.043907e+06</td>\n",
              "      <td>-3.308757e-01</td>\n",
              "      <td>-1.168130e-01</td>\n",
              "      <td>-6.005256e-01</td>\n",
              "      <td>-1.312380e-01</td>\n",
              "      <td>-4.247674e-01</td>\n",
              "      <td>-6.591835e-01</td>\n",
              "      <td>-2.429612e-02</td>\n",
              "      <td>-3.990622e-01</td>\n",
              "      <td>-3.811535e-01</td>\n",
              "      <td>-4.387873e-01</td>\n",
              "      <td>-4.343370e-01</td>\n",
              "      <td>-5.264730e-01</td>\n",
              "      <td>-2.316212e-01</td>\n",
              "      <td>-5.059295e-01</td>\n",
              "    </tr>\n",
              "    <tr>\n",
              "      <th>75%</th>\n",
              "      <td>1.451159e+06</td>\n",
              "      <td>4.573712e-01</td>\n",
              "      <td>5.928781e-01</td>\n",
              "      <td>1.803581e-01</td>\n",
              "      <td>4.990056e-01</td>\n",
              "      <td>-4.247674e-01</td>\n",
              "      <td>-1.038556e-02</td>\n",
              "      <td>-2.429612e-02</td>\n",
              "      <td>7.480294e-01</td>\n",
              "      <td>1.731609e-01</td>\n",
              "      <td>-4.387873e-01</td>\n",
              "      <td>-4.343370e-01</td>\n",
              "      <td>1.694715e-01</td>\n",
              "      <td>-2.316212e-01</td>\n",
              "      <td>5.194189e-01</td>\n",
              "    </tr>\n",
              "    <tr>\n",
              "      <th>max</th>\n",
              "      <td>2.103039e+06</td>\n",
              "      <td>7.551593e+00</td>\n",
              "      <td>3.431642e+00</td>\n",
              "      <td>9.290667e+00</td>\n",
              "      <td>9.322416e+00</td>\n",
              "      <td>5.953517e+00</td>\n",
              "      <td>7.775190e+00</td>\n",
              "      <td>4.115884e+01</td>\n",
              "      <td>5.145214e+00</td>\n",
              "      <td>6.824934e+00</td>\n",
              "      <td>5.247500e+00</td>\n",
              "      <td>7.249771e+00</td>\n",
              "      <td>1.200053e+01</td>\n",
              "      <td>1.076995e+01</td>\n",
              "      <td>5.646161e+00</td>\n",
              "    </tr>\n",
              "  </tbody>\n",
              "</table>\n",
              "</div>\n",
              "      <button class=\"colab-df-convert\" onclick=\"convertToInteractive('df-c1db25d1-ae82-4e69-8422-0f89eebdad8e')\"\n",
              "              title=\"Convert this dataframe to an interactive table.\"\n",
              "              style=\"display:none;\">\n",
              "        \n",
              "  <svg xmlns=\"http://www.w3.org/2000/svg\" height=\"24px\"viewBox=\"0 0 24 24\"\n",
              "       width=\"24px\">\n",
              "    <path d=\"M0 0h24v24H0V0z\" fill=\"none\"/>\n",
              "    <path d=\"M18.56 5.44l.94 2.06.94-2.06 2.06-.94-2.06-.94-.94-2.06-.94 2.06-2.06.94zm-11 1L8.5 8.5l.94-2.06 2.06-.94-2.06-.94L8.5 2.5l-.94 2.06-2.06.94zm10 10l.94 2.06.94-2.06 2.06-.94-2.06-.94-.94-2.06-.94 2.06-2.06.94z\"/><path d=\"M17.41 7.96l-1.37-1.37c-.4-.4-.92-.59-1.43-.59-.52 0-1.04.2-1.43.59L10.3 9.45l-7.72 7.72c-.78.78-.78 2.05 0 2.83L4 21.41c.39.39.9.59 1.41.59.51 0 1.02-.2 1.41-.59l7.78-7.78 2.81-2.81c.8-.78.8-2.07 0-2.86zM5.41 20L4 18.59l7.72-7.72 1.47 1.35L5.41 20z\"/>\n",
              "  </svg>\n",
              "      </button>\n",
              "      \n",
              "  <style>\n",
              "    .colab-df-container {\n",
              "      display:flex;\n",
              "      flex-wrap:wrap;\n",
              "      gap: 12px;\n",
              "    }\n",
              "\n",
              "    .colab-df-convert {\n",
              "      background-color: #E8F0FE;\n",
              "      border: none;\n",
              "      border-radius: 50%;\n",
              "      cursor: pointer;\n",
              "      display: none;\n",
              "      fill: #1967D2;\n",
              "      height: 32px;\n",
              "      padding: 0 0 0 0;\n",
              "      width: 32px;\n",
              "    }\n",
              "\n",
              "    .colab-df-convert:hover {\n",
              "      background-color: #E2EBFA;\n",
              "      box-shadow: 0px 1px 2px rgba(60, 64, 67, 0.3), 0px 1px 3px 1px rgba(60, 64, 67, 0.15);\n",
              "      fill: #174EA6;\n",
              "    }\n",
              "\n",
              "    [theme=dark] .colab-df-convert {\n",
              "      background-color: #3B4455;\n",
              "      fill: #D2E3FC;\n",
              "    }\n",
              "\n",
              "    [theme=dark] .colab-df-convert:hover {\n",
              "      background-color: #434B5C;\n",
              "      box-shadow: 0px 1px 3px 1px rgba(0, 0, 0, 0.15);\n",
              "      filter: drop-shadow(0px 1px 2px rgba(0, 0, 0, 0.3));\n",
              "      fill: #FFFFFF;\n",
              "    }\n",
              "  </style>\n",
              "\n",
              "      <script>\n",
              "        const buttonEl =\n",
              "          document.querySelector('#df-c1db25d1-ae82-4e69-8422-0f89eebdad8e button.colab-df-convert');\n",
              "        buttonEl.style.display =\n",
              "          google.colab.kernel.accessAllowed ? 'block' : 'none';\n",
              "\n",
              "        async function convertToInteractive(key) {\n",
              "          const element = document.querySelector('#df-c1db25d1-ae82-4e69-8422-0f89eebdad8e');\n",
              "          const dataTable =\n",
              "            await google.colab.kernel.invokeFunction('convertToInteractive',\n",
              "                                                     [key], {});\n",
              "          if (!dataTable) return;\n",
              "\n",
              "          const docLinkHtml = 'Like what you see? Visit the ' +\n",
              "            '<a target=\"_blank\" href=https://colab.research.google.com/notebooks/data_table.ipynb>data table notebook</a>'\n",
              "            + ' to learn more about interactive tables.';\n",
              "          element.innerHTML = '';\n",
              "          dataTable['output_type'] = 'display_data';\n",
              "          await google.colab.output.renderOutput(dataTable, element);\n",
              "          const docLink = document.createElement('div');\n",
              "          docLink.innerHTML = docLinkHtml;\n",
              "          element.appendChild(docLink);\n",
              "        }\n",
              "      </script>\n",
              "    </div>\n",
              "  </div>\n",
              "  "
            ]
          },
          "metadata": {},
          "execution_count": 8
        }
      ],
      "source": [
        "user_profile_df.describe()"
      ]
    },
    {
      "cell_type": "markdown",
      "metadata": {
        "id": "Kgp-YuJTJwYK"
      },
      "source": [
        "The normalized user profile features are:\n"
      ]
    },
    {
      "cell_type": "code",
      "execution_count": 9,
      "metadata": {
        "id": "4RETKkGXJwYM",
        "outputId": "77923119-00ea-47c4-9873-00ad68761e32",
        "colab": {
          "base_uri": "https://localhost:8080/",
          "height": 488
        }
      },
      "outputs": [
        {
          "output_type": "execute_result",
          "data": {
            "text/plain": [
              "       Database    Python  CloudComputing  DataAnalysis  Containers  \\\n",
              "0      6.106474  2.485388        0.961242      8.272010    0.850889   \n",
              "1      4.529980 -0.353377        0.440653      5.120792   -0.424767   \n",
              "2      2.427988  1.066006        4.084776      4.280467   -0.424767   \n",
              "3     -0.462250 -0.826504       -0.600526     -0.341319   -0.424767   \n",
              "4      0.063248 -0.826504       -0.600526      0.078843   -0.424767   \n",
              "...         ...       ...             ...           ...         ...   \n",
              "33896 -0.330876 -0.116813        0.180358      0.499006   -0.424767   \n",
              "33897 -0.724999 -0.826504       -0.079936     -0.761482   -0.424767   \n",
              "33898 -0.330876  0.592878        0.961242     -0.761482   -0.424767   \n",
              "33899 -0.724999 -0.826504       -0.600526     -0.761482   -0.424767   \n",
              "33900 -0.724999 -0.826504       -0.600526     -0.761482   -0.424767   \n",
              "\n",
              "       MachineLearning  ComputerVision  DataScience   BigData   Chatbot  \\\n",
              "0             6.477594       -0.024296     4.571668  5.023412  1.456642   \n",
              "1             2.368540       -0.024296     2.851031  2.667576 -0.438787   \n",
              "2             5.828796       -0.024296     3.233395  1.281790  1.456642   \n",
              "3            -0.659184       -0.024296    -0.972608 -0.381153 -0.438787   \n",
              "4            -0.659184       -0.024296    -0.972608  0.173161 -0.438787   \n",
              "...                ...             ...          ...       ...       ...   \n",
              "33896        -0.659184       -0.024296     0.174484 -0.658311 -0.438787   \n",
              "33897        -0.659184       -0.024296    -0.972608 -0.658311 -0.438787   \n",
              "33898         2.368540       -0.024296     0.748029 -0.658311 -0.438787   \n",
              "33899        -0.226652       -0.024296    -0.972608 -0.658311 -0.438787   \n",
              "33900        -0.226652       -0.024296    -0.972608 -0.658311 -0.438787   \n",
              "\n",
              "              R  BackendDev  FrontendDev  Blockchain  \n",
              "0      7.249771    7.360899     6.369323    2.570116  \n",
              "1      2.127032    0.865416    -0.231621    0.519419  \n",
              "2      5.542191    5.505047     2.702132    2.570116  \n",
              "3     -0.434337   -0.526473    -0.231621   -0.505930  \n",
              "4      0.419453   -0.526473    -0.231621   -0.505930  \n",
              "...         ...         ...          ...         ...  \n",
              "33896  2.127032    0.865416    -0.231621    1.032093  \n",
              "33897 -0.434337   -0.526473    -0.231621   -0.505930  \n",
              "33898  0.846348   -0.526473    -0.231621   -0.505930  \n",
              "33899 -0.434337   -0.526473    -0.231621   -0.505930  \n",
              "33900 -0.434337   -0.526473    -0.231621   -0.505930  \n",
              "\n",
              "[33901 rows x 14 columns]"
            ],
            "text/html": [
              "\n",
              "  <div id=\"df-0d1e461a-cfce-46de-93cc-f6b8227e85f3\">\n",
              "    <div class=\"colab-df-container\">\n",
              "      <div>\n",
              "<style scoped>\n",
              "    .dataframe tbody tr th:only-of-type {\n",
              "        vertical-align: middle;\n",
              "    }\n",
              "\n",
              "    .dataframe tbody tr th {\n",
              "        vertical-align: top;\n",
              "    }\n",
              "\n",
              "    .dataframe thead th {\n",
              "        text-align: right;\n",
              "    }\n",
              "</style>\n",
              "<table border=\"1\" class=\"dataframe\">\n",
              "  <thead>\n",
              "    <tr style=\"text-align: right;\">\n",
              "      <th></th>\n",
              "      <th>Database</th>\n",
              "      <th>Python</th>\n",
              "      <th>CloudComputing</th>\n",
              "      <th>DataAnalysis</th>\n",
              "      <th>Containers</th>\n",
              "      <th>MachineLearning</th>\n",
              "      <th>ComputerVision</th>\n",
              "      <th>DataScience</th>\n",
              "      <th>BigData</th>\n",
              "      <th>Chatbot</th>\n",
              "      <th>R</th>\n",
              "      <th>BackendDev</th>\n",
              "      <th>FrontendDev</th>\n",
              "      <th>Blockchain</th>\n",
              "    </tr>\n",
              "  </thead>\n",
              "  <tbody>\n",
              "    <tr>\n",
              "      <th>0</th>\n",
              "      <td>6.106474</td>\n",
              "      <td>2.485388</td>\n",
              "      <td>0.961242</td>\n",
              "      <td>8.272010</td>\n",
              "      <td>0.850889</td>\n",
              "      <td>6.477594</td>\n",
              "      <td>-0.024296</td>\n",
              "      <td>4.571668</td>\n",
              "      <td>5.023412</td>\n",
              "      <td>1.456642</td>\n",
              "      <td>7.249771</td>\n",
              "      <td>7.360899</td>\n",
              "      <td>6.369323</td>\n",
              "      <td>2.570116</td>\n",
              "    </tr>\n",
              "    <tr>\n",
              "      <th>1</th>\n",
              "      <td>4.529980</td>\n",
              "      <td>-0.353377</td>\n",
              "      <td>0.440653</td>\n",
              "      <td>5.120792</td>\n",
              "      <td>-0.424767</td>\n",
              "      <td>2.368540</td>\n",
              "      <td>-0.024296</td>\n",
              "      <td>2.851031</td>\n",
              "      <td>2.667576</td>\n",
              "      <td>-0.438787</td>\n",
              "      <td>2.127032</td>\n",
              "      <td>0.865416</td>\n",
              "      <td>-0.231621</td>\n",
              "      <td>0.519419</td>\n",
              "    </tr>\n",
              "    <tr>\n",
              "      <th>2</th>\n",
              "      <td>2.427988</td>\n",
              "      <td>1.066006</td>\n",
              "      <td>4.084776</td>\n",
              "      <td>4.280467</td>\n",
              "      <td>-0.424767</td>\n",
              "      <td>5.828796</td>\n",
              "      <td>-0.024296</td>\n",
              "      <td>3.233395</td>\n",
              "      <td>1.281790</td>\n",
              "      <td>1.456642</td>\n",
              "      <td>5.542191</td>\n",
              "      <td>5.505047</td>\n",
              "      <td>2.702132</td>\n",
              "      <td>2.570116</td>\n",
              "    </tr>\n",
              "    <tr>\n",
              "      <th>3</th>\n",
              "      <td>-0.462250</td>\n",
              "      <td>-0.826504</td>\n",
              "      <td>-0.600526</td>\n",
              "      <td>-0.341319</td>\n",
              "      <td>-0.424767</td>\n",
              "      <td>-0.659184</td>\n",
              "      <td>-0.024296</td>\n",
              "      <td>-0.972608</td>\n",
              "      <td>-0.381153</td>\n",
              "      <td>-0.438787</td>\n",
              "      <td>-0.434337</td>\n",
              "      <td>-0.526473</td>\n",
              "      <td>-0.231621</td>\n",
              "      <td>-0.505930</td>\n",
              "    </tr>\n",
              "    <tr>\n",
              "      <th>4</th>\n",
              "      <td>0.063248</td>\n",
              "      <td>-0.826504</td>\n",
              "      <td>-0.600526</td>\n",
              "      <td>0.078843</td>\n",
              "      <td>-0.424767</td>\n",
              "      <td>-0.659184</td>\n",
              "      <td>-0.024296</td>\n",
              "      <td>-0.972608</td>\n",
              "      <td>0.173161</td>\n",
              "      <td>-0.438787</td>\n",
              "      <td>0.419453</td>\n",
              "      <td>-0.526473</td>\n",
              "      <td>-0.231621</td>\n",
              "      <td>-0.505930</td>\n",
              "    </tr>\n",
              "    <tr>\n",
              "      <th>...</th>\n",
              "      <td>...</td>\n",
              "      <td>...</td>\n",
              "      <td>...</td>\n",
              "      <td>...</td>\n",
              "      <td>...</td>\n",
              "      <td>...</td>\n",
              "      <td>...</td>\n",
              "      <td>...</td>\n",
              "      <td>...</td>\n",
              "      <td>...</td>\n",
              "      <td>...</td>\n",
              "      <td>...</td>\n",
              "      <td>...</td>\n",
              "      <td>...</td>\n",
              "    </tr>\n",
              "    <tr>\n",
              "      <th>33896</th>\n",
              "      <td>-0.330876</td>\n",
              "      <td>-0.116813</td>\n",
              "      <td>0.180358</td>\n",
              "      <td>0.499006</td>\n",
              "      <td>-0.424767</td>\n",
              "      <td>-0.659184</td>\n",
              "      <td>-0.024296</td>\n",
              "      <td>0.174484</td>\n",
              "      <td>-0.658311</td>\n",
              "      <td>-0.438787</td>\n",
              "      <td>2.127032</td>\n",
              "      <td>0.865416</td>\n",
              "      <td>-0.231621</td>\n",
              "      <td>1.032093</td>\n",
              "    </tr>\n",
              "    <tr>\n",
              "      <th>33897</th>\n",
              "      <td>-0.724999</td>\n",
              "      <td>-0.826504</td>\n",
              "      <td>-0.079936</td>\n",
              "      <td>-0.761482</td>\n",
              "      <td>-0.424767</td>\n",
              "      <td>-0.659184</td>\n",
              "      <td>-0.024296</td>\n",
              "      <td>-0.972608</td>\n",
              "      <td>-0.658311</td>\n",
              "      <td>-0.438787</td>\n",
              "      <td>-0.434337</td>\n",
              "      <td>-0.526473</td>\n",
              "      <td>-0.231621</td>\n",
              "      <td>-0.505930</td>\n",
              "    </tr>\n",
              "    <tr>\n",
              "      <th>33898</th>\n",
              "      <td>-0.330876</td>\n",
              "      <td>0.592878</td>\n",
              "      <td>0.961242</td>\n",
              "      <td>-0.761482</td>\n",
              "      <td>-0.424767</td>\n",
              "      <td>2.368540</td>\n",
              "      <td>-0.024296</td>\n",
              "      <td>0.748029</td>\n",
              "      <td>-0.658311</td>\n",
              "      <td>-0.438787</td>\n",
              "      <td>0.846348</td>\n",
              "      <td>-0.526473</td>\n",
              "      <td>-0.231621</td>\n",
              "      <td>-0.505930</td>\n",
              "    </tr>\n",
              "    <tr>\n",
              "      <th>33899</th>\n",
              "      <td>-0.724999</td>\n",
              "      <td>-0.826504</td>\n",
              "      <td>-0.600526</td>\n",
              "      <td>-0.761482</td>\n",
              "      <td>-0.424767</td>\n",
              "      <td>-0.226652</td>\n",
              "      <td>-0.024296</td>\n",
              "      <td>-0.972608</td>\n",
              "      <td>-0.658311</td>\n",
              "      <td>-0.438787</td>\n",
              "      <td>-0.434337</td>\n",
              "      <td>-0.526473</td>\n",
              "      <td>-0.231621</td>\n",
              "      <td>-0.505930</td>\n",
              "    </tr>\n",
              "    <tr>\n",
              "      <th>33900</th>\n",
              "      <td>-0.724999</td>\n",
              "      <td>-0.826504</td>\n",
              "      <td>-0.600526</td>\n",
              "      <td>-0.761482</td>\n",
              "      <td>-0.424767</td>\n",
              "      <td>-0.226652</td>\n",
              "      <td>-0.024296</td>\n",
              "      <td>-0.972608</td>\n",
              "      <td>-0.658311</td>\n",
              "      <td>-0.438787</td>\n",
              "      <td>-0.434337</td>\n",
              "      <td>-0.526473</td>\n",
              "      <td>-0.231621</td>\n",
              "      <td>-0.505930</td>\n",
              "    </tr>\n",
              "  </tbody>\n",
              "</table>\n",
              "<p>33901 rows × 14 columns</p>\n",
              "</div>\n",
              "      <button class=\"colab-df-convert\" onclick=\"convertToInteractive('df-0d1e461a-cfce-46de-93cc-f6b8227e85f3')\"\n",
              "              title=\"Convert this dataframe to an interactive table.\"\n",
              "              style=\"display:none;\">\n",
              "        \n",
              "  <svg xmlns=\"http://www.w3.org/2000/svg\" height=\"24px\"viewBox=\"0 0 24 24\"\n",
              "       width=\"24px\">\n",
              "    <path d=\"M0 0h24v24H0V0z\" fill=\"none\"/>\n",
              "    <path d=\"M18.56 5.44l.94 2.06.94-2.06 2.06-.94-2.06-.94-.94-2.06-.94 2.06-2.06.94zm-11 1L8.5 8.5l.94-2.06 2.06-.94-2.06-.94L8.5 2.5l-.94 2.06-2.06.94zm10 10l.94 2.06.94-2.06 2.06-.94-2.06-.94-.94-2.06-.94 2.06-2.06.94z\"/><path d=\"M17.41 7.96l-1.37-1.37c-.4-.4-.92-.59-1.43-.59-.52 0-1.04.2-1.43.59L10.3 9.45l-7.72 7.72c-.78.78-.78 2.05 0 2.83L4 21.41c.39.39.9.59 1.41.59.51 0 1.02-.2 1.41-.59l7.78-7.78 2.81-2.81c.8-.78.8-2.07 0-2.86zM5.41 20L4 18.59l7.72-7.72 1.47 1.35L5.41 20z\"/>\n",
              "  </svg>\n",
              "      </button>\n",
              "      \n",
              "  <style>\n",
              "    .colab-df-container {\n",
              "      display:flex;\n",
              "      flex-wrap:wrap;\n",
              "      gap: 12px;\n",
              "    }\n",
              "\n",
              "    .colab-df-convert {\n",
              "      background-color: #E8F0FE;\n",
              "      border: none;\n",
              "      border-radius: 50%;\n",
              "      cursor: pointer;\n",
              "      display: none;\n",
              "      fill: #1967D2;\n",
              "      height: 32px;\n",
              "      padding: 0 0 0 0;\n",
              "      width: 32px;\n",
              "    }\n",
              "\n",
              "    .colab-df-convert:hover {\n",
              "      background-color: #E2EBFA;\n",
              "      box-shadow: 0px 1px 2px rgba(60, 64, 67, 0.3), 0px 1px 3px 1px rgba(60, 64, 67, 0.15);\n",
              "      fill: #174EA6;\n",
              "    }\n",
              "\n",
              "    [theme=dark] .colab-df-convert {\n",
              "      background-color: #3B4455;\n",
              "      fill: #D2E3FC;\n",
              "    }\n",
              "\n",
              "    [theme=dark] .colab-df-convert:hover {\n",
              "      background-color: #434B5C;\n",
              "      box-shadow: 0px 1px 3px 1px rgba(0, 0, 0, 0.15);\n",
              "      filter: drop-shadow(0px 1px 2px rgba(0, 0, 0, 0.3));\n",
              "      fill: #FFFFFF;\n",
              "    }\n",
              "  </style>\n",
              "\n",
              "      <script>\n",
              "        const buttonEl =\n",
              "          document.querySelector('#df-0d1e461a-cfce-46de-93cc-f6b8227e85f3 button.colab-df-convert');\n",
              "        buttonEl.style.display =\n",
              "          google.colab.kernel.accessAllowed ? 'block' : 'none';\n",
              "\n",
              "        async function convertToInteractive(key) {\n",
              "          const element = document.querySelector('#df-0d1e461a-cfce-46de-93cc-f6b8227e85f3');\n",
              "          const dataTable =\n",
              "            await google.colab.kernel.invokeFunction('convertToInteractive',\n",
              "                                                     [key], {});\n",
              "          if (!dataTable) return;\n",
              "\n",
              "          const docLinkHtml = 'Like what you see? Visit the ' +\n",
              "            '<a target=\"_blank\" href=https://colab.research.google.com/notebooks/data_table.ipynb>data table notebook</a>'\n",
              "            + ' to learn more about interactive tables.';\n",
              "          element.innerHTML = '';\n",
              "          dataTable['output_type'] = 'display_data';\n",
              "          await google.colab.output.renderOutput(dataTable, element);\n",
              "          const docLink = document.createElement('div');\n",
              "          docLink.innerHTML = docLinkHtml;\n",
              "          element.appendChild(docLink);\n",
              "        }\n",
              "      </script>\n",
              "    </div>\n",
              "  </div>\n",
              "  "
            ]
          },
          "metadata": {},
          "execution_count": 9
        }
      ],
      "source": [
        "features = user_profile_df.loc[:, user_profile_df.columns != 'user']\n",
        "features"
      ]
    },
    {
      "cell_type": "markdown",
      "metadata": {
        "id": "-q1u5YyuJwYR"
      },
      "source": [
        "we can also save the user ids for later recommendation tasks:\n"
      ]
    },
    {
      "cell_type": "code",
      "execution_count": 10,
      "metadata": {
        "id": "gM2y6LMyJwYU",
        "outputId": "e3da6784-d6cd-47a7-b74a-59567e301556",
        "colab": {
          "base_uri": "https://localhost:8080/",
          "height": 424
        }
      },
      "outputs": [
        {
          "output_type": "execute_result",
          "data": {
            "text/plain": [
              "          user\n",
              "0            2\n",
              "1            4\n",
              "2            5\n",
              "3            7\n",
              "4            8\n",
              "...        ...\n",
              "33896  2102054\n",
              "33897  2102356\n",
              "33898  2102680\n",
              "33899  2102983\n",
              "33900  2103039\n",
              "\n",
              "[33901 rows x 1 columns]"
            ],
            "text/html": [
              "\n",
              "  <div id=\"df-c30aadf9-0cb6-44ec-9b49-28ed76cfa4d2\">\n",
              "    <div class=\"colab-df-container\">\n",
              "      <div>\n",
              "<style scoped>\n",
              "    .dataframe tbody tr th:only-of-type {\n",
              "        vertical-align: middle;\n",
              "    }\n",
              "\n",
              "    .dataframe tbody tr th {\n",
              "        vertical-align: top;\n",
              "    }\n",
              "\n",
              "    .dataframe thead th {\n",
              "        text-align: right;\n",
              "    }\n",
              "</style>\n",
              "<table border=\"1\" class=\"dataframe\">\n",
              "  <thead>\n",
              "    <tr style=\"text-align: right;\">\n",
              "      <th></th>\n",
              "      <th>user</th>\n",
              "    </tr>\n",
              "  </thead>\n",
              "  <tbody>\n",
              "    <tr>\n",
              "      <th>0</th>\n",
              "      <td>2</td>\n",
              "    </tr>\n",
              "    <tr>\n",
              "      <th>1</th>\n",
              "      <td>4</td>\n",
              "    </tr>\n",
              "    <tr>\n",
              "      <th>2</th>\n",
              "      <td>5</td>\n",
              "    </tr>\n",
              "    <tr>\n",
              "      <th>3</th>\n",
              "      <td>7</td>\n",
              "    </tr>\n",
              "    <tr>\n",
              "      <th>4</th>\n",
              "      <td>8</td>\n",
              "    </tr>\n",
              "    <tr>\n",
              "      <th>...</th>\n",
              "      <td>...</td>\n",
              "    </tr>\n",
              "    <tr>\n",
              "      <th>33896</th>\n",
              "      <td>2102054</td>\n",
              "    </tr>\n",
              "    <tr>\n",
              "      <th>33897</th>\n",
              "      <td>2102356</td>\n",
              "    </tr>\n",
              "    <tr>\n",
              "      <th>33898</th>\n",
              "      <td>2102680</td>\n",
              "    </tr>\n",
              "    <tr>\n",
              "      <th>33899</th>\n",
              "      <td>2102983</td>\n",
              "    </tr>\n",
              "    <tr>\n",
              "      <th>33900</th>\n",
              "      <td>2103039</td>\n",
              "    </tr>\n",
              "  </tbody>\n",
              "</table>\n",
              "<p>33901 rows × 1 columns</p>\n",
              "</div>\n",
              "      <button class=\"colab-df-convert\" onclick=\"convertToInteractive('df-c30aadf9-0cb6-44ec-9b49-28ed76cfa4d2')\"\n",
              "              title=\"Convert this dataframe to an interactive table.\"\n",
              "              style=\"display:none;\">\n",
              "        \n",
              "  <svg xmlns=\"http://www.w3.org/2000/svg\" height=\"24px\"viewBox=\"0 0 24 24\"\n",
              "       width=\"24px\">\n",
              "    <path d=\"M0 0h24v24H0V0z\" fill=\"none\"/>\n",
              "    <path d=\"M18.56 5.44l.94 2.06.94-2.06 2.06-.94-2.06-.94-.94-2.06-.94 2.06-2.06.94zm-11 1L8.5 8.5l.94-2.06 2.06-.94-2.06-.94L8.5 2.5l-.94 2.06-2.06.94zm10 10l.94 2.06.94-2.06 2.06-.94-2.06-.94-.94-2.06-.94 2.06-2.06.94z\"/><path d=\"M17.41 7.96l-1.37-1.37c-.4-.4-.92-.59-1.43-.59-.52 0-1.04.2-1.43.59L10.3 9.45l-7.72 7.72c-.78.78-.78 2.05 0 2.83L4 21.41c.39.39.9.59 1.41.59.51 0 1.02-.2 1.41-.59l7.78-7.78 2.81-2.81c.8-.78.8-2.07 0-2.86zM5.41 20L4 18.59l7.72-7.72 1.47 1.35L5.41 20z\"/>\n",
              "  </svg>\n",
              "      </button>\n",
              "      \n",
              "  <style>\n",
              "    .colab-df-container {\n",
              "      display:flex;\n",
              "      flex-wrap:wrap;\n",
              "      gap: 12px;\n",
              "    }\n",
              "\n",
              "    .colab-df-convert {\n",
              "      background-color: #E8F0FE;\n",
              "      border: none;\n",
              "      border-radius: 50%;\n",
              "      cursor: pointer;\n",
              "      display: none;\n",
              "      fill: #1967D2;\n",
              "      height: 32px;\n",
              "      padding: 0 0 0 0;\n",
              "      width: 32px;\n",
              "    }\n",
              "\n",
              "    .colab-df-convert:hover {\n",
              "      background-color: #E2EBFA;\n",
              "      box-shadow: 0px 1px 2px rgba(60, 64, 67, 0.3), 0px 1px 3px 1px rgba(60, 64, 67, 0.15);\n",
              "      fill: #174EA6;\n",
              "    }\n",
              "\n",
              "    [theme=dark] .colab-df-convert {\n",
              "      background-color: #3B4455;\n",
              "      fill: #D2E3FC;\n",
              "    }\n",
              "\n",
              "    [theme=dark] .colab-df-convert:hover {\n",
              "      background-color: #434B5C;\n",
              "      box-shadow: 0px 1px 3px 1px rgba(0, 0, 0, 0.15);\n",
              "      filter: drop-shadow(0px 1px 2px rgba(0, 0, 0, 0.3));\n",
              "      fill: #FFFFFF;\n",
              "    }\n",
              "  </style>\n",
              "\n",
              "      <script>\n",
              "        const buttonEl =\n",
              "          document.querySelector('#df-c30aadf9-0cb6-44ec-9b49-28ed76cfa4d2 button.colab-df-convert');\n",
              "        buttonEl.style.display =\n",
              "          google.colab.kernel.accessAllowed ? 'block' : 'none';\n",
              "\n",
              "        async function convertToInteractive(key) {\n",
              "          const element = document.querySelector('#df-c30aadf9-0cb6-44ec-9b49-28ed76cfa4d2');\n",
              "          const dataTable =\n",
              "            await google.colab.kernel.invokeFunction('convertToInteractive',\n",
              "                                                     [key], {});\n",
              "          if (!dataTable) return;\n",
              "\n",
              "          const docLinkHtml = 'Like what you see? Visit the ' +\n",
              "            '<a target=\"_blank\" href=https://colab.research.google.com/notebooks/data_table.ipynb>data table notebook</a>'\n",
              "            + ' to learn more about interactive tables.';\n",
              "          element.innerHTML = '';\n",
              "          dataTable['output_type'] = 'display_data';\n",
              "          await google.colab.output.renderOutput(dataTable, element);\n",
              "          const docLink = document.createElement('div');\n",
              "          docLink.innerHTML = docLinkHtml;\n",
              "          element.appendChild(docLink);\n",
              "        }\n",
              "      </script>\n",
              "    </div>\n",
              "  </div>\n",
              "  "
            ]
          },
          "metadata": {},
          "execution_count": 10
        }
      ],
      "source": [
        "user_ids = user_profile_df.loc[:, user_profile_df.columns == 'user']\n",
        "user_ids"
      ]
    },
    {
      "cell_type": "markdown",
      "metadata": {
        "id": "I5CC8pqfJwYZ"
      },
      "source": [
        "### TASK: Perform K-means clustering algorithm on the user profile feature vectors\n"
      ]
    },
    {
      "cell_type": "markdown",
      "metadata": {
        "id": "L74F0FoEJwYc"
      },
      "source": [
        "With the user profile dataset ready, you need to use the `KMeans` class provided by scikit-learn library to perform clustering on the user profile feature vectors.\n"
      ]
    },
    {
      "cell_type": "markdown",
      "metadata": {
        "id": "NPY6nmj2JwYj"
      },
      "source": [
        "For `KMeans` algorithm, one important hyperparameter is the number of clusters `n_cluster`, and a good way to find the optimized `n_cluster` is using to grid search a list of candidates and find the one with the best or optimized clustering evaluation metrics such as minimal `sum of squared distance`:\n"
      ]
    },
    {
      "cell_type": "markdown",
      "metadata": {
        "id": "0gWjWTzPJwYr"
      },
      "source": [
        "*TODO: grid search the optimized n_cluster for KMeans() model*\n"
      ]
    },
    {
      "cell_type": "code",
      "execution_count": 14,
      "metadata": {
        "id": "QQTNebbFJwYs",
        "outputId": "57084bb6-952e-4dd9-f6c4-833782f8de33",
        "colab": {
          "base_uri": "https://localhost:8080/",
          "height": 393
        }
      },
      "outputs": [
        {
          "output_type": "display_data",
          "data": {
            "text/plain": [
              "<Figure size 576x396 with 2 Axes>"
            ],
            "image/png": "[encoded data removed]"
          },
          "metadata": {}
        },
        {
          "output_type": "execute_result",
          "data": {
            "text/plain": [
              "<matplotlib.axes._subplots.AxesSubplot at 0x7fdddddc21d0>"
            ]
          },
          "metadata": {},
          "execution_count": 14
        }
      ],
      "source": [
        "# WRITE YOUR CODE HERE\n",
        "from yellowbrick.cluster import KElbowVisualizer\n",
        "\n",
        "graph = KElbowVisualizer(KMeans(),\n",
        "                         k=(1,30))\n",
        "graph.fit(features)\n",
        "# Find an optimized number of neighors k from a candidate list such as list_k = list(range(1, 30))\n",
        "graph.show()"
      ]
    },
    {
      "cell_type": "markdown",
      "metadata": {
        "id": "reHZnVQQJwYy"
      },
      "source": [
        "If you plot the grid search process, you may get a elbow plot like the following:\n"
      ]
    },
    {
      "cell_type": "markdown",
      "metadata": {
        "id": "cNpIxrJ-JwY0"
      },
      "source": [
        "![](https://cf-courses-data.s3.us.cloud-object-storage.appdomain.cloud/IBM-ML321EN-SkillsNetwork/labs/module\\_3/images/clusters_elbow.png)\n"
      ]
    },
    {
      "cell_type": "markdown",
      "metadata": {
        "id": "wmuVaUV6JwY3"
      },
      "source": [
        "From the elbow plot, you should visualy identify the point where the metric starting to be flatten, which indicates the optimized number of clusters.\n"
      ]
    },
    {
      "cell_type": "markdown",
      "metadata": {
        "id": "WXxbWbjwJwY8"
      },
      "source": [
        "Once you have identified the best number of clusters, you can apply `KMeans()` again to generate cluster label for all users.\n"
      ]
    },
    {
      "cell_type": "code",
      "execution_count": null,
      "metadata": {
        "id": "5E23FH65JwY_"
      },
      "outputs": [],
      "source": [
        "cluster_labels = [None] * len(user_ids)"
      ]
    },
    {
      "cell_type": "markdown",
      "metadata": {
        "id": "7bmxwrM4JwZE"
      },
      "source": [
        "*TODO: Apply KMeans() on the features with optimized n_cluster parameter after model fitting, you can find output cluster labels in `model.labels_` attribute*\n"
      ]
    },
    {
      "cell_type": "code",
      "execution_count": 17,
      "metadata": {
        "colab": {
          "base_uri": "https://localhost:8080/"
        },
        "id": "e78HSsAUJwZG",
        "outputId": "b5327f48-4766-4026-85c6-922280b403fd"
      },
      "outputs": [
        {
          "output_type": "execute_result",
          "data": {
            "text/plain": [
              "array([4, 4, 4, ..., 3, 1, 1], dtype=int32)"
            ]
          },
          "metadata": {},
          "execution_count": 17
        }
      ],
      "source": [
        "## WRITE YOUR CODE HERE\n",
        "model = KMeans(n_clusters=8)\n",
        "model.fit(features)\n",
        "## ...\n",
        "## cluster_labels = model.labels\n",
        "cluster_labels = model.labels_\n",
        "cluster_labels\n",
        "## ...\n"
      ]
    },
    {
      "cell_type": "markdown",
      "metadata": {
        "id": "DoqDmnDVJwZI"
      },
      "source": [
        "The cluster labels you generated is a list of integers indicating cluster indices. You may use the following utility method to combine the cluster labels and user ids to a dataframe, so that you know which cluster a user belongs:\n"
      ]
    },
    {
      "cell_type": "code",
      "execution_count": 18,
      "metadata": {
        "id": "H2mZiux2JwZM"
      },
      "outputs": [],
      "source": [
        "def combine_cluster_labels(user_ids, labels):\n",
        "    labels_df = pd.DataFrame(labels)\n",
        "    cluster_df = pd.merge(user_ids, labels_df, left_index=True, right_index=True)\n",
        "    cluster_df.columns = ['user', 'cluster']\n",
        "    return cluster_df"
      ]
    },
    {
      "cell_type": "markdown",
      "metadata": {
        "id": "pVWtU5ZVJwZN"
      },
      "source": [
        "Your clustering results may look like the following screenshot:\n"
      ]
    },
    {
      "cell_type": "markdown",
      "metadata": {
        "id": "mDQ6wV2xJwZP"
      },
      "source": [
        "![](https://cf-courses-data.s3.us.cloud-object-storage.appdomain.cloud/IBM-ML321EN-SkillsNetwork/labs/module\\_3/images/cluster_labels.png)\n"
      ]
    },
    {
      "cell_type": "code",
      "source": [
        "combine_cluster_labels(user_ids, cluster_labels)"
      ],
      "metadata": {
        "id": "Evya-uTUY9GL",
        "outputId": "e38bbe38-ae48-4a4f-c777-9cae4343cf93",
        "colab": {
          "base_uri": "https://localhost:8080/",
          "height": 424
        }
      },
      "execution_count": 19,
      "outputs": [
        {
          "output_type": "execute_result",
          "data": {
            "text/plain": [
              "          user  cluster\n",
              "0            2        4\n",
              "1            4        4\n",
              "2            5        4\n",
              "3            7        1\n",
              "4            8        1\n",
              "...        ...      ...\n",
              "33896  2102054        3\n",
              "33897  2102356        1\n",
              "33898  2102680        3\n",
              "33899  2102983        1\n",
              "33900  2103039        1\n",
              "\n",
              "[33901 rows x 2 columns]"
            ],
            "text/html": [
              "\n",
              "  <div id=\"df-aa650b80-27f9-45b5-8aa8-c5342cccc319\">\n",
              "    <div class=\"colab-df-container\">\n",
              "      <div>\n",
              "<style scoped>\n",
              "    .dataframe tbody tr th:only-of-type {\n",
              "        vertical-align: middle;\n",
              "    }\n",
              "\n",
              "    .dataframe tbody tr th {\n",
              "        vertical-align: top;\n",
              "    }\n",
              "\n",
              "    .dataframe thead th {\n",
              "        text-align: right;\n",
              "    }\n",
              "</style>\n",
              "<table border=\"1\" class=\"dataframe\">\n",
              "  <thead>\n",
              "    <tr style=\"text-align: right;\">\n",
              "      <th></th>\n",
              "      <th>user</th>\n",
              "      <th>cluster</th>\n",
              "    </tr>\n",
              "  </thead>\n",
              "  <tbody>\n",
              "    <tr>\n",
              "      <th>0</th>\n",
              "      <td>2</td>\n",
              "      <td>4</td>\n",
              "    </tr>\n",
              "    <tr>\n",
              "      <th>1</th>\n",
              "      <td>4</td>\n",
              "      <td>4</td>\n",
              "    </tr>\n",
              "    <tr>\n",
              "      <th>2</th>\n",
              "      <td>5</td>\n",
              "      <td>4</td>\n",
              "    </tr>\n",
              "    <tr>\n",
              "      <th>3</th>\n",
              "      <td>7</td>\n",
              "      <td>1</td>\n",
              "    </tr>\n",
              "    <tr>\n",
              "      <th>4</th>\n",
              "      <td>8</td>\n",
              "      <td>1</td>\n",
              "    </tr>\n",
              "    <tr>\n",
              "      <th>...</th>\n",
              "      <td>...</td>\n",
              "      <td>...</td>\n",
              "    </tr>\n",
              "    <tr>\n",
              "      <th>33896</th>\n",
              "      <td>2102054</td>\n",
              "      <td>3</td>\n",
              "    </tr>\n",
              "    <tr>\n",
              "      <th>33897</th>\n",
              "      <td>2102356</td>\n",
              "      <td>1</td>\n",
              "    </tr>\n",
              "    <tr>\n",
              "      <th>33898</th>\n",
              "      <td>2102680</td>\n",
              "      <td>3</td>\n",
              "    </tr>\n",
              "    <tr>\n",
              "      <th>33899</th>\n",
              "      <td>2102983</td>\n",
              "      <td>1</td>\n",
              "    </tr>\n",
              "    <tr>\n",
              "      <th>33900</th>\n",
              "      <td>2103039</td>\n",
              "      <td>1</td>\n",
              "    </tr>\n",
              "  </tbody>\n",
              "</table>\n",
              "<p>33901 rows × 2 columns</p>\n",
              "</div>\n",
              "      <button class=\"colab-df-convert\" onclick=\"convertToInteractive('df-aa650b80-27f9-45b5-8aa8-c5342cccc319')\"\n",
              "              title=\"Convert this dataframe to an interactive table.\"\n",
              "              style=\"display:none;\">\n",
              "        \n",
              "  <svg xmlns=\"http://www.w3.org/2000/svg\" height=\"24px\"viewBox=\"0 0 24 24\"\n",
              "       width=\"24px\">\n",
              "    <path d=\"M0 0h24v24H0V0z\" fill=\"none\"/>\n",
              "    <path d=\"M18.56 5.44l.94 2.06.94-2.06 2.06-.94-2.06-.94-.94-2.06-.94 2.06-2.06.94zm-11 1L8.5 8.5l.94-2.06 2.06-.94-2.06-.94L8.5 2.5l-.94 2.06-2.06.94zm10 10l.94 2.06.94-2.06 2.06-.94-2.06-.94-.94-2.06-.94 2.06-2.06.94z\"/><path d=\"M17.41 7.96l-1.37-1.37c-.4-.4-.92-.59-1.43-.59-.52 0-1.04.2-1.43.59L10.3 9.45l-7.72 7.72c-.78.78-.78 2.05 0 2.83L4 21.41c.39.39.9.59 1.41.59.51 0 1.02-.2 1.41-.59l7.78-7.78 2.81-2.81c.8-.78.8-2.07 0-2.86zM5.41 20L4 18.59l7.72-7.72 1.47 1.35L5.41 20z\"/>\n",
              "  </svg>\n",
              "      </button>\n",
              "      \n",
              "  <style>\n",
              "    .colab-df-container {\n",
              "      display:flex;\n",
              "      flex-wrap:wrap;\n",
              "      gap: 12px;\n",
              "    }\n",
              "\n",
              "    .colab-df-convert {\n",
              "      background-color: #E8F0FE;\n",
              "      border: none;\n",
              "      border-radius: 50%;\n",
              "      cursor: pointer;\n",
              "      display: none;\n",
              "      fill: #1967D2;\n",
              "      height: 32px;\n",
              "      padding: 0 0 0 0;\n",
              "      width: 32px;\n",
              "    }\n",
              "\n",
              "    .colab-df-convert:hover {\n",
              "      background-color: #E2EBFA;\n",
              "      box-shadow: 0px 1px 2px rgba(60, 64, 67, 0.3), 0px 1px 3px 1px rgba(60, 64, 67, 0.15);\n",
              "      fill: #174EA6;\n",
              "    }\n",
              "\n",
              "    [theme=dark] .colab-df-convert {\n",
              "      background-color: #3B4455;\n",
              "      fill: #D2E3FC;\n",
              "    }\n",
              "\n",
              "    [theme=dark] .colab-df-convert:hover {\n",
              "      background-color: #434B5C;\n",
              "      box-shadow: 0px 1px 3px 1px rgba(0, 0, 0, 0.15);\n",
              "      filter: drop-shadow(0px 1px 2px rgba(0, 0, 0, 0.3));\n",
              "      fill: #FFFFFF;\n",
              "    }\n",
              "  </style>\n",
              "\n",
              "      <script>\n",
              "        const buttonEl =\n",
              "          document.querySelector('#df-aa650b80-27f9-45b5-8aa8-c5342cccc319 button.colab-df-convert');\n",
              "        buttonEl.style.display =\n",
              "          google.colab.kernel.accessAllowed ? 'block' : 'none';\n",
              "\n",
              "        async function convertToInteractive(key) {\n",
              "          const element = document.querySelector('#df-aa650b80-27f9-45b5-8aa8-c5342cccc319');\n",
              "          const dataTable =\n",
              "            await google.colab.kernel.invokeFunction('convertToInteractive',\n",
              "                                                     [key], {});\n",
              "          if (!dataTable) return;\n",
              "\n",
              "          const docLinkHtml = 'Like what you see? Visit the ' +\n",
              "            '<a target=\"_blank\" href=https://colab.research.google.com/notebooks/data_table.ipynb>data table notebook</a>'\n",
              "            + ' to learn more about interactive tables.';\n",
              "          element.innerHTML = '';\n",
              "          dataTable['output_type'] = 'display_data';\n",
              "          await google.colab.output.renderOutput(dataTable, element);\n",
              "          const docLink = document.createElement('div');\n",
              "          docLink.innerHTML = docLinkHtml;\n",
              "          element.appendChild(docLink);\n",
              "        }\n",
              "      </script>\n",
              "    </div>\n",
              "  </div>\n",
              "  "
            ]
          },
          "metadata": {},
          "execution_count": 19
        }
      ]
    },
    {
      "cell_type": "markdown",
      "metadata": {
        "id": "_Eu4pXoUJwZU"
      },
      "source": [
        "Now, each user finds its own cluster or we can say we have created many clusters of learning communities. Learners within each community share very similar learning interests.\n"
      ]
    },
    {
      "cell_type": "markdown",
      "metadata": {
        "id": "oOkkfTaaJwZW"
      },
      "source": [
        "### TASK: Apply PCA on user profile feature vectors to reduce dimensions\n"
      ]
    },
    {
      "cell_type": "markdown",
      "metadata": {
        "id": "CMS2Z9nnJwZb"
      },
      "source": [
        "In the previous step, we applied `KMeans` on the original user profile feature vectors which have 14 original features (the course genres).\n"
      ]
    },
    {
      "cell_type": "code",
      "execution_count": 20,
      "metadata": {
        "id": "mk8Piio1JwZd"
      },
      "outputs": [],
      "source": [
        "features = user_profile_df.loc[:, user_profile_df.columns != 'user']\n",
        "user_ids = user_profile_df.loc[:, user_profile_df.columns == 'user']\n",
        "feature_names = list(user_profile_df.columns[1:])"
      ]
    },
    {
      "cell_type": "code",
      "execution_count": 21,
      "metadata": {
        "id": "JuI9_aPjJwZf",
        "outputId": "350e1a77-655a-4617-e0a7-d9cee7fc7720",
        "colab": {
          "base_uri": "https://localhost:8080/"
        }
      },
      "outputs": [
        {
          "output_type": "stream",
          "name": "stdout",
          "text": [
            "There are 14 features for each user profile.\n"
          ]
        }
      ],
      "source": [
        "print(f\"There are {len(feature_names)} features for each user profile.\")"
      ]
    },
    {
      "cell_type": "markdown",
      "metadata": {
        "id": "6VhjeohlJwZj"
      },
      "source": [
        "If we plot a covariance matrix of the user profile feature vectors with 14 features, we can observe that some features are actually correlated:\n"
      ]
    },
    {
      "cell_type": "code",
      "execution_count": 22,
      "metadata": {
        "id": "543ry4NWJwZs",
        "outputId": "b55fe49c-5408-41e1-ab26-195e9999d045",
        "colab": {
          "base_uri": "https://localhost:8080/",
          "height": 628
        }
      },
      "outputs": [
        {
          "output_type": "display_data",
          "data": {
            "text/plain": [
              "<Figure size 792x648 with 2 Axes>"
            ],
            "image/png": "[encoded data removed]"
          },
          "metadata": {}
        }
      ],
      "source": [
        "sns.set_theme(style=\"white\")\n",
        "\n",
        "# Compute the correlation matrix\n",
        "corr = features.cov()\n",
        "\n",
        "# Generate a mask for the upper triangle\n",
        "mask = np.triu(np.ones_like(corr, dtype=bool))\n",
        "\n",
        "# Set up the matplotlib figure\n",
        "f, ax = plt.subplots(figsize=(11, 9))\n",
        "\n",
        "# Generate a custom diverging colormap\n",
        "cmap = sns.diverging_palette(230, 20, as_cmap=True)\n",
        "\n",
        "# Draw the heatmap with the mask and correct aspect ratio\n",
        "sns.heatmap(corr, mask=mask, cmap=cmap, vmax=.3, center=0,\n",
        "            square=True, linewidths=.5, cbar_kws={\"shrink\": .5})\n",
        "\n",
        "\n",
        "plt.show()"
      ]
    },
    {
      "cell_type": "markdown",
      "metadata": {
        "id": "1UF8MgDIJwZv"
      },
      "source": [
        "For example, the feature `MachineLearning` and the feature `DataScience` are correlated. Such covariances among features may indicate that we can apply PCA to find its main components (eigenvectors with max eigenvalues on the covariance matrix).\n",
        "\n",
        "If we only keep the independent main components, then we can reduce the dimensions of our user profile feature vectors.\n"
      ]
    },
    {
      "cell_type": "markdown",
      "metadata": {
        "id": "jRQiLptYJwZx"
      },
      "source": [
        "Now let's apply the `PCA()` provided by  `scikit-learn` to find the main components in user profile feature vectors and see if we can reduce its dimensions by only keeping the main components.\n"
      ]
    },
    {
      "cell_type": "markdown",
      "metadata": {
        "id": "eI86E400JwZ3"
      },
      "source": [
        "Note that when calling the  `PCA()` class, there is also an import argument called `n_components` which indicates how many components you want to keep in the PCA result. One way to find an optimized `n_components` is to do a grid search on a list of argument candidates (such as `range(1, 15)`) and calculate the ratio of the accumulated variance for each candidate.\n",
        "\n",
        "If the accumulated variances ratio of a candidate `n_components` is larger than a threshold, e.g., 90%, then we can say the transformed `n_components` could explain about 90% of variances of the original data variance and can be considered as an optimized components size.\n"
      ]
    },
    {
      "cell_type": "markdown",
      "metadata": {
        "id": "R9v3YipJJwZ4"
      },
      "source": [
        "*TODO: Find the optimized `n_components` for PCA*\n"
      ]
    },
    {
      "cell_type": "code",
      "execution_count": 28,
      "metadata": {
        "id": "kH3oTSt0JwZ6",
        "outputId": "f46a92ec-78a2-4b3d-8dc5-3ac4ee64ec67",
        "colab": {
          "base_uri": "https://localhost:8080/"
        }
      },
      "outputs": [
        {
          "output_type": "execute_result",
          "data": {
            "text/plain": [
              "{1: 0.2875684338769968,\n",
              " 2: 0.4630925644813565,\n",
              " 3: 0.5761339643675615,\n",
              " 4: 0.6487465627832352,\n",
              " 5: 0.7194878762997211,\n",
              " 6: 0.7882103410314054,\n",
              " 7: 0.8429558465572844,\n",
              " 8: 0.8944445500368903,\n",
              " 9: 0.9272695591307684,\n",
              " 10: 0.9544658170614698,\n",
              " 11: 0.9733572103164774,\n",
              " 12: 0.9870310843021105,\n",
              " 13: 0.997916316661769,\n",
              " 14: 0.9999999999999999}"
            ]
          },
          "metadata": {},
          "execution_count": 28
        }
      ],
      "source": [
        "# WRITE YOUR CODE HERE\n",
        "score = {}\n",
        "for k in range(1,15):\n",
        "  model = PCA(n_components=k)\n",
        "  model.fit(features)\n",
        "  s = model.explained_variance_ratio_\n",
        "  score[k] = np.sum(s)\n",
        "# - For a list of candidate `n_components` arguments such as 1 to 14, find out the minimal `n` that can explain accumulated 90% variances of previous data\n",
        "# - In the fitted PCA() model, you can find explained_variance_ratio_ and use the sum() function to add them to get the accumulated variance ratio\n",
        "score"
      ]
    },
    {
      "cell_type": "code",
      "source": [
        "plt.bar(range(len(score)), list(score.values()), align='center')\n",
        "plt.xticks(range(len(score)), list(score.keys()))\n",
        "plt.axhline(y=0.9, color='r', linestyle='-')\n",
        "plt.xlabel('n_components')\n",
        "plt.ylabel('explained variance')"
      ],
      "metadata": {
        "id": "eEa7mretdMkL",
        "outputId": "2ed53dcd-c1de-4582-906b-0547fc25789e",
        "colab": {
          "base_uri": "https://localhost:8080/",
          "height": 387
        }
      },
      "execution_count": 38,
      "outputs": [
        {
          "output_type": "execute_result",
          "data": {
            "text/plain": [
              "Text(0, 0.5, 'explained variance')"
            ]
          },
          "metadata": {},
          "execution_count": 38
        },
        {
          "output_type": "display_data",
          "data": {
            "text/plain": [
              "<Figure size 576x396 with 1 Axes>"
            ],
            "image/png": "[encoded data removed]"
          },
          "metadata": {}
        }
      ]
    },
    {
      "cell_type": "markdown",
      "metadata": {
        "id": "CnltlJ1JJwZ7"
      },
      "source": [
        "If you visualize your hyperparameter searching process, you may get a trend line like the following:\n"
      ]
    },
    {
      "cell_type": "markdown",
      "metadata": {
        "id": "g8DTfWy3JwZ9"
      },
      "source": [
        "![](https://cf-courses-data.s3.us.cloud-object-storage.appdomain.cloud/IBM-ML321EN-SkillsNetwork/labs/module\\_3/images/pca.png)\n"
      ]
    },
    {
      "cell_type": "markdown",
      "metadata": {
        "id": "kq2yd8LRJwZ_"
      },
      "source": [
        "Once you found the optimized `n_component` argument value, you can apply PCA on the user profile feature vectors and reduce the  14 features into  `n_component` features.\n"
      ]
    },
    {
      "cell_type": "markdown",
      "metadata": {
        "id": "S3uxgQI2JwaB"
      },
      "source": [
        "*TODO: Perform PCA to transform original user profile features*\n"
      ]
    },
    {
      "cell_type": "code",
      "execution_count": null,
      "metadata": {
        "id": "MvjqSxA3JwaC"
      },
      "outputs": [],
      "source": [
        "*# WRITE YOUR CODE HERE\n",
        "\n",
        "# - For a list of candidate `n_components` arguments such as 1 to 14, find out the minimal `n` that can explain accumulated 90% variances of previous data\n",
        "# - In the fitted PCA() model, you can find explained_variance_ratio_ and use the sum() function to add them to get the accumulated variance ratio\n",
        "# - Merge the user ids and transformed features into a new dataframe\n",
        "\n"
      ]
    },
    {
      "cell_type": "markdown",
      "metadata": {
        "id": "MRz94r7CJwaG"
      },
      "source": [
        "Your PCA transformed dataframe may look like the following:\n"
      ]
    },
    {
      "cell_type": "markdown",
      "metadata": {
        "id": "AbPgz48YJwaI"
      },
      "source": [
        "![](https://cf-courses-data.s3.us.cloud-object-storage.appdomain.cloud/IBM-ML321EN-SkillsNetwork/labs/module\\_3/images/pca_res.png)\n"
      ]
    },
    {
      "cell_type": "markdown",
      "metadata": {
        "id": "9OCXVStHJwaL"
      },
      "source": [
        "### TASK: Perform k-means clustering on the PCA transformed feature vectors\n"
      ]
    },
    {
      "cell_type": "markdown",
      "metadata": {
        "id": "Hg9vzl2XJwaN"
      },
      "source": [
        "Now, you have the PCA  components of the original profile vectors. You can perform k-means on them again:\n"
      ]
    },
    {
      "cell_type": "markdown",
      "metadata": {
        "id": "0xbZmJUBJwaP"
      },
      "source": [
        "*TODO: Perform K-means on the PCA transformed features*\n"
      ]
    },
    {
      "cell_type": "code",
      "execution_count": null,
      "metadata": {
        "id": "HJ8kSrH_JwaS"
      },
      "outputs": [],
      "source": [
        "## WRITE YOUR CODE HERE\n",
        "\n",
        "## - Apply KMeans() on the PCA features\n",
        "## - Obtain the cluster label lists from model.labels_ attribute\n",
        "## - Assign each user a cluster label by combining user ids and cluster labels\n"
      ]
    },
    {
      "cell_type": "markdown",
      "metadata": {
        "id": "tZVKiuuBJwaU"
      },
      "source": [
        "Your clustering results should have the same format as the k-means on the original dataset:\n"
      ]
    },
    {
      "cell_type": "markdown",
      "metadata": {
        "id": "JppnMQt8JwaV"
      },
      "source": [
        "![](https://cf-courses-data.s3.us.cloud-object-storage.appdomain.cloud/IBM-ML321EN-SkillsNetwork/labs/module\\_3/images/cluster_labels.png)\n"
      ]
    },
    {
      "cell_type": "markdown",
      "metadata": {
        "id": "ZzHKWje7JwaX"
      },
      "source": [
        "Great, now all users find their learning interest groups, either based on their original or the PCA transformed user profile features.\n"
      ]
    },
    {
      "cell_type": "markdown",
      "metadata": {
        "id": "3ZP-gfYrJwak"
      },
      "source": [
        "When a user is in a group or a community, it is very likely that the user will be interested in the courses enrolled by other members within the same group.\n"
      ]
    },
    {
      "cell_type": "markdown",
      "metadata": {
        "id": "eEVIluOiJwal"
      },
      "source": [
        "### TASK: Generate course recommendations based on the popular courses in the same cluster\n"
      ]
    },
    {
      "cell_type": "markdown",
      "metadata": {
        "id": "YlL6KxPlJwam"
      },
      "source": [
        "The Intuition of clustering-based course recommendation is very simple and can be illustrated via the following example:\n"
      ]
    },
    {
      "cell_type": "markdown",
      "metadata": {
        "id": "ZQCSFLfoJwan"
      },
      "source": [
        "Suppose a user has joined a machine learning group (via clustering algorithm). In the group, he/she finds that the top-3 courses enrolled by all other group members are `Machine Learning for Everyone`, `Machine Learning with Python`, `Machine Learning with Scikit-learn`. Since the user has already completed the `Machine Learning for Everyone` earlier, he/she decides to trust the group members' choices and enroll in other two unselected courses `Machine Learning with Python` and `Machine Learning with Scikit-learn`.\n"
      ]
    },
    {
      "cell_type": "markdown",
      "metadata": {
        "id": "KwcPLs2vJwap"
      },
      "source": [
        "In summary, the clustering-based recommender system first groups all users based on their profiles, and maintains a popular courses list for each group.\n",
        "\n",
        "For any group member who needs course recommendations, the algorithm recommends the unselected courses from the popular course lists.\n"
      ]
    },
    {
      "cell_type": "markdown",
      "metadata": {
        "id": "SjPZONHfJwar"
      },
      "source": [
        "Next, suppose we have a set of test users, and we want to recommend new courses to them using a clustering-based recommender system:\n"
      ]
    },
    {
      "cell_type": "code",
      "execution_count": null,
      "metadata": {
        "id": "uPKBdL3VJwas",
        "outputId": "525b9ca1-ebff-473a-cc47-e9e207ee3ea1"
      },
      "outputs": [
        {
          "data": {
            "text/html": [
              "<div>\n",
              "<style scoped>\n",
              "    .dataframe tbody tr th:only-of-type {\n",
              "        vertical-align: middle;\n",
              "    }\n",
              "\n",
              "    .dataframe tbody tr th {\n",
              "        vertical-align: top;\n",
              "    }\n",
              "\n",
              "    .dataframe thead th {\n",
              "        text-align: right;\n",
              "    }\n",
              "</style>\n",
              "<table border=\"1\" class=\"dataframe\">\n",
              "  <thead>\n",
              "    <tr style=\"text-align: right;\">\n",
              "      <th></th>\n",
              "      <th>user</th>\n",
              "      <th>item</th>\n",
              "    </tr>\n",
              "  </thead>\n",
              "  <tbody>\n",
              "    <tr>\n",
              "      <th>0</th>\n",
              "      <td>1502801</td>\n",
              "      <td>RP0105EN</td>\n",
              "    </tr>\n",
              "    <tr>\n",
              "      <th>1</th>\n",
              "      <td>1609720</td>\n",
              "      <td>CNSC02EN</td>\n",
              "    </tr>\n",
              "    <tr>\n",
              "      <th>2</th>\n",
              "      <td>1347188</td>\n",
              "      <td>CO0301EN</td>\n",
              "    </tr>\n",
              "    <tr>\n",
              "      <th>3</th>\n",
              "      <td>755067</td>\n",
              "      <td>ML0103EN</td>\n",
              "    </tr>\n",
              "    <tr>\n",
              "      <th>4</th>\n",
              "      <td>538595</td>\n",
              "      <td>BD0115EN</td>\n",
              "    </tr>\n",
              "  </tbody>\n",
              "</table>\n",
              "</div>"
            ],
            "text/plain": [
              "      user      item\n",
              "0  1502801  RP0105EN\n",
              "1  1609720  CNSC02EN\n",
              "2  1347188  CO0301EN\n",
              "3   755067  ML0103EN\n",
              "4   538595  BD0115EN"
            ]
          },
          "execution_count": 22,
          "metadata": {},
          "output_type": "execute_result"
        }
      ],
      "source": [
        "test_user_url = \"https://cf-courses-data.s3.us.cloud-object-storage.appdomain.cloud/IBM-ML321EN-SkillsNetwork/labs/datasets/rs_content_test.csv\"\n",
        "test_users_df = pd.read_csv(test_user_url)[['user', 'item']]\n",
        "test_users_df.head()"
      ]
    },
    {
      "cell_type": "markdown",
      "metadata": {
        "id": "hTLddxPEJwaw"
      },
      "source": [
        "The test users dataset has only two columns, the user id and the enrolled course id.\n"
      ]
    },
    {
      "cell_type": "markdown",
      "metadata": {
        "id": "93VHFhc6Jwax"
      },
      "source": [
        "For each user, let's find its cluster label using the k-means results you have performed in previous steps, assuming it is named `cluster_df`.\n"
      ]
    },
    {
      "cell_type": "markdown",
      "metadata": {
        "id": "iDFImtFuJway"
      },
      "source": [
        "You can assign the cluster label to all test users via merging the clustering labels (`cluster_df`:):\n"
      ]
    },
    {
      "cell_type": "code",
      "execution_count": null,
      "metadata": {
        "id": "J6VbJE4VJwaz"
      },
      "outputs": [],
      "source": [
        "# test_users_labelled = pd.merge(test_users_df, cluster_df, left_on='user', right_on='user')"
      ]
    },
    {
      "cell_type": "markdown",
      "metadata": {
        "id": "__atNHSHJwa0"
      },
      "source": [
        "The merged the test dataset may look like the following:\n"
      ]
    },
    {
      "cell_type": "markdown",
      "metadata": {
        "id": "We1mb8d5Jwa1"
      },
      "source": [
        "![](https://cf-courses-data.s3.us.cloud-object-storage.appdomain.cloud/IBM-ML321EN-SkillsNetwork/labs/module\\_3/images/test_users_label.png)\n"
      ]
    },
    {
      "cell_type": "code",
      "execution_count": null,
      "metadata": {
        "id": "QvZDhz5WJwa2",
        "outputId": "a765c58f-8a96-414e-891b-834abc9e4e34"
      },
      "outputs": [
        {
          "ename": "SyntaxError",
          "evalue": "invalid syntax (<ipython-input-24-a8b73e091039>, line 1)",
          "output_type": "error",
          "traceback": [
            "\u001b[0;36m  File \u001b[0;32m\"<ipython-input-24-a8b73e091039>\"\u001b[0;36m, line \u001b[0;32m1\u001b[0m\n\u001b[0;31m    From the above dataframe, we know each user's enrolled courses and its cluster index.\u001b[0m\n\u001b[0m         ^\u001b[0m\n\u001b[0;31mSyntaxError\u001b[0m\u001b[0;31m:\u001b[0m invalid syntax\n"
          ]
        }
      ],
      "source": [
        "From the above dataframe, we know each user's enrolled courses and its cluster index."
      ]
    },
    {
      "cell_type": "markdown",
      "metadata": {
        "id": "a8gCKqWnJwa4"
      },
      "source": [
        "If we use a `groupby`  and `sum` aggregation, we can get the enrollments count for each course in each group, like the following code snippet:\n"
      ]
    },
    {
      "cell_type": "code",
      "execution_count": null,
      "metadata": {
        "id": "G6EbzPUzJwa6"
      },
      "outputs": [],
      "source": [
        "'''\n",
        "courses_cluster = test_users_labelled[['item', 'cluster']]\n",
        "courses_cluster['count'] = [1] * len(courses_cluster)\n",
        "courses_cluster.groupby(['cluster','item']).agg(enrollments = ('count','sum')).reset_index()\n",
        "'''"
      ]
    },
    {
      "cell_type": "markdown",
      "metadata": {
        "id": "pHaQvjt7Jwa9"
      },
      "source": [
        "*TODO: For each test user, try to recommend any unseen courses based on the popular courses in his/her cluster. You may use an enrollment count threshold (such as larger than 10) to determine if it is a popular course in the cluster*\n"
      ]
    },
    {
      "cell_type": "code",
      "execution_count": null,
      "metadata": {
        "id": "thhPuRMBJwa_"
      },
      "outputs": [],
      "source": [
        "## WRITE YOUR CODE HERE\n",
        "\n",
        "## - For each user, first finds its cluster label\n",
        "\n",
        "    ## - First get all courses belonging to the same cluster and figure out what are the popular ones (such as course enrollments beyond a threshold like 100)\n",
        "    \n",
        "    ## - Get the user's current enrolled courses\n",
        "    \n",
        "    ## - Check if there are any courses on the popular course list which are new/unseen to the user. \n",
        "    \n",
        "    ## If yes, make those unseen and popular courses as recommendation results for the user\n"
      ]
    },
    {
      "cell_type": "markdown",
      "metadata": {
        "id": "fBhOY-4JJwbB"
      },
      "source": [
        "With the recommendation results, you also need to write some analytic code to answer the following two questions:\n"
      ]
    },
    {
      "cell_type": "markdown",
      "metadata": {
        "id": "pFnnn1jRJwbD"
      },
      "source": [
        "*   On average, how many new/unseen courses have been recommended to each user?\n",
        "*   What are the most frequently recommended courses? Return the top-10 commonly recommended courses across all users.\n"
      ]
    },
    {
      "cell_type": "markdown",
      "metadata": {
        "id": "TdSaGf-7JwbE"
      },
      "source": [
        "For example, suppose we have only 3 test users, each user receives the following recommendations:\n"
      ]
    },
    {
      "cell_type": "markdown",
      "metadata": {
        "id": "cemtlKMJJwbF"
      },
      "source": [
        "*   User1: \\['course1', 'course2']\n",
        "*   User2: \\['course3', 'course4']\n",
        "*   User3: \\['course3', 'course4', 'course5']\n"
      ]
    },
    {
      "cell_type": "markdown",
      "metadata": {
        "id": "gPg2aU99JwbI"
      },
      "source": [
        "Then, the average recommended courses per user is $(2 + 2 + 3) / 3 = 2.33$. The top-2 recommended courses are: `course3`: 2 times, and `course4`: 2 times.\n"
      ]
    },
    {
      "cell_type": "markdown",
      "metadata": {
        "id": "q2af4998JwbM"
      },
      "source": [
        "Note that the answers will depend on how you compute the popular courses for each cluster. A lower threshold yields more recommended courses but with smaller confidence so that some test users may receive very long course recommendation lists and feel overwhelmed.\n",
        "\n",
        "Ideally, we should limit the maximum course recommendations for each user to be less than 20 courses per user.\n"
      ]
    },
    {
      "cell_type": "markdown",
      "metadata": {
        "id": "yRi4ux_BJwbO"
      },
      "source": [
        "### Explore other clustering algorithms\n"
      ]
    },
    {
      "cell_type": "markdown",
      "metadata": {
        "id": "fgptbsAPJwbT"
      },
      "source": [
        "As you have learned in previous unsupervised learning course, there are many other clustering algorithms such as `DBSCAN` and `Hierarchical Clustering`. You are encouraged to try them on the user profile feature vectors and compare the results with K-means.\n"
      ]
    },
    {
      "cell_type": "markdown",
      "metadata": {
        "id": "mOBMcyamJwbU"
      },
      "source": [
        "### Summary\n"
      ]
    },
    {
      "cell_type": "markdown",
      "metadata": {
        "id": "3om9uT0yJwbV"
      },
      "source": [
        "Congratulations! In this lab, you have applied clustering algorithms to group users with similar interests and also tried PCA to reduce the dimensions of user feature vectors.\n",
        "\n",
        "Furthermore, with each user finding its learning interest group, you have also implemented clustering-based course recommender system to make recommendations based on his/her group members' popular courses choices.\n"
      ]
    },
    {
      "cell_type": "markdown",
      "metadata": {
        "id": "6fInPgpiJwbY"
      },
      "source": [
        "## Authors\n"
      ]
    },
    {
      "cell_type": "markdown",
      "metadata": {
        "id": "FZx0ddM0Jwbd"
      },
      "source": [
        "[Yan Luo](https://www.linkedin.com/in/yan-luo-96288783/?utm_medium=Exinfluencer&utm_source=Exinfluencer&utm_content=000026UJ&utm_term=10006555&utm_id=NA-SkillsNetwork-Channel-SkillsNetworkCoursesIBMML321ENSkillsNetwork32585014-2022-01-01)\n"
      ]
    },
    {
      "cell_type": "markdown",
      "metadata": {
        "id": "h_etDxMLJwbh"
      },
      "source": [
        "### Other Contributors\n"
      ]
    },
    {
      "cell_type": "markdown",
      "metadata": {
        "id": "dZvmMTgAJwbi"
      },
      "source": [
        "## Change Log\n"
      ]
    },
    {
      "cell_type": "markdown",
      "metadata": {
        "id": "sdZAxJs_Jwbj"
      },
      "source": [
        "| Date (YYYY-MM-DD) | Version | Changed By | Change Description          |\n",
        "| ----------------- | ------- | ---------- | --------------------------- |\n",
        "| 2021-10-25        | 1.0     | Yan        | Created the initial version |\n"
      ]
    },
    {
      "cell_type": "markdown",
      "metadata": {
        "id": "u-wsxJ5DJwbo"
      },
      "source": [
        "Copyright © 2021 IBM Corporation. All rights reserved.\n"
      ]
    }
  ],
  "metadata": {
    "kernelspec": {
      "display_name": "Python 3",
      "language": "python",
      "name": "python3"
    },
    "language_info": {
      "codemirror_mode": {
        "name": "ipython",
        "version": 3
      },
      "file_extension": ".py",
      "mimetype": "text/x-python",
      "name": "python",
      "nbconvert_exporter": "python",
      "pygments_lexer": "ipython3",
      "version": "3.8.8"
    },
    "colab": {
      "provenance": [],
      "toc_visible": true
    }
  },
  "nbformat": 4,
  "nbformat_minor": 0
}