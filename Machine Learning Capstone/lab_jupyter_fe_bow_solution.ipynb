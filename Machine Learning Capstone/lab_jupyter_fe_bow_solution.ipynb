{
  "cells": [
    {
      "cell_type": "markdown",
      "metadata": {
        "id": "view-in-github",
        "colab_type": "text"
      },
      "source": [
        "<a href=\"https://colab.research.google.com/github/mzaoualim/Coursera_IBM_Machine_Learning_Professional_Certificate/blob/main/Machine%20Learning%20Capstone/lab_jupyter_fe_bow_solution.ipynb\" target=\"_parent\"><img src=\"https://colab.research.google.com/assets/colab-badge.svg\" alt=\"Open In Colab\"/></a>"
      ]
    },
    {
      "cell_type": "markdown",
      "metadata": {
        "id": "4bov5Lhy5Qrs"
      },
      "source": [
        "<p style=\"text-align:center\">\n",
        "    <a href=\"https://skills.network/?utm_medium=Exinfluencer&utm_source=Exinfluencer&utm_content=000026UJ&utm_term=10006555&utm_id=NA-SkillsNetwork-Channel-SkillsNetworkCoursesIBMML321ENSkillsNetwork32585014-2022-01-01\" target=\"_blank\">\n",
        "    <img src=\"https://cf-courses-data.s3.us.cloud-object-storage.appdomain.cloud/assets/logos/SN_web_lightmode.png\" width=\"200\" alt=\"Skills Network Logo\"  />\n",
        "    </a>\n",
        "</p>\n"
      ]
    },
    {
      "cell_type": "markdown",
      "metadata": {
        "id": "q2rnLQzD5Qry"
      },
      "source": [
        "# **Extract Bag of Words (BoW) Features from Course Textual Content**\n"
      ]
    },
    {
      "cell_type": "markdown",
      "metadata": {
        "id": "3uZ78opF5Qr3"
      },
      "source": [
        "Estimated time needed: **60** minutes\n"
      ]
    },
    {
      "cell_type": "markdown",
      "metadata": {
        "id": "BC4W3xml5Qr5"
      },
      "source": [
        "The main goal of recommender systems is to help users find items they potentially interested in. Depending on the recommendation tasks, an item can be a movie, a restaurant, or, in our case, an online course.\n",
        "\n",
        "Machine learning algorithms cannot work on an item directly so we first need to extract features and represent the items mathematically, i.e., with a feature vector.\n",
        "\n",
        "Many items are often described by text so they are associated with textual data, such as the titles and descriptions of a movie or course. Since machine learning algorithms can not process textual data directly, we need to transform the raw text into numeric feature vectors.\n"
      ]
    },
    {
      "cell_type": "markdown",
      "metadata": {
        "id": "V6W6vcMM5Qr-"
      },
      "source": [
        "![](https://cf-courses-data.s3.us.cloud-object-storage.appdomain.cloud/IBM-ML321EN-SkillsNetwork/labs/module\\_2/images/extract_textual_features.png)\n"
      ]
    },
    {
      "cell_type": "markdown",
      "metadata": {
        "id": "2wlwkg3A5QsA"
      },
      "source": [
        "In this lab, you will be learning to extract the bag of words (BoW) features from course titles and descriptions. The BoW feature is a simple but effective feature characterizing textual data and is widely used in many textual machine learning tasks.\n"
      ]
    },
    {
      "cell_type": "markdown",
      "metadata": {
        "id": "oBDrY4dP5QsB"
      },
      "source": [
        "## Objectives\n"
      ]
    },
    {
      "cell_type": "markdown",
      "metadata": {
        "id": "2SVRxnG35QsC"
      },
      "source": [
        "After completing this lab you will be able to:\n"
      ]
    },
    {
      "cell_type": "markdown",
      "metadata": {
        "id": "2Elaoa7O5QsE"
      },
      "source": [
        "*   Extract Bag of Words (BoW) features from course titles and descriptions\n",
        "*   Build a course BoW dataset to be used for building a content-based recommender system later\n"
      ]
    },
    {
      "cell_type": "markdown",
      "metadata": {
        "id": "_H0l0oWd5QsH"
      },
      "source": [
        "***\n"
      ]
    },
    {
      "cell_type": "markdown",
      "metadata": {
        "id": "gJOvtxaY5QsI"
      },
      "source": [
        "## Prepare and setup the lab environment\n"
      ]
    },
    {
      "cell_type": "markdown",
      "metadata": {
        "id": "JYsHIk4E5QsK"
      },
      "source": [
        "First, let's install and import required libraries:\n"
      ]
    },
    {
      "cell_type": "code",
      "execution_count": null,
      "metadata": {
        "id": "1lo0kBJR5QsL"
      },
      "outputs": [],
      "source": [
        "# !pip install nltk==3.6.7\n",
        "# !pip install gensim==4.1.2"
      ]
    },
    {
      "cell_type": "code",
      "execution_count": null,
      "metadata": {
        "id": "F0hFHqnH5QsO"
      },
      "outputs": [],
      "source": [
        "import gensim\n",
        "import pandas as pd\n",
        "import nltk as nltk\n",
        "from nltk.corpus import stopwords\n",
        "from nltk.tokenize import word_tokenize\n",
        "from gensim import corpora\n",
        "\n",
        "%matplotlib inline"
      ]
    },
    {
      "cell_type": "markdown",
      "metadata": {
        "id": "D6qONmvs5QsP"
      },
      "source": [
        "Download stopwords\n"
      ]
    },
    {
      "cell_type": "code",
      "execution_count": null,
      "metadata": {
        "id": "8tRZI1kp5QsQ",
        "outputId": "ed4e9594-2f7a-49c3-a518-f2bafca6f187",
        "colab": {
          "base_uri": "https://localhost:8080/"
        }
      },
      "outputs": [
        {
          "output_type": "stream",
          "name": "stderr",
          "text": [
            "[nltk_data] Downloading package punkt to /root/nltk_data...\n",
            "[nltk_data]   Unzipping tokenizers/punkt.zip.\n",
            "[nltk_data] Downloading package stopwords to /root/nltk_data...\n",
            "[nltk_data]   Unzipping corpora/stopwords.zip.\n",
            "[nltk_data] Downloading package averaged_perceptron_tagger to\n",
            "[nltk_data]     /root/nltk_data...\n",
            "[nltk_data]   Unzipping taggers/averaged_perceptron_tagger.zip.\n"
          ]
        },
        {
          "output_type": "execute_result",
          "data": {
            "text/plain": [
              "True"
            ]
          },
          "metadata": {},
          "execution_count": 2
        }
      ],
      "source": [
        "nltk.download('punkt')\n",
        "nltk.download('stopwords')\n",
        "nltk.download('averaged_perceptron_tagger')"
      ]
    },
    {
      "cell_type": "code",
      "execution_count": null,
      "metadata": {
        "id": "-Ou3-em55QsR"
      },
      "outputs": [],
      "source": [
        "# also set a random state\n",
        "rs = 123"
      ]
    },
    {
      "cell_type": "markdown",
      "metadata": {
        "id": "YFroLXjc5QsS"
      },
      "source": [
        "### Bag of Words (BoW) features\n"
      ]
    },
    {
      "cell_type": "markdown",
      "metadata": {
        "id": "md3_ouim5QsS"
      },
      "source": [
        "BoW features are essentially the counts or frequencies of each word that appears in a text (string). Let's illustrate it with some simple examples.\n"
      ]
    },
    {
      "cell_type": "markdown",
      "metadata": {
        "id": "EYwziw9F5QsT"
      },
      "source": [
        "Suppose we have two course descriptions as follows:\n"
      ]
    },
    {
      "cell_type": "code",
      "execution_count": null,
      "metadata": {
        "id": "P1APy3et5QsU"
      },
      "outputs": [],
      "source": [
        "course1 = \"this is an introduction data science course which introduces data science to beginners\""
      ]
    },
    {
      "cell_type": "code",
      "execution_count": null,
      "metadata": {
        "id": "xFQ30MEh5QsV"
      },
      "outputs": [],
      "source": [
        "course2 = \"machine learning for beginners\""
      ]
    },
    {
      "cell_type": "code",
      "execution_count": null,
      "metadata": {
        "id": "6_tdgQb-5QsW",
        "outputId": "4bfb128d-6fe6-4459-d858-523f3fb99185",
        "colab": {
          "base_uri": "https://localhost:8080/"
        }
      },
      "outputs": [
        {
          "output_type": "execute_result",
          "data": {
            "text/plain": [
              "['this is an introduction data science course which introduces data science to beginners',\n",
              " 'machine learning for beginners']"
            ]
          },
          "metadata": {},
          "execution_count": 6
        }
      ],
      "source": [
        "courses = [course1, course2]\n",
        "courses"
      ]
    },
    {
      "cell_type": "markdown",
      "metadata": {
        "id": "xAjiBiZ65QsX"
      },
      "source": [
        "The first step is to split the two strings into words (tokens). A token in the text processing context means the smallest unit of text such as a word, a symbol/punctuation, or a phrase, etc. The process to transform a string into a collection of tokens is called `tokenization`.\n"
      ]
    },
    {
      "cell_type": "markdown",
      "metadata": {
        "id": "mzUPMRel5QsZ"
      },
      "source": [
        "One common way to do `tokenization` is to use the Python built-in `split()` method of the `str` class.  However, in this lab, we want to leverage the `nltk` (Natural Language Toolkit) package, which is probably the most commonly used package to process text or natural language.\n"
      ]
    },
    {
      "cell_type": "markdown",
      "metadata": {
        "id": "dSv8peRm5QsZ"
      },
      "source": [
        "More specifically, we will use the `word_tokenize()` method on the content of course (string):\n"
      ]
    },
    {
      "cell_type": "code",
      "execution_count": null,
      "metadata": {
        "id": "gpBIws8y5Qsa"
      },
      "outputs": [],
      "source": [
        "# Tokenize the two courses\n",
        "tokenized_courses = [word_tokenize(course) for course in courses]"
      ]
    },
    {
      "cell_type": "code",
      "execution_count": null,
      "metadata": {
        "id": "bfMWsVZE5Qsc",
        "outputId": "b7de8c91-449f-44b6-f166-770462829c4b",
        "colab": {
          "base_uri": "https://localhost:8080/"
        }
      },
      "outputs": [
        {
          "output_type": "execute_result",
          "data": {
            "text/plain": [
              "[['this',\n",
              "  'is',\n",
              "  'an',\n",
              "  'introduction',\n",
              "  'data',\n",
              "  'science',\n",
              "  'course',\n",
              "  'which',\n",
              "  'introduces',\n",
              "  'data',\n",
              "  'science',\n",
              "  'to',\n",
              "  'beginners'],\n",
              " ['machine', 'learning', 'for', 'beginners']]"
            ]
          },
          "metadata": {},
          "execution_count": 8
        }
      ],
      "source": [
        "tokenized_courses"
      ]
    },
    {
      "cell_type": "markdown",
      "metadata": {
        "id": "o2teGykM5Qsd"
      },
      "source": [
        "As you can see from the cell output, two courses have been tokenized and turned into two token arrays.\n"
      ]
    },
    {
      "cell_type": "markdown",
      "metadata": {
        "id": "ZFTw247D5Qse"
      },
      "source": [
        "Next, we want to create a token dictionary to index all tokens. Basically, we want to assign a key/index for each token. One way to index tokens is to use the `gensim` package which is another popular package for processing textual data:\n"
      ]
    },
    {
      "cell_type": "code",
      "execution_count": null,
      "metadata": {
        "id": "VB-nTlBn5Qse"
      },
      "outputs": [],
      "source": [
        "# Create a token dictionary for the two courses\n",
        "tokens_dict = gensim.corpora.Dictionary(tokenized_courses)"
      ]
    },
    {
      "cell_type": "code",
      "execution_count": null,
      "metadata": {
        "id": "C7DozoVS5Qsf",
        "outputId": "911f7580-7ec0-446f-c328-f2fd5c2b1186",
        "colab": {
          "base_uri": "https://localhost:8080/"
        }
      },
      "outputs": [
        {
          "output_type": "stream",
          "name": "stdout",
          "text": [
            "{'an': 0, 'beginners': 1, 'course': 2, 'data': 3, 'introduces': 4, 'introduction': 5, 'is': 6, 'science': 7, 'this': 8, 'to': 9, 'which': 10, 'for': 11, 'learning': 12, 'machine': 13}\n"
          ]
        }
      ],
      "source": [
        "print(tokens_dict.token2id)"
      ]
    },
    {
      "cell_type": "markdown",
      "metadata": {
        "id": "isU5FccL5Qsg"
      },
      "source": [
        "With the token dictionary, we can easily count each token in the two example courses and output two BoW feature vectors. However, more conveniently, the `gensim` package provides us a `doc2bow` method to generate BoW features out-of-box.\n"
      ]
    },
    {
      "cell_type": "code",
      "execution_count": null,
      "metadata": {
        "id": "RF8jveGO5Qsh"
      },
      "outputs": [],
      "source": [
        "# Generate BoW features for each course\n",
        "courses_bow = [tokens_dict.doc2bow(course) for course in tokenized_courses]"
      ]
    },
    {
      "cell_type": "code",
      "execution_count": null,
      "metadata": {
        "id": "lsPwVvBr5Qsi",
        "outputId": "04648da5-f163-4261-a328-f3635617bbcc",
        "colab": {
          "base_uri": "https://localhost:8080/"
        }
      },
      "outputs": [
        {
          "output_type": "execute_result",
          "data": {
            "text/plain": [
              "[[(0, 1),\n",
              "  (1, 1),\n",
              "  (2, 1),\n",
              "  (3, 2),\n",
              "  (4, 1),\n",
              "  (5, 1),\n",
              "  (6, 1),\n",
              "  (7, 2),\n",
              "  (8, 1),\n",
              "  (9, 1),\n",
              "  (10, 1)],\n",
              " [(1, 1), (11, 1), (12, 1), (13, 1)]]"
            ]
          },
          "metadata": {},
          "execution_count": 12
        }
      ],
      "source": [
        "courses_bow"
      ]
    },
    {
      "cell_type": "markdown",
      "metadata": {
        "id": "EQhu19kt5Qsi"
      },
      "source": [
        "It outputs two BoW arrays where each element is a tuple, e.g., (0, 1) and (7, 2). The first element of the tuple is the token ID and the second element is its count. So `(0, 1)` means `(``an``, 1)` and `(7, 2)` means `(``science``, 2)`.\n"
      ]
    },
    {
      "cell_type": "markdown",
      "metadata": {
        "id": "oa0fH-qM5Qsj"
      },
      "source": [
        "We can use the following code snippet to print each token and its count:\n"
      ]
    },
    {
      "cell_type": "code",
      "execution_count": null,
      "metadata": {
        "id": "xGBRYLUx5Qsj",
        "outputId": "09fb26e8-597a-476b-b676-8b7d6341f801",
        "colab": {
          "base_uri": "https://localhost:8080/"
        }
      },
      "outputs": [
        {
          "output_type": "stream",
          "name": "stdout",
          "text": [
            "Bag of words for course 0:\n",
            "--Token: 'an', Count:1\n",
            "--Token: 'beginners', Count:1\n",
            "--Token: 'course', Count:1\n",
            "--Token: 'data', Count:2\n",
            "--Token: 'introduces', Count:1\n",
            "--Token: 'introduction', Count:1\n",
            "--Token: 'is', Count:1\n",
            "--Token: 'science', Count:2\n",
            "--Token: 'this', Count:1\n",
            "--Token: 'to', Count:1\n",
            "--Token: 'which', Count:1\n",
            "Bag of words for course 1:\n",
            "--Token: 'beginners', Count:1\n",
            "--Token: 'for', Count:1\n",
            "--Token: 'learning', Count:1\n",
            "--Token: 'machine', Count:1\n"
          ]
        }
      ],
      "source": [
        "for course_idx, course_bow in enumerate(courses_bow):\n",
        "    print(f\"Bag of words for course {course_idx}:\")\n",
        "    # For each token index, print its bow value (word count)\n",
        "    for token_index, token_bow in course_bow:\n",
        "        token = tokens_dict.get(token_index)\n",
        "        print(f\"--Token: '{token}', Count:{token_bow}\")"
      ]
    },
    {
      "cell_type": "markdown",
      "metadata": {
        "id": "xTBwvhKj5Qsk"
      },
      "source": [
        "If we turn to the long list into a horizontal feature vectors, we can see the two courses become two numerical feature vectors:\n"
      ]
    },
    {
      "cell_type": "markdown",
      "metadata": {
        "id": "S4tkshdh5Qsl"
      },
      "source": [
        "![](https://cf-courses-data.s3.us.cloud-object-storage.appdomain.cloud/IBM-ML321EN-SkillsNetwork/labs/module\\_2/images/bow.png)\n"
      ]
    },
    {
      "cell_type": "markdown",
      "metadata": {
        "id": "9OQFgLds5Qsl"
      },
      "source": [
        "### BoW dimensionality reduction\n"
      ]
    },
    {
      "cell_type": "markdown",
      "metadata": {
        "id": "YhPzqVcj5Qsn"
      },
      "source": [
        "A document may contain tens of thousands of words which makes the dimension of the BoW feature vector huge. To reduce the dimensionality, one common way is to filter the relatively meaningless tokens such as stop words or sometimes add position and adjective words.\n"
      ]
    },
    {
      "cell_type": "markdown",
      "metadata": {
        "id": "kXok1km15Qsn"
      },
      "source": [
        "Note there are many other ways to reduce dimensionality such as `stemming` and `lemmatization` but they are beyond the scope of this capstone project. You are encouraged to explore them yourself.\n"
      ]
    },
    {
      "cell_type": "markdown",
      "metadata": {
        "id": "jcfJsPHh5Qso"
      },
      "source": [
        "We can use the english stop words provided in `nltk`:\n"
      ]
    },
    {
      "cell_type": "code",
      "execution_count": null,
      "metadata": {
        "id": "GDjfcjOX5Qsp"
      },
      "outputs": [],
      "source": [
        "stop_words = set(stopwords.words('english'))"
      ]
    },
    {
      "cell_type": "code",
      "execution_count": null,
      "metadata": {
        "id": "U9x0Tu3j5Qsq",
        "outputId": "7bbec058-edb7-46eb-acd4-737b733f2240",
        "colab": {
          "base_uri": "https://localhost:8080/"
        }
      },
      "outputs": [
        {
          "output_type": "execute_result",
          "data": {
            "text/plain": [
              "{'a',\n",
              " 'about',\n",
              " 'above',\n",
              " 'after',\n",
              " 'again',\n",
              " 'against',\n",
              " 'ain',\n",
              " 'all',\n",
              " 'am',\n",
              " 'an',\n",
              " 'and',\n",
              " 'any',\n",
              " 'are',\n",
              " 'aren',\n",
              " \"aren't\",\n",
              " 'as',\n",
              " 'at',\n",
              " 'be',\n",
              " 'because',\n",
              " 'been',\n",
              " 'before',\n",
              " 'being',\n",
              " 'below',\n",
              " 'between',\n",
              " 'both',\n",
              " 'but',\n",
              " 'by',\n",
              " 'can',\n",
              " 'couldn',\n",
              " \"couldn't\",\n",
              " 'd',\n",
              " 'did',\n",
              " 'didn',\n",
              " \"didn't\",\n",
              " 'do',\n",
              " 'does',\n",
              " 'doesn',\n",
              " \"doesn't\",\n",
              " 'doing',\n",
              " 'don',\n",
              " \"don't\",\n",
              " 'down',\n",
              " 'during',\n",
              " 'each',\n",
              " 'few',\n",
              " 'for',\n",
              " 'from',\n",
              " 'further',\n",
              " 'had',\n",
              " 'hadn',\n",
              " \"hadn't\",\n",
              " 'has',\n",
              " 'hasn',\n",
              " \"hasn't\",\n",
              " 'have',\n",
              " 'haven',\n",
              " \"haven't\",\n",
              " 'having',\n",
              " 'he',\n",
              " 'her',\n",
              " 'here',\n",
              " 'hers',\n",
              " 'herself',\n",
              " 'him',\n",
              " 'himself',\n",
              " 'his',\n",
              " 'how',\n",
              " 'i',\n",
              " 'if',\n",
              " 'in',\n",
              " 'into',\n",
              " 'is',\n",
              " 'isn',\n",
              " \"isn't\",\n",
              " 'it',\n",
              " \"it's\",\n",
              " 'its',\n",
              " 'itself',\n",
              " 'just',\n",
              " 'll',\n",
              " 'm',\n",
              " 'ma',\n",
              " 'me',\n",
              " 'mightn',\n",
              " \"mightn't\",\n",
              " 'more',\n",
              " 'most',\n",
              " 'mustn',\n",
              " \"mustn't\",\n",
              " 'my',\n",
              " 'myself',\n",
              " 'needn',\n",
              " \"needn't\",\n",
              " 'no',\n",
              " 'nor',\n",
              " 'not',\n",
              " 'now',\n",
              " 'o',\n",
              " 'of',\n",
              " 'off',\n",
              " 'on',\n",
              " 'once',\n",
              " 'only',\n",
              " 'or',\n",
              " 'other',\n",
              " 'our',\n",
              " 'ours',\n",
              " 'ourselves',\n",
              " 'out',\n",
              " 'over',\n",
              " 'own',\n",
              " 're',\n",
              " 's',\n",
              " 'same',\n",
              " 'shan',\n",
              " \"shan't\",\n",
              " 'she',\n",
              " \"she's\",\n",
              " 'should',\n",
              " \"should've\",\n",
              " 'shouldn',\n",
              " \"shouldn't\",\n",
              " 'so',\n",
              " 'some',\n",
              " 'such',\n",
              " 't',\n",
              " 'than',\n",
              " 'that',\n",
              " \"that'll\",\n",
              " 'the',\n",
              " 'their',\n",
              " 'theirs',\n",
              " 'them',\n",
              " 'themselves',\n",
              " 'then',\n",
              " 'there',\n",
              " 'these',\n",
              " 'they',\n",
              " 'this',\n",
              " 'those',\n",
              " 'through',\n",
              " 'to',\n",
              " 'too',\n",
              " 'under',\n",
              " 'until',\n",
              " 'up',\n",
              " 've',\n",
              " 'very',\n",
              " 'was',\n",
              " 'wasn',\n",
              " \"wasn't\",\n",
              " 'we',\n",
              " 'were',\n",
              " 'weren',\n",
              " \"weren't\",\n",
              " 'what',\n",
              " 'when',\n",
              " 'where',\n",
              " 'which',\n",
              " 'while',\n",
              " 'who',\n",
              " 'whom',\n",
              " 'why',\n",
              " 'will',\n",
              " 'with',\n",
              " 'won',\n",
              " \"won't\",\n",
              " 'wouldn',\n",
              " \"wouldn't\",\n",
              " 'y',\n",
              " 'you',\n",
              " \"you'd\",\n",
              " \"you'll\",\n",
              " \"you're\",\n",
              " \"you've\",\n",
              " 'your',\n",
              " 'yours',\n",
              " 'yourself',\n",
              " 'yourselves'}"
            ]
          },
          "metadata": {},
          "execution_count": 15
        }
      ],
      "source": [
        "stop_words"
      ]
    },
    {
      "cell_type": "markdown",
      "metadata": {
        "id": "Rl6fW31-5Qsq"
      },
      "source": [
        "Then we can filter those English stop words from the tokens in course1:\n"
      ]
    },
    {
      "cell_type": "code",
      "execution_count": null,
      "metadata": {
        "id": "571Trxzp5Qsr",
        "outputId": "82f0ed33-dff3-49af-e60a-dc527425d565",
        "colab": {
          "base_uri": "https://localhost:8080/"
        }
      },
      "outputs": [
        {
          "output_type": "execute_result",
          "data": {
            "text/plain": [
              "['this',\n",
              " 'is',\n",
              " 'an',\n",
              " 'introduction',\n",
              " 'data',\n",
              " 'science',\n",
              " 'course',\n",
              " 'which',\n",
              " 'introduces',\n",
              " 'data',\n",
              " 'science',\n",
              " 'to',\n",
              " 'beginners']"
            ]
          },
          "metadata": {},
          "execution_count": 16
        }
      ],
      "source": [
        "# Tokens in course 1\n",
        "tokenized_courses[0]"
      ]
    },
    {
      "cell_type": "code",
      "execution_count": null,
      "metadata": {
        "id": "G0Js8hpG5Qss"
      },
      "outputs": [],
      "source": [
        "processed_tokens = [w for w in tokenized_courses[0] if not w.lower() in stop_words]"
      ]
    },
    {
      "cell_type": "code",
      "execution_count": null,
      "metadata": {
        "id": "i8gQyC5d5Qst",
        "outputId": "56136ba1-a63d-4d84-e4c0-41c44ac33786",
        "colab": {
          "base_uri": "https://localhost:8080/"
        }
      },
      "outputs": [
        {
          "output_type": "execute_result",
          "data": {
            "text/plain": [
              "['introduction',\n",
              " 'data',\n",
              " 'science',\n",
              " 'course',\n",
              " 'introduces',\n",
              " 'data',\n",
              " 'science',\n",
              " 'beginners']"
            ]
          },
          "metadata": {},
          "execution_count": 18
        }
      ],
      "source": [
        "processed_tokens"
      ]
    },
    {
      "cell_type": "markdown",
      "metadata": {
        "id": "tp_tsV055Qsu"
      },
      "source": [
        "You can see the number of tokens for `course1` has been reduced.\n"
      ]
    },
    {
      "cell_type": "markdown",
      "metadata": {
        "id": "_Y7cmOww5Qsv"
      },
      "source": [
        "Another common way is to only keep nouns in the text. We can use the `nltk.pos_tag()` method to analyze the part of speech (POS) and annotate each word.\n"
      ]
    },
    {
      "cell_type": "code",
      "execution_count": null,
      "metadata": {
        "id": "2mgdYWRO5Qsv",
        "outputId": "ec0d7ae5-dc06-4d88-ed2a-0a99dbe15f1b",
        "colab": {
          "base_uri": "https://localhost:8080/"
        }
      },
      "outputs": [
        {
          "output_type": "execute_result",
          "data": {
            "text/plain": [
              "[('this', 'DT'),\n",
              " ('is', 'VBZ'),\n",
              " ('an', 'DT'),\n",
              " ('introduction', 'NN'),\n",
              " ('data', 'NNS'),\n",
              " ('science', 'NN'),\n",
              " ('course', 'NN'),\n",
              " ('which', 'WDT'),\n",
              " ('introduces', 'VBZ'),\n",
              " ('data', 'NNS'),\n",
              " ('science', 'NN'),\n",
              " ('to', 'TO'),\n",
              " ('beginners', 'NNS')]"
            ]
          },
          "metadata": {},
          "execution_count": 19
        }
      ],
      "source": [
        "tags = nltk.pos_tag(tokenized_courses[0])\n",
        "tags"
      ]
    },
    {
      "cell_type": "markdown",
      "metadata": {
        "id": "ygnmsvkB5Qsw"
      },
      "source": [
        "As we can see \\[`introduction`, `data`, `science`, `course`, `beginners`] are all of the nouns and we may keep them in the BoW feature vector.\n"
      ]
    },
    {
      "cell_type": "markdown",
      "metadata": {
        "id": "sviljRWH5Qsx"
      },
      "source": [
        "### TASK: Extract BoW features for course textual content and build a dataset\n"
      ]
    },
    {
      "cell_type": "markdown",
      "metadata": {
        "id": "OhQiqfoy5Qsx"
      },
      "source": [
        "By now you have learned what a BoW feature is, so let's start extracting BoW features from some real course textual content.\n"
      ]
    },
    {
      "cell_type": "code",
      "execution_count": null,
      "metadata": {
        "id": "6NkTebEI5Qsy"
      },
      "outputs": [],
      "source": [
        "course_url = \"https://cf-courses-data.s3.us.cloud-object-storage.appdomain.cloud/IBM-ML321EN-SkillsNetwork/labs/datasets/course_processed.csv\"\n",
        "course_content_df = pd.read_csv(course_url)"
      ]
    },
    {
      "cell_type": "code",
      "execution_count": null,
      "metadata": {
        "id": "WwZOvhvH5Qsz",
        "colab": {
          "base_uri": "https://localhost:8080/"
        },
        "outputId": "e062e196-aa82-4af7-ca20-e503d79c7e19"
      },
      "outputs": [
        {
          "output_type": "execute_result",
          "data": {
            "text/plain": [
              "COURSE_ID                                               ML0201EN\n",
              "TITLE          robots are coming  build iot apps with watson ...\n",
              "DESCRIPTION    have fun with iot and learn along the way  if ...\n",
              "Name: 0, dtype: object"
            ]
          },
          "metadata": {},
          "execution_count": 21
        }
      ],
      "source": [
        "course_content_df.iloc[0, :]"
      ]
    },
    {
      "cell_type": "markdown",
      "metadata": {
        "id": "Znufh3qu5Qs0"
      },
      "source": [
        "The course content dataset has three columns `COURSE_ID`, `TITLE`, and `DESCRIPTION`. `TITLE` and `DESCRIPTION` are all text upon which we want to extract BoW features.\n"
      ]
    },
    {
      "cell_type": "markdown",
      "metadata": {
        "id": "prkMmMM95Qs1"
      },
      "source": [
        "Let's join those two text columns together.\n"
      ]
    },
    {
      "cell_type": "code",
      "execution_count": null,
      "metadata": {
        "id": "XJ-4JpgD5Qs3"
      },
      "outputs": [],
      "source": [
        "# Merge TITLE and DESCRIPTION title\n",
        "course_content_df['course_texts'] = course_content_df[['TITLE', 'DESCRIPTION']].agg(' '.join, axis=1)\n",
        "course_content_df = course_content_df.reset_index()\n",
        "course_content_df['index'] = course_content_df.index"
      ]
    },
    {
      "cell_type": "code",
      "execution_count": null,
      "metadata": {
        "id": "C6NioAsO5Qs3",
        "colab": {
          "base_uri": "https://localhost:8080/"
        },
        "outputId": "52843f14-6a5e-4d84-e53b-d18c851bec9f"
      },
      "outputs": [
        {
          "output_type": "execute_result",
          "data": {
            "text/plain": [
              "index                                                           0\n",
              "COURSE_ID                                                ML0201EN\n",
              "TITLE           robots are coming  build iot apps with watson ...\n",
              "DESCRIPTION     have fun with iot and learn along the way  if ...\n",
              "course_texts    robots are coming  build iot apps with watson ...\n",
              "Name: 0, dtype: object"
            ]
          },
          "metadata": {},
          "execution_count": 23
        }
      ],
      "source": [
        "course_content_df.iloc[0, :]"
      ]
    },
    {
      "cell_type": "markdown",
      "metadata": {
        "id": "ttWHDo5r5Qs4"
      },
      "source": [
        "and we have prepared a `tokenize_course()` method for you to tokenize the course content:\n"
      ]
    },
    {
      "cell_type": "code",
      "source": [
        "len(course_content_df)"
      ],
      "metadata": {
        "colab": {
          "base_uri": "https://localhost:8080/"
        },
        "id": "TdAVvDpxVJsa",
        "outputId": "6ea9ac55-8a64-49d3-83c9-626cca930911"
      },
      "execution_count": null,
      "outputs": [
        {
          "output_type": "execute_result",
          "data": {
            "text/plain": [
              "307"
            ]
          },
          "metadata": {},
          "execution_count": 56
        }
      ]
    },
    {
      "cell_type": "code",
      "execution_count": null,
      "metadata": {
        "id": "-4IxK-2e5Qs5"
      },
      "outputs": [],
      "source": [
        "def tokenize_course(course, keep_only_nouns=True):\n",
        "    stop_words = set(stopwords.words('english'))\n",
        "    word_tokens = word_tokenize(course)\n",
        "    # Remove English stop words and numbers\n",
        "    word_tokens = [w for w in word_tokens if (not w.lower() in stop_words) and (not w.isnumeric())]\n",
        "    # Only keep nouns \n",
        "    if keep_only_nouns:\n",
        "        filter_list = ['WDT', 'WP', 'WRB', 'FW', 'IN', 'JJR', 'JJS', 'MD', 'PDT', 'POS', 'PRP', 'RB', 'RBR', 'RBS',\n",
        "                       'RP']\n",
        "        tags = nltk.pos_tag(word_tokens)\n",
        "        word_tokens = [word for word, pos in tags if pos not in filter_list]\n",
        "\n",
        "    return word_tokens"
      ]
    },
    {
      "cell_type": "markdown",
      "metadata": {
        "id": "bWe_QkHQ5Qs5"
      },
      "source": [
        "Let's try it on the first course.\n"
      ]
    },
    {
      "cell_type": "code",
      "execution_count": null,
      "metadata": {
        "id": "xzepUV8s5Qs6",
        "colab": {
          "base_uri": "https://localhost:8080/",
          "height": 70
        },
        "outputId": "c3733e67-f538-4e8f-a094-519f76d74aaf"
      },
      "outputs": [
        {
          "output_type": "execute_result",
          "data": {
            "text/plain": [
              "'robots are coming  build iot apps with watson  swift  and node red have fun with iot and learn along the way  if you re a swift developer and want to learn more about iot and watson ai services in the cloud  raspberry pi   and node red  you ve found the right place  you ll build iot apps to read temperature data  take pictures with a raspcam  use ai to recognize the objects in those pictures  and program an irobot create 2 robot  '"
            ],
            "application/vnd.google.colaboratory.intrinsic+json": {
              "type": "string"
            }
          },
          "metadata": {},
          "execution_count": 25
        }
      ],
      "source": [
        "a_course = course_content_df.iloc[0, :]['course_texts']\n",
        "a_course"
      ]
    },
    {
      "cell_type": "code",
      "execution_count": null,
      "metadata": {
        "id": "j2iIXDu15Qs7",
        "colab": {
          "base_uri": "https://localhost:8080/"
        },
        "outputId": "fb489aa6-542e-4378-b8a5-bee187ca2907"
      },
      "outputs": [
        {
          "output_type": "execute_result",
          "data": {
            "text/plain": [
              "['robots', 'coming', 'build', 'iot', 'apps', 'watson', 'swift', 'red', 'fun', 'iot', 'learn', 'way', 'swift', 'developer', 'want', 'learn', 'iot', 'watson', 'ai', 'services', 'cloud', 'raspberry', 'pi', 'node', 'red', 'found', 'place', 'build', 'iot', 'apps', 'read', 'temperature', 'data', 'take', 'pictures', 'raspcam', 'use', 'ai', 'recognize', 'objects', 'pictures', 'program', 'irobot', 'create', 'robot']"
            ]
          },
          "metadata": {},
          "execution_count": 44
        }
      ],
      "source": [
        "tokenize_course(a_course)"
      ]
    },
    {
      "cell_type": "markdown",
      "metadata": {
        "id": "uCOYE2GU5Qs8"
      },
      "source": [
        "Next, you will need to write some code snippets to generate the BoW features for each course. Let's start by tokenzing all courses in the `courses_df`:\n"
      ]
    },
    {
      "cell_type": "markdown",
      "metadata": {
        "id": "cbFfzD-t5Qs9"
      },
      "source": [
        "*TODO: Use provided tokenize_course() method to tokenize all courses in courses_df\\['course_texts'].*\n"
      ]
    },
    {
      "cell_type": "code",
      "source": [
        "# WRITE YOUR CODE HERE\n",
        "t_c = []\n",
        "for i in range(307):\n",
        "   tc = tokenize_course(course_content_df.iloc[:]['course_texts'].to_list()[i])\n",
        "   t_c.append(tc)\n",
        "t_c"
      ],
      "metadata": {
        "id": "Zl8Ud7kVN20R"
      },
      "execution_count": null,
      "outputs": []
    },
    {
      "cell_type": "code",
      "source": [
        "[print(i) for i in range(307)]"
      ],
      "metadata": {
        "id": "1f7dQdQXgrec"
      },
      "execution_count": null,
      "outputs": []
    },
    {
      "cell_type": "code",
      "source": [
        "t_c[0]"
      ],
      "metadata": {
        "colab": {
          "base_uri": "https://localhost:8080/"
        },
        "id": "YAUjE4IzgkcY",
        "outputId": "089787eb-f872-483a-b8c3-1a3d35644941"
      },
      "execution_count": null,
      "outputs": [
        {
          "output_type": "execute_result",
          "data": {
            "text/plain": [
              "['robots', 'coming', 'build', 'iot', 'apps', 'watson', 'swift', 'red', 'fun', 'iot', 'learn', 'way', 'swift', 'developer', 'want', 'learn', 'iot', 'watson', 'ai', 'services', 'cloud', 'raspberry', 'pi', 'node', 'red', 'found', 'place', 'build', 'iot', 'apps', 'read', 'temperature', 'data', 'take', 'pictures', 'raspcam', 'use', 'ai', 'recognize', 'objects', 'pictures', 'program', 'irobot', 'create', 'robot']"
            ]
          },
          "metadata": {},
          "execution_count": 74
        }
      ]
    },
    {
      "cell_type": "markdown",
      "metadata": {
        "id": "3i5sEB0L5Qs-"
      },
      "source": [
        "Then we need to create a token dictionary `tokens_dict`\n"
      ]
    },
    {
      "cell_type": "markdown",
      "metadata": {
        "id": "FOT6qtsz5Qs_"
      },
      "source": [
        "*TODO: Use gensim.corpora.Dictionary(tokenized_courses) to create a token dictionary.*\n"
      ]
    },
    {
      "cell_type": "code",
      "execution_count": null,
      "metadata": {
        "id": "ptK56gdD5QtA"
      },
      "outputs": [],
      "source": [
        "# WRITE YOUR CODE HERE\n",
        "t_d = gensim.corpora.Dictionary(t_c)"
      ]
    },
    {
      "cell_type": "markdown",
      "metadata": {
        "id": "vQ5uXMHU5QtP"
      },
      "source": [
        "Then we can use `doc2bow()` method to generate BoW features for each tokenized course.\n"
      ]
    },
    {
      "cell_type": "markdown",
      "metadata": {
        "id": "Yy5QRJyH5QtQ"
      },
      "source": [
        "*TODO: Use tokens_dict.doc2bow() to generate BoW features for each tokenized course.*\n"
      ]
    },
    {
      "cell_type": "code",
      "execution_count": null,
      "metadata": {
        "id": "1fQmDPDq5QtR"
      },
      "outputs": [],
      "source": [
        "# WRITE YOUR CODE HERE\n",
        "courses_bow = [t_d.doc2bow(c) for c in t_c]"
      ]
    },
    {
      "cell_type": "markdown",
      "metadata": {
        "id": "wXfJGfLb5QtS"
      },
      "source": [
        "Lastly, you need to append the BoW features for each course into a new BoW dataframe. The new dataframe needs to include the following columns (you may include other relevant columns as well):\n",
        "\n",
        "*   'doc_index': the course index starting from 0\n",
        "*   'doc_id': the actual course id such as `ML0201EN`\n",
        "*   'token': the tokens for each course\n",
        "*   'bow': the bow value for each token\n"
      ]
    },
    {
      "cell_type": "markdown",
      "metadata": {
        "id": "f86sGPdE5QtS"
      },
      "source": [
        "*TODO: Create a new course_bow dataframe based on the extracted BoW features.*\n"
      ]
    },
    {
      "cell_type": "code",
      "execution_count": null,
      "metadata": {
        "id": "eZoBdFwP5QtT"
      },
      "outputs": [],
      "source": [
        "# WRITE YOUR CODE HERE\n",
        "\n",
        "# bow_dicts = {\"doc_index\": doc_indices,\n",
        "#            \"doc_id\": doc_ids,\n",
        "#            \"token\": tokens,\n",
        "#            \"bow\": bow_values}\n",
        "\n",
        "# pd.DataFrame(bow_dicts)"
      ]
    },
    {
      "cell_type": "markdown",
      "metadata": {
        "id": "CdRep-SS5QtU"
      },
      "source": [
        "Your course BoW dataframe may look like the following:\n"
      ]
    },
    {
      "cell_type": "markdown",
      "metadata": {
        "id": "A1tC_Ol15QtU"
      },
      "source": [
        "![](https://cf-courses-data.s3.us.cloud-object-storage.appdomain.cloud/IBM-ML321EN-SkillsNetwork/labs/module\\_2/images/bow_dataset.png)\n"
      ]
    },
    {
      "cell_type": "markdown",
      "metadata": {
        "id": "d8v-ek6y5QtU"
      },
      "source": [
        "You may refer to previous code examples in this lab if you need help with creating the BoW dataframe.\n"
      ]
    },
    {
      "cell_type": "markdown",
      "metadata": {
        "tags": [],
        "id": "Oq__0M4e5QtV"
      },
      "source": [
        "### Other popular textual features\n"
      ]
    },
    {
      "cell_type": "markdown",
      "metadata": {
        "id": "HzBdp-Fg5QtV"
      },
      "source": [
        "In addition to the basic token BoW feature, there are two other types of widely used textual features. If you are interested, you may explore them yourself to learn how to extract them from the course textual content:\n"
      ]
    },
    {
      "cell_type": "markdown",
      "metadata": {
        "id": "pYCLAhHD5QtW"
      },
      "source": [
        "*   **tf-idf**: tf-idf refers to Term Frequency–Inverse Document Frequency. Similar to BoW, the tf-idf also counts the word frequencies in each document. Furthermore, tf-idf will  offset the number of documents in the corpus that contain the word in order to adjust for the fact that some words appear more frequently in general. The higher the tf-idf normally means the greater the importance the word/token is.\n",
        "*   **Text embedding vector**. Embedding means projecting an object into a latent feature space. We normally employ neural networks or deep neural networks to learn the latent features of a textual object such as a word, a sentence, or the entire document. The learned latent feature vectors will be used to represent the original textual entities.\n"
      ]
    },
    {
      "cell_type": "markdown",
      "metadata": {
        "id": "gwwJJaga5QtX"
      },
      "source": [
        "### Summary\n"
      ]
    },
    {
      "cell_type": "markdown",
      "metadata": {
        "id": "7RZzWLSk5QtX"
      },
      "source": [
        "Congratulations, you have completed the BoW feature extraction lab. In this lab, you have learned and practiced extracting BoW features from course titles and descriptions. Once the feature vectors on the courses has been built, we can then apply machine learning algorithms such as similarity measurements, clustering, or classification on the courses in later labs.\n"
      ]
    },
    {
      "cell_type": "markdown",
      "metadata": {
        "id": "_Z46TG4P5QtY"
      },
      "source": [
        "## Authors\n"
      ]
    },
    {
      "cell_type": "markdown",
      "metadata": {
        "id": "47Gie01e5QtZ"
      },
      "source": [
        "[Yan Luo](https://www.linkedin.com/in/yan-luo-96288783/?utm_medium=Exinfluencer&utm_source=Exinfluencer&utm_content=000026UJ&utm_term=10006555&utm_id=NA-SkillsNetwork-Channel-SkillsNetworkCoursesIBMML321ENSkillsNetwork32585014-2022-01-01)\n"
      ]
    },
    {
      "cell_type": "markdown",
      "metadata": {
        "id": "9Zwyuz2i5QtZ"
      },
      "source": [
        "### Other Contributors\n"
      ]
    },
    {
      "cell_type": "markdown",
      "metadata": {
        "id": "Cpx6-5Me5Qta"
      },
      "source": [
        "## Change Log\n"
      ]
    },
    {
      "cell_type": "markdown",
      "metadata": {
        "id": "Rhlmc0Cq5Qtb"
      },
      "source": [
        "| Date (YYYY-MM-DD) | Version | Changed By | Change Description          |\n",
        "| ----------------- | ------- | ---------- | --------------------------- |\n",
        "| 2021-10-25        | 1.0     | Yan        | Created the initial version |\n"
      ]
    },
    {
      "cell_type": "markdown",
      "metadata": {
        "id": "xSxDg3T15Qtb"
      },
      "source": [
        "Copyright © 2021 IBM Corporation. All rights reserved.\n"
      ]
    }
  ],
  "metadata": {
    "kernelspec": {
      "display_name": "Python 3",
      "language": "python",
      "name": "python3"
    },
    "language_info": {
      "codemirror_mode": {
        "name": "ipython",
        "version": 3
      },
      "file_extension": ".py",
      "mimetype": "text/x-python",
      "name": "python",
      "nbconvert_exporter": "python",
      "pygments_lexer": "ipython3",
      "version": "3.8.2"
    },
    "colab": {
      "name": "lab_jupyter_fe_bow_solution.ipynb",
      "provenance": [],
      "collapsed_sections": [
        "9Zwyuz2i5QtZ"
      ],
      "include_colab_link": true
    }
  },
  "nbformat": 4,
  "nbformat_minor": 0
}