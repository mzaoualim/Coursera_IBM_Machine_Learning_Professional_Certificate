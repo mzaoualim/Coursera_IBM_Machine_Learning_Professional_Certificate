{
  "cells": [
    {
      "cell_type": "markdown",
      "metadata": {
        "run_control": {
          "marked": true
        },
        "id": "l1z7g1EHWR0A"
      },
      "source": [
        "# Machine Learning Foundation\n",
        "\n",
        "## Course 3, Part a: Logistic Regression LAB\n"
      ]
    },
    {
      "cell_type": "markdown",
      "metadata": {
        "run_control": {
          "marked": true
        },
        "id": "2bRaU6d4WR0I"
      },
      "source": [
        "## Introduction\n",
        "\n",
        "We will be using the [Human Activity Recognition with Smartphones](https://archive.ics.uci.edu/ml/datasets/Human+Activity+Recognition+Using+Smartphones?utm_medium=Exinfluencer&utm_source=Exinfluencer&utm_content=000026UJ&utm_term=10006555&utm_id=NA-SkillsNetwork-Channel-SkillsNetworkCoursesIBMML241ENSkillsNetwork31576874-2022-01-01) database, which was built from the recordings of study participants who carried a smartphone with an embedded inertial sensor while performing activities of daily living (ADL). The objective is to classify the activities the participants performed into one of the six following categories: walking, walking upstairs, walking downstairs, sitting, standing, and laying.\n",
        "\n",
        "The following information is provided for each record in the dataset:\n",
        "\n",
        "*   Triaxial acceleration from the accelerometer (total acceleration) and the estimated body acceleration\n",
        "*   Triaxial Angular velocity from the gyroscope\n",
        "*   A 561-feature vector with time and frequency domain variables\n",
        "*   The activity label\n",
        "\n",
        "More information about the features are available on the website linked above.\n"
      ]
    },
    {
      "cell_type": "code",
      "execution_count": 1,
      "metadata": {
        "id": "eD1Gap0SWR0O"
      },
      "outputs": [],
      "source": [
        "def warn(*args, **kwargs):\n",
        "    pass\n",
        "import warnings\n",
        "warnings.warn = warn"
      ]
    },
    {
      "cell_type": "code",
      "execution_count": 2,
      "metadata": {
        "run_control": {
          "marked": true
        },
        "id": "w3_RbRM6WR0T"
      },
      "outputs": [],
      "source": [
        "import seaborn as sns, pandas as pd, numpy as np"
      ]
    },
    {
      "cell_type": "markdown",
      "metadata": {
        "run_control": {
          "marked": true
        },
        "id": "mF9Tzx5mWR0V"
      },
      "source": [
        "## Question 1\n",
        "\n",
        "Import the data and do the following:\n",
        "\n",
        "*   Examine the data types--there are many columns, so it might be wise to use value counts.\n",
        "*   Determine if the floating point values need to be scaled.\n",
        "*   Determine the breakdown of each activity.\n",
        "*   Encode the activity label as an integer.\n"
      ]
    },
    {
      "cell_type": "code",
      "execution_count": 3,
      "metadata": {
        "jupyter": {
          "outputs_hidden": false
        },
        "run_control": {
          "marked": true
        },
        "id": "na2gMCdIWR0W"
      },
      "outputs": [],
      "source": [
        "### BEGIN SOLUTION\n",
        "data = pd.read_csv(\"https://cf-courses-data.s3.us.cloud-object-storage.appdomain.cloud/IBM-ML241EN-SkillsNetwork/labs/datasets/Human_Activity_Recognition_Using_Smartphones_Data.csv\", sep=',')"
      ]
    },
    {
      "cell_type": "markdown",
      "metadata": {
        "run_control": {
          "marked": true
        },
        "id": "2P9wNEepWR0Y"
      },
      "source": [
        "The data columns are all floats except for the activity label.\n"
      ]
    },
    {
      "cell_type": "code",
      "execution_count": 4,
      "metadata": {
        "jupyter": {
          "outputs_hidden": false
        },
        "run_control": {
          "marked": true
        },
        "id": "iSXVLglyWR0a",
        "outputId": "9e2e33f9-6dbe-4408-b9e3-2b89607749c6",
        "colab": {
          "base_uri": "https://localhost:8080/"
        }
      },
      "outputs": [
        {
          "output_type": "execute_result",
          "data": {
            "text/plain": [
              "float64    561\n",
              "object       1\n",
              "dtype: int64"
            ]
          },
          "metadata": {},
          "execution_count": 4
        }
      ],
      "source": [
        "data.dtypes.value_counts()"
      ]
    },
    {
      "cell_type": "code",
      "execution_count": 5,
      "metadata": {
        "jupyter": {
          "outputs_hidden": false
        },
        "run_control": {
          "marked": true
        },
        "id": "fInHTmvsWR0b",
        "outputId": "ad713397-3777-45c5-ce2e-22b3bc6f1701",
        "colab": {
          "base_uri": "https://localhost:8080/"
        }
      },
      "outputs": [
        {
          "output_type": "execute_result",
          "data": {
            "text/plain": [
              "angle(tBodyGyroJerkMean,gravityMean)    float64\n",
              "angle(X,gravityMean)                    float64\n",
              "angle(Y,gravityMean)                    float64\n",
              "angle(Z,gravityMean)                    float64\n",
              "Activity                                 object\n",
              "dtype: object"
            ]
          },
          "metadata": {},
          "execution_count": 5
        }
      ],
      "source": [
        "data.dtypes.tail()"
      ]
    },
    {
      "cell_type": "markdown",
      "metadata": {
        "run_control": {
          "marked": true
        },
        "id": "7aNCH5B6WR0e"
      },
      "source": [
        "The data are all scaled from -1 (minimum) to 1.0 (maximum).\n"
      ]
    },
    {
      "cell_type": "code",
      "execution_count": 6,
      "metadata": {
        "jupyter": {
          "outputs_hidden": false
        },
        "run_control": {
          "marked": true
        },
        "id": "1NpNnTZpWR0g",
        "outputId": "62ae323a-8c60-4cc8-950c-2ab33ef60ae8",
        "colab": {
          "base_uri": "https://localhost:8080/"
        }
      },
      "outputs": [
        {
          "output_type": "execute_result",
          "data": {
            "text/plain": [
              "-1.0    561\n",
              "dtype: int64"
            ]
          },
          "metadata": {},
          "execution_count": 6
        }
      ],
      "source": [
        "data.iloc[:, :-1].min().value_counts()"
      ]
    },
    {
      "cell_type": "code",
      "execution_count": 7,
      "metadata": {
        "jupyter": {
          "outputs_hidden": false
        },
        "run_control": {
          "marked": true
        },
        "id": "8IbE1vS8WR0i",
        "outputId": "cda309b7-f934-4778-82b3-7de047afe761",
        "colab": {
          "base_uri": "https://localhost:8080/"
        }
      },
      "outputs": [
        {
          "output_type": "execute_result",
          "data": {
            "text/plain": [
              "1.0    561\n",
              "dtype: int64"
            ]
          },
          "metadata": {},
          "execution_count": 7
        }
      ],
      "source": [
        "data.iloc[:, :-1].max().value_counts()"
      ]
    },
    {
      "cell_type": "markdown",
      "metadata": {
        "id": "JqBKnqI0WR0j"
      },
      "source": [
        "Examine the breakdown of activities; they are relatively balanced.\n"
      ]
    },
    {
      "cell_type": "code",
      "execution_count": 8,
      "metadata": {
        "jupyter": {
          "outputs_hidden": false
        },
        "id": "a2NiYhZsWR0k",
        "outputId": "b706a0cb-8f2b-474a-c17f-945a0378ec72",
        "colab": {
          "base_uri": "https://localhost:8080/"
        }
      },
      "outputs": [
        {
          "output_type": "execute_result",
          "data": {
            "text/plain": [
              "LAYING                1944\n",
              "STANDING              1906\n",
              "SITTING               1777\n",
              "WALKING               1722\n",
              "WALKING_UPSTAIRS      1544\n",
              "WALKING_DOWNSTAIRS    1406\n",
              "Name: Activity, dtype: int64"
            ]
          },
          "metadata": {},
          "execution_count": 8
        }
      ],
      "source": [
        "data.Activity.value_counts()"
      ]
    },
    {
      "cell_type": "markdown",
      "metadata": {
        "id": "ei4w0mVnWR0l"
      },
      "source": [
        "Scikit learn classifiers won't accept a sparse matrix for the prediction column. Thus, either `LabelEncoder` needs to be used to convert the activity labels to integers, or if `DictVectorizer` is used, the resulting matrix must be converted to a non-sparse array.\\\n",
        "Use `LabelEncoder` to fit_transform the \"Activity\" column, and look at 5 random values.\n"
      ]
    },
    {
      "cell_type": "code",
      "execution_count": 9,
      "metadata": {
        "jupyter": {
          "outputs_hidden": false
        },
        "id": "m7ObzQVbWR0n",
        "outputId": "83ac4365-d62a-4b8e-db63-e0671398faa7",
        "colab": {
          "base_uri": "https://localhost:8080/"
        }
      },
      "outputs": [
        {
          "output_type": "execute_result",
          "data": {
            "text/plain": [
              "6441    5\n",
              "9638    0\n",
              "6168    3\n",
              "481     4\n",
              "596     0\n",
              "Name: Activity, dtype: int64"
            ]
          },
          "metadata": {},
          "execution_count": 9
        }
      ],
      "source": [
        "from sklearn.preprocessing import LabelEncoder\n",
        "\n",
        "le = LabelEncoder()\n",
        "data['Activity'] = le.fit_transform(data.Activity)\n",
        "data['Activity'].sample(5)\n",
        "### END SOLUTION"
      ]
    },
    {
      "cell_type": "markdown",
      "metadata": {
        "id": "Fh7aCZOKWR0o"
      },
      "source": [
        "## Question 2\n",
        "\n",
        "*   Calculate the correlations between the dependent variables.\n",
        "*   Create a histogram of the correlation values.\n",
        "*   Identify those that are most correlated (either positively or negatively).\n"
      ]
    },
    {
      "cell_type": "code",
      "execution_count": 10,
      "metadata": {
        "id": "ZK90JWIlWR0q"
      },
      "outputs": [],
      "source": [
        "### BEGIN SOLUTION\n",
        "# Calculate the correlation values\n",
        "feature_cols = data.columns[:-1]\n",
        "corr_values = data[feature_cols].corr()\n",
        "\n",
        "# Simplify by emptying all the data below the diagonal\n",
        "tril_index = np.tril_indices_from(corr_values)\n",
        "\n",
        "# Make the unused values NaNs\n",
        "for coord in zip(*tril_index):\n",
        "    corr_values.iloc[coord[0], coord[1]] = np.NaN\n",
        "    \n",
        "# Stack the data and convert to a data frame\n",
        "corr_values = (corr_values\n",
        "               .stack()\n",
        "               .to_frame()\n",
        "               .reset_index()\n",
        "               .rename(columns={'level_0':'feature1',\n",
        "                                'level_1':'feature2',\n",
        "                                0:'correlation'}))\n",
        "\n",
        "# Get the absolute values for sorting\n",
        "corr_values['abs_correlation'] = corr_values.correlation.abs()"
      ]
    },
    {
      "cell_type": "markdown",
      "metadata": {
        "id": "agrAjU7HWR0r"
      },
      "source": [
        "A histogram of the absolute value correlations.\n"
      ]
    },
    {
      "cell_type": "code",
      "execution_count": 11,
      "metadata": {
        "id": "6y05M-nAWR0r"
      },
      "outputs": [],
      "source": [
        "import matplotlib.pyplot as plt\n",
        "import seaborn as sns\n",
        "%matplotlib inline"
      ]
    },
    {
      "cell_type": "code",
      "execution_count": 12,
      "metadata": {
        "jupyter": {
          "outputs_hidden": false
        },
        "id": "Dyh-qEazWR0s",
        "outputId": "69c44177-7bd2-43ff-8f2e-cefe56e6bb95",
        "colab": {
          "base_uri": "https://localhost:8080/",
          "height": 525
        }
      },
      "outputs": [
        {
          "output_type": "display_data",
          "data": {
            "text/plain": [
              "<Figure size 864x576 with 1 Axes>"
            ],
            "image/png": "[encoded data removed]"
          },
          "metadata": {}
        }
      ],
      "source": [
        "sns.set_context('talk')\n",
        "sns.set_style('white')\n",
        "\n",
        "ax = corr_values.abs_correlation.hist(bins=50, figsize=(12, 8))\n",
        "ax.set(xlabel='Absolute Correlation', ylabel='Frequency');"
      ]
    },
    {
      "cell_type": "code",
      "execution_count": 13,
      "metadata": {
        "jupyter": {
          "outputs_hidden": false
        },
        "id": "ZooW2b3zWR0t",
        "outputId": "68ef9459-b6d1-4da4-8a1e-cb671546eff2",
        "colab": {
          "base_uri": "https://localhost:8080/",
          "height": 424
        }
      },
      "outputs": [
        {
          "output_type": "execute_result",
          "data": {
            "text/plain": [
              "                           feature1                    feature2  correlation  \\\n",
              "156894  fBodyBodyGyroJerkMag-mean()  fBodyBodyGyroJerkMag-sma()     1.000000   \n",
              "93902             tBodyAccMag-sma()        tGravityAccMag-sma()     1.000000   \n",
              "101139       tBodyAccJerkMag-mean()       tBodyAccJerkMag-sma()     1.000000   \n",
              "96706         tGravityAccMag-mean()        tGravityAccMag-sma()     1.000000   \n",
              "94257          tBodyAccMag-energy()     tGravityAccMag-energy()     1.000000   \n",
              "...                             ...                         ...          ...   \n",
              "22657          tGravityAcc-mean()-Y        angle(Y,gravityMean)    -0.993425   \n",
              "39225     tGravityAcc-arCoeff()-Z,3   tGravityAcc-arCoeff()-Z,4    -0.994267   \n",
              "38739     tGravityAcc-arCoeff()-Z,2   tGravityAcc-arCoeff()-Z,3    -0.994628   \n",
              "23176          tGravityAcc-mean()-Z        angle(Z,gravityMean)    -0.994764   \n",
              "38252     tGravityAcc-arCoeff()-Z,1   tGravityAcc-arCoeff()-Z,2    -0.995195   \n",
              "\n",
              "        abs_correlation  \n",
              "156894         1.000000  \n",
              "93902          1.000000  \n",
              "101139         1.000000  \n",
              "96706          1.000000  \n",
              "94257          1.000000  \n",
              "...                 ...  \n",
              "22657          0.993425  \n",
              "39225          0.994267  \n",
              "38739          0.994628  \n",
              "23176          0.994764  \n",
              "38252          0.995195  \n",
              "\n",
              "[22815 rows x 4 columns]"
            ],
            "text/html": [
              "\n",
              "  <div id=\"df-1dad64e1-cf0a-4830-afe3-d08d8effaaf2\">\n",
              "    <div class=\"colab-df-container\">\n",
              "      <div>\n",
              "<style scoped>\n",
              "    .dataframe tbody tr th:only-of-type {\n",
              "        vertical-align: middle;\n",
              "    }\n",
              "\n",
              "    .dataframe tbody tr th {\n",
              "        vertical-align: top;\n",
              "    }\n",
              "\n",
              "    .dataframe thead th {\n",
              "        text-align: right;\n",
              "    }\n",
              "</style>\n",
              "<table border=\"1\" class=\"dataframe\">\n",
              "  <thead>\n",
              "    <tr style=\"text-align: right;\">\n",
              "      <th></th>\n",
              "      <th>feature1</th>\n",
              "      <th>feature2</th>\n",
              "      <th>correlation</th>\n",
              "      <th>abs_correlation</th>\n",
              "    </tr>\n",
              "  </thead>\n",
              "  <tbody>\n",
              "    <tr>\n",
              "      <th>156894</th>\n",
              "      <td>fBodyBodyGyroJerkMag-mean()</td>\n",
              "      <td>fBodyBodyGyroJerkMag-sma()</td>\n",
              "      <td>1.000000</td>\n",
              "      <td>1.000000</td>\n",
              "    </tr>\n",
              "    <tr>\n",
              "      <th>93902</th>\n",
              "      <td>tBodyAccMag-sma()</td>\n",
              "      <td>tGravityAccMag-sma()</td>\n",
              "      <td>1.000000</td>\n",
              "      <td>1.000000</td>\n",
              "    </tr>\n",
              "    <tr>\n",
              "      <th>101139</th>\n",
              "      <td>tBodyAccJerkMag-mean()</td>\n",
              "      <td>tBodyAccJerkMag-sma()</td>\n",
              "      <td>1.000000</td>\n",
              "      <td>1.000000</td>\n",
              "    </tr>\n",
              "    <tr>\n",
              "      <th>96706</th>\n",
              "      <td>tGravityAccMag-mean()</td>\n",
              "      <td>tGravityAccMag-sma()</td>\n",
              "      <td>1.000000</td>\n",
              "      <td>1.000000</td>\n",
              "    </tr>\n",
              "    <tr>\n",
              "      <th>94257</th>\n",
              "      <td>tBodyAccMag-energy()</td>\n",
              "      <td>tGravityAccMag-energy()</td>\n",
              "      <td>1.000000</td>\n",
              "      <td>1.000000</td>\n",
              "    </tr>\n",
              "    <tr>\n",
              "      <th>...</th>\n",
              "      <td>...</td>\n",
              "      <td>...</td>\n",
              "      <td>...</td>\n",
              "      <td>...</td>\n",
              "    </tr>\n",
              "    <tr>\n",
              "      <th>22657</th>\n",
              "      <td>tGravityAcc-mean()-Y</td>\n",
              "      <td>angle(Y,gravityMean)</td>\n",
              "      <td>-0.993425</td>\n",
              "      <td>0.993425</td>\n",
              "    </tr>\n",
              "    <tr>\n",
              "      <th>39225</th>\n",
              "      <td>tGravityAcc-arCoeff()-Z,3</td>\n",
              "      <td>tGravityAcc-arCoeff()-Z,4</td>\n",
              "      <td>-0.994267</td>\n",
              "      <td>0.994267</td>\n",
              "    </tr>\n",
              "    <tr>\n",
              "      <th>38739</th>\n",
              "      <td>tGravityAcc-arCoeff()-Z,2</td>\n",
              "      <td>tGravityAcc-arCoeff()-Z,3</td>\n",
              "      <td>-0.994628</td>\n",
              "      <td>0.994628</td>\n",
              "    </tr>\n",
              "    <tr>\n",
              "      <th>23176</th>\n",
              "      <td>tGravityAcc-mean()-Z</td>\n",
              "      <td>angle(Z,gravityMean)</td>\n",
              "      <td>-0.994764</td>\n",
              "      <td>0.994764</td>\n",
              "    </tr>\n",
              "    <tr>\n",
              "      <th>38252</th>\n",
              "      <td>tGravityAcc-arCoeff()-Z,1</td>\n",
              "      <td>tGravityAcc-arCoeff()-Z,2</td>\n",
              "      <td>-0.995195</td>\n",
              "      <td>0.995195</td>\n",
              "    </tr>\n",
              "  </tbody>\n",
              "</table>\n",
              "<p>22815 rows × 4 columns</p>\n",
              "</div>\n",
              "      <button class=\"colab-df-convert\" onclick=\"convertToInteractive('df-1dad64e1-cf0a-4830-afe3-d08d8effaaf2')\"\n",
              "              title=\"Convert this dataframe to an interactive table.\"\n",
              "              style=\"display:none;\">\n",
              "        \n",
              "  <svg xmlns=\"http://www.w3.org/2000/svg\" height=\"24px\"viewBox=\"0 0 24 24\"\n",
              "       width=\"24px\">\n",
              "    <path d=\"M0 0h24v24H0V0z\" fill=\"none\"/>\n",
              "    <path d=\"M18.56 5.44l.94 2.06.94-2.06 2.06-.94-2.06-.94-.94-2.06-.94 2.06-2.06.94zm-11 1L8.5 8.5l.94-2.06 2.06-.94-2.06-.94L8.5 2.5l-.94 2.06-2.06.94zm10 10l.94 2.06.94-2.06 2.06-.94-2.06-.94-.94-2.06-.94 2.06-2.06.94z\"/><path d=\"M17.41 7.96l-1.37-1.37c-.4-.4-.92-.59-1.43-.59-.52 0-1.04.2-1.43.59L10.3 9.45l-7.72 7.72c-.78.78-.78 2.05 0 2.83L4 21.41c.39.39.9.59 1.41.59.51 0 1.02-.2 1.41-.59l7.78-7.78 2.81-2.81c.8-.78.8-2.07 0-2.86zM5.41 20L4 18.59l7.72-7.72 1.47 1.35L5.41 20z\"/>\n",
              "  </svg>\n",
              "      </button>\n",
              "      \n",
              "  <style>\n",
              "    .colab-df-container {\n",
              "      display:flex;\n",
              "      flex-wrap:wrap;\n",
              "      gap: 12px;\n",
              "    }\n",
              "\n",
              "    .colab-df-convert {\n",
              "      background-color: #E8F0FE;\n",
              "      border: none;\n",
              "      border-radius: 50%;\n",
              "      cursor: pointer;\n",
              "      display: none;\n",
              "      fill: #1967D2;\n",
              "      height: 32px;\n",
              "      padding: 0 0 0 0;\n",
              "      width: 32px;\n",
              "    }\n",
              "\n",
              "    .colab-df-convert:hover {\n",
              "      background-color: #E2EBFA;\n",
              "      box-shadow: 0px 1px 2px rgba(60, 64, 67, 0.3), 0px 1px 3px 1px rgba(60, 64, 67, 0.15);\n",
              "      fill: #174EA6;\n",
              "    }\n",
              "\n",
              "    [theme=dark] .colab-df-convert {\n",
              "      background-color: #3B4455;\n",
              "      fill: #D2E3FC;\n",
              "    }\n",
              "\n",
              "    [theme=dark] .colab-df-convert:hover {\n",
              "      background-color: #434B5C;\n",
              "      box-shadow: 0px 1px 3px 1px rgba(0, 0, 0, 0.15);\n",
              "      filter: drop-shadow(0px 1px 2px rgba(0, 0, 0, 0.3));\n",
              "      fill: #FFFFFF;\n",
              "    }\n",
              "  </style>\n",
              "\n",
              "      <script>\n",
              "        const buttonEl =\n",
              "          document.querySelector('#df-1dad64e1-cf0a-4830-afe3-d08d8effaaf2 button.colab-df-convert');\n",
              "        buttonEl.style.display =\n",
              "          google.colab.kernel.accessAllowed ? 'block' : 'none';\n",
              "\n",
              "        async function convertToInteractive(key) {\n",
              "          const element = document.querySelector('#df-1dad64e1-cf0a-4830-afe3-d08d8effaaf2');\n",
              "          const dataTable =\n",
              "            await google.colab.kernel.invokeFunction('convertToInteractive',\n",
              "                                                     [key], {});\n",
              "          if (!dataTable) return;\n",
              "\n",
              "          const docLinkHtml = 'Like what you see? Visit the ' +\n",
              "            '<a target=\"_blank\" href=https://colab.research.google.com/notebooks/data_table.ipynb>data table notebook</a>'\n",
              "            + ' to learn more about interactive tables.';\n",
              "          element.innerHTML = '';\n",
              "          dataTable['output_type'] = 'display_data';\n",
              "          await google.colab.output.renderOutput(dataTable, element);\n",
              "          const docLink = document.createElement('div');\n",
              "          docLink.innerHTML = docLinkHtml;\n",
              "          element.appendChild(docLink);\n",
              "        }\n",
              "      </script>\n",
              "    </div>\n",
              "  </div>\n",
              "  "
            ]
          },
          "metadata": {},
          "execution_count": 13
        }
      ],
      "source": [
        "# The most highly correlated values\n",
        "corr_values.sort_values('correlation', ascending=False).query('abs_correlation>0.8')\n",
        "### END SOLUTION"
      ]
    },
    {
      "cell_type": "markdown",
      "metadata": {
        "id": "0U1e5CM-WR0u"
      },
      "source": [
        "## Question 3\n",
        "\n",
        "*   Split the data into train and test data sets. This can be done using any method, but consider using Scikit-learn's `StratifiedShuffleSplit` to maintain the same ratio of predictor classes.\n",
        "*   Regardless of the method used to split the data, compare the ratio of classes in both the train and test splits.\n"
      ]
    },
    {
      "cell_type": "code",
      "execution_count": 14,
      "metadata": {
        "jupyter": {
          "outputs_hidden": false
        },
        "id": "CbI4pd1oWR0w"
      },
      "outputs": [],
      "source": [
        "### BEGIN SOLUTION\n",
        "from sklearn.model_selection import StratifiedShuffleSplit\n",
        "\n",
        "# Get the split indexes\n",
        "strat_shuf_split = StratifiedShuffleSplit(n_splits=1, \n",
        "                                          test_size=0.3, \n",
        "                                          random_state=42)\n",
        "\n",
        "train_idx, test_idx = next(strat_shuf_split.split(data[feature_cols], data.Activity))\n",
        "\n",
        "# Create the dataframes\n",
        "X_train = data.loc[train_idx, feature_cols]\n",
        "y_train = data.loc[train_idx, 'Activity']\n",
        "\n",
        "X_test  = data.loc[test_idx, feature_cols]\n",
        "y_test  = data.loc[test_idx, 'Activity']"
      ]
    },
    {
      "cell_type": "code",
      "execution_count": 15,
      "metadata": {
        "jupyter": {
          "outputs_hidden": false
        },
        "id": "GBeV9v9mWR0y",
        "outputId": "5693f999-c4a4-4250-fc69-a67a32da12ee",
        "colab": {
          "base_uri": "https://localhost:8080/"
        }
      },
      "outputs": [
        {
          "output_type": "execute_result",
          "data": {
            "text/plain": [
              "0    0.188792\n",
              "2    0.185046\n",
              "1    0.172562\n",
              "3    0.167152\n",
              "5    0.149951\n",
              "4    0.136496\n",
              "Name: Activity, dtype: float64"
            ]
          },
          "metadata": {},
          "execution_count": 15
        }
      ],
      "source": [
        "y_train.value_counts(normalize=True)"
      ]
    },
    {
      "cell_type": "code",
      "execution_count": 16,
      "metadata": {
        "jupyter": {
          "outputs_hidden": false
        },
        "id": "sFtIj9YlWR0z",
        "outputId": "2275dc91-1edb-4d42-cc1d-f70dc61389d6",
        "colab": {
          "base_uri": "https://localhost:8080/"
        }
      },
      "outputs": [
        {
          "output_type": "execute_result",
          "data": {
            "text/plain": [
              "0    0.188673\n",
              "2    0.185113\n",
              "1    0.172492\n",
              "3    0.167314\n",
              "5    0.149838\n",
              "4    0.136570\n",
              "Name: Activity, dtype: float64"
            ]
          },
          "metadata": {},
          "execution_count": 16
        }
      ],
      "source": [
        "y_test.value_counts(normalize=True)\n",
        "### END SOLUTION"
      ]
    },
    {
      "cell_type": "markdown",
      "metadata": {
        "id": "GG-e5awQWR00"
      },
      "source": [
        "## Question 4\n",
        "\n",
        "*   Fit a logistic regression model without any regularization using all of the features. Be sure to read the documentation about fitting a multi-class model so you understand the coefficient output. Store the model.\n",
        "*   Using cross validation to determine the hyperparameters and fit models using L1 and L2 regularization. Store each of these models as well. Note the limitations on multi-class models, solvers, and regularizations. The regularized models, in particular the L1 model, will probably take a while to fit.\n"
      ]
    },
    {
      "cell_type": "code",
      "execution_count": 17,
      "metadata": {
        "jupyter": {
          "outputs_hidden": false
        },
        "id": "nnXkOozRWR01"
      },
      "outputs": [],
      "source": [
        "### BEGIN SOLUTION\n",
        "from sklearn.linear_model import LogisticRegression\n",
        "\n",
        "# Standard logistic regression\n",
        "lr = LogisticRegression(solver='liblinear').fit(X_train, y_train)"
      ]
    },
    {
      "cell_type": "code",
      "execution_count": 19,
      "metadata": {
        "jupyter": {
          "outputs_hidden": false
        },
        "id": "F0sKF1smWR02"
      },
      "outputs": [],
      "source": [
        "from sklearn.linear_model import LogisticRegressionCV\n",
        "\n",
        "# L1 regularized logistic regression\n",
        "lr_l1 = LogisticRegressionCV(Cs=10, cv=4, penalty='l1', solver='liblinear').fit(X_train, y_train)"
      ]
    },
    {
      "cell_type": "code",
      "execution_count": 20,
      "metadata": {
        "id": "_-E94hqBWR02"
      },
      "outputs": [],
      "source": [
        "# L2 regularized logistic regression\n",
        "lr_l2 = LogisticRegressionCV(Cs=10, cv=4, penalty='l2', solver='liblinear').fit(X_train, y_train)\n",
        "### END SOLUTION"
      ]
    },
    {
      "cell_type": "markdown",
      "metadata": {
        "id": "DgkZ3oN0WR03"
      },
      "source": [
        "## Question 5\n",
        "\n",
        "*   Compare the magnitudes of the coefficients for each of the models. If one-vs-rest fitting was used, each set of coefficients can be plotted separately.\n"
      ]
    },
    {
      "cell_type": "code",
      "execution_count": 21,
      "metadata": {
        "jupyter": {
          "outputs_hidden": false
        },
        "id": "8GeHBqJDWR04",
        "outputId": "ecc0f71c-e9af-4a1d-fb4e-c1030b4bdd1b",
        "colab": {
          "base_uri": "https://localhost:8080/",
          "height": 458
        }
      },
      "outputs": [
        {
          "output_type": "execute_result",
          "data": {
            "text/plain": [
              "           lr                                                          l1  \\\n",
              "            0         1         2         3         4         5         0   \n",
              "5    0.003403 -0.281634 -0.085842 -0.001662 -0.397867  0.199328  0.000000   \n",
              "387 -0.003746  0.209669  0.250573  0.127879  0.326304  0.099537  0.000000   \n",
              "417 -0.024718 -0.033486  0.039561 -0.130309  0.285469 -0.082557 -0.001616   \n",
              "326 -0.012848  0.154478  0.059919  0.073579  0.066925 -0.205619  0.000000   \n",
              "482 -0.018711  0.006484  0.174314  0.249709 -0.125720  0.211377  0.000000   \n",
              "75   0.112774  0.047141 -0.106160  0.221734  0.341123 -0.188118  0.000000   \n",
              "322 -0.001230  0.182227  0.097172  0.171949  0.062356 -0.229890 -0.004989   \n",
              "487  0.001048  0.239755  0.249350 -0.098214  0.346651  0.323537 -0.019662   \n",
              "266 -0.049659 -0.139343 -0.451457  0.308948 -0.238746 -0.081093  0.000000   \n",
              "502  0.019842 -0.053250 -0.322731 -1.004549  0.877641 -0.633997  0.027904   \n",
              "\n",
              "                                                             l2            \\\n",
              "            1         2         3         4         5         0         1   \n",
              "5   -0.410800  0.000000  0.000000 -0.244065  0.000000  0.031943 -1.393963   \n",
              "387  0.083278  0.311283  0.000000  0.220479  0.000000 -0.027258  0.502265   \n",
              "417  0.000000  0.000000 -0.063192  0.168626  0.000000 -0.056193 -0.316175   \n",
              "326  0.000000  0.000000  0.000000  0.078969 -0.111497 -0.038403  0.595279   \n",
              "482  0.000000  0.000000  0.018367  0.000000  0.279201 -0.042849 -0.263571   \n",
              "75   0.000000  0.000000  0.009919  0.605141  0.000000  0.216224 -0.094906   \n",
              "322  0.060738  0.000000  0.453934  0.000000 -0.196794 -0.015966  0.831958   \n",
              "487  0.398294  0.256201 -0.011191  0.224562  0.199356 -0.020499  0.666242   \n",
              "266  0.000000 -1.154981  1.649778 -0.304771  0.000000 -0.058645  0.068240   \n",
              "502  0.000000 -0.451367 -2.185996  2.558886 -2.722481  0.051006  0.504998   \n",
              "\n",
              "                                             \n",
              "            2         3         4         5  \n",
              "5   -0.092422  0.000538 -0.728297  0.335984  \n",
              "387  0.350663  0.307672  0.513075  0.330396  \n",
              "417  0.039321 -0.494337  0.450260 -0.044040  \n",
              "326  0.029543  0.218415  0.139598 -0.459477  \n",
              "482  0.264052  0.602497 -0.123546  0.491109  \n",
              "75  -0.209857  0.568850  0.623721 -0.051047  \n",
              "322  0.103110  0.311052  0.080965 -0.444084  \n",
              "487  0.302261 -0.405073  0.670108  0.765788  \n",
              "266 -0.659262  1.035963 -0.553704 -0.245509  \n",
              "502 -0.516892 -2.470305  1.628420 -1.461186  "
            ],
            "text/html": [
              "\n",
              "  <div id=\"df-428bf5ac-89b4-4163-8e03-d5043dd27349\">\n",
              "    <div class=\"colab-df-container\">\n",
              "      <div>\n",
              "<style scoped>\n",
              "    .dataframe tbody tr th:only-of-type {\n",
              "        vertical-align: middle;\n",
              "    }\n",
              "\n",
              "    .dataframe tbody tr th {\n",
              "        vertical-align: top;\n",
              "    }\n",
              "\n",
              "    .dataframe thead tr th {\n",
              "        text-align: left;\n",
              "    }\n",
              "</style>\n",
              "<table border=\"1\" class=\"dataframe\">\n",
              "  <thead>\n",
              "    <tr>\n",
              "      <th></th>\n",
              "      <th colspan=\"6\" halign=\"left\">lr</th>\n",
              "      <th colspan=\"6\" halign=\"left\">l1</th>\n",
              "      <th colspan=\"6\" halign=\"left\">l2</th>\n",
              "    </tr>\n",
              "    <tr>\n",
              "      <th></th>\n",
              "      <th>0</th>\n",
              "      <th>1</th>\n",
              "      <th>2</th>\n",
              "      <th>3</th>\n",
              "      <th>4</th>\n",
              "      <th>5</th>\n",
              "      <th>0</th>\n",
              "      <th>1</th>\n",
              "      <th>2</th>\n",
              "      <th>3</th>\n",
              "      <th>4</th>\n",
              "      <th>5</th>\n",
              "      <th>0</th>\n",
              "      <th>1</th>\n",
              "      <th>2</th>\n",
              "      <th>3</th>\n",
              "      <th>4</th>\n",
              "      <th>5</th>\n",
              "    </tr>\n",
              "  </thead>\n",
              "  <tbody>\n",
              "    <tr>\n",
              "      <th>5</th>\n",
              "      <td>0.003403</td>\n",
              "      <td>-0.281634</td>\n",
              "      <td>-0.085842</td>\n",
              "      <td>-0.001662</td>\n",
              "      <td>-0.397867</td>\n",
              "      <td>0.199328</td>\n",
              "      <td>0.000000</td>\n",
              "      <td>-0.410800</td>\n",
              "      <td>0.000000</td>\n",
              "      <td>0.000000</td>\n",
              "      <td>-0.244065</td>\n",
              "      <td>0.000000</td>\n",
              "      <td>0.031943</td>\n",
              "      <td>-1.393963</td>\n",
              "      <td>-0.092422</td>\n",
              "      <td>0.000538</td>\n",
              "      <td>-0.728297</td>\n",
              "      <td>0.335984</td>\n",
              "    </tr>\n",
              "    <tr>\n",
              "      <th>387</th>\n",
              "      <td>-0.003746</td>\n",
              "      <td>0.209669</td>\n",
              "      <td>0.250573</td>\n",
              "      <td>0.127879</td>\n",
              "      <td>0.326304</td>\n",
              "      <td>0.099537</td>\n",
              "      <td>0.000000</td>\n",
              "      <td>0.083278</td>\n",
              "      <td>0.311283</td>\n",
              "      <td>0.000000</td>\n",
              "      <td>0.220479</td>\n",
              "      <td>0.000000</td>\n",
              "      <td>-0.027258</td>\n",
              "      <td>0.502265</td>\n",
              "      <td>0.350663</td>\n",
              "      <td>0.307672</td>\n",
              "      <td>0.513075</td>\n",
              "      <td>0.330396</td>\n",
              "    </tr>\n",
              "    <tr>\n",
              "      <th>417</th>\n",
              "      <td>-0.024718</td>\n",
              "      <td>-0.033486</td>\n",
              "      <td>0.039561</td>\n",
              "      <td>-0.130309</td>\n",
              "      <td>0.285469</td>\n",
              "      <td>-0.082557</td>\n",
              "      <td>-0.001616</td>\n",
              "      <td>0.000000</td>\n",
              "      <td>0.000000</td>\n",
              "      <td>-0.063192</td>\n",
              "      <td>0.168626</td>\n",
              "      <td>0.000000</td>\n",
              "      <td>-0.056193</td>\n",
              "      <td>-0.316175</td>\n",
              "      <td>0.039321</td>\n",
              "      <td>-0.494337</td>\n",
              "      <td>0.450260</td>\n",
              "      <td>-0.044040</td>\n",
              "    </tr>\n",
              "    <tr>\n",
              "      <th>326</th>\n",
              "      <td>-0.012848</td>\n",
              "      <td>0.154478</td>\n",
              "      <td>0.059919</td>\n",
              "      <td>0.073579</td>\n",
              "      <td>0.066925</td>\n",
              "      <td>-0.205619</td>\n",
              "      <td>0.000000</td>\n",
              "      <td>0.000000</td>\n",
              "      <td>0.000000</td>\n",
              "      <td>0.000000</td>\n",
              "      <td>0.078969</td>\n",
              "      <td>-0.111497</td>\n",
              "      <td>-0.038403</td>\n",
              "      <td>0.595279</td>\n",
              "      <td>0.029543</td>\n",
              "      <td>0.218415</td>\n",
              "      <td>0.139598</td>\n",
              "      <td>-0.459477</td>\n",
              "    </tr>\n",
              "    <tr>\n",
              "      <th>482</th>\n",
              "      <td>-0.018711</td>\n",
              "      <td>0.006484</td>\n",
              "      <td>0.174314</td>\n",
              "      <td>0.249709</td>\n",
              "      <td>-0.125720</td>\n",
              "      <td>0.211377</td>\n",
              "      <td>0.000000</td>\n",
              "      <td>0.000000</td>\n",
              "      <td>0.000000</td>\n",
              "      <td>0.018367</td>\n",
              "      <td>0.000000</td>\n",
              "      <td>0.279201</td>\n",
              "      <td>-0.042849</td>\n",
              "      <td>-0.263571</td>\n",
              "      <td>0.264052</td>\n",
              "      <td>0.602497</td>\n",
              "      <td>-0.123546</td>\n",
              "      <td>0.491109</td>\n",
              "    </tr>\n",
              "    <tr>\n",
              "      <th>75</th>\n",
              "      <td>0.112774</td>\n",
              "      <td>0.047141</td>\n",
              "      <td>-0.106160</td>\n",
              "      <td>0.221734</td>\n",
              "      <td>0.341123</td>\n",
              "      <td>-0.188118</td>\n",
              "      <td>0.000000</td>\n",
              "      <td>0.000000</td>\n",
              "      <td>0.000000</td>\n",
              "      <td>0.009919</td>\n",
              "      <td>0.605141</td>\n",
              "      <td>0.000000</td>\n",
              "      <td>0.216224</td>\n",
              "      <td>-0.094906</td>\n",
              "      <td>-0.209857</td>\n",
              "      <td>0.568850</td>\n",
              "      <td>0.623721</td>\n",
              "      <td>-0.051047</td>\n",
              "    </tr>\n",
              "    <tr>\n",
              "      <th>322</th>\n",
              "      <td>-0.001230</td>\n",
              "      <td>0.182227</td>\n",
              "      <td>0.097172</td>\n",
              "      <td>0.171949</td>\n",
              "      <td>0.062356</td>\n",
              "      <td>-0.229890</td>\n",
              "      <td>-0.004989</td>\n",
              "      <td>0.060738</td>\n",
              "      <td>0.000000</td>\n",
              "      <td>0.453934</td>\n",
              "      <td>0.000000</td>\n",
              "      <td>-0.196794</td>\n",
              "      <td>-0.015966</td>\n",
              "      <td>0.831958</td>\n",
              "      <td>0.103110</td>\n",
              "      <td>0.311052</td>\n",
              "      <td>0.080965</td>\n",
              "      <td>-0.444084</td>\n",
              "    </tr>\n",
              "    <tr>\n",
              "      <th>487</th>\n",
              "      <td>0.001048</td>\n",
              "      <td>0.239755</td>\n",
              "      <td>0.249350</td>\n",
              "      <td>-0.098214</td>\n",
              "      <td>0.346651</td>\n",
              "      <td>0.323537</td>\n",
              "      <td>-0.019662</td>\n",
              "      <td>0.398294</td>\n",
              "      <td>0.256201</td>\n",
              "      <td>-0.011191</td>\n",
              "      <td>0.224562</td>\n",
              "      <td>0.199356</td>\n",
              "      <td>-0.020499</td>\n",
              "      <td>0.666242</td>\n",
              "      <td>0.302261</td>\n",
              "      <td>-0.405073</td>\n",
              "      <td>0.670108</td>\n",
              "      <td>0.765788</td>\n",
              "    </tr>\n",
              "    <tr>\n",
              "      <th>266</th>\n",
              "      <td>-0.049659</td>\n",
              "      <td>-0.139343</td>\n",
              "      <td>-0.451457</td>\n",
              "      <td>0.308948</td>\n",
              "      <td>-0.238746</td>\n",
              "      <td>-0.081093</td>\n",
              "      <td>0.000000</td>\n",
              "      <td>0.000000</td>\n",
              "      <td>-1.154981</td>\n",
              "      <td>1.649778</td>\n",
              "      <td>-0.304771</td>\n",
              "      <td>0.000000</td>\n",
              "      <td>-0.058645</td>\n",
              "      <td>0.068240</td>\n",
              "      <td>-0.659262</td>\n",
              "      <td>1.035963</td>\n",
              "      <td>-0.553704</td>\n",
              "      <td>-0.245509</td>\n",
              "    </tr>\n",
              "    <tr>\n",
              "      <th>502</th>\n",
              "      <td>0.019842</td>\n",
              "      <td>-0.053250</td>\n",
              "      <td>-0.322731</td>\n",
              "      <td>-1.004549</td>\n",
              "      <td>0.877641</td>\n",
              "      <td>-0.633997</td>\n",
              "      <td>0.027904</td>\n",
              "      <td>0.000000</td>\n",
              "      <td>-0.451367</td>\n",
              "      <td>-2.185996</td>\n",
              "      <td>2.558886</td>\n",
              "      <td>-2.722481</td>\n",
              "      <td>0.051006</td>\n",
              "      <td>0.504998</td>\n",
              "      <td>-0.516892</td>\n",
              "      <td>-2.470305</td>\n",
              "      <td>1.628420</td>\n",
              "      <td>-1.461186</td>\n",
              "    </tr>\n",
              "  </tbody>\n",
              "</table>\n",
              "</div>\n",
              "      <button class=\"colab-df-convert\" onclick=\"convertToInteractive('df-428bf5ac-89b4-4163-8e03-d5043dd27349')\"\n",
              "              title=\"Convert this dataframe to an interactive table.\"\n",
              "              style=\"display:none;\">\n",
              "        \n",
              "  <svg xmlns=\"http://www.w3.org/2000/svg\" height=\"24px\"viewBox=\"0 0 24 24\"\n",
              "       width=\"24px\">\n",
              "    <path d=\"M0 0h24v24H0V0z\" fill=\"none\"/>\n",
              "    <path d=\"M18.56 5.44l.94 2.06.94-2.06 2.06-.94-2.06-.94-.94-2.06-.94 2.06-2.06.94zm-11 1L8.5 8.5l.94-2.06 2.06-.94-2.06-.94L8.5 2.5l-.94 2.06-2.06.94zm10 10l.94 2.06.94-2.06 2.06-.94-2.06-.94-.94-2.06-.94 2.06-2.06.94z\"/><path d=\"M17.41 7.96l-1.37-1.37c-.4-.4-.92-.59-1.43-.59-.52 0-1.04.2-1.43.59L10.3 9.45l-7.72 7.72c-.78.78-.78 2.05 0 2.83L4 21.41c.39.39.9.59 1.41.59.51 0 1.02-.2 1.41-.59l7.78-7.78 2.81-2.81c.8-.78.8-2.07 0-2.86zM5.41 20L4 18.59l7.72-7.72 1.47 1.35L5.41 20z\"/>\n",
              "  </svg>\n",
              "      </button>\n",
              "      \n",
              "  <style>\n",
              "    .colab-df-container {\n",
              "      display:flex;\n",
              "      flex-wrap:wrap;\n",
              "      gap: 12px;\n",
              "    }\n",
              "\n",
              "    .colab-df-convert {\n",
              "      background-color: #E8F0FE;\n",
              "      border: none;\n",
              "      border-radius: 50%;\n",
              "      cursor: pointer;\n",
              "      display: none;\n",
              "      fill: #1967D2;\n",
              "      height: 32px;\n",
              "      padding: 0 0 0 0;\n",
              "      width: 32px;\n",
              "    }\n",
              "\n",
              "    .colab-df-convert:hover {\n",
              "      background-color: #E2EBFA;\n",
              "      box-shadow: 0px 1px 2px rgba(60, 64, 67, 0.3), 0px 1px 3px 1px rgba(60, 64, 67, 0.15);\n",
              "      fill: #174EA6;\n",
              "    }\n",
              "\n",
              "    [theme=dark] .colab-df-convert {\n",
              "      background-color: #3B4455;\n",
              "      fill: #D2E3FC;\n",
              "    }\n",
              "\n",
              "    [theme=dark] .colab-df-convert:hover {\n",
              "      background-color: #434B5C;\n",
              "      box-shadow: 0px 1px 3px 1px rgba(0, 0, 0, 0.15);\n",
              "      filter: drop-shadow(0px 1px 2px rgba(0, 0, 0, 0.3));\n",
              "      fill: #FFFFFF;\n",
              "    }\n",
              "  </style>\n",
              "\n",
              "      <script>\n",
              "        const buttonEl =\n",
              "          document.querySelector('#df-428bf5ac-89b4-4163-8e03-d5043dd27349 button.colab-df-convert');\n",
              "        buttonEl.style.display =\n",
              "          google.colab.kernel.accessAllowed ? 'block' : 'none';\n",
              "\n",
              "        async function convertToInteractive(key) {\n",
              "          const element = document.querySelector('#df-428bf5ac-89b4-4163-8e03-d5043dd27349');\n",
              "          const dataTable =\n",
              "            await google.colab.kernel.invokeFunction('convertToInteractive',\n",
              "                                                     [key], {});\n",
              "          if (!dataTable) return;\n",
              "\n",
              "          const docLinkHtml = 'Like what you see? Visit the ' +\n",
              "            '<a target=\"_blank\" href=https://colab.research.google.com/notebooks/data_table.ipynb>data table notebook</a>'\n",
              "            + ' to learn more about interactive tables.';\n",
              "          element.innerHTML = '';\n",
              "          dataTable['output_type'] = 'display_data';\n",
              "          await google.colab.output.renderOutput(dataTable, element);\n",
              "          const docLink = document.createElement('div');\n",
              "          docLink.innerHTML = docLinkHtml;\n",
              "          element.appendChild(docLink);\n",
              "        }\n",
              "      </script>\n",
              "    </div>\n",
              "  </div>\n",
              "  "
            ]
          },
          "metadata": {},
          "execution_count": 21
        }
      ],
      "source": [
        "### BEGIN SOLUTION\n",
        "# Combine all the coefficients into a dataframe\n",
        "coefficients = list()\n",
        "\n",
        "coeff_labels = ['lr', 'l1', 'l2']\n",
        "coeff_models = [lr, lr_l1, lr_l2]\n",
        "\n",
        "for lab,mod in zip(coeff_labels, coeff_models):\n",
        "    coeffs = mod.coef_\n",
        "    coeff_label = pd.MultiIndex(levels=[[lab], [0,1,2,3,4,5]], \n",
        "                                 codes=[[0,0,0,0,0,0], [0,1,2,3,4,5]])\n",
        "    coefficients.append(pd.DataFrame(coeffs.T, columns=coeff_label))\n",
        "\n",
        "coefficients = pd.concat(coefficients, axis=1)\n",
        "\n",
        "coefficients.sample(10)"
      ]
    },
    {
      "cell_type": "markdown",
      "metadata": {
        "id": "nBaNjRUnWR05"
      },
      "source": [
        "Prepare six separate plots for each of the multi-class coefficients.\n"
      ]
    },
    {
      "cell_type": "code",
      "execution_count": 22,
      "metadata": {
        "jupyter": {
          "outputs_hidden": false
        },
        "id": "TWM7AgmxWR06",
        "outputId": "ce8a0323-630c-4b77-90df-3f62a64b8df7",
        "colab": {
          "base_uri": "https://localhost:8080/",
          "height": 712
        }
      },
      "outputs": [
        {
          "output_type": "display_data",
          "data": {
            "text/plain": [
              "<Figure size 720x720 with 6 Axes>"
            ],
            "image/png": "[encoded data removed]"
          },
          "metadata": {}
        }
      ],
      "source": [
        "fig, axList = plt.subplots(nrows=3, ncols=2)\n",
        "axList = axList.flatten()\n",
        "fig.set_size_inches(10,10)\n",
        "\n",
        "for ax in enumerate(axList):\n",
        "    loc = ax[0]\n",
        "    ax = ax[1]\n",
        "    \n",
        "    data = coefficients.xs(loc, level=1, axis=1)\n",
        "    data.plot(marker='o', ls='', ms=2.0, ax=ax, legend=False)\n",
        "    \n",
        "    if ax is axList[0]:\n",
        "        ax.legend(loc=4)\n",
        "        \n",
        "    ax.set(title='Coefficient Set '+str(loc))\n",
        "\n",
        "plt.tight_layout()\n",
        "### END SOLUTION"
      ]
    },
    {
      "cell_type": "markdown",
      "metadata": {
        "id": "-iX7NL76WR08"
      },
      "source": [
        "## Question 6\n",
        "\n",
        "*   Predict and store the class for each model.\n",
        "*   Store the probability for the predicted class for each model.\n"
      ]
    },
    {
      "cell_type": "code",
      "execution_count": 23,
      "metadata": {
        "jupyter": {
          "outputs_hidden": false
        },
        "id": "y6ZBviMAWR09",
        "outputId": "a2ea0bbc-0a62-4aad-d2a8-867ac440e091",
        "colab": {
          "base_uri": "https://localhost:8080/",
          "height": 206
        }
      },
      "outputs": [
        {
          "output_type": "execute_result",
          "data": {
            "text/plain": [
              "   lr  l1  l2\n",
              "0   3   3   3\n",
              "1   5   5   5\n",
              "2   3   3   3\n",
              "3   1   1   1\n",
              "4   0   0   0"
            ],
            "text/html": [
              "\n",
              "  <div id=\"df-06172509-4cc5-4f9b-8a01-6b7f9424cb88\">\n",
              "    <div class=\"colab-df-container\">\n",
              "      <div>\n",
              "<style scoped>\n",
              "    .dataframe tbody tr th:only-of-type {\n",
              "        vertical-align: middle;\n",
              "    }\n",
              "\n",
              "    .dataframe tbody tr th {\n",
              "        vertical-align: top;\n",
              "    }\n",
              "\n",
              "    .dataframe thead th {\n",
              "        text-align: right;\n",
              "    }\n",
              "</style>\n",
              "<table border=\"1\" class=\"dataframe\">\n",
              "  <thead>\n",
              "    <tr style=\"text-align: right;\">\n",
              "      <th></th>\n",
              "      <th>lr</th>\n",
              "      <th>l1</th>\n",
              "      <th>l2</th>\n",
              "    </tr>\n",
              "  </thead>\n",
              "  <tbody>\n",
              "    <tr>\n",
              "      <th>0</th>\n",
              "      <td>3</td>\n",
              "      <td>3</td>\n",
              "      <td>3</td>\n",
              "    </tr>\n",
              "    <tr>\n",
              "      <th>1</th>\n",
              "      <td>5</td>\n",
              "      <td>5</td>\n",
              "      <td>5</td>\n",
              "    </tr>\n",
              "    <tr>\n",
              "      <th>2</th>\n",
              "      <td>3</td>\n",
              "      <td>3</td>\n",
              "      <td>3</td>\n",
              "    </tr>\n",
              "    <tr>\n",
              "      <th>3</th>\n",
              "      <td>1</td>\n",
              "      <td>1</td>\n",
              "      <td>1</td>\n",
              "    </tr>\n",
              "    <tr>\n",
              "      <th>4</th>\n",
              "      <td>0</td>\n",
              "      <td>0</td>\n",
              "      <td>0</td>\n",
              "    </tr>\n",
              "  </tbody>\n",
              "</table>\n",
              "</div>\n",
              "      <button class=\"colab-df-convert\" onclick=\"convertToInteractive('df-06172509-4cc5-4f9b-8a01-6b7f9424cb88')\"\n",
              "              title=\"Convert this dataframe to an interactive table.\"\n",
              "              style=\"display:none;\">\n",
              "        \n",
              "  <svg xmlns=\"http://www.w3.org/2000/svg\" height=\"24px\"viewBox=\"0 0 24 24\"\n",
              "       width=\"24px\">\n",
              "    <path d=\"M0 0h24v24H0V0z\" fill=\"none\"/>\n",
              "    <path d=\"M18.56 5.44l.94 2.06.94-2.06 2.06-.94-2.06-.94-.94-2.06-.94 2.06-2.06.94zm-11 1L8.5 8.5l.94-2.06 2.06-.94-2.06-.94L8.5 2.5l-.94 2.06-2.06.94zm10 10l.94 2.06.94-2.06 2.06-.94-2.06-.94-.94-2.06-.94 2.06-2.06.94z\"/><path d=\"M17.41 7.96l-1.37-1.37c-.4-.4-.92-.59-1.43-.59-.52 0-1.04.2-1.43.59L10.3 9.45l-7.72 7.72c-.78.78-.78 2.05 0 2.83L4 21.41c.39.39.9.59 1.41.59.51 0 1.02-.2 1.41-.59l7.78-7.78 2.81-2.81c.8-.78.8-2.07 0-2.86zM5.41 20L4 18.59l7.72-7.72 1.47 1.35L5.41 20z\"/>\n",
              "  </svg>\n",
              "      </button>\n",
              "      \n",
              "  <style>\n",
              "    .colab-df-container {\n",
              "      display:flex;\n",
              "      flex-wrap:wrap;\n",
              "      gap: 12px;\n",
              "    }\n",
              "\n",
              "    .colab-df-convert {\n",
              "      background-color: #E8F0FE;\n",
              "      border: none;\n",
              "      border-radius: 50%;\n",
              "      cursor: pointer;\n",
              "      display: none;\n",
              "      fill: #1967D2;\n",
              "      height: 32px;\n",
              "      padding: 0 0 0 0;\n",
              "      width: 32px;\n",
              "    }\n",
              "\n",
              "    .colab-df-convert:hover {\n",
              "      background-color: #E2EBFA;\n",
              "      box-shadow: 0px 1px 2px rgba(60, 64, 67, 0.3), 0px 1px 3px 1px rgba(60, 64, 67, 0.15);\n",
              "      fill: #174EA6;\n",
              "    }\n",
              "\n",
              "    [theme=dark] .colab-df-convert {\n",
              "      background-color: #3B4455;\n",
              "      fill: #D2E3FC;\n",
              "    }\n",
              "\n",
              "    [theme=dark] .colab-df-convert:hover {\n",
              "      background-color: #434B5C;\n",
              "      box-shadow: 0px 1px 3px 1px rgba(0, 0, 0, 0.15);\n",
              "      filter: drop-shadow(0px 1px 2px rgba(0, 0, 0, 0.3));\n",
              "      fill: #FFFFFF;\n",
              "    }\n",
              "  </style>\n",
              "\n",
              "      <script>\n",
              "        const buttonEl =\n",
              "          document.querySelector('#df-06172509-4cc5-4f9b-8a01-6b7f9424cb88 button.colab-df-convert');\n",
              "        buttonEl.style.display =\n",
              "          google.colab.kernel.accessAllowed ? 'block' : 'none';\n",
              "\n",
              "        async function convertToInteractive(key) {\n",
              "          const element = document.querySelector('#df-06172509-4cc5-4f9b-8a01-6b7f9424cb88');\n",
              "          const dataTable =\n",
              "            await google.colab.kernel.invokeFunction('convertToInteractive',\n",
              "                                                     [key], {});\n",
              "          if (!dataTable) return;\n",
              "\n",
              "          const docLinkHtml = 'Like what you see? Visit the ' +\n",
              "            '<a target=\"_blank\" href=https://colab.research.google.com/notebooks/data_table.ipynb>data table notebook</a>'\n",
              "            + ' to learn more about interactive tables.';\n",
              "          element.innerHTML = '';\n",
              "          dataTable['output_type'] = 'display_data';\n",
              "          await google.colab.output.renderOutput(dataTable, element);\n",
              "          const docLink = document.createElement('div');\n",
              "          docLink.innerHTML = docLinkHtml;\n",
              "          element.appendChild(docLink);\n",
              "        }\n",
              "      </script>\n",
              "    </div>\n",
              "  </div>\n",
              "  "
            ]
          },
          "metadata": {},
          "execution_count": 23
        }
      ],
      "source": [
        "### BEGIN SOLUTION\n",
        "# Predict the class and the probability for each\n",
        "y_pred = list()\n",
        "y_prob = list()\n",
        "\n",
        "coeff_labels = ['lr', 'l1', 'l2']\n",
        "coeff_models = [lr, lr_l1, lr_l2]\n",
        "\n",
        "for lab,mod in zip(coeff_labels, coeff_models):\n",
        "    y_pred.append(pd.Series(mod.predict(X_test), name=lab))\n",
        "    y_prob.append(pd.Series(mod.predict_proba(X_test).max(axis=1), name=lab))\n",
        "    \n",
        "y_pred = pd.concat(y_pred, axis=1)\n",
        "y_prob = pd.concat(y_prob, axis=1)\n",
        "\n",
        "y_pred.head()"
      ]
    },
    {
      "cell_type": "code",
      "execution_count": 24,
      "metadata": {
        "jupyter": {
          "outputs_hidden": false
        },
        "id": "VrZIhFcpWR0-",
        "outputId": "518b486c-c9dc-444b-b235-9f543fb42f32",
        "colab": {
          "base_uri": "https://localhost:8080/",
          "height": 206
        }
      },
      "outputs": [
        {
          "output_type": "execute_result",
          "data": {
            "text/plain": [
              "         lr        l1        l2\n",
              "0  0.998939  0.998943  0.999747\n",
              "1  0.988232  0.999493  0.999489\n",
              "2  0.987605  0.995230  0.999657\n",
              "3  0.981381  0.999191  0.994346\n",
              "4  0.998277  0.999917  0.999997"
            ],
            "text/html": [
              "\n",
              "  <div id=\"df-ee95e477-4485-4d85-a945-be2cfaaa21da\">\n",
              "    <div class=\"colab-df-container\">\n",
              "      <div>\n",
              "<style scoped>\n",
              "    .dataframe tbody tr th:only-of-type {\n",
              "        vertical-align: middle;\n",
              "    }\n",
              "\n",
              "    .dataframe tbody tr th {\n",
              "        vertical-align: top;\n",
              "    }\n",
              "\n",
              "    .dataframe thead th {\n",
              "        text-align: right;\n",
              "    }\n",
              "</style>\n",
              "<table border=\"1\" class=\"dataframe\">\n",
              "  <thead>\n",
              "    <tr style=\"text-align: right;\">\n",
              "      <th></th>\n",
              "      <th>lr</th>\n",
              "      <th>l1</th>\n",
              "      <th>l2</th>\n",
              "    </tr>\n",
              "  </thead>\n",
              "  <tbody>\n",
              "    <tr>\n",
              "      <th>0</th>\n",
              "      <td>0.998939</td>\n",
              "      <td>0.998943</td>\n",
              "      <td>0.999747</td>\n",
              "    </tr>\n",
              "    <tr>\n",
              "      <th>1</th>\n",
              "      <td>0.988232</td>\n",
              "      <td>0.999493</td>\n",
              "      <td>0.999489</td>\n",
              "    </tr>\n",
              "    <tr>\n",
              "      <th>2</th>\n",
              "      <td>0.987605</td>\n",
              "      <td>0.995230</td>\n",
              "      <td>0.999657</td>\n",
              "    </tr>\n",
              "    <tr>\n",
              "      <th>3</th>\n",
              "      <td>0.981381</td>\n",
              "      <td>0.999191</td>\n",
              "      <td>0.994346</td>\n",
              "    </tr>\n",
              "    <tr>\n",
              "      <th>4</th>\n",
              "      <td>0.998277</td>\n",
              "      <td>0.999917</td>\n",
              "      <td>0.999997</td>\n",
              "    </tr>\n",
              "  </tbody>\n",
              "</table>\n",
              "</div>\n",
              "      <button class=\"colab-df-convert\" onclick=\"convertToInteractive('df-ee95e477-4485-4d85-a945-be2cfaaa21da')\"\n",
              "              title=\"Convert this dataframe to an interactive table.\"\n",
              "              style=\"display:none;\">\n",
              "        \n",
              "  <svg xmlns=\"http://www.w3.org/2000/svg\" height=\"24px\"viewBox=\"0 0 24 24\"\n",
              "       width=\"24px\">\n",
              "    <path d=\"M0 0h24v24H0V0z\" fill=\"none\"/>\n",
              "    <path d=\"M18.56 5.44l.94 2.06.94-2.06 2.06-.94-2.06-.94-.94-2.06-.94 2.06-2.06.94zm-11 1L8.5 8.5l.94-2.06 2.06-.94-2.06-.94L8.5 2.5l-.94 2.06-2.06.94zm10 10l.94 2.06.94-2.06 2.06-.94-2.06-.94-.94-2.06-.94 2.06-2.06.94z\"/><path d=\"M17.41 7.96l-1.37-1.37c-.4-.4-.92-.59-1.43-.59-.52 0-1.04.2-1.43.59L10.3 9.45l-7.72 7.72c-.78.78-.78 2.05 0 2.83L4 21.41c.39.39.9.59 1.41.59.51 0 1.02-.2 1.41-.59l7.78-7.78 2.81-2.81c.8-.78.8-2.07 0-2.86zM5.41 20L4 18.59l7.72-7.72 1.47 1.35L5.41 20z\"/>\n",
              "  </svg>\n",
              "      </button>\n",
              "      \n",
              "  <style>\n",
              "    .colab-df-container {\n",
              "      display:flex;\n",
              "      flex-wrap:wrap;\n",
              "      gap: 12px;\n",
              "    }\n",
              "\n",
              "    .colab-df-convert {\n",
              "      background-color: #E8F0FE;\n",
              "      border: none;\n",
              "      border-radius: 50%;\n",
              "      cursor: pointer;\n",
              "      display: none;\n",
              "      fill: #1967D2;\n",
              "      height: 32px;\n",
              "      padding: 0 0 0 0;\n",
              "      width: 32px;\n",
              "    }\n",
              "\n",
              "    .colab-df-convert:hover {\n",
              "      background-color: #E2EBFA;\n",
              "      box-shadow: 0px 1px 2px rgba(60, 64, 67, 0.3), 0px 1px 3px 1px rgba(60, 64, 67, 0.15);\n",
              "      fill: #174EA6;\n",
              "    }\n",
              "\n",
              "    [theme=dark] .colab-df-convert {\n",
              "      background-color: #3B4455;\n",
              "      fill: #D2E3FC;\n",
              "    }\n",
              "\n",
              "    [theme=dark] .colab-df-convert:hover {\n",
              "      background-color: #434B5C;\n",
              "      box-shadow: 0px 1px 3px 1px rgba(0, 0, 0, 0.15);\n",
              "      filter: drop-shadow(0px 1px 2px rgba(0, 0, 0, 0.3));\n",
              "      fill: #FFFFFF;\n",
              "    }\n",
              "  </style>\n",
              "\n",
              "      <script>\n",
              "        const buttonEl =\n",
              "          document.querySelector('#df-ee95e477-4485-4d85-a945-be2cfaaa21da button.colab-df-convert');\n",
              "        buttonEl.style.display =\n",
              "          google.colab.kernel.accessAllowed ? 'block' : 'none';\n",
              "\n",
              "        async function convertToInteractive(key) {\n",
              "          const element = document.querySelector('#df-ee95e477-4485-4d85-a945-be2cfaaa21da');\n",
              "          const dataTable =\n",
              "            await google.colab.kernel.invokeFunction('convertToInteractive',\n",
              "                                                     [key], {});\n",
              "          if (!dataTable) return;\n",
              "\n",
              "          const docLinkHtml = 'Like what you see? Visit the ' +\n",
              "            '<a target=\"_blank\" href=https://colab.research.google.com/notebooks/data_table.ipynb>data table notebook</a>'\n",
              "            + ' to learn more about interactive tables.';\n",
              "          element.innerHTML = '';\n",
              "          dataTable['output_type'] = 'display_data';\n",
              "          await google.colab.output.renderOutput(dataTable, element);\n",
              "          const docLink = document.createElement('div');\n",
              "          docLink.innerHTML = docLinkHtml;\n",
              "          element.appendChild(docLink);\n",
              "        }\n",
              "      </script>\n",
              "    </div>\n",
              "  </div>\n",
              "  "
            ]
          },
          "metadata": {},
          "execution_count": 24
        }
      ],
      "source": [
        "y_prob.head()\n",
        "### END SOLUTION"
      ]
    },
    {
      "cell_type": "markdown",
      "metadata": {
        "id": "0VvtmrRQWR0_"
      },
      "source": [
        "## Question 7\n",
        "\n",
        "For each model, calculate the following error metrics:\n",
        "\n",
        "*   Accuracy\n",
        "*   Precision\n",
        "*   Recall\n",
        "*   F-score\n",
        "*   Confusion Matrix\n",
        "\n",
        "Decide how to combine the multi-class metrics into a single value for each model.\n"
      ]
    },
    {
      "cell_type": "code",
      "execution_count": 25,
      "metadata": {
        "jupyter": {
          "outputs_hidden": false
        },
        "id": "EpZQFMe9WR0_"
      },
      "outputs": [],
      "source": [
        "### BEGIN SOLUTION\n",
        "from sklearn.metrics import precision_recall_fscore_support as score\n",
        "from sklearn.metrics import confusion_matrix, accuracy_score, roc_auc_score\n",
        "from sklearn.preprocessing import label_binarize\n",
        "\n",
        "metrics = list()\n",
        "cm = dict()\n",
        "\n",
        "for lab in coeff_labels:\n",
        "\n",
        "    # Preciision, recall, f-score from the multi-class support function\n",
        "    precision, recall, fscore, _ = score(y_test, y_pred[lab], average='weighted')\n",
        "    \n",
        "    # The usual way to calculate accuracy\n",
        "    accuracy = accuracy_score(y_test, y_pred[lab])\n",
        "    \n",
        "    # ROC-AUC scores can be calculated by binarizing the data\n",
        "    auc = roc_auc_score(label_binarize(y_test, classes=[0,1,2,3,4,5]),\n",
        "              label_binarize(y_pred[lab], classes=[0,1,2,3,4,5]), \n",
        "              average='weighted')\n",
        "    \n",
        "    # Last, the confusion matrix\n",
        "    cm[lab] = confusion_matrix(y_test, y_pred[lab])\n",
        "    \n",
        "    metrics.append(pd.Series({'precision':precision, 'recall':recall, \n",
        "                              'fscore':fscore, 'accuracy':accuracy,\n",
        "                              'auc':auc}, \n",
        "                             name=lab))\n",
        "\n",
        "metrics = pd.concat(metrics, axis=1)"
      ]
    },
    {
      "cell_type": "code",
      "execution_count": 26,
      "metadata": {
        "jupyter": {
          "outputs_hidden": false
        },
        "id": "AtKQbB4FWR1A",
        "outputId": "9d202830-4c9c-49c2-ceab-bdf73cc77249",
        "colab": {
          "base_uri": "https://localhost:8080/",
          "height": 206
        }
      },
      "outputs": [
        {
          "output_type": "execute_result",
          "data": {
            "text/plain": [
              "                 lr        l1        l2\n",
              "precision  0.984144  0.983835  0.983824\n",
              "recall     0.984142  0.983819  0.983819\n",
              "fscore     0.984143  0.983815  0.983819\n",
              "accuracy   0.984142  0.983819  0.983819\n",
              "auc        0.990384  0.990144  0.990165"
            ],
            "text/html": [
              "\n",
              "  <div id=\"df-4b5024ad-4162-4a20-9c30-9536737c2e87\">\n",
              "    <div class=\"colab-df-container\">\n",
              "      <div>\n",
              "<style scoped>\n",
              "    .dataframe tbody tr th:only-of-type {\n",
              "        vertical-align: middle;\n",
              "    }\n",
              "\n",
              "    .dataframe tbody tr th {\n",
              "        vertical-align: top;\n",
              "    }\n",
              "\n",
              "    .dataframe thead th {\n",
              "        text-align: right;\n",
              "    }\n",
              "</style>\n",
              "<table border=\"1\" class=\"dataframe\">\n",
              "  <thead>\n",
              "    <tr style=\"text-align: right;\">\n",
              "      <th></th>\n",
              "      <th>lr</th>\n",
              "      <th>l1</th>\n",
              "      <th>l2</th>\n",
              "    </tr>\n",
              "  </thead>\n",
              "  <tbody>\n",
              "    <tr>\n",
              "      <th>precision</th>\n",
              "      <td>0.984144</td>\n",
              "      <td>0.983835</td>\n",
              "      <td>0.983824</td>\n",
              "    </tr>\n",
              "    <tr>\n",
              "      <th>recall</th>\n",
              "      <td>0.984142</td>\n",
              "      <td>0.983819</td>\n",
              "      <td>0.983819</td>\n",
              "    </tr>\n",
              "    <tr>\n",
              "      <th>fscore</th>\n",
              "      <td>0.984143</td>\n",
              "      <td>0.983815</td>\n",
              "      <td>0.983819</td>\n",
              "    </tr>\n",
              "    <tr>\n",
              "      <th>accuracy</th>\n",
              "      <td>0.984142</td>\n",
              "      <td>0.983819</td>\n",
              "      <td>0.983819</td>\n",
              "    </tr>\n",
              "    <tr>\n",
              "      <th>auc</th>\n",
              "      <td>0.990384</td>\n",
              "      <td>0.990144</td>\n",
              "      <td>0.990165</td>\n",
              "    </tr>\n",
              "  </tbody>\n",
              "</table>\n",
              "</div>\n",
              "      <button class=\"colab-df-convert\" onclick=\"convertToInteractive('df-4b5024ad-4162-4a20-9c30-9536737c2e87')\"\n",
              "              title=\"Convert this dataframe to an interactive table.\"\n",
              "              style=\"display:none;\">\n",
              "        \n",
              "  <svg xmlns=\"http://www.w3.org/2000/svg\" height=\"24px\"viewBox=\"0 0 24 24\"\n",
              "       width=\"24px\">\n",
              "    <path d=\"M0 0h24v24H0V0z\" fill=\"none\"/>\n",
              "    <path d=\"M18.56 5.44l.94 2.06.94-2.06 2.06-.94-2.06-.94-.94-2.06-.94 2.06-2.06.94zm-11 1L8.5 8.5l.94-2.06 2.06-.94-2.06-.94L8.5 2.5l-.94 2.06-2.06.94zm10 10l.94 2.06.94-2.06 2.06-.94-2.06-.94-.94-2.06-.94 2.06-2.06.94z\"/><path d=\"M17.41 7.96l-1.37-1.37c-.4-.4-.92-.59-1.43-.59-.52 0-1.04.2-1.43.59L10.3 9.45l-7.72 7.72c-.78.78-.78 2.05 0 2.83L4 21.41c.39.39.9.59 1.41.59.51 0 1.02-.2 1.41-.59l7.78-7.78 2.81-2.81c.8-.78.8-2.07 0-2.86zM5.41 20L4 18.59l7.72-7.72 1.47 1.35L5.41 20z\"/>\n",
              "  </svg>\n",
              "      </button>\n",
              "      \n",
              "  <style>\n",
              "    .colab-df-container {\n",
              "      display:flex;\n",
              "      flex-wrap:wrap;\n",
              "      gap: 12px;\n",
              "    }\n",
              "\n",
              "    .colab-df-convert {\n",
              "      background-color: #E8F0FE;\n",
              "      border: none;\n",
              "      border-radius: 50%;\n",
              "      cursor: pointer;\n",
              "      display: none;\n",
              "      fill: #1967D2;\n",
              "      height: 32px;\n",
              "      padding: 0 0 0 0;\n",
              "      width: 32px;\n",
              "    }\n",
              "\n",
              "    .colab-df-convert:hover {\n",
              "      background-color: #E2EBFA;\n",
              "      box-shadow: 0px 1px 2px rgba(60, 64, 67, 0.3), 0px 1px 3px 1px rgba(60, 64, 67, 0.15);\n",
              "      fill: #174EA6;\n",
              "    }\n",
              "\n",
              "    [theme=dark] .colab-df-convert {\n",
              "      background-color: #3B4455;\n",
              "      fill: #D2E3FC;\n",
              "    }\n",
              "\n",
              "    [theme=dark] .colab-df-convert:hover {\n",
              "      background-color: #434B5C;\n",
              "      box-shadow: 0px 1px 3px 1px rgba(0, 0, 0, 0.15);\n",
              "      filter: drop-shadow(0px 1px 2px rgba(0, 0, 0, 0.3));\n",
              "      fill: #FFFFFF;\n",
              "    }\n",
              "  </style>\n",
              "\n",
              "      <script>\n",
              "        const buttonEl =\n",
              "          document.querySelector('#df-4b5024ad-4162-4a20-9c30-9536737c2e87 button.colab-df-convert');\n",
              "        buttonEl.style.display =\n",
              "          google.colab.kernel.accessAllowed ? 'block' : 'none';\n",
              "\n",
              "        async function convertToInteractive(key) {\n",
              "          const element = document.querySelector('#df-4b5024ad-4162-4a20-9c30-9536737c2e87');\n",
              "          const dataTable =\n",
              "            await google.colab.kernel.invokeFunction('convertToInteractive',\n",
              "                                                     [key], {});\n",
              "          if (!dataTable) return;\n",
              "\n",
              "          const docLinkHtml = 'Like what you see? Visit the ' +\n",
              "            '<a target=\"_blank\" href=https://colab.research.google.com/notebooks/data_table.ipynb>data table notebook</a>'\n",
              "            + ' to learn more about interactive tables.';\n",
              "          element.innerHTML = '';\n",
              "          dataTable['output_type'] = 'display_data';\n",
              "          await google.colab.output.renderOutput(dataTable, element);\n",
              "          const docLink = document.createElement('div');\n",
              "          docLink.innerHTML = docLinkHtml;\n",
              "          element.appendChild(docLink);\n",
              "        }\n",
              "      </script>\n",
              "    </div>\n",
              "  </div>\n",
              "  "
            ]
          },
          "metadata": {},
          "execution_count": 26
        }
      ],
      "source": [
        "metrics\n",
        "### END SOLUTION"
      ]
    },
    {
      "cell_type": "markdown",
      "metadata": {
        "id": "0-UZXPZpWR1C"
      },
      "source": [
        "## Question 8\n",
        "\n",
        "*   Display or plot the confusion matrix for each model.\n"
      ]
    },
    {
      "cell_type": "code",
      "execution_count": 27,
      "metadata": {
        "jupyter": {
          "outputs_hidden": false
        },
        "id": "dh7CQGjHWR1D",
        "outputId": "9031c592-71bf-4764-bb22-5f955a257f19",
        "colab": {
          "base_uri": "https://localhost:8080/",
          "height": 712
        }
      },
      "outputs": [
        {
          "output_type": "display_data",
          "data": {
            "text/plain": [
              "<Figure size 864x720 with 7 Axes>"
            ],
            "image/png": "[encoded data removed]"
          },
          "metadata": {}
        }
      ],
      "source": [
        "### BEGIN SOLUTION\n",
        "fig, axList = plt.subplots(nrows=2, ncols=2)\n",
        "axList = axList.flatten()\n",
        "fig.set_size_inches(12, 10)\n",
        "\n",
        "axList[-1].axis('off')\n",
        "\n",
        "for ax,lab in zip(axList[:-1], coeff_labels):\n",
        "    sns.heatmap(cm[lab], ax=ax, annot=True, fmt='d');\n",
        "    ax.set(title=lab);\n",
        "    \n",
        "plt.tight_layout()\n",
        "### END SOLUTION"
      ]
    },
    {
      "cell_type": "markdown",
      "metadata": {
        "id": "HqZ03DJDWR1E"
      },
      "source": [
        "***\n",
        "\n",
        "### Machine Learning Foundation (C) 2020 IBM Corporation\n"
      ]
    }
  ],
  "metadata": {
    "kernelspec": {
      "display_name": "Python",
      "language": "python",
      "name": "conda-env-python-py"
    },
    "language_info": {
      "codemirror_mode": {
        "name": "ipython",
        "version": 3
      },
      "file_extension": ".py",
      "mimetype": "text/x-python",
      "name": "python",
      "nbconvert_exporter": "python",
      "pygments_lexer": "ipython3",
      "version": "3.7.12"
    },
    "colab": {
      "name": "03a_LAB_Logistic_Regression_Error_Metrics.ipynb",
      "provenance": []
    }
  },
  "nbformat": 4,
  "nbformat_minor": 0
}