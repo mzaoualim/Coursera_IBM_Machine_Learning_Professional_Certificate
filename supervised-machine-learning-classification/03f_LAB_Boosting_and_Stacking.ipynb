{
  "cells": [
    {
      "cell_type": "markdown",
      "metadata": {
        "run_control": {
          "marked": true
        },
        "id": "V4Cd6SQ3Qd2o"
      },
      "source": [
        "<p style=\"text-align:center\">\n",
        "    <a href=\"https://skills.network/?utm_medium=Exinfluencer&utm_source=Exinfluencer&utm_content=000026UJ&utm_term=10006555&utm_id=NA-SkillsNetwork-Channel-SkillsNetworkCoursesIBMML241ENSkillsNetwork31576874-2022-01-01\" target=\"_blank\">\n",
        "    <img src=\"https://cf-courses-data.s3.us.cloud-object-storage.appdomain.cloud/assets/logos/SN_web_lightmode.png\" width=\"200\" alt=\"Skills Network Logo\"  />\n",
        "    </a>\n",
        "</p>\n",
        "\n",
        "# Machine Learning Foundation\n",
        "\n",
        "## Course 3, Part f: Boosting and Stacking LAB\n",
        "\n",
        "Estimated time needed: **45** minutes\n",
        "\n",
        "## Objectives\n",
        "\n",
        "After completing this demo you will be able to:\n",
        "\n",
        "*   Understand how Gradient Boosting helps reduce error\n",
        "*   Identify the benefits of using AdaBoost\n",
        "*   Interpret the benefits of stacking models and comparing their results to boosted models\n"
      ]
    },
    {
      "cell_type": "markdown",
      "metadata": {
        "id": "F_9wUQGiQd2w"
      },
      "source": [
        "<h1>Table of contents</h1>\n",
        "\n",
        "<div class=\"alert alert-block alert-info\" style=\"margin-top: 20px\">\n",
        "    <ol>\n",
        "        <li><a href=\"https://#Q1\">Question 1</a></li>\n",
        "        <li><a href=\"https://#Q2\">Question 2</a></li>\n",
        "        <li><a href=\"https://#Q3\">Question 3</a></li>\n",
        "        <li><a href=\"https://#Q4\">Question 4</a></li>\n",
        "        <li><a href=\"https://#Q5\">Question 5</a></li>\n",
        "        <li><a href=\"https://#Q6\">Question 6</a></li>\n",
        "</div>\n",
        "<br>\n",
        "<hr>\n"
      ]
    },
    {
      "cell_type": "markdown",
      "metadata": {
        "run_control": {
          "marked": true
        },
        "id": "apg7IafrQd2z"
      },
      "source": [
        "## Introduction\n",
        "\n",
        "We will be using the [Human Activity Recognition with Smartphones](https://archive.ics.uci.edu/ml/datasets/Human+Activity+Recognition+Using+Smartphones?utm_medium=Exinfluencer&utm_source=Exinfluencer&utm_content=000026UJ&utm_term=10006555&utm_id=NA-SkillsNetwork-Channel-SkillsNetworkCoursesIBMML241ENSkillsNetwork31576874-2022-01-01) database, which was built from the recordings of study participants performing activities of daily living (ADL) while carrying a smartphone with an embedded inertial sensors. The objective is to classify activities into one of the six activities (walking, walking upstairs, walking downstairs, sitting, standing, and laying) performed.\n",
        "\n",
        "For each record in the dataset it is provided:\n",
        "\n",
        "*   Triaxial acceleration from the accelerometer (total acceleration) and the estimated body acceleration.\n",
        "*   Triaxial angular velocity from the gyroscope.\n",
        "*   A 561-feature vector with time and frequency domain variables.\n",
        "*   Its activity label.\n",
        "\n",
        "More information about the features is available on the website shown above.\n"
      ]
    },
    {
      "cell_type": "code",
      "execution_count": 11,
      "metadata": {
        "ExecuteTime": {
          "end_time": "2017-04-10T01:06:43.840071Z",
          "start_time": "2017-04-09T21:06:43.833258-04:00"
        },
        "run_control": {
          "marked": true
        },
        "id": "GAX_t2V-Qd24"
      },
      "outputs": [],
      "source": [
        "def warn(*args, **kwargs):\n",
        "    pass\n",
        "import warnings\n",
        "warnings.warn = warn\n",
        "\n",
        "import seaborn as sns, pandas as pd, numpy as np"
      ]
    },
    {
      "cell_type": "markdown",
      "metadata": {
        "run_control": {
          "marked": true
        },
        "id": "p1X9TANTQd27"
      },
      "source": [
        "<h2 id=\"Q1\">Question 1</h2>\n",
        "\n",
        "*   Import the data from the file `Human_Activity_Recognition_Using_Smartphones_Data.csv` and examine the shape and data types. For the data types, there will be too many to list each column separately. Rather, aggregate the types by count.\n",
        "*   Determine if the float columns need to be scaled.\n"
      ]
    },
    {
      "cell_type": "code",
      "execution_count": 12,
      "metadata": {
        "ExecuteTime": {
          "end_time": "2017-04-10T01:06:46.240918Z",
          "start_time": "2017-04-09T21:06:43.842607-04:00"
        },
        "run_control": {
          "marked": true
        },
        "id": "3kLNBFSYQd29"
      },
      "outputs": [],
      "source": [
        "### BEGIN SOLUTION\n",
        "data = pd.read_csv(\"https://cf-courses-data.s3.us.cloud-object-storage.appdomain.cloud/IBM-ML241EN-SkillsNetwork/labs/datasets/Human_Activity_Recognition_Using_Smartphones_Data.csv\", sep=',')"
      ]
    },
    {
      "cell_type": "markdown",
      "metadata": {
        "run_control": {
          "marked": true
        },
        "id": "p8-MPMy9Qd3A"
      },
      "source": [
        "The data has quite a few predictor columns.\n"
      ]
    },
    {
      "cell_type": "code",
      "execution_count": 13,
      "metadata": {
        "ExecuteTime": {
          "end_time": "2017-04-10T01:06:46.257618Z",
          "start_time": "2017-04-09T21:06:46.243291-04:00"
        },
        "jupyter": {
          "outputs_hidden": false
        },
        "run_control": {
          "marked": true
        },
        "id": "12sFszq9Qd3C",
        "outputId": "874ade5b-8998-46f4-97a9-2852d6b82ded",
        "colab": {
          "base_uri": "https://localhost:8080/"
        }
      },
      "outputs": [
        {
          "output_type": "execute_result",
          "data": {
            "text/plain": [
              "(10299, 562)"
            ]
          },
          "metadata": {},
          "execution_count": 13
        }
      ],
      "source": [
        "data.shape"
      ]
    },
    {
      "cell_type": "markdown",
      "metadata": {
        "run_control": {
          "marked": true
        },
        "id": "AGWKQsFgQd3E"
      },
      "source": [
        "And they're all float values. The only non-float is the categories column, which is being predicted.\n"
      ]
    },
    {
      "cell_type": "code",
      "execution_count": 14,
      "metadata": {
        "ExecuteTime": {
          "end_time": "2017-04-10T01:06:46.310075Z",
          "start_time": "2017-04-09T21:06:46.260274-04:00"
        },
        "jupyter": {
          "outputs_hidden": false
        },
        "run_control": {
          "marked": true
        },
        "id": "VSht7NkiQd3H",
        "outputId": "0daa02ee-3df2-496d-dd26-403010330b8c",
        "colab": {
          "base_uri": "https://localhost:8080/"
        }
      },
      "outputs": [
        {
          "output_type": "execute_result",
          "data": {
            "text/plain": [
              "float64    561\n",
              "object       1\n",
              "dtype: int64"
            ]
          },
          "metadata": {},
          "execution_count": 14
        }
      ],
      "source": [
        "data.dtypes.value_counts()"
      ]
    },
    {
      "cell_type": "markdown",
      "metadata": {
        "run_control": {
          "marked": true
        },
        "id": "UhSY_VbsQd3J"
      },
      "source": [
        "The minimum and maximum value for the float columns is -1.0 and 1.0, respectively. However, scaling is never required for tree-based methods.\n"
      ]
    },
    {
      "cell_type": "code",
      "execution_count": 15,
      "metadata": {
        "ExecuteTime": {
          "end_time": "2017-04-10T01:06:46.596533Z",
          "start_time": "2017-04-09T21:06:46.314312-04:00"
        },
        "jupyter": {
          "outputs_hidden": false
        },
        "run_control": {
          "marked": true
        },
        "id": "Vf5pffIXQd3K",
        "outputId": "a5bf4290-1a0a-4419-a53e-235de9cc6a59",
        "colab": {
          "base_uri": "https://localhost:8080/"
        }
      },
      "outputs": [
        {
          "output_type": "stream",
          "name": "stdout",
          "text": [
            "True\n",
            "True\n"
          ]
        }
      ],
      "source": [
        "# Mask to select float columns\n",
        "float_columns = (data.dtypes == np.float)\n",
        "\n",
        "# Verify that the maximum of all float columns is 1.0\n",
        "print( (data.loc[:,float_columns].max()==1.0).all() )\n",
        "\n",
        "# Verify that the minimum of all float columns is -1.0\n",
        "print( (data.loc[:,float_columns].min()==-1.0).all() )\n",
        "### END SOLUTION"
      ]
    },
    {
      "cell_type": "markdown",
      "metadata": {
        "run_control": {
          "marked": true
        },
        "id": "4iK683IKQd3L"
      },
      "source": [
        "<h2 id=\"Q2\">Question 2</h2>\n",
        "\n",
        "*   Integer encode the activities.\n",
        "*   Split the data into train and test data sets. Decide if the data will be stratified or not during the train/test split.\n"
      ]
    },
    {
      "cell_type": "code",
      "execution_count": 16,
      "metadata": {
        "ExecuteTime": {
          "end_time": "2017-04-10T01:06:47.046807Z",
          "start_time": "2017-04-09T21:06:46.600558-04:00"
        },
        "jupyter": {
          "outputs_hidden": false
        },
        "run_control": {
          "marked": true
        },
        "id": "il0XCswLQd3M",
        "outputId": "1752b3e2-9b4d-43d8-9260-a44ae9eb68f7",
        "colab": {
          "base_uri": "https://localhost:8080/"
        }
      },
      "outputs": [
        {
          "output_type": "execute_result",
          "data": {
            "text/plain": [
              "array(['LAYING', 'SITTING', 'STANDING', 'WALKING', 'WALKING_DOWNSTAIRS',\n",
              "       'WALKING_UPSTAIRS'], dtype=object)"
            ]
          },
          "metadata": {},
          "execution_count": 16
        }
      ],
      "source": [
        "### BEGIN SOLUTION\n",
        "from sklearn.preprocessing import LabelEncoder\n",
        "\n",
        "le = LabelEncoder()\n",
        "\n",
        "data['Activity'] = le.fit_transform(data['Activity'])\n",
        "\n",
        "le.classes_"
      ]
    },
    {
      "cell_type": "code",
      "execution_count": 17,
      "metadata": {
        "ExecuteTime": {
          "end_time": "2017-04-10T01:06:47.053951Z",
          "start_time": "2017-04-09T21:06:47.048890-04:00"
        },
        "jupyter": {
          "outputs_hidden": false
        },
        "run_control": {
          "marked": true
        },
        "id": "ibiTg-xUQd3O",
        "outputId": "69c82df8-a343-4342-ceb2-c31c88ac3065",
        "colab": {
          "base_uri": "https://localhost:8080/"
        }
      },
      "outputs": [
        {
          "output_type": "execute_result",
          "data": {
            "text/plain": [
              "array([2, 1, 0, 3, 4, 5])"
            ]
          },
          "metadata": {},
          "execution_count": 17
        }
      ],
      "source": [
        "data.Activity.unique()"
      ]
    },
    {
      "cell_type": "markdown",
      "metadata": {
        "run_control": {
          "marked": true
        },
        "id": "ijV2oCQuQd3P"
      },
      "source": [
        "**NOTE**: We are about to create training and test sets from `data`. On those datasets, we are going to run grid searches over many choices of parameters. This can take some time. In order to shorten the grid search time, feel free to downsample `data` and create `X_train, X_test, y_train, y_test` from the downsampled dataset.\n",
        "\n",
        "Now split the data into train and test data sets. A stratified split was not used here. If there are issues with any of the error metrics on the test set, it can be a good idea to start model fitting over using a stratified split. Boosting is a pretty powerful model, though, so it may not be necessary in this case.\n"
      ]
    },
    {
      "cell_type": "code",
      "execution_count": 18,
      "metadata": {
        "ExecuteTime": {
          "end_time": "2017-04-10T01:06:47.155794Z",
          "start_time": "2017-04-09T21:06:47.055576-04:00"
        },
        "run_control": {
          "marked": true
        },
        "id": "Vb9MTSddQd3Q"
      },
      "outputs": [],
      "source": [
        "from sklearn.model_selection import train_test_split\n",
        "\n",
        "# Alternatively, we could stratify the categories in the split, as was done previously\n",
        "feature_columns = [x for x in data.columns if x != 'Activity']\n",
        "\n",
        "X_train, X_test, y_train, y_test = train_test_split(data[feature_columns], data['Activity'],\n",
        "                 test_size=0.3, random_state=42)\n"
      ]
    },
    {
      "cell_type": "code",
      "execution_count": 19,
      "metadata": {
        "ExecuteTime": {
          "end_time": "2017-04-10T01:06:47.170296Z",
          "start_time": "2017-04-09T21:06:47.157710-04:00"
        },
        "jupyter": {
          "outputs_hidden": false
        },
        "run_control": {
          "marked": true
        },
        "id": "xJrNio4bQd3S",
        "outputId": "ad3601d4-6434-4f4a-9641-16b49672a793",
        "colab": {
          "base_uri": "https://localhost:8080/"
        }
      },
      "outputs": [
        {
          "output_type": "execute_result",
          "data": {
            "text/plain": [
              "((7209, 561), (7209,), (3090, 561), (3090,))"
            ]
          },
          "metadata": {},
          "execution_count": 19
        }
      ],
      "source": [
        "X_train.shape, y_train.shape, X_test.shape, y_test.shape\n",
        "### END SOLUTION"
      ]
    },
    {
      "cell_type": "markdown",
      "metadata": {
        "run_control": {
          "marked": true
        },
        "id": "dafvHfmlQd3T"
      },
      "source": [
        "<h2 id=\"Q3\">Question 3</h2>\n",
        "\n",
        "*   Fit gradient boosted tree models with all parameters set to their defaults with the following tree numbers (`n_estimators = [15, 25, 50, 100, 200, 400]`) and evaluate the accuracy on the test data for each of these models.\n",
        "*   Plot the accuracy as a function of estimator number.\n",
        "\n",
        "*Note:* there is no out-of-bag error for boosted models. And the `warm_flag=True` setting has a bug in the gradient boosted model, so don't use it. Simply create the model inside the `for` loop and set the number of estimators at this time. This will make the fitting take a little longer. Additionally, boosting models tend to take longer to fit than bagged ones because the decision stumps must be fit successively.\n"
      ]
    },
    {
      "cell_type": "code",
      "execution_count": 20,
      "metadata": {
        "ExecuteTime": {
          "end_time": "2017-04-10T01:25:21.780609Z",
          "start_time": "2017-04-09T21:06:47.175316-04:00"
        },
        "jupyter": {
          "outputs_hidden": false
        },
        "run_control": {
          "marked": true
        },
        "id": "u6qIk5mUQd3U",
        "outputId": "484b5c07-7d34-45df-fadf-0c0ec98cc9bf",
        "colab": {
          "base_uri": "https://localhost:8080/",
          "height": 373
        }
      },
      "outputs": [
        {
          "output_type": "stream",
          "name": "stdout",
          "text": [
            "Fitting model with 15 trees\n",
            "Fitting model with 25 trees\n",
            "Fitting model with 50 trees\n",
            "Fitting model with 100 trees\n",
            "Fitting model with 200 trees\n",
            "Fitting model with 400 trees\n"
          ]
        },
        {
          "output_type": "execute_result",
          "data": {
            "text/plain": [
              "            error\n",
              "n_trees          \n",
              "15.0     0.051133\n",
              "25.0     0.033981\n",
              "50.0     0.019417\n",
              "100.0    0.013592\n",
              "200.0    0.011003\n",
              "400.0    0.010032"
            ],
            "text/html": [
              "\n",
              "  <div id=\"df-7bdb8363-6fd1-46c0-bfd1-30cbc953ed57\">\n",
              "    <div class=\"colab-df-container\">\n",
              "      <div>\n",
              "<style scoped>\n",
              "    .dataframe tbody tr th:only-of-type {\n",
              "        vertical-align: middle;\n",
              "    }\n",
              "\n",
              "    .dataframe tbody tr th {\n",
              "        vertical-align: top;\n",
              "    }\n",
              "\n",
              "    .dataframe thead th {\n",
              "        text-align: right;\n",
              "    }\n",
              "</style>\n",
              "<table border=\"1\" class=\"dataframe\">\n",
              "  <thead>\n",
              "    <tr style=\"text-align: right;\">\n",
              "      <th></th>\n",
              "      <th>error</th>\n",
              "    </tr>\n",
              "    <tr>\n",
              "      <th>n_trees</th>\n",
              "      <th></th>\n",
              "    </tr>\n",
              "  </thead>\n",
              "  <tbody>\n",
              "    <tr>\n",
              "      <th>15.0</th>\n",
              "      <td>0.051133</td>\n",
              "    </tr>\n",
              "    <tr>\n",
              "      <th>25.0</th>\n",
              "      <td>0.033981</td>\n",
              "    </tr>\n",
              "    <tr>\n",
              "      <th>50.0</th>\n",
              "      <td>0.019417</td>\n",
              "    </tr>\n",
              "    <tr>\n",
              "      <th>100.0</th>\n",
              "      <td>0.013592</td>\n",
              "    </tr>\n",
              "    <tr>\n",
              "      <th>200.0</th>\n",
              "      <td>0.011003</td>\n",
              "    </tr>\n",
              "    <tr>\n",
              "      <th>400.0</th>\n",
              "      <td>0.010032</td>\n",
              "    </tr>\n",
              "  </tbody>\n",
              "</table>\n",
              "</div>\n",
              "      <button class=\"colab-df-convert\" onclick=\"convertToInteractive('df-7bdb8363-6fd1-46c0-bfd1-30cbc953ed57')\"\n",
              "              title=\"Convert this dataframe to an interactive table.\"\n",
              "              style=\"display:none;\">\n",
              "        \n",
              "  <svg xmlns=\"http://www.w3.org/2000/svg\" height=\"24px\"viewBox=\"0 0 24 24\"\n",
              "       width=\"24px\">\n",
              "    <path d=\"M0 0h24v24H0V0z\" fill=\"none\"/>\n",
              "    <path d=\"M18.56 5.44l.94 2.06.94-2.06 2.06-.94-2.06-.94-.94-2.06-.94 2.06-2.06.94zm-11 1L8.5 8.5l.94-2.06 2.06-.94-2.06-.94L8.5 2.5l-.94 2.06-2.06.94zm10 10l.94 2.06.94-2.06 2.06-.94-2.06-.94-.94-2.06-.94 2.06-2.06.94z\"/><path d=\"M17.41 7.96l-1.37-1.37c-.4-.4-.92-.59-1.43-.59-.52 0-1.04.2-1.43.59L10.3 9.45l-7.72 7.72c-.78.78-.78 2.05 0 2.83L4 21.41c.39.39.9.59 1.41.59.51 0 1.02-.2 1.41-.59l7.78-7.78 2.81-2.81c.8-.78.8-2.07 0-2.86zM5.41 20L4 18.59l7.72-7.72 1.47 1.35L5.41 20z\"/>\n",
              "  </svg>\n",
              "      </button>\n",
              "      \n",
              "  <style>\n",
              "    .colab-df-container {\n",
              "      display:flex;\n",
              "      flex-wrap:wrap;\n",
              "      gap: 12px;\n",
              "    }\n",
              "\n",
              "    .colab-df-convert {\n",
              "      background-color: #E8F0FE;\n",
              "      border: none;\n",
              "      border-radius: 50%;\n",
              "      cursor: pointer;\n",
              "      display: none;\n",
              "      fill: #1967D2;\n",
              "      height: 32px;\n",
              "      padding: 0 0 0 0;\n",
              "      width: 32px;\n",
              "    }\n",
              "\n",
              "    .colab-df-convert:hover {\n",
              "      background-color: #E2EBFA;\n",
              "      box-shadow: 0px 1px 2px rgba(60, 64, 67, 0.3), 0px 1px 3px 1px rgba(60, 64, 67, 0.15);\n",
              "      fill: #174EA6;\n",
              "    }\n",
              "\n",
              "    [theme=dark] .colab-df-convert {\n",
              "      background-color: #3B4455;\n",
              "      fill: #D2E3FC;\n",
              "    }\n",
              "\n",
              "    [theme=dark] .colab-df-convert:hover {\n",
              "      background-color: #434B5C;\n",
              "      box-shadow: 0px 1px 3px 1px rgba(0, 0, 0, 0.15);\n",
              "      filter: drop-shadow(0px 1px 2px rgba(0, 0, 0, 0.3));\n",
              "      fill: #FFFFFF;\n",
              "    }\n",
              "  </style>\n",
              "\n",
              "      <script>\n",
              "        const buttonEl =\n",
              "          document.querySelector('#df-7bdb8363-6fd1-46c0-bfd1-30cbc953ed57 button.colab-df-convert');\n",
              "        buttonEl.style.display =\n",
              "          google.colab.kernel.accessAllowed ? 'block' : 'none';\n",
              "\n",
              "        async function convertToInteractive(key) {\n",
              "          const element = document.querySelector('#df-7bdb8363-6fd1-46c0-bfd1-30cbc953ed57');\n",
              "          const dataTable =\n",
              "            await google.colab.kernel.invokeFunction('convertToInteractive',\n",
              "                                                     [key], {});\n",
              "          if (!dataTable) return;\n",
              "\n",
              "          const docLinkHtml = 'Like what you see? Visit the ' +\n",
              "            '<a target=\"_blank\" href=https://colab.research.google.com/notebooks/data_table.ipynb>data table notebook</a>'\n",
              "            + ' to learn more about interactive tables.';\n",
              "          element.innerHTML = '';\n",
              "          dataTable['output_type'] = 'display_data';\n",
              "          await google.colab.output.renderOutput(dataTable, element);\n",
              "          const docLink = document.createElement('div');\n",
              "          docLink.innerHTML = docLinkHtml;\n",
              "          element.appendChild(docLink);\n",
              "        }\n",
              "      </script>\n",
              "    </div>\n",
              "  </div>\n",
              "  "
            ]
          },
          "metadata": {},
          "execution_count": 20
        }
      ],
      "source": [
        "### BEGIN SOLUTION\n",
        "from sklearn.ensemble import GradientBoostingClassifier\n",
        "from sklearn.metrics import accuracy_score\n",
        "\n",
        "error_list = list()\n",
        "\n",
        "# Iterate through various possibilities for number of trees\n",
        "tree_list = [15, 25, 50, 100, 200, 400]\n",
        "for n_trees in tree_list:\n",
        "    \n",
        "    # Initialize the gradient boost classifier\n",
        "    GBC = GradientBoostingClassifier(n_estimators=n_trees, random_state=42)\n",
        "\n",
        "    # Fit the model\n",
        "    print(f'Fitting model with {n_trees} trees')\n",
        "    GBC.fit(X_train.values, y_train.values)\n",
        "    y_pred = GBC.predict(X_test)\n",
        "\n",
        "    # Get the error\n",
        "    error = 1.0 - accuracy_score(y_test, y_pred)\n",
        "    \n",
        "    # Store it\n",
        "    error_list.append(pd.Series({'n_trees': n_trees, 'error': error}))\n",
        "\n",
        "error_df = pd.concat(error_list, axis=1).T.set_index('n_trees')\n",
        "\n",
        "error_df"
      ]
    },
    {
      "cell_type": "markdown",
      "metadata": {
        "id": "EySXtWQMQd3V"
      },
      "source": [
        "Now plot the result.\n"
      ]
    },
    {
      "cell_type": "code",
      "execution_count": 21,
      "metadata": {
        "ExecuteTime": {
          "end_time": "2017-04-10T01:25:22.377634Z",
          "start_time": "2017-04-09T21:25:22.121923-04:00"
        },
        "jupyter": {
          "outputs_hidden": false
        },
        "run_control": {
          "marked": true
        },
        "id": "0XGcyXTSQd3W",
        "outputId": "c1007bab-d7a3-4325-fab8-84520d512298",
        "colab": {
          "base_uri": "https://localhost:8080/",
          "height": 518
        }
      },
      "outputs": [
        {
          "output_type": "display_data",
          "data": {
            "text/plain": [
              "<Figure size 864x576 with 1 Axes>"
            ],
            "image/png": "[encoded data removed]"
          },
          "metadata": {}
        }
      ],
      "source": [
        "sns.set_context('talk')\n",
        "sns.set_style('white')\n",
        "\n",
        "# Create the plot\n",
        "ax = error_df.plot(marker='o', figsize=(12, 8), linewidth=5)\n",
        "\n",
        "# Set parameters\n",
        "ax.set(xlabel='Number of Trees', ylabel='Error')\n",
        "ax.set_xlim(0, max(error_df.index)*1.1);\n",
        "### END SOLUTION"
      ]
    },
    {
      "cell_type": "markdown",
      "metadata": {
        "run_control": {
          "marked": true
        },
        "id": "6WWtB_wvQd3W"
      },
      "source": [
        "<h2 id=\"Q4\">Question 4</h2>\n",
        "\n",
        "*   Using a grid search with cross-validation, fit a new gradient boosted classifier with the same list of estimators as question 3. Also try varying the learning rates (0.1, 0.01, 0.001, etc.), the subsampling value (1.0 or 0.5), and the number of maximum features (1, 2, etc.).\n",
        "*   Examine the parameters of the best fit model.\n",
        "*   Calculate relevant error metrics on this model and examine the confusion matrix.\n"
      ]
    },
    {
      "cell_type": "code",
      "execution_count": 22,
      "metadata": {
        "ExecuteTime": {
          "end_time": "2017-04-10T01:35:23.346693Z",
          "start_time": "2017-04-09T21:25:22.379244-04:00"
        },
        "run_control": {
          "marked": true
        },
        "id": "_I_Nli-8Qd3Y"
      },
      "outputs": [],
      "source": [
        "### BEGIN SOLUTION\n",
        "from sklearn.model_selection import GridSearchCV\n",
        "\n",
        "# The parameters to be fit\n",
        "param_grid = {'n_estimators': tree_list,\n",
        "              'learning_rate': [0.1, 0.01, 0.001, 0.0001],\n",
        "              'subsample': [1.0, 0.5],\n",
        "              'max_features': [1, 2, 3, 4]}\n",
        "\n",
        "# The grid search object\n",
        "GV_GBC = GridSearchCV(GradientBoostingClassifier(random_state=42), \n",
        "                      param_grid=param_grid, \n",
        "                      scoring='accuracy',\n",
        "                      n_jobs=-1)\n",
        "\n",
        "# Do the grid search\n",
        "GV_GBC = GV_GBC.fit(X_train, y_train)"
      ]
    },
    {
      "cell_type": "code",
      "execution_count": 23,
      "metadata": {
        "ExecuteTime": {
          "end_time": "2017-04-10T01:35:23.359160Z",
          "start_time": "2017-04-09T21:35:23.350350-04:00"
        },
        "jupyter": {
          "outputs_hidden": false
        },
        "id": "XY-MdsxuQd3Z",
        "outputId": "ea7139b2-f310-420e-e220-2102946a7326",
        "colab": {
          "base_uri": "https://localhost:8080/"
        }
      },
      "outputs": [
        {
          "output_type": "execute_result",
          "data": {
            "text/plain": [
              "GradientBoostingClassifier(max_features=4, n_estimators=400, random_state=42)"
            ]
          },
          "metadata": {},
          "execution_count": 23
        }
      ],
      "source": [
        "# The best model\n",
        "GV_GBC.best_estimator_"
      ]
    },
    {
      "cell_type": "markdown",
      "metadata": {
        "id": "RRHX4NvcQd3a"
      },
      "source": [
        "The error metrics. Classification report is particularly convenient for multi-class cases.\n"
      ]
    },
    {
      "cell_type": "code",
      "execution_count": 24,
      "metadata": {
        "ExecuteTime": {
          "end_time": "2017-04-10T01:35:23.673080Z",
          "start_time": "2017-04-09T21:35:23.361883-04:00"
        },
        "jupyter": {
          "outputs_hidden": false
        },
        "id": "EHnmDa5MQd3a",
        "outputId": "9f0a74f4-4b60-4526-c20e-ed62d63c7540",
        "colab": {
          "base_uri": "https://localhost:8080/"
        }
      },
      "outputs": [
        {
          "output_type": "stream",
          "name": "stdout",
          "text": [
            "              precision    recall  f1-score   support\n",
            "\n",
            "           0       1.00      1.00      1.00       597\n",
            "           1       0.97      0.97      0.97       561\n",
            "           2       0.97      0.97      0.97       547\n",
            "           3       1.00      1.00      1.00       540\n",
            "           4       1.00      1.00      1.00       419\n",
            "           5       1.00      0.99      0.99       426\n",
            "\n",
            "    accuracy                           0.99      3090\n",
            "   macro avg       0.99      0.99      0.99      3090\n",
            "weighted avg       0.99      0.99      0.99      3090\n",
            "\n"
          ]
        }
      ],
      "source": [
        "from sklearn.metrics import classification_report\n",
        "\n",
        "y_pred = GV_GBC.predict(X_test)\n",
        "print(classification_report(y_pred, y_test))"
      ]
    },
    {
      "cell_type": "markdown",
      "metadata": {
        "id": "1b-zp5hsQd3b"
      },
      "source": [
        "The confusion matrix. Note that the gradient boosted model has a little trouble distinguishing between activity class 1 and 2.\n"
      ]
    },
    {
      "cell_type": "code",
      "execution_count": 25,
      "metadata": {
        "ExecuteTime": {
          "end_time": "2017-04-10T01:35:24.084430Z",
          "start_time": "2017-04-09T21:35:23.675399-04:00"
        },
        "jupyter": {
          "outputs_hidden": false
        },
        "id": "u8KJYUMCQd3c",
        "outputId": "9266fcf4-b292-465f-f99d-9b86d85046f1",
        "colab": {
          "base_uri": "https://localhost:8080/",
          "height": 279
        }
      },
      "outputs": [
        {
          "output_type": "display_data",
          "data": {
            "text/plain": [
              "<Figure size 432x288 with 2 Axes>"
            ],
            "image/png": "[encoded data removed]"
          },
          "metadata": {}
        }
      ],
      "source": [
        "from sklearn.metrics import confusion_matrix\n",
        "\n",
        "sns.set_context('talk')\n",
        "cm = confusion_matrix(y_test, y_pred)\n",
        "ax = sns.heatmap(cm, annot=True, fmt='d')\n",
        "### END SOLUTION"
      ]
    },
    {
      "cell_type": "markdown",
      "metadata": {
        "id": "p7cjARFFQd3d"
      },
      "source": [
        "<h2 id=\"Q5\">Question 5</h2>\n",
        "\n",
        "*   Create an AdaBoost model and fit it using grid search, much like question 4. Try a range of estimators between 100 and 200.\n",
        "*   Compare the errors from AdaBoost to those from the GradientBoostedClassifier.\n"
      ]
    },
    {
      "cell_type": "code",
      "execution_count": 26,
      "metadata": {
        "ExecuteTime": {
          "end_time": "2017-04-10T01:41:12.569486Z",
          "start_time": "2017-04-09T21:35:24.086016-04:00"
        },
        "id": "hj3NyDqNQd3d"
      },
      "outputs": [],
      "source": [
        "### BEGIN SOLUTION\n",
        "from sklearn.ensemble import AdaBoostClassifier\n",
        "from sklearn.tree import DecisionTreeClassifier\n",
        "\n",
        "ABC = AdaBoostClassifier(DecisionTreeClassifier(max_depth=1))\n",
        "\n",
        "param_grid = {'n_estimators': [100, 150, 200],\n",
        "              'learning_rate': [0.01, 0.001]}\n",
        "\n",
        "GV_ABC = GridSearchCV(ABC,\n",
        "                      param_grid=param_grid, \n",
        "                      scoring='accuracy',\n",
        "                      n_jobs=-1)\n",
        "\n",
        "GV_ABC = GV_ABC.fit(X_train, y_train)"
      ]
    },
    {
      "cell_type": "markdown",
      "metadata": {
        "id": "vdfi5xTsQd3e"
      },
      "source": [
        "The best model.\n"
      ]
    },
    {
      "cell_type": "code",
      "execution_count": 27,
      "metadata": {
        "ExecuteTime": {
          "end_time": "2017-04-10T01:41:12.577054Z",
          "start_time": "2017-04-09T21:41:12.571918-04:00"
        },
        "jupyter": {
          "outputs_hidden": false
        },
        "id": "yK5diHDyQd3f",
        "outputId": "22163d84-19be-4e24-b6c5-0b6c72b48b4a",
        "colab": {
          "base_uri": "https://localhost:8080/"
        }
      },
      "outputs": [
        {
          "output_type": "execute_result",
          "data": {
            "text/plain": [
              "AdaBoostClassifier(base_estimator=DecisionTreeClassifier(max_depth=1),\n",
              "                   learning_rate=0.01, n_estimators=100)"
            ]
          },
          "metadata": {},
          "execution_count": 27
        }
      ],
      "source": [
        "# The best model\n",
        "GV_ABC.best_estimator_"
      ]
    },
    {
      "cell_type": "markdown",
      "metadata": {
        "id": "TsT2v-QQQd3g"
      },
      "source": [
        "The error metrics. Note that the issues with class 1 and 2 appear to have become more problematic. Also note other issues for classes 3 - 5. AdaBoost is very sensitive to outliers, so that could be the problem here.\n"
      ]
    },
    {
      "cell_type": "code",
      "execution_count": 28,
      "metadata": {
        "ExecuteTime": {
          "end_time": "2017-04-10T01:41:12.694494Z",
          "start_time": "2017-04-09T21:41:12.579980-04:00"
        },
        "jupyter": {
          "outputs_hidden": false
        },
        "id": "y9UOGS-vQd3h",
        "outputId": "41fb5210-9690-4338-935a-5655f1a79c60",
        "colab": {
          "base_uri": "https://localhost:8080/"
        }
      },
      "outputs": [
        {
          "output_type": "stream",
          "name": "stdout",
          "text": [
            "              precision    recall  f1-score   support\n",
            "\n",
            "           0       1.00      0.99      1.00       600\n",
            "           1       0.00      1.00      0.00         1\n",
            "           2       1.00      0.49      0.66      1106\n",
            "           3       0.92      0.84      0.88       589\n",
            "           4       0.73      0.95      0.82       320\n",
            "           5       0.89      0.80      0.84       474\n",
            "\n",
            "    accuracy                           0.75      3090\n",
            "   macro avg       0.76      0.85      0.70      3090\n",
            "weighted avg       0.94      0.75      0.81      3090\n",
            "\n"
          ]
        }
      ],
      "source": [
        "y_pred = GV_ABC.predict(X_test)\n",
        "print(classification_report(y_pred, y_test))"
      ]
    },
    {
      "cell_type": "code",
      "execution_count": 29,
      "metadata": {
        "ExecuteTime": {
          "end_time": "2017-04-10T01:41:12.986696Z",
          "start_time": "2017-04-09T21:41:12.696346-04:00"
        },
        "jupyter": {
          "outputs_hidden": false
        },
        "id": "DCXigPrTQd3i",
        "outputId": "74c31e4e-89ea-4baf-f230-fc2f62a0d23d",
        "colab": {
          "base_uri": "https://localhost:8080/",
          "height": 279
        }
      },
      "outputs": [
        {
          "output_type": "display_data",
          "data": {
            "text/plain": [
              "<Figure size 432x288 with 2 Axes>"
            ],
            "image/png": "[encoded data removed]"
          },
          "metadata": {}
        }
      ],
      "source": [
        "sns.set_context('talk')\n",
        "cm = confusion_matrix(y_test, y_pred)\n",
        "ax = sns.heatmap(cm, annot=True, fmt='d')\n",
        "### END SOLUTION"
      ]
    },
    {
      "cell_type": "markdown",
      "metadata": {
        "id": "xMTgdGpsQd3i"
      },
      "source": [
        "<h2 id=\"Q6\">Question 6</h2>\n",
        "\n",
        "*   Fit a logistic regression model with regularization.\n",
        "*   Using `VotingClassifier`, fit the logistic regression model along with either the GratientBoostedClassifier or the AdaBoost model (or both) from questions 4 and 5.\n",
        "*   Determine the error as before and compare the results to the appropriate gradient boosted model(s).\n",
        "*   Plot the confusion matrix for the best model created in this set of exercises.\n"
      ]
    },
    {
      "cell_type": "code",
      "execution_count": 30,
      "metadata": {
        "ExecuteTime": {
          "end_time": "2017-04-10T01:41:56.052177Z",
          "start_time": "2017-04-09T21:41:12.988303-04:00"
        },
        "id": "P6EA9MypQd3j"
      },
      "outputs": [],
      "source": [
        "### BEGIN SOLUTION\n",
        "from sklearn.linear_model import LogisticRegression\n",
        "\n",
        "# L2 regularized logistic regression\n",
        "LR_L2 = LogisticRegression(penalty='l2', max_iter=500, solver='saga').fit(X_train, y_train)"
      ]
    },
    {
      "cell_type": "markdown",
      "metadata": {
        "id": "51reGyWbQd3k"
      },
      "source": [
        "Check the errors and confusion matrix for the logistic regression model.\n"
      ]
    },
    {
      "cell_type": "code",
      "execution_count": 31,
      "metadata": {
        "ExecuteTime": {
          "end_time": "2017-04-10T01:41:56.070163Z",
          "start_time": "2017-04-09T21:41:56.054354-04:00"
        },
        "jupyter": {
          "outputs_hidden": false
        },
        "id": "DCpQdNxaQd3k",
        "outputId": "5f4e7b64-faa8-4c1e-c518-016e843812fe",
        "colab": {
          "base_uri": "https://localhost:8080/"
        }
      },
      "outputs": [
        {
          "output_type": "stream",
          "name": "stdout",
          "text": [
            "              precision    recall  f1-score   support\n",
            "\n",
            "           0       1.00      1.00      1.00       598\n",
            "           1       0.95      0.96      0.95       558\n",
            "           2       0.95      0.95      0.95       547\n",
            "           3       1.00      0.99      0.99       544\n",
            "           4       0.98      1.00      0.99       413\n",
            "           5       1.00      0.98      0.99       430\n",
            "\n",
            "    accuracy                           0.98      3090\n",
            "   macro avg       0.98      0.98      0.98      3090\n",
            "weighted avg       0.98      0.98      0.98      3090\n",
            "\n"
          ]
        }
      ],
      "source": [
        "y_pred = LR_L2.predict(X_test)\n",
        "print(classification_report(y_pred, y_test))"
      ]
    },
    {
      "cell_type": "code",
      "execution_count": 32,
      "metadata": {
        "ExecuteTime": {
          "end_time": "2017-04-10T01:41:56.388450Z",
          "start_time": "2017-04-09T21:41:56.072785-04:00"
        },
        "jupyter": {
          "outputs_hidden": false
        },
        "scrolled": true,
        "id": "mWhSMfivQd3l",
        "outputId": "f331336c-e57a-4252-9bf9-e1c5047888c6",
        "colab": {
          "base_uri": "https://localhost:8080/",
          "height": 279
        }
      },
      "outputs": [
        {
          "output_type": "display_data",
          "data": {
            "text/plain": [
              "<Figure size 432x288 with 2 Axes>"
            ],
            "image/png": "[encoded data removed]"
          },
          "metadata": {}
        }
      ],
      "source": [
        "sns.set_context('talk')\n",
        "cm = confusion_matrix(y_test, y_pred)\n",
        "ax = sns.heatmap(cm, annot=True, fmt='d')"
      ]
    },
    {
      "cell_type": "markdown",
      "metadata": {
        "id": "5BG3H1feQd3n"
      },
      "source": [
        "And now the stacked model.\n"
      ]
    },
    {
      "cell_type": "code",
      "execution_count": 33,
      "metadata": {
        "ExecuteTime": {
          "end_time": "2017-04-10T01:52:23.739656Z",
          "start_time": "2017-04-09T21:41:56.390038-04:00"
        },
        "id": "mNitmoOwQd3n"
      },
      "outputs": [],
      "source": [
        "from sklearn.ensemble import VotingClassifier\n",
        "\n",
        "# The combined model--logistic regression and gradient boosted trees\n",
        "estimators = [('LR_L2', LR_L2), ('GBC', GV_GBC)]\n",
        "\n",
        "# Though it wasn't done here, it is often desirable to train \n",
        "# this model using an additional hold-out data set and/or with cross validation\n",
        "VC = VotingClassifier(estimators, voting='soft')\n",
        "VC = VC.fit(X_train, y_train)"
      ]
    },
    {
      "cell_type": "markdown",
      "metadata": {
        "id": "6Xm6nrYoQd3o"
      },
      "source": [
        "Performance for the voting classifier should improve relative to either logistic regression or gradient boosted trees alone. However, the fact that logistic regression does almost as well as gradient boosted trees is an important reminder to try the simplest model first. In some cases, its performance will be good enough.\n"
      ]
    },
    {
      "cell_type": "code",
      "execution_count": 34,
      "metadata": {
        "ExecuteTime": {
          "end_time": "2017-04-10T01:52:24.057613Z",
          "start_time": "2017-04-09T21:52:23.742553-04:00"
        },
        "jupyter": {
          "outputs_hidden": false
        },
        "id": "iJ1Twn9uQd3p",
        "outputId": "81b5dc97-7c66-402f-a714-ca5a534dff5f",
        "colab": {
          "base_uri": "https://localhost:8080/"
        }
      },
      "outputs": [
        {
          "output_type": "stream",
          "name": "stdout",
          "text": [
            "              precision    recall  f1-score   support\n",
            "\n",
            "           0       1.00      1.00      1.00       597\n",
            "           1       0.97      0.96      0.97       563\n",
            "           2       0.97      0.97      0.97       547\n",
            "           3       1.00      1.00      1.00       539\n",
            "           4       1.00      1.00      1.00       420\n",
            "           5       0.99      1.00      0.99       424\n",
            "\n",
            "    accuracy                           0.99      3090\n",
            "   macro avg       0.99      0.99      0.99      3090\n",
            "weighted avg       0.99      0.99      0.99      3090\n",
            "\n"
          ]
        }
      ],
      "source": [
        "y_pred = VC.predict(X_test)\n",
        "print(classification_report(y_test, y_pred))"
      ]
    },
    {
      "cell_type": "code",
      "execution_count": 35,
      "metadata": {
        "ExecuteTime": {
          "end_time": "2017-04-10T01:52:24.442361Z",
          "start_time": "2017-04-09T21:52:24.059996-04:00"
        },
        "jupyter": {
          "outputs_hidden": false
        },
        "id": "3PHpJLpjQd3q",
        "outputId": "78f5394b-c7f6-4f19-fa36-57c8cc1a7f72",
        "colab": {
          "base_uri": "https://localhost:8080/",
          "height": 279
        }
      },
      "outputs": [
        {
          "output_type": "display_data",
          "data": {
            "text/plain": [
              "<Figure size 432x288 with 2 Axes>"
            ],
            "image/png": "[encoded data removed]"
          },
          "metadata": {}
        }
      ],
      "source": [
        "sns.set_context('talk')\n",
        "cm = confusion_matrix(y_test, y_pred)\n",
        "ax = sns.heatmap(cm, annot=True, fmt='d')\n",
        "### END SOLUTION"
      ]
    },
    {
      "cell_type": "markdown",
      "metadata": {
        "id": "r-dBgTSWQd3q"
      },
      "source": [
        "***\n",
        "\n",
        "### Thank you for completing this lab!\n",
        "\n",
        "## Author\n",
        "\n",
        "<a href=\"https://www.linkedin.com/in/joseph-s-50398b136/?utm_medium=Exinfluencer&utm_source=Exinfluencer&utm_content=000026UJ&utm_term=10006555&utm_id=NA-SkillsNetwork-Channel-SkillsNetworkCoursesIBMDeveloperSkillsNetworkML0101ENSkillsNetwork20718538-2021-01-01\" target=\"_blank\">Joseph Santarcangelo</a>\n",
        "\n",
        "### Other Contributors\n",
        "\n",
        "<a href=\"https://www.linkedin.com/in/richard-ye/?utm_medium=Exinfluencer&utm_source=Exinfluencer&utm_content=000026UJ&utm_term=10006555&utm_id=NA-SkillsNetwork-Channel-SkillsNetworkCoursesIBMDeveloperSkillsNetworkML0101ENSkillsNetwork20718538-2021-01-01\" target=\"_blank\">Richard Ye</a>\n",
        "\n",
        "## Change Log\n",
        "\n",
        "| Date (YYYY-MM-DD) | Version | Changed By           | Change Description                                        |\n",
        "| ----------------- | ------- | -------------------- | --------------------------------------------------------- |\n",
        "| 2022-03-23        | 0.1     | Joseph Santarcangelo | Created Lab Template                                      |\n",
        "| 2022-05-03        | 0.2     | Richard Ye           | Added in estimated time, objectives and table of contents |\n",
        "\n",
        "### Machine Learning Foundation (C) 2020 IBM Corporation\n"
      ]
    }
  ],
  "metadata": {
    "kernelspec": {
      "display_name": "Python",
      "language": "python",
      "name": "conda-env-python-py"
    },
    "language_info": {
      "codemirror_mode": {
        "name": "ipython",
        "version": 3
      },
      "file_extension": ".py",
      "mimetype": "text/x-python",
      "name": "python",
      "nbconvert_exporter": "python",
      "pygments_lexer": "ipython3",
      "version": "3.7.12"
    },
    "colab": {
      "name": "03f_LAB_Boosting_and_Stacking.ipynb",
      "provenance": []
    }
  },
  "nbformat": 4,
  "nbformat_minor": 0
}