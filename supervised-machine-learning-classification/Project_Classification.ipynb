{
  "cells": [
    {
      "cell_type": "markdown",
      "metadata": {
        "id": "view-in-github",
        "colab_type": "text"
      },
      "source": [
        "<a href=\"https://colab.research.google.com/github/mzaoualim/Coursera_IBM_Machine_Learning_Professional_Certificate/blob/main/supervised-machine-learning-classification/Project_Classification.ipynb\" target=\"_parent\"><img src=\"https://colab.research.google.com/assets/colab-badge.svg\" alt=\"Open In Colab\"/></a>"
      ]
    },
    {
      "cell_type": "code",
      "execution_count": 58,
      "metadata": {
        "id": "4Hve81KrhaHm"
      },
      "outputs": [],
      "source": [
        "#Modules imports\n",
        "import pandas as pd\n",
        "import numpy as np\n",
        "import matplotlib.pyplot as plt\n",
        "import seaborn as sns\n",
        "from sklearn.model_selection import train_test_split\n",
        "from imblearn.over_sampling import SMOTE\n",
        "from sklearn.linear_model import LogisticRegression\n",
        "from sklearn.tree import DecisionTreeClassifier\n",
        "!pip install XGBClassifier\n",
        "from xgboost import XGBClassifier\n",
        "from sklearn.model_selection import GridSearchCV\n",
        "from sklearn.metrics import classification_report, accuracy_score, precision_recall_fscore_support, confusion_matrix, plot_confusion_matrix, precision_score, recall_score, roc_auc_score\n"
      ]
    },
    {
      "cell_type": "markdown",
      "metadata": {
        "id": "Fp5rVjjiZ2cs"
      },
      "source": [
        "#Introduction"
      ]
    },
    {
      "cell_type": "markdown",
      "metadata": {
        "id": "8Tkrib0NhvrY"
      },
      "source": [
        "## Objective:\n",
        "\n",
        "This is the Project-course of Coursera's 'Supervised Machine Learning: Classification'.\n",
        "\n",
        "With the aim to use multiple classification algorithms to predict the Class value of the Target Variable.\n"
      ]
    },
    {
      "cell_type": "markdown",
      "metadata": {
        "id": "LmSSlD_Hh0bN"
      },
      "source": [
        "##Data Source:\n",
        "\n",
        "We'll be using an HR data-base provided in the 'Practice Lab: Modeling Imbalanced Classes'.\n",
        "\n",
        "Consisted of multiples features of employees and a Target variable of the employee will or will not leave the company.\n",
        "\n",
        "The task is to 'predict if an employee is looking for a new job or not'."
      ]
    },
    {
      "cell_type": "markdown",
      "metadata": {
        "id": "vcJYbtrcgiaw"
      },
      "source": [
        "# EDA"
      ]
    },
    {
      "cell_type": "code",
      "execution_count": 2,
      "metadata": {
        "id": "cL6PxeYGZwxI"
      },
      "outputs": [],
      "source": [
        "#Loading the HR DATA\n",
        "data = pd.read_csv(\"https://cf-courses-data.s3.us.cloud-object-storage.appdomain.cloud/IBM-ML201EN-SkillsNetwork/labs/module_4/datasets/im_hr.csv\", index_col=False)"
      ]
    },
    {
      "cell_type": "code",
      "execution_count": 3,
      "metadata": {
        "colab": {
          "base_uri": "https://localhost:8080/",
          "height": 444
        },
        "id": "gqRz4TnuiXmZ",
        "outputId": "870b629e-cc71-4257-ac61-3811c48a62f9"
      },
      "outputs": [
        {
          "output_type": "execute_result",
          "data": {
            "text/plain": [
              "   city_development_index  training_hours  company_size  experience  \\\n",
              "0                   0.920            61.0           3.0        15.0   \n",
              "1                   0.802           156.0           3.0        15.0   \n",
              "2                   0.920           126.0           2.0        21.0   \n",
              "3                   0.910            50.0           4.0        10.0   \n",
              "4                   0.913            42.0           0.0        21.0   \n",
              "5                   0.910            37.0           3.0         9.0   \n",
              "6                   0.698            64.0           2.0         2.0   \n",
              "7                   0.682           336.0           3.0         5.0   \n",
              "8                   0.550            55.0           2.0        15.0   \n",
              "9                   0.920            30.0           7.0        21.0   \n",
              "\n",
              "   relevent_experience  education_level  company_type_Early Stage Startup  \\\n",
              "0                  1.0              2.0                               0.0   \n",
              "1                  1.0              2.0                               0.0   \n",
              "2                  1.0              2.0                               0.0   \n",
              "3                  1.0              3.0                               0.0   \n",
              "4                  1.0              2.0                               0.0   \n",
              "5                  1.0              2.0                               0.0   \n",
              "6                  0.0              1.0                               0.0   \n",
              "7                  0.0              2.0                               0.0   \n",
              "8                  1.0              3.0                               0.0   \n",
              "9                  1.0              2.0                               0.0   \n",
              "\n",
              "   company_type_Funded Startup  company_type_NGO  company_type_Other  \\\n",
              "0                          0.0               0.0                 0.0   \n",
              "1                          0.0               0.0                 0.0   \n",
              "2                          0.0               0.0                 0.0   \n",
              "3                          0.0               0.0                 0.0   \n",
              "4                          1.0               0.0                 0.0   \n",
              "5                          0.0               0.0                 0.0   \n",
              "6                          0.0               0.0                 0.0   \n",
              "7                          0.0               0.0                 0.0   \n",
              "8                          0.0               0.0                 0.0   \n",
              "9                          0.0               0.0                 0.0   \n",
              "\n",
              "   company_type_Public Sector  company_type_Pvt Ltd  gender_Female  \\\n",
              "0                         0.0                   1.0            0.0   \n",
              "1                         0.0                   1.0            0.0   \n",
              "2                         0.0                   1.0            0.0   \n",
              "3                         0.0                   1.0            0.0   \n",
              "4                         0.0                   0.0            0.0   \n",
              "5                         0.0                   1.0            0.0   \n",
              "6                         0.0                   1.0            0.0   \n",
              "7                         0.0                   1.0            0.0   \n",
              "8                         0.0                   1.0            1.0   \n",
              "9                         0.0                   1.0            0.0   \n",
              "\n",
              "   gender_Male  gender_Other  Class  \n",
              "0          1.0           0.0    0.0  \n",
              "1          1.0           0.0    0.0  \n",
              "2          1.0           0.0    0.0  \n",
              "3          1.0           0.0    0.0  \n",
              "4          1.0           0.0    0.0  \n",
              "5          1.0           0.0    0.0  \n",
              "6          1.0           0.0    0.0  \n",
              "7          1.0           0.0    0.0  \n",
              "8          0.0           0.0    0.0  \n",
              "9          1.0           0.0    0.0  "
            ],
            "text/html": [
              "\n",
              "  <div id=\"df-9ae1815c-add2-443a-a494-17c8ff28d79e\">\n",
              "    <div class=\"colab-df-container\">\n",
              "      <div>\n",
              "<style scoped>\n",
              "    .dataframe tbody tr th:only-of-type {\n",
              "        vertical-align: middle;\n",
              "    }\n",
              "\n",
              "    .dataframe tbody tr th {\n",
              "        vertical-align: top;\n",
              "    }\n",
              "\n",
              "    .dataframe thead th {\n",
              "        text-align: right;\n",
              "    }\n",
              "</style>\n",
              "<table border=\"1\" class=\"dataframe\">\n",
              "  <thead>\n",
              "    <tr style=\"text-align: right;\">\n",
              "      <th></th>\n",
              "      <th>city_development_index</th>\n",
              "      <th>training_hours</th>\n",
              "      <th>company_size</th>\n",
              "      <th>experience</th>\n",
              "      <th>relevent_experience</th>\n",
              "      <th>education_level</th>\n",
              "      <th>company_type_Early Stage Startup</th>\n",
              "      <th>company_type_Funded Startup</th>\n",
              "      <th>company_type_NGO</th>\n",
              "      <th>company_type_Other</th>\n",
              "      <th>company_type_Public Sector</th>\n",
              "      <th>company_type_Pvt Ltd</th>\n",
              "      <th>gender_Female</th>\n",
              "      <th>gender_Male</th>\n",
              "      <th>gender_Other</th>\n",
              "      <th>Class</th>\n",
              "    </tr>\n",
              "  </thead>\n",
              "  <tbody>\n",
              "    <tr>\n",
              "      <th>0</th>\n",
              "      <td>0.920</td>\n",
              "      <td>61.0</td>\n",
              "      <td>3.0</td>\n",
              "      <td>15.0</td>\n",
              "      <td>1.0</td>\n",
              "      <td>2.0</td>\n",
              "      <td>0.0</td>\n",
              "      <td>0.0</td>\n",
              "      <td>0.0</td>\n",
              "      <td>0.0</td>\n",
              "      <td>0.0</td>\n",
              "      <td>1.0</td>\n",
              "      <td>0.0</td>\n",
              "      <td>1.0</td>\n",
              "      <td>0.0</td>\n",
              "      <td>0.0</td>\n",
              "    </tr>\n",
              "    <tr>\n",
              "      <th>1</th>\n",
              "      <td>0.802</td>\n",
              "      <td>156.0</td>\n",
              "      <td>3.0</td>\n",
              "      <td>15.0</td>\n",
              "      <td>1.0</td>\n",
              "      <td>2.0</td>\n",
              "      <td>0.0</td>\n",
              "      <td>0.0</td>\n",
              "      <td>0.0</td>\n",
              "      <td>0.0</td>\n",
              "      <td>0.0</td>\n",
              "      <td>1.0</td>\n",
              "      <td>0.0</td>\n",
              "      <td>1.0</td>\n",
              "      <td>0.0</td>\n",
              "      <td>0.0</td>\n",
              "    </tr>\n",
              "    <tr>\n",
              "      <th>2</th>\n",
              "      <td>0.920</td>\n",
              "      <td>126.0</td>\n",
              "      <td>2.0</td>\n",
              "      <td>21.0</td>\n",
              "      <td>1.0</td>\n",
              "      <td>2.0</td>\n",
              "      <td>0.0</td>\n",
              "      <td>0.0</td>\n",
              "      <td>0.0</td>\n",
              "      <td>0.0</td>\n",
              "      <td>0.0</td>\n",
              "      <td>1.0</td>\n",
              "      <td>0.0</td>\n",
              "      <td>1.0</td>\n",
              "      <td>0.0</td>\n",
              "      <td>0.0</td>\n",
              "    </tr>\n",
              "    <tr>\n",
              "      <th>3</th>\n",
              "      <td>0.910</td>\n",
              "      <td>50.0</td>\n",
              "      <td>4.0</td>\n",
              "      <td>10.0</td>\n",
              "      <td>1.0</td>\n",
              "      <td>3.0</td>\n",
              "      <td>0.0</td>\n",
              "      <td>0.0</td>\n",
              "      <td>0.0</td>\n",
              "      <td>0.0</td>\n",
              "      <td>0.0</td>\n",
              "      <td>1.0</td>\n",
              "      <td>0.0</td>\n",
              "      <td>1.0</td>\n",
              "      <td>0.0</td>\n",
              "      <td>0.0</td>\n",
              "    </tr>\n",
              "    <tr>\n",
              "      <th>4</th>\n",
              "      <td>0.913</td>\n",
              "      <td>42.0</td>\n",
              "      <td>0.0</td>\n",
              "      <td>21.0</td>\n",
              "      <td>1.0</td>\n",
              "      <td>2.0</td>\n",
              "      <td>0.0</td>\n",
              "      <td>1.0</td>\n",
              "      <td>0.0</td>\n",
              "      <td>0.0</td>\n",
              "      <td>0.0</td>\n",
              "      <td>0.0</td>\n",
              "      <td>0.0</td>\n",
              "      <td>1.0</td>\n",
              "      <td>0.0</td>\n",
              "      <td>0.0</td>\n",
              "    </tr>\n",
              "    <tr>\n",
              "      <th>5</th>\n",
              "      <td>0.910</td>\n",
              "      <td>37.0</td>\n",
              "      <td>3.0</td>\n",
              "      <td>9.0</td>\n",
              "      <td>1.0</td>\n",
              "      <td>2.0</td>\n",
              "      <td>0.0</td>\n",
              "      <td>0.0</td>\n",
              "      <td>0.0</td>\n",
              "      <td>0.0</td>\n",
              "      <td>0.0</td>\n",
              "      <td>1.0</td>\n",
              "      <td>0.0</td>\n",
              "      <td>1.0</td>\n",
              "      <td>0.0</td>\n",
              "      <td>0.0</td>\n",
              "    </tr>\n",
              "    <tr>\n",
              "      <th>6</th>\n",
              "      <td>0.698</td>\n",
              "      <td>64.0</td>\n",
              "      <td>2.0</td>\n",
              "      <td>2.0</td>\n",
              "      <td>0.0</td>\n",
              "      <td>1.0</td>\n",
              "      <td>0.0</td>\n",
              "      <td>0.0</td>\n",
              "      <td>0.0</td>\n",
              "      <td>0.0</td>\n",
              "      <td>0.0</td>\n",
              "      <td>1.0</td>\n",
              "      <td>0.0</td>\n",
              "      <td>1.0</td>\n",
              "      <td>0.0</td>\n",
              "      <td>0.0</td>\n",
              "    </tr>\n",
              "    <tr>\n",
              "      <th>7</th>\n",
              "      <td>0.682</td>\n",
              "      <td>336.0</td>\n",
              "      <td>3.0</td>\n",
              "      <td>5.0</td>\n",
              "      <td>0.0</td>\n",
              "      <td>2.0</td>\n",
              "      <td>0.0</td>\n",
              "      <td>0.0</td>\n",
              "      <td>0.0</td>\n",
              "      <td>0.0</td>\n",
              "      <td>0.0</td>\n",
              "      <td>1.0</td>\n",
              "      <td>0.0</td>\n",
              "      <td>1.0</td>\n",
              "      <td>0.0</td>\n",
              "      <td>0.0</td>\n",
              "    </tr>\n",
              "    <tr>\n",
              "      <th>8</th>\n",
              "      <td>0.550</td>\n",
              "      <td>55.0</td>\n",
              "      <td>2.0</td>\n",
              "      <td>15.0</td>\n",
              "      <td>1.0</td>\n",
              "      <td>3.0</td>\n",
              "      <td>0.0</td>\n",
              "      <td>0.0</td>\n",
              "      <td>0.0</td>\n",
              "      <td>0.0</td>\n",
              "      <td>0.0</td>\n",
              "      <td>1.0</td>\n",
              "      <td>1.0</td>\n",
              "      <td>0.0</td>\n",
              "      <td>0.0</td>\n",
              "      <td>0.0</td>\n",
              "    </tr>\n",
              "    <tr>\n",
              "      <th>9</th>\n",
              "      <td>0.920</td>\n",
              "      <td>30.0</td>\n",
              "      <td>7.0</td>\n",
              "      <td>21.0</td>\n",
              "      <td>1.0</td>\n",
              "      <td>2.0</td>\n",
              "      <td>0.0</td>\n",
              "      <td>0.0</td>\n",
              "      <td>0.0</td>\n",
              "      <td>0.0</td>\n",
              "      <td>0.0</td>\n",
              "      <td>1.0</td>\n",
              "      <td>0.0</td>\n",
              "      <td>1.0</td>\n",
              "      <td>0.0</td>\n",
              "      <td>0.0</td>\n",
              "    </tr>\n",
              "  </tbody>\n",
              "</table>\n",
              "</div>\n",
              "      <button class=\"colab-df-convert\" onclick=\"convertToInteractive('df-9ae1815c-add2-443a-a494-17c8ff28d79e')\"\n",
              "              title=\"Convert this dataframe to an interactive table.\"\n",
              "              style=\"display:none;\">\n",
              "        \n",
              "  <svg xmlns=\"http://www.w3.org/2000/svg\" height=\"24px\"viewBox=\"0 0 24 24\"\n",
              "       width=\"24px\">\n",
              "    <path d=\"M0 0h24v24H0V0z\" fill=\"none\"/>\n",
              "    <path d=\"M18.56 5.44l.94 2.06.94-2.06 2.06-.94-2.06-.94-.94-2.06-.94 2.06-2.06.94zm-11 1L8.5 8.5l.94-2.06 2.06-.94-2.06-.94L8.5 2.5l-.94 2.06-2.06.94zm10 10l.94 2.06.94-2.06 2.06-.94-2.06-.94-.94-2.06-.94 2.06-2.06.94z\"/><path d=\"M17.41 7.96l-1.37-1.37c-.4-.4-.92-.59-1.43-.59-.52 0-1.04.2-1.43.59L10.3 9.45l-7.72 7.72c-.78.78-.78 2.05 0 2.83L4 21.41c.39.39.9.59 1.41.59.51 0 1.02-.2 1.41-.59l7.78-7.78 2.81-2.81c.8-.78.8-2.07 0-2.86zM5.41 20L4 18.59l7.72-7.72 1.47 1.35L5.41 20z\"/>\n",
              "  </svg>\n",
              "      </button>\n",
              "      \n",
              "  <style>\n",
              "    .colab-df-container {\n",
              "      display:flex;\n",
              "      flex-wrap:wrap;\n",
              "      gap: 12px;\n",
              "    }\n",
              "\n",
              "    .colab-df-convert {\n",
              "      background-color: #E8F0FE;\n",
              "      border: none;\n",
              "      border-radius: 50%;\n",
              "      cursor: pointer;\n",
              "      display: none;\n",
              "      fill: #1967D2;\n",
              "      height: 32px;\n",
              "      padding: 0 0 0 0;\n",
              "      width: 32px;\n",
              "    }\n",
              "\n",
              "    .colab-df-convert:hover {\n",
              "      background-color: #E2EBFA;\n",
              "      box-shadow: 0px 1px 2px rgba(60, 64, 67, 0.3), 0px 1px 3px 1px rgba(60, 64, 67, 0.15);\n",
              "      fill: #174EA6;\n",
              "    }\n",
              "\n",
              "    [theme=dark] .colab-df-convert {\n",
              "      background-color: #3B4455;\n",
              "      fill: #D2E3FC;\n",
              "    }\n",
              "\n",
              "    [theme=dark] .colab-df-convert:hover {\n",
              "      background-color: #434B5C;\n",
              "      box-shadow: 0px 1px 3px 1px rgba(0, 0, 0, 0.15);\n",
              "      filter: drop-shadow(0px 1px 2px rgba(0, 0, 0, 0.3));\n",
              "      fill: #FFFFFF;\n",
              "    }\n",
              "  </style>\n",
              "\n",
              "      <script>\n",
              "        const buttonEl =\n",
              "          document.querySelector('#df-9ae1815c-add2-443a-a494-17c8ff28d79e button.colab-df-convert');\n",
              "        buttonEl.style.display =\n",
              "          google.colab.kernel.accessAllowed ? 'block' : 'none';\n",
              "\n",
              "        async function convertToInteractive(key) {\n",
              "          const element = document.querySelector('#df-9ae1815c-add2-443a-a494-17c8ff28d79e');\n",
              "          const dataTable =\n",
              "            await google.colab.kernel.invokeFunction('convertToInteractive',\n",
              "                                                     [key], {});\n",
              "          if (!dataTable) return;\n",
              "\n",
              "          const docLinkHtml = 'Like what you see? Visit the ' +\n",
              "            '<a target=\"_blank\" href=https://colab.research.google.com/notebooks/data_table.ipynb>data table notebook</a>'\n",
              "            + ' to learn more about interactive tables.';\n",
              "          element.innerHTML = '';\n",
              "          dataTable['output_type'] = 'display_data';\n",
              "          await google.colab.output.renderOutput(dataTable, element);\n",
              "          const docLink = document.createElement('div');\n",
              "          docLink.innerHTML = docLinkHtml;\n",
              "          element.appendChild(docLink);\n",
              "        }\n",
              "      </script>\n",
              "    </div>\n",
              "  </div>\n",
              "  "
            ]
          },
          "metadata": {},
          "execution_count": 3
        }
      ],
      "source": [
        "#A Glimpse of the first 10 rows\n",
        "data.head(10)"
      ]
    },
    {
      "cell_type": "code",
      "execution_count": 4,
      "metadata": {
        "colab": {
          "base_uri": "https://localhost:8080/"
        },
        "id": "MZF4LdZPh8Dm",
        "outputId": "f8b49ee9-a56c-4f36-aa97-d4e8ab0e4346"
      },
      "outputs": [
        {
          "output_type": "stream",
          "name": "stdout",
          "text": [
            "The Data set contains:\n",
            " 15781  lines.\n",
            " 16  columns.\n",
            "\n",
            "The Data set features are:\n",
            " ['city_development_index', 'training_hours', 'company_size', 'experience', 'relevent_experience', 'education_level', 'company_type_Early Stage Startup', 'company_type_Funded Startup', 'company_type_NGO', 'company_type_Other', 'company_type_Public Sector', 'company_type_Pvt Ltd', 'gender_Female', 'gender_Male', 'gender_Other', 'Class']\n"
          ]
        }
      ],
      "source": [
        "#Data set\n",
        "print('The Data set contains:\\n', data.shape[0], ' lines.\\n',\n",
        "      data.shape[1], ' columns.\\n')\n",
        "\n",
        "print('The Data set features are:\\n', data.columns.to_list())"
      ]
    },
    {
      "cell_type": "code",
      "execution_count": 5,
      "metadata": {
        "colab": {
          "base_uri": "https://localhost:8080/",
          "height": 382
        },
        "id": "Thyd3bYaiHO6",
        "outputId": "a62e273c-c91a-41f3-c082-a38203fd30df"
      },
      "outputs": [
        {
          "output_type": "execute_result",
          "data": {
            "text/plain": [
              "       city_development_index  training_hours  company_size    experience  \\\n",
              "count            15781.000000    15781.000000  15781.000000  15781.000000   \n",
              "mean                 0.844824       66.004436      2.917686     10.581902   \n",
              "std                  0.112675       60.703603      1.944152      6.799693   \n",
              "min                  0.448000        1.000000      0.000000      0.000000   \n",
              "25%                  0.794000       23.000000      2.000000      5.000000   \n",
              "50%                  0.910000       47.000000      2.000000      9.000000   \n",
              "75%                  0.920000       89.000000      4.000000     16.000000   \n",
              "max                  0.949000      336.000000      7.000000     21.000000   \n",
              "\n",
              "       relevent_experience  education_level  company_type_Early Stage Startup  \\\n",
              "count         15781.000000     15781.000000                      15781.000000   \n",
              "mean              0.741651         2.134719                          0.032507   \n",
              "std               0.437741         0.701058                          0.177349   \n",
              "min               0.000000         0.000000                          0.000000   \n",
              "25%               0.000000         2.000000                          0.000000   \n",
              "50%               1.000000         2.000000                          0.000000   \n",
              "75%               1.000000         3.000000                          0.000000   \n",
              "max               1.000000         4.000000                          1.000000   \n",
              "\n",
              "       company_type_Funded Startup  company_type_NGO  company_type_Other  \\\n",
              "count                 15781.000000      15781.000000        15781.000000   \n",
              "mean                      0.057347          0.028135            0.006400   \n",
              "std                       0.232513          0.165364            0.079747   \n",
              "min                       0.000000          0.000000            0.000000   \n",
              "25%                       0.000000          0.000000            0.000000   \n",
              "50%                       0.000000          0.000000            0.000000   \n",
              "75%                       0.000000          0.000000            0.000000   \n",
              "max                       1.000000          1.000000            1.000000   \n",
              "\n",
              "       company_type_Public Sector  company_type_Pvt Ltd  gender_Female  \\\n",
              "count                15781.000000          15781.000000   15781.000000   \n",
              "mean                     0.051137              0.824472       0.064128   \n",
              "std                      0.220285              0.380430       0.244988   \n",
              "min                      0.000000              0.000000       0.000000   \n",
              "25%                      0.000000              1.000000       0.000000   \n",
              "50%                      0.000000              1.000000       0.000000   \n",
              "75%                      0.000000              1.000000       0.000000   \n",
              "max                      1.000000              1.000000       1.000000   \n",
              "\n",
              "        gender_Male  gender_Other         Class  \n",
              "count  15781.000000  15781.000000  15781.000000  \n",
              "mean       0.925797      0.010075      0.088714  \n",
              "std        0.262110      0.099873      0.284340  \n",
              "min        0.000000      0.000000      0.000000  \n",
              "25%        1.000000      0.000000      0.000000  \n",
              "50%        1.000000      0.000000      0.000000  \n",
              "75%        1.000000      0.000000      0.000000  \n",
              "max        1.000000      1.000000      1.000000  "
            ],
            "text/html": [
              "\n",
              "  <div id=\"df-42b1d728-422e-4ebc-ad19-dc036d8ee2e8\">\n",
              "    <div class=\"colab-df-container\">\n",
              "      <div>\n",
              "<style scoped>\n",
              "    .dataframe tbody tr th:only-of-type {\n",
              "        vertical-align: middle;\n",
              "    }\n",
              "\n",
              "    .dataframe tbody tr th {\n",
              "        vertical-align: top;\n",
              "    }\n",
              "\n",
              "    .dataframe thead th {\n",
              "        text-align: right;\n",
              "    }\n",
              "</style>\n",
              "<table border=\"1\" class=\"dataframe\">\n",
              "  <thead>\n",
              "    <tr style=\"text-align: right;\">\n",
              "      <th></th>\n",
              "      <th>city_development_index</th>\n",
              "      <th>training_hours</th>\n",
              "      <th>company_size</th>\n",
              "      <th>experience</th>\n",
              "      <th>relevent_experience</th>\n",
              "      <th>education_level</th>\n",
              "      <th>company_type_Early Stage Startup</th>\n",
              "      <th>company_type_Funded Startup</th>\n",
              "      <th>company_type_NGO</th>\n",
              "      <th>company_type_Other</th>\n",
              "      <th>company_type_Public Sector</th>\n",
              "      <th>company_type_Pvt Ltd</th>\n",
              "      <th>gender_Female</th>\n",
              "      <th>gender_Male</th>\n",
              "      <th>gender_Other</th>\n",
              "      <th>Class</th>\n",
              "    </tr>\n",
              "  </thead>\n",
              "  <tbody>\n",
              "    <tr>\n",
              "      <th>count</th>\n",
              "      <td>15781.000000</td>\n",
              "      <td>15781.000000</td>\n",
              "      <td>15781.000000</td>\n",
              "      <td>15781.000000</td>\n",
              "      <td>15781.000000</td>\n",
              "      <td>15781.000000</td>\n",
              "      <td>15781.000000</td>\n",
              "      <td>15781.000000</td>\n",
              "      <td>15781.000000</td>\n",
              "      <td>15781.000000</td>\n",
              "      <td>15781.000000</td>\n",
              "      <td>15781.000000</td>\n",
              "      <td>15781.000000</td>\n",
              "      <td>15781.000000</td>\n",
              "      <td>15781.000000</td>\n",
              "      <td>15781.000000</td>\n",
              "    </tr>\n",
              "    <tr>\n",
              "      <th>mean</th>\n",
              "      <td>0.844824</td>\n",
              "      <td>66.004436</td>\n",
              "      <td>2.917686</td>\n",
              "      <td>10.581902</td>\n",
              "      <td>0.741651</td>\n",
              "      <td>2.134719</td>\n",
              "      <td>0.032507</td>\n",
              "      <td>0.057347</td>\n",
              "      <td>0.028135</td>\n",
              "      <td>0.006400</td>\n",
              "      <td>0.051137</td>\n",
              "      <td>0.824472</td>\n",
              "      <td>0.064128</td>\n",
              "      <td>0.925797</td>\n",
              "      <td>0.010075</td>\n",
              "      <td>0.088714</td>\n",
              "    </tr>\n",
              "    <tr>\n",
              "      <th>std</th>\n",
              "      <td>0.112675</td>\n",
              "      <td>60.703603</td>\n",
              "      <td>1.944152</td>\n",
              "      <td>6.799693</td>\n",
              "      <td>0.437741</td>\n",
              "      <td>0.701058</td>\n",
              "      <td>0.177349</td>\n",
              "      <td>0.232513</td>\n",
              "      <td>0.165364</td>\n",
              "      <td>0.079747</td>\n",
              "      <td>0.220285</td>\n",
              "      <td>0.380430</td>\n",
              "      <td>0.244988</td>\n",
              "      <td>0.262110</td>\n",
              "      <td>0.099873</td>\n",
              "      <td>0.284340</td>\n",
              "    </tr>\n",
              "    <tr>\n",
              "      <th>min</th>\n",
              "      <td>0.448000</td>\n",
              "      <td>1.000000</td>\n",
              "      <td>0.000000</td>\n",
              "      <td>0.000000</td>\n",
              "      <td>0.000000</td>\n",
              "      <td>0.000000</td>\n",
              "      <td>0.000000</td>\n",
              "      <td>0.000000</td>\n",
              "      <td>0.000000</td>\n",
              "      <td>0.000000</td>\n",
              "      <td>0.000000</td>\n",
              "      <td>0.000000</td>\n",
              "      <td>0.000000</td>\n",
              "      <td>0.000000</td>\n",
              "      <td>0.000000</td>\n",
              "      <td>0.000000</td>\n",
              "    </tr>\n",
              "    <tr>\n",
              "      <th>25%</th>\n",
              "      <td>0.794000</td>\n",
              "      <td>23.000000</td>\n",
              "      <td>2.000000</td>\n",
              "      <td>5.000000</td>\n",
              "      <td>0.000000</td>\n",
              "      <td>2.000000</td>\n",
              "      <td>0.000000</td>\n",
              "      <td>0.000000</td>\n",
              "      <td>0.000000</td>\n",
              "      <td>0.000000</td>\n",
              "      <td>0.000000</td>\n",
              "      <td>1.000000</td>\n",
              "      <td>0.000000</td>\n",
              "      <td>1.000000</td>\n",
              "      <td>0.000000</td>\n",
              "      <td>0.000000</td>\n",
              "    </tr>\n",
              "    <tr>\n",
              "      <th>50%</th>\n",
              "      <td>0.910000</td>\n",
              "      <td>47.000000</td>\n",
              "      <td>2.000000</td>\n",
              "      <td>9.000000</td>\n",
              "      <td>1.000000</td>\n",
              "      <td>2.000000</td>\n",
              "      <td>0.000000</td>\n",
              "      <td>0.000000</td>\n",
              "      <td>0.000000</td>\n",
              "      <td>0.000000</td>\n",
              "      <td>0.000000</td>\n",
              "      <td>1.000000</td>\n",
              "      <td>0.000000</td>\n",
              "      <td>1.000000</td>\n",
              "      <td>0.000000</td>\n",
              "      <td>0.000000</td>\n",
              "    </tr>\n",
              "    <tr>\n",
              "      <th>75%</th>\n",
              "      <td>0.920000</td>\n",
              "      <td>89.000000</td>\n",
              "      <td>4.000000</td>\n",
              "      <td>16.000000</td>\n",
              "      <td>1.000000</td>\n",
              "      <td>3.000000</td>\n",
              "      <td>0.000000</td>\n",
              "      <td>0.000000</td>\n",
              "      <td>0.000000</td>\n",
              "      <td>0.000000</td>\n",
              "      <td>0.000000</td>\n",
              "      <td>1.000000</td>\n",
              "      <td>0.000000</td>\n",
              "      <td>1.000000</td>\n",
              "      <td>0.000000</td>\n",
              "      <td>0.000000</td>\n",
              "    </tr>\n",
              "    <tr>\n",
              "      <th>max</th>\n",
              "      <td>0.949000</td>\n",
              "      <td>336.000000</td>\n",
              "      <td>7.000000</td>\n",
              "      <td>21.000000</td>\n",
              "      <td>1.000000</td>\n",
              "      <td>4.000000</td>\n",
              "      <td>1.000000</td>\n",
              "      <td>1.000000</td>\n",
              "      <td>1.000000</td>\n",
              "      <td>1.000000</td>\n",
              "      <td>1.000000</td>\n",
              "      <td>1.000000</td>\n",
              "      <td>1.000000</td>\n",
              "      <td>1.000000</td>\n",
              "      <td>1.000000</td>\n",
              "      <td>1.000000</td>\n",
              "    </tr>\n",
              "  </tbody>\n",
              "</table>\n",
              "</div>\n",
              "      <button class=\"colab-df-convert\" onclick=\"convertToInteractive('df-42b1d728-422e-4ebc-ad19-dc036d8ee2e8')\"\n",
              "              title=\"Convert this dataframe to an interactive table.\"\n",
              "              style=\"display:none;\">\n",
              "        \n",
              "  <svg xmlns=\"http://www.w3.org/2000/svg\" height=\"24px\"viewBox=\"0 0 24 24\"\n",
              "       width=\"24px\">\n",
              "    <path d=\"M0 0h24v24H0V0z\" fill=\"none\"/>\n",
              "    <path d=\"M18.56 5.44l.94 2.06.94-2.06 2.06-.94-2.06-.94-.94-2.06-.94 2.06-2.06.94zm-11 1L8.5 8.5l.94-2.06 2.06-.94-2.06-.94L8.5 2.5l-.94 2.06-2.06.94zm10 10l.94 2.06.94-2.06 2.06-.94-2.06-.94-.94-2.06-.94 2.06-2.06.94z\"/><path d=\"M17.41 7.96l-1.37-1.37c-.4-.4-.92-.59-1.43-.59-.52 0-1.04.2-1.43.59L10.3 9.45l-7.72 7.72c-.78.78-.78 2.05 0 2.83L4 21.41c.39.39.9.59 1.41.59.51 0 1.02-.2 1.41-.59l7.78-7.78 2.81-2.81c.8-.78.8-2.07 0-2.86zM5.41 20L4 18.59l7.72-7.72 1.47 1.35L5.41 20z\"/>\n",
              "  </svg>\n",
              "      </button>\n",
              "      \n",
              "  <style>\n",
              "    .colab-df-container {\n",
              "      display:flex;\n",
              "      flex-wrap:wrap;\n",
              "      gap: 12px;\n",
              "    }\n",
              "\n",
              "    .colab-df-convert {\n",
              "      background-color: #E8F0FE;\n",
              "      border: none;\n",
              "      border-radius: 50%;\n",
              "      cursor: pointer;\n",
              "      display: none;\n",
              "      fill: #1967D2;\n",
              "      height: 32px;\n",
              "      padding: 0 0 0 0;\n",
              "      width: 32px;\n",
              "    }\n",
              "\n",
              "    .colab-df-convert:hover {\n",
              "      background-color: #E2EBFA;\n",
              "      box-shadow: 0px 1px 2px rgba(60, 64, 67, 0.3), 0px 1px 3px 1px rgba(60, 64, 67, 0.15);\n",
              "      fill: #174EA6;\n",
              "    }\n",
              "\n",
              "    [theme=dark] .colab-df-convert {\n",
              "      background-color: #3B4455;\n",
              "      fill: #D2E3FC;\n",
              "    }\n",
              "\n",
              "    [theme=dark] .colab-df-convert:hover {\n",
              "      background-color: #434B5C;\n",
              "      box-shadow: 0px 1px 3px 1px rgba(0, 0, 0, 0.15);\n",
              "      filter: drop-shadow(0px 1px 2px rgba(0, 0, 0, 0.3));\n",
              "      fill: #FFFFFF;\n",
              "    }\n",
              "  </style>\n",
              "\n",
              "      <script>\n",
              "        const buttonEl =\n",
              "          document.querySelector('#df-42b1d728-422e-4ebc-ad19-dc036d8ee2e8 button.colab-df-convert');\n",
              "        buttonEl.style.display =\n",
              "          google.colab.kernel.accessAllowed ? 'block' : 'none';\n",
              "\n",
              "        async function convertToInteractive(key) {\n",
              "          const element = document.querySelector('#df-42b1d728-422e-4ebc-ad19-dc036d8ee2e8');\n",
              "          const dataTable =\n",
              "            await google.colab.kernel.invokeFunction('convertToInteractive',\n",
              "                                                     [key], {});\n",
              "          if (!dataTable) return;\n",
              "\n",
              "          const docLinkHtml = 'Like what you see? Visit the ' +\n",
              "            '<a target=\"_blank\" href=https://colab.research.google.com/notebooks/data_table.ipynb>data table notebook</a>'\n",
              "            + ' to learn more about interactive tables.';\n",
              "          element.innerHTML = '';\n",
              "          dataTable['output_type'] = 'display_data';\n",
              "          await google.colab.output.renderOutput(dataTable, element);\n",
              "          const docLink = document.createElement('div');\n",
              "          docLink.innerHTML = docLinkHtml;\n",
              "          element.appendChild(docLink);\n",
              "        }\n",
              "      </script>\n",
              "    </div>\n",
              "  </div>\n",
              "  "
            ]
          },
          "metadata": {},
          "execution_count": 5
        }
      ],
      "source": [
        "#Descriptive Stats\n",
        "data.describe()"
      ]
    },
    {
      "cell_type": "markdown",
      "metadata": {
        "id": "MZd8O-KfiOAI"
      },
      "source": [
        ""
      ]
    },
    {
      "cell_type": "code",
      "execution_count": 6,
      "metadata": {
        "colab": {
          "base_uri": "https://localhost:8080/"
        },
        "id": "iTKHUS_6yVVu",
        "outputId": "046d1966-1a26-41eb-8716-f62a95c48c9b"
      },
      "outputs": [
        {
          "output_type": "stream",
          "name": "stdout",
          "text": [
            "<class 'pandas.core.frame.DataFrame'>\n",
            "RangeIndex: 15781 entries, 0 to 15780\n",
            "Data columns (total 16 columns):\n",
            " #   Column                            Non-Null Count  Dtype  \n",
            "---  ------                            --------------  -----  \n",
            " 0   city_development_index            15781 non-null  float64\n",
            " 1   training_hours                    15781 non-null  float64\n",
            " 2   company_size                      15781 non-null  float64\n",
            " 3   experience                        15781 non-null  float64\n",
            " 4   relevent_experience               15781 non-null  float64\n",
            " 5   education_level                   15781 non-null  float64\n",
            " 6   company_type_Early Stage Startup  15781 non-null  float64\n",
            " 7   company_type_Funded Startup       15781 non-null  float64\n",
            " 8   company_type_NGO                  15781 non-null  float64\n",
            " 9   company_type_Other                15781 non-null  float64\n",
            " 10  company_type_Public Sector        15781 non-null  float64\n",
            " 11  company_type_Pvt Ltd              15781 non-null  float64\n",
            " 12  gender_Female                     15781 non-null  float64\n",
            " 13  gender_Male                       15781 non-null  float64\n",
            " 14  gender_Other                      15781 non-null  float64\n",
            " 15  Class                             15781 non-null  float64\n",
            "dtypes: float64(16)\n",
            "memory usage: 1.9 MB\n"
          ]
        }
      ],
      "source": [
        "#General information\n",
        "data.info()"
      ]
    },
    {
      "cell_type": "code",
      "execution_count": 7,
      "metadata": {
        "colab": {
          "base_uri": "https://localhost:8080/"
        },
        "id": "LYsrzFY_36Xj",
        "outputId": "023f247c-c5b1-49b9-c619-5d744e14bb91"
      },
      "outputs": [
        {
          "output_type": "execute_result",
          "data": {
            "text/plain": [
              "city_development_index             -0.236536\n",
              "training_hours                     -0.005772\n",
              "company_size                       -0.058667\n",
              "experience                         -0.112020\n",
              "relevent_experience                -0.084167\n",
              "education_level                    -0.013863\n",
              "company_type_Early Stage Startup    0.008155\n",
              "company_type_Funded Startup        -0.034782\n",
              "company_type_NGO                   -0.026132\n",
              "company_type_Other                  0.000111\n",
              "company_type_Public Sector         -0.009705\n",
              "company_type_Pvt Ltd                0.034412\n",
              "gender_Female                       0.009298\n",
              "gender_Male                        -0.012002\n",
              "gender_Other                        0.008691\n",
              "Class                               1.000000\n",
              "dtype: float64"
            ]
          },
          "metadata": {},
          "execution_count": 7
        }
      ],
      "source": [
        "#Correlation with the Class feature\n",
        "Corr = data.corrwith(data.Class)\n",
        "Corr"
      ]
    },
    {
      "cell_type": "code",
      "execution_count": 8,
      "metadata": {
        "colab": {
          "base_uri": "https://localhost:8080/",
          "height": 296
        },
        "id": "WiD9AfLd9K0L",
        "outputId": "06cbd8b4-fc31-4657-b31e-f4909aab8636"
      },
      "outputs": [
        {
          "output_type": "execute_result",
          "data": {
            "text/plain": [
              "<matplotlib.axes._subplots.AxesSubplot at 0x7f0471f53490>"
            ]
          },
          "metadata": {},
          "execution_count": 8
        },
        {
          "output_type": "display_data",
          "data": {
            "text/plain": [
              "<Figure size 432x288 with 1 Axes>"
            ],
            "image/png": "[encoded data removed]"
          },
          "metadata": {
            "needs_background": "light"
          }
        }
      ],
      "source": [
        "# Examples of feature distribution\n",
        "\n",
        "sns.kdeplot(x=data['experience'],\n",
        "            data=data,\n",
        "            hue = 'Class')"
      ]
    },
    {
      "cell_type": "code",
      "execution_count": 9,
      "metadata": {
        "colab": {
          "base_uri": "https://localhost:8080/",
          "height": 297
        },
        "id": "dQTs2J4HC2bm",
        "outputId": "7c70d310-df1c-443c-9dd4-e2f9f6aeca39"
      },
      "outputs": [
        {
          "output_type": "execute_result",
          "data": {
            "text/plain": [
              "<matplotlib.axes._subplots.AxesSubplot at 0x7f04636a6290>"
            ]
          },
          "metadata": {},
          "execution_count": 9
        },
        {
          "output_type": "display_data",
          "data": {
            "text/plain": [
              "<Figure size 432x288 with 1 Axes>"
            ],
            "image/png": "[encoded data removed]"
          },
          "metadata": {
            "needs_background": "light"
          }
        }
      ],
      "source": [
        "sns.kdeplot(x=data['city_development_index'],\n",
        "            data=data,\n",
        "            hue = 'Class')"
      ]
    },
    {
      "cell_type": "markdown",
      "metadata": {
        "id": "mNBZHw5ggl8K"
      },
      "source": [
        "#Feature Engineering"
      ]
    },
    {
      "cell_type": "markdown",
      "metadata": {
        "id": "PDdEcQovhmB9"
      },
      "source": [
        "##Missing Data:\n",
        "\n",
        "The data contains no missing, NaN or null values.\n",
        "\n",
        "Which is great!"
      ]
    },
    {
      "cell_type": "code",
      "execution_count": 10,
      "metadata": {
        "colab": {
          "base_uri": "https://localhost:8080/"
        },
        "id": "QqGBek-fDS89",
        "outputId": "d6eba3fd-e88b-428a-cfc2-c0f07bf55410"
      },
      "outputs": [
        {
          "output_type": "execute_result",
          "data": {
            "text/plain": [
              "city_development_index              0\n",
              "training_hours                      0\n",
              "company_size                        0\n",
              "experience                          0\n",
              "relevent_experience                 0\n",
              "education_level                     0\n",
              "company_type_Early Stage Startup    0\n",
              "company_type_Funded Startup         0\n",
              "company_type_NGO                    0\n",
              "company_type_Other                  0\n",
              "company_type_Public Sector          0\n",
              "company_type_Pvt Ltd                0\n",
              "gender_Female                       0\n",
              "gender_Male                         0\n",
              "gender_Other                        0\n",
              "Class                               0\n",
              "dtype: int64"
            ]
          },
          "metadata": {},
          "execution_count": 10
        }
      ],
      "source": [
        "#NA check\n",
        "data.isna().sum()"
      ]
    },
    {
      "cell_type": "code",
      "execution_count": 11,
      "metadata": {
        "colab": {
          "base_uri": "https://localhost:8080/"
        },
        "id": "cXNMu1P4K86d",
        "outputId": "b703e013-7dc4-42de-ca70-577c27714330"
      },
      "outputs": [
        {
          "output_type": "execute_result",
          "data": {
            "text/plain": [
              "city_development_index              0\n",
              "training_hours                      0\n",
              "company_size                        0\n",
              "experience                          0\n",
              "relevent_experience                 0\n",
              "education_level                     0\n",
              "company_type_Early Stage Startup    0\n",
              "company_type_Funded Startup         0\n",
              "company_type_NGO                    0\n",
              "company_type_Other                  0\n",
              "company_type_Public Sector          0\n",
              "company_type_Pvt Ltd                0\n",
              "gender_Female                       0\n",
              "gender_Male                         0\n",
              "gender_Other                        0\n",
              "Class                               0\n",
              "dtype: int64"
            ]
          },
          "metadata": {},
          "execution_count": 11
        }
      ],
      "source": [
        "#NuLL check\n",
        "data.isnull().sum()"
      ]
    },
    {
      "cell_type": "markdown",
      "metadata": {
        "id": "JSiugWRcM0Vl"
      },
      "source": [
        "## Training & Test set\n",
        "Setting 20% testing set for our models"
      ]
    },
    {
      "cell_type": "code",
      "execution_count": 12,
      "metadata": {
        "id": "HmWrKafYN4wi"
      },
      "outputs": [],
      "source": [
        "# Defining X\n",
        "X = data.loc[:, data.columns != 'Class']\n",
        "# Defining y\n",
        "y = data['Class']\n",
        "# Train test split\n",
        "X_train, X_test, y_train, y_test = train_test_split(X,\n",
        "                                                    y,\n",
        "                                                    test_size=.2,\n",
        "                                                    stratify=y)"
      ]
    },
    {
      "cell_type": "markdown",
      "metadata": {
        "id": "HyBOQnOPGXNo"
      },
      "source": [
        "## Balancing Data"
      ]
    },
    {
      "cell_type": "markdown",
      "metadata": {
        "id": "pD9-VvaKF6VE"
      },
      "source": [
        "As presented below, we have an extremly unbalanced data set, with Class 1 representing less than .9% of the observations."
      ]
    },
    {
      "cell_type": "code",
      "execution_count": 13,
      "metadata": {
        "colab": {
          "base_uri": "https://localhost:8080/"
        },
        "id": "QpywLD54Ditv",
        "outputId": "9e1923b8-0476-4b89-fe58-eedd9152c79a"
      },
      "outputs": [
        {
          "output_type": "execute_result",
          "data": {
            "text/plain": [
              "0.0    0.911286\n",
              "1.0    0.088714\n",
              "Name: Class, dtype: float64"
            ]
          },
          "metadata": {},
          "execution_count": 13
        }
      ],
      "source": [
        "# Class ratios\n",
        "data['Class'].value_counts(normalize=True)"
      ]
    },
    {
      "cell_type": "markdown",
      "metadata": {
        "id": "XWJTsCPAGiaM"
      },
      "source": [
        "So to correct this skewness of data, we'll use the Synthetic Minority Oversampling Technique (SMOTE) algorithm in order to 'creates a class-balanced synthetic dataset without adding duplicated instances with minority labels'.\n",
        "\n",
        "The SMOTE technique is implemented by `imblearn` as follow:\n"
      ]
    },
    {
      "cell_type": "code",
      "execution_count": 14,
      "metadata": {
        "id": "LYA2rMohK6Hs"
      },
      "outputs": [],
      "source": [
        "# Create a SMOTE sampler\n",
        "smote_sampler = SMOTE(random_state = 42)"
      ]
    },
    {
      "cell_type": "code",
      "execution_count": 15,
      "metadata": {
        "id": "DMUjOuT5K6Hu"
      },
      "outputs": [],
      "source": [
        "# Resample training data using SMOTE\n",
        "X_smo, y_smo = smote_sampler.fit_resample(X_train, y_train)"
      ]
    },
    {
      "cell_type": "markdown",
      "metadata": {
        "id": "HevvRc3sK6Hv"
      },
      "source": [
        "After SMOTE resampling, we can see both positive and negative class has the same instances\n"
      ]
    },
    {
      "cell_type": "code",
      "execution_count": 16,
      "metadata": {
        "colab": {
          "base_uri": "https://localhost:8080/",
          "height": 291
        },
        "id": "WabFCAA6K6Hw",
        "outputId": "383bd62b-48f0-46c6-ebe8-d1e1b514f006"
      },
      "outputs": [
        {
          "output_type": "execute_result",
          "data": {
            "text/plain": [
              "<matplotlib.axes._subplots.AxesSubplot at 0x7f0463179350>"
            ]
          },
          "metadata": {},
          "execution_count": 16
        },
        {
          "output_type": "display_data",
          "data": {
            "text/plain": [
              "<Figure size 432x288 with 1 Axes>"
            ],
            "image/png": "[encoded data removed]"
          },
          "metadata": {
            "needs_background": "light"
          }
        }
      ],
      "source": [
        "# Visualize classes\n",
        "y_smo.value_counts().plot.bar(color=['blue', 'red'])"
      ]
    },
    {
      "cell_type": "markdown",
      "source": [
        "Data all set.\n",
        "\n",
        "Let's go modeling!"
      ],
      "metadata": {
        "id": "hiLDwqPcgFsq"
      }
    },
    {
      "cell_type": "markdown",
      "metadata": {
        "id": "GekCb274gx1E"
      },
      "source": [
        "# Model Selection"
      ]
    },
    {
      "cell_type": "markdown",
      "metadata": {
        "id": "qvEp6yNAk0-R"
      },
      "source": [
        "## Model 1: Logistic regression"
      ]
    },
    {
      "cell_type": "code",
      "execution_count": 128,
      "metadata": {
        "id": "oixUVzOYDtTK"
      },
      "outputs": [],
      "source": [
        "#Suggested parameters to search\n",
        "param_grid ={\n",
        "    'penalty':('l1', 'l2'),\n",
        "    'fit_intercept':(True, False),\n",
        "    'solver':('liblinear', 'saga')\n",
        "}"
      ]
    },
    {
      "cell_type": "code",
      "execution_count": 129,
      "metadata": {
        "id": "CDREpc6gDxL7"
      },
      "outputs": [],
      "source": [
        "#GridSearch\n",
        "grid_lr = GridSearchCV(LogisticRegression(),\n",
        "                       param_grid=param_grid,\n",
        "                       n_jobs=-1,\n",
        "                       cv =10)"
      ]
    },
    {
      "cell_type": "code",
      "execution_count": 130,
      "metadata": {
        "id": "_lgHbm-uD123",
        "colab": {
          "base_uri": "https://localhost:8080/"
        },
        "outputId": "98d0962a-394b-47e2-c90a-00eef58cdf58"
      },
      "outputs": [
        {
          "output_type": "execute_result",
          "data": {
            "text/plain": [
              "GridSearchCV(cv=10, estimator=LogisticRegression(), n_jobs=-1,\n",
              "             param_grid={'fit_intercept': (True, False),\n",
              "                         'penalty': ('l1', 'l2'),\n",
              "                         'solver': ('liblinear', 'saga')})"
            ]
          },
          "metadata": {},
          "execution_count": 130
        }
      ],
      "source": [
        "grid_lr.fit(X_smo, y_smo)"
      ]
    },
    {
      "cell_type": "code",
      "source": [
        "#Best estimator\n",
        "grid_lr.best_estimator_"
      ],
      "metadata": {
        "colab": {
          "base_uri": "https://localhost:8080/"
        },
        "id": "AHdVzGHvj3iU",
        "outputId": "63f295ce-0424-4a61-cfdb-de759d72edcf"
      },
      "execution_count": 131,
      "outputs": [
        {
          "output_type": "execute_result",
          "data": {
            "text/plain": [
              "LogisticRegression(solver='liblinear')"
            ]
          },
          "metadata": {},
          "execution_count": 131
        }
      ]
    },
    {
      "cell_type": "code",
      "source": [
        "#Best score\n",
        "grid_lr.best_score_"
      ],
      "metadata": {
        "colab": {
          "base_uri": "https://localhost:8080/"
        },
        "id": "qZaa0ii2ka-6",
        "outputId": "882a9827-224a-4e3c-f3d8-b78f17f6978a"
      },
      "execution_count": 132,
      "outputs": [
        {
          "output_type": "execute_result",
          "data": {
            "text/plain": [
              "0.6970623358464184"
            ]
          },
          "metadata": {},
          "execution_count": 132
        }
      ]
    },
    {
      "cell_type": "code",
      "source": [
        "#prediction\n",
        "preds = grid_lr.predict(X_test)"
      ],
      "metadata": {
        "id": "XLC4w9pXlB9q"
      },
      "execution_count": 133,
      "outputs": []
    },
    {
      "cell_type": "code",
      "source": [
        "#Detailed score\n",
        "precision_lr, recall_lr, f_beta_lr, support_lr = precision_recall_fscore_support(y_test, preds, beta=5, pos_label=1, average='binary')\n",
        "auc_lr = roc_auc_score(y_test, preds)\n",
        "accuracy_lr = accuracy_score(y_test, preds)\n",
        "print(f\"Accuracy is: {accuracy_lr:.2f}\")\n",
        "print(f\"Precision is: {precision_lr:.2f}\")\n",
        "print(f\"Recall is: {recall_lr:.2f}\")\n",
        "print(f\"Fscore is: {f_beta_lr:.2f}\")\n",
        "print(f\"AUC is: {auc_lr:.2f}\")"
      ],
      "metadata": {
        "colab": {
          "base_uri": "https://localhost:8080/"
        },
        "id": "iYePBaN2knkb",
        "outputId": "f46e01cf-e0b1-4de2-effb-a30b1063c80e"
      },
      "execution_count": 134,
      "outputs": [
        {
          "output_type": "stream",
          "name": "stdout",
          "text": [
            "Accuracy is: 0.71\n",
            "Precision is: 0.16\n",
            "Recall is: 0.53\n",
            "Fscore is: 0.48\n",
            "AUC is: 0.63\n"
          ]
        }
      ]
    },
    {
      "cell_type": "markdown",
      "metadata": {
        "id": "sIxR6q21k7AH"
      },
      "source": [
        "## Model 2: Decision Tree Classifier"
      ]
    },
    {
      "cell_type": "code",
      "execution_count": 138,
      "metadata": {
        "id": "z6eOdWpXD6wN"
      },
      "outputs": [],
      "source": [
        "#Suggested parameters to search\n",
        "param_grid = {\n",
        "    'criterion':('entropy', 'gini'),\n",
        "    'max_depth': np.arange(5,15,1),\n",
        "    'max_features':('sqrt', None),\n",
        "}"
      ]
    },
    {
      "cell_type": "code",
      "source": [
        "#GridSearchCV\n",
        "grid_dt = GridSearchCV(estimator=DecisionTreeClassifier(random_state=42),\n",
        "                       param_grid = param_grid,\n",
        "                       n_jobs=-1,\n",
        "                       cv = 10)"
      ],
      "metadata": {
        "id": "hb9-TqCppSaY"
      },
      "execution_count": 139,
      "outputs": []
    },
    {
      "cell_type": "code",
      "source": [
        "grid_dt.fit(X_smo, y_smo)"
      ],
      "metadata": {
        "colab": {
          "base_uri": "https://localhost:8080/"
        },
        "id": "r05mshOPVY2t",
        "outputId": "323ab6ac-ead6-4760-9956-f5da0f09fad0"
      },
      "execution_count": 140,
      "outputs": [
        {
          "output_type": "execute_result",
          "data": {
            "text/plain": [
              "GridSearchCV(cv=10, estimator=DecisionTreeClassifier(random_state=42),\n",
              "             n_jobs=-1,\n",
              "             param_grid={'criterion': ('entropy', 'gini'),\n",
              "                         'max_depth': array([ 5,  6,  7,  8,  9, 10, 11, 12, 13, 14]),\n",
              "                         'max_features': ('sqrt', None)})"
            ]
          },
          "metadata": {},
          "execution_count": 140
        }
      ]
    },
    {
      "cell_type": "code",
      "source": [
        "#Best etimator\n",
        "grid_dt.best_estimator_"
      ],
      "metadata": {
        "colab": {
          "base_uri": "https://localhost:8080/"
        },
        "id": "zZxijTT2XCwz",
        "outputId": "ba6468a7-6d3a-4f78-ff6a-09cf3204d80f"
      },
      "execution_count": 141,
      "outputs": [
        {
          "output_type": "execute_result",
          "data": {
            "text/plain": [
              "DecisionTreeClassifier(max_depth=14, random_state=42)"
            ]
          },
          "metadata": {},
          "execution_count": 141
        }
      ]
    },
    {
      "cell_type": "code",
      "source": [
        "#Best score\n",
        "grid_dt.best_score_"
      ],
      "metadata": {
        "colab": {
          "base_uri": "https://localhost:8080/"
        },
        "id": "4asSc_hNXHnN",
        "outputId": "88bf4242-2579-4540-cfba-bbeb6dc0d4b5"
      },
      "execution_count": 142,
      "outputs": [
        {
          "output_type": "execute_result",
          "data": {
            "text/plain": [
              "0.8760893373391532"
            ]
          },
          "metadata": {},
          "execution_count": 142
        }
      ]
    },
    {
      "cell_type": "code",
      "source": [
        "#Predictions\n",
        "preds = grid_dt.predict(X_test)"
      ],
      "metadata": {
        "id": "ITUF_YZpXMFr"
      },
      "execution_count": 143,
      "outputs": []
    },
    {
      "cell_type": "code",
      "source": [
        "#Detailed score\n",
        "precision_dt, recall_dt, f_beta_dt, support_dt = precision_recall_fscore_support(y_test, preds, beta=5, pos_label=1, average='binary')\n",
        "auc_dt = roc_auc_score(y_test, preds)\n",
        "accuracy_dt = accuracy_score(y_test, preds)\n",
        "print(f\"Accuracy is: {accuracy_dt:.2f}\")\n",
        "print(f\"Precision is: {precision_dt:.2f}\")\n",
        "print(f\"Recall is: {recall_dt:.2f}\")\n",
        "print(f\"Fscore is: {f_beta_dt:.2f}\")\n",
        "print(f\"AUC is: {auc_dt:.2f}\")"
      ],
      "metadata": {
        "colab": {
          "base_uri": "https://localhost:8080/"
        },
        "id": "RfUh7HK_pV-o",
        "outputId": "abcf533c-ab9a-4f48-c4b8-d06838e6547b"
      },
      "execution_count": 144,
      "outputs": [
        {
          "output_type": "stream",
          "name": "stdout",
          "text": [
            "Accuracy is: 0.84\n",
            "Precision is: 0.20\n",
            "Recall is: 0.27\n",
            "Fscore is: 0.27\n",
            "AUC is: 0.58\n"
          ]
        }
      ]
    },
    {
      "cell_type": "markdown",
      "metadata": {
        "id": "ea9dVJEBnIQF"
      },
      "source": [
        "## Model 3: XGBOOST Classifier"
      ]
    },
    {
      "cell_type": "code",
      "execution_count": 148,
      "metadata": {
        "id": "QgEhl_BSD82A"
      },
      "outputs": [],
      "source": [
        "#Suggested parameters to search\n",
        "param_grid = {\n",
        "    'booster':['gbtree'], \n",
        "    'objective':['binary:logistic'],\n",
        "    'learning_rate': np.arange(0,1,0.3), \n",
        "    'max_depth': [5, 10],\n",
        "    'n_estimators': [30, 50],\n",
        "    'seed': [42]\n",
        "}"
      ]
    },
    {
      "cell_type": "code",
      "execution_count": 149,
      "metadata": {
        "id": "efrGQ_nND82B"
      },
      "outputs": [],
      "source": [
        "#GridSearch\n",
        "grid_xgb = GridSearchCV(estimator= XGBClassifier(),\n",
        "                        param_grid = param_grid,\n",
        "                        n_jobs= -1,\n",
        "                        cv= 10)"
      ]
    },
    {
      "cell_type": "code",
      "execution_count": 150,
      "metadata": {
        "id": "_l6-nAwdD82D",
        "colab": {
          "base_uri": "https://localhost:8080/"
        },
        "outputId": "4bfec043-10a9-4511-bf26-93183c6a92f6"
      },
      "outputs": [
        {
          "output_type": "execute_result",
          "data": {
            "text/plain": [
              "GridSearchCV(cv=10, estimator=XGBClassifier(), n_jobs=-1,\n",
              "             param_grid={'booster': ['gbtree'],\n",
              "                         'learning_rate': array([0. , 0.3, 0.6, 0.9]),\n",
              "                         'max_depth': [5, 10], 'n_estimators': [30, 50],\n",
              "                         'objective': ['binary:logistic'], 'seed': [42]})"
            ]
          },
          "metadata": {},
          "execution_count": 150
        }
      ],
      "source": [
        "grid_xgb.fit(X_smo, y_smo)"
      ]
    },
    {
      "cell_type": "code",
      "source": [
        "#Best estimator\n",
        "grid_xgb.best_estimator_"
      ],
      "metadata": {
        "colab": {
          "base_uri": "https://localhost:8080/"
        },
        "outputId": "964a56df-30b1-4b72-b2ae-f1c6ce73461b",
        "id": "wOy0AbYMdcOq"
      },
      "execution_count": 72,
      "outputs": [
        {
          "output_type": "execute_result",
          "data": {
            "text/plain": [
              "XGBClassifier(learning_rate=0.3, max_depth=10, n_estimators=50, seed=42)"
            ]
          },
          "metadata": {},
          "execution_count": 72
        }
      ]
    },
    {
      "cell_type": "code",
      "source": [
        "#Best score\n",
        "grid_xgb.best_score_"
      ],
      "metadata": {
        "colab": {
          "base_uri": "https://localhost:8080/"
        },
        "outputId": "c188f44f-5d99-418e-e9dd-c6c6800f4242",
        "id": "IHuSvqdhdcOt"
      },
      "execution_count": 151,
      "outputs": [
        {
          "output_type": "execute_result",
          "data": {
            "text/plain": [
              "0.9345481170757516"
            ]
          },
          "metadata": {},
          "execution_count": 151
        }
      ]
    },
    {
      "cell_type": "code",
      "source": [
        "#Prediction\n",
        "preds = grid_xgb.predict(X_test)"
      ],
      "metadata": {
        "id": "_vHQWvHmdcOv"
      },
      "execution_count": 152,
      "outputs": []
    },
    {
      "cell_type": "code",
      "source": [
        "#Detailed Score\n",
        "precision_xgbc, recall_xgbc, f_beta_xgbc, support_xgbc = precision_recall_fscore_support(y_test, preds, beta=5, pos_label=1, average='binary')\n",
        "auc_xgbc = roc_auc_score(y_test, preds)\n",
        "accuracy_xgbc = accuracy_score(y_test, preds)\n",
        "print(f\"Accuracy is: {accuracy_xgbc:.2f}\")\n",
        "print(f\"Precision is: {precision_xgbc:.2f}\")\n",
        "print(f\"Recall is: {recall_xgbc:.2f}\")\n",
        "print(f\"Fscore is: {f_beta_xgbc:.2f}\")\n",
        "print(f\"AUC is: {auc_xgbc:.2f}\")"
      ],
      "metadata": {
        "colab": {
          "base_uri": "https://localhost:8080/"
        },
        "outputId": "3eb56917-519d-4f8d-e571-b85a23e2b44e",
        "id": "N-9WBg0UdcOw"
      },
      "execution_count": 153,
      "outputs": [
        {
          "output_type": "stream",
          "name": "stdout",
          "text": [
            "Accuracy is: 0.89\n",
            "Precision is: 0.26\n",
            "Recall is: 0.11\n",
            "Fscore is: 0.11\n",
            "AUC is: 0.54\n"
          ]
        }
      ]
    },
    {
      "cell_type": "markdown",
      "metadata": {
        "id": "fpiunPSRg01v"
      },
      "source": [
        "# Data Analytics"
      ]
    },
    {
      "cell_type": "markdown",
      "metadata": {
        "id": "1wpDXmu9nTA9"
      },
      "source": [
        "## Best Model"
      ]
    },
    {
      "cell_type": "code",
      "execution_count": 154,
      "metadata": {
        "id": "_h5dq27tD-SC"
      },
      "outputs": [],
      "source": [
        "#Score table\n",
        "Results = pd.DataFrame(columns= ['Scores', 'Logistic Regression', 'Decision Tree Classifier', 'XGBOOST Classifier'])\n",
        "Results['Scores'] = ['Accuracy', 'Precision', 'recall', 'F1 Score', 'AUC']\n",
        "Results['Logistic Regression'] = [accuracy_lr, precision_lr, recall_lr, f_beta_lr, auc_lr]\n",
        "Results['Decision Tree Classifier'] = [accuracy_dt, precision_dt, recall_dt, f_beta_dt, auc_dt]\n",
        "Results['XGBOOST Classifier'] = [accuracy_xgbc, precision_xgbc, recall_xgbc, f_beta_xgbc, auc_xgbc]"
      ]
    },
    {
      "cell_type": "code",
      "source": [
        "Results.set_index('Scores')"
      ],
      "metadata": {
        "colab": {
          "base_uri": "https://localhost:8080/",
          "height": 238
        },
        "id": "MJcb6i74vis5",
        "outputId": "9619945e-fcaf-4ba0-ba17-aabd54cb2569"
      },
      "execution_count": 155,
      "outputs": [
        {
          "output_type": "execute_result",
          "data": {
            "text/plain": [
              "           Logistic Regression  Decision Tree Classifier  XGBOOST Classifier\n",
              "Scores                                                                      \n",
              "Accuracy              0.712702                  0.837821            0.892620\n",
              "Precision             0.159609                  0.197917            0.256198\n",
              "recall                0.525000                  0.271429            0.110714\n",
              "F1 Score              0.482515                  0.267606            0.113186\n",
              "AUC                   0.627985                  0.582186            0.539716"
            ],
            "text/html": [
              "\n",
              "  <div id=\"df-5cb8f92d-857c-4708-8f5f-e669901eb524\">\n",
              "    <div class=\"colab-df-container\">\n",
              "      <div>\n",
              "<style scoped>\n",
              "    .dataframe tbody tr th:only-of-type {\n",
              "        vertical-align: middle;\n",
              "    }\n",
              "\n",
              "    .dataframe tbody tr th {\n",
              "        vertical-align: top;\n",
              "    }\n",
              "\n",
              "    .dataframe thead th {\n",
              "        text-align: right;\n",
              "    }\n",
              "</style>\n",
              "<table border=\"1\" class=\"dataframe\">\n",
              "  <thead>\n",
              "    <tr style=\"text-align: right;\">\n",
              "      <th></th>\n",
              "      <th>Logistic Regression</th>\n",
              "      <th>Decision Tree Classifier</th>\n",
              "      <th>XGBOOST Classifier</th>\n",
              "    </tr>\n",
              "    <tr>\n",
              "      <th>Scores</th>\n",
              "      <th></th>\n",
              "      <th></th>\n",
              "      <th></th>\n",
              "    </tr>\n",
              "  </thead>\n",
              "  <tbody>\n",
              "    <tr>\n",
              "      <th>Accuracy</th>\n",
              "      <td>0.712702</td>\n",
              "      <td>0.837821</td>\n",
              "      <td>0.892620</td>\n",
              "    </tr>\n",
              "    <tr>\n",
              "      <th>Precision</th>\n",
              "      <td>0.159609</td>\n",
              "      <td>0.197917</td>\n",
              "      <td>0.256198</td>\n",
              "    </tr>\n",
              "    <tr>\n",
              "      <th>recall</th>\n",
              "      <td>0.525000</td>\n",
              "      <td>0.271429</td>\n",
              "      <td>0.110714</td>\n",
              "    </tr>\n",
              "    <tr>\n",
              "      <th>F1 Score</th>\n",
              "      <td>0.482515</td>\n",
              "      <td>0.267606</td>\n",
              "      <td>0.113186</td>\n",
              "    </tr>\n",
              "    <tr>\n",
              "      <th>AUC</th>\n",
              "      <td>0.627985</td>\n",
              "      <td>0.582186</td>\n",
              "      <td>0.539716</td>\n",
              "    </tr>\n",
              "  </tbody>\n",
              "</table>\n",
              "</div>\n",
              "      <button class=\"colab-df-convert\" onclick=\"convertToInteractive('df-5cb8f92d-857c-4708-8f5f-e669901eb524')\"\n",
              "              title=\"Convert this dataframe to an interactive table.\"\n",
              "              style=\"display:none;\">\n",
              "        \n",
              "  <svg xmlns=\"http://www.w3.org/2000/svg\" height=\"24px\"viewBox=\"0 0 24 24\"\n",
              "       width=\"24px\">\n",
              "    <path d=\"M0 0h24v24H0V0z\" fill=\"none\"/>\n",
              "    <path d=\"M18.56 5.44l.94 2.06.94-2.06 2.06-.94-2.06-.94-.94-2.06-.94 2.06-2.06.94zm-11 1L8.5 8.5l.94-2.06 2.06-.94-2.06-.94L8.5 2.5l-.94 2.06-2.06.94zm10 10l.94 2.06.94-2.06 2.06-.94-2.06-.94-.94-2.06-.94 2.06-2.06.94z\"/><path d=\"M17.41 7.96l-1.37-1.37c-.4-.4-.92-.59-1.43-.59-.52 0-1.04.2-1.43.59L10.3 9.45l-7.72 7.72c-.78.78-.78 2.05 0 2.83L4 21.41c.39.39.9.59 1.41.59.51 0 1.02-.2 1.41-.59l7.78-7.78 2.81-2.81c.8-.78.8-2.07 0-2.86zM5.41 20L4 18.59l7.72-7.72 1.47 1.35L5.41 20z\"/>\n",
              "  </svg>\n",
              "      </button>\n",
              "      \n",
              "  <style>\n",
              "    .colab-df-container {\n",
              "      display:flex;\n",
              "      flex-wrap:wrap;\n",
              "      gap: 12px;\n",
              "    }\n",
              "\n",
              "    .colab-df-convert {\n",
              "      background-color: #E8F0FE;\n",
              "      border: none;\n",
              "      border-radius: 50%;\n",
              "      cursor: pointer;\n",
              "      display: none;\n",
              "      fill: #1967D2;\n",
              "      height: 32px;\n",
              "      padding: 0 0 0 0;\n",
              "      width: 32px;\n",
              "    }\n",
              "\n",
              "    .colab-df-convert:hover {\n",
              "      background-color: #E2EBFA;\n",
              "      box-shadow: 0px 1px 2px rgba(60, 64, 67, 0.3), 0px 1px 3px 1px rgba(60, 64, 67, 0.15);\n",
              "      fill: #174EA6;\n",
              "    }\n",
              "\n",
              "    [theme=dark] .colab-df-convert {\n",
              "      background-color: #3B4455;\n",
              "      fill: #D2E3FC;\n",
              "    }\n",
              "\n",
              "    [theme=dark] .colab-df-convert:hover {\n",
              "      background-color: #434B5C;\n",
              "      box-shadow: 0px 1px 3px 1px rgba(0, 0, 0, 0.15);\n",
              "      filter: drop-shadow(0px 1px 2px rgba(0, 0, 0, 0.3));\n",
              "      fill: #FFFFFF;\n",
              "    }\n",
              "  </style>\n",
              "\n",
              "      <script>\n",
              "        const buttonEl =\n",
              "          document.querySelector('#df-5cb8f92d-857c-4708-8f5f-e669901eb524 button.colab-df-convert');\n",
              "        buttonEl.style.display =\n",
              "          google.colab.kernel.accessAllowed ? 'block' : 'none';\n",
              "\n",
              "        async function convertToInteractive(key) {\n",
              "          const element = document.querySelector('#df-5cb8f92d-857c-4708-8f5f-e669901eb524');\n",
              "          const dataTable =\n",
              "            await google.colab.kernel.invokeFunction('convertToInteractive',\n",
              "                                                     [key], {});\n",
              "          if (!dataTable) return;\n",
              "\n",
              "          const docLinkHtml = 'Like what you see? Visit the ' +\n",
              "            '<a target=\"_blank\" href=https://colab.research.google.com/notebooks/data_table.ipynb>data table notebook</a>'\n",
              "            + ' to learn more about interactive tables.';\n",
              "          element.innerHTML = '';\n",
              "          dataTable['output_type'] = 'display_data';\n",
              "          await google.colab.output.renderOutput(dataTable, element);\n",
              "          const docLink = document.createElement('div');\n",
              "          docLink.innerHTML = docLinkHtml;\n",
              "          element.appendChild(docLink);\n",
              "        }\n",
              "      </script>\n",
              "    </div>\n",
              "  </div>\n",
              "  "
            ]
          },
          "metadata": {},
          "execution_count": 155
        }
      ]
    },
    {
      "cell_type": "markdown",
      "source": [
        "While all models do have good accuracy, but recall remains low due to difficulty to predict minority Class, except for Logistic Regression with a .52 recall score.\n",
        "\n",
        "For our task, we stick with Logistic Regression model as our best model.\n",
        "\n",
        "The low Precision score is a side effect of SMOTE algorithms and a result of hight predicted false positive in the test set."
      ],
      "metadata": {
        "id": "PeOSWveL49rP"
      }
    },
    {
      "cell_type": "markdown",
      "metadata": {
        "id": "fy4VA1Daneuo"
      },
      "source": [
        "## Feature Importance"
      ]
    },
    {
      "cell_type": "code",
      "execution_count": 167,
      "metadata": {
        "id": "ioXYE9ZDEHj8",
        "colab": {
          "base_uri": "https://localhost:8080/",
          "height": 526
        },
        "outputId": "1c3022dc-0061-4687-ee0d-82d1bd93dc12"
      },
      "outputs": [
        {
          "output_type": "stream",
          "name": "stdout",
          "text": [
            "city_development_index: 0, Score: -6.60666\n",
            "training_hours: 1, Score: 0.00050\n",
            "company_size: 2, Score: -0.16540\n",
            "experience: 3, Score: -0.00920\n",
            "relevent_experience: 4, Score: -0.58141\n",
            "education_level: 5, Score: 0.11670\n",
            "company_type_Early Stage Startup: 6, Score: 0.22019\n",
            "company_type_Funded Startup: 7, Score: 0.13606\n",
            "company_type_NGO: 8, Score: 0.18209\n",
            "company_type_Other: 9, Score: 1.51993\n",
            "company_type_Public Sector: 10, Score: 0.80561\n",
            "company_type_Pvt Ltd: 11, Score: 1.05014\n",
            "gender_Female: 12, Score: 1.24212\n",
            "gender_Male: 13, Score: 1.09890\n",
            "gender_Other: 14, Score: 1.57299\n"
          ]
        },
        {
          "output_type": "display_data",
          "data": {
            "text/plain": [
              "<Figure size 432x288 with 1 Axes>"
            ],
            "image/png": "[encoded data removed]"
          },
          "metadata": {
            "needs_background": "light"
          }
        }
      ],
      "source": [
        "# Retrieve feature importance\n",
        "importance = grid_lr.best_estimator_.coef_[0]\n",
        "\n",
        "# summarize feature importance\n",
        "for c, (i,v) in zip(X.columns.to_list(), enumerate(importance)):\n",
        "  print('%s: %0d, Score: %.5f' % (c,i,v))\n",
        "\n",
        "# plot feature importance\n",
        "plt.barh([x for x in X.columns.to_list()], importance, )\n",
        "plt.show()"
      ]
    },
    {
      "cell_type": "markdown",
      "source": [
        "We can conclude that, the main driver of leaving and looking for a new position is the low dev city, followed by experience and company type and size.\n",
        "\n",
        "In an other words, low developped cities and reduced experience are the main cause of high turnover in work place, especially in startup and medium size private owned companies."
      ],
      "metadata": {
        "id": "i3RjOlCL8Wnb"
      }
    },
    {
      "cell_type": "markdown",
      "metadata": {
        "id": "_Yk3Hd7Hg3cx"
      },
      "source": [
        "#Conclusion"
      ]
    },
    {
      "cell_type": "markdown",
      "source": [
        "In this project, we observe:\n",
        "\n",
        "\n",
        "*   The difficulty of predicting a minority class in imbalanced data set.\n",
        "*   The trade-off in Precision and Recall is necessary to increase model robustess.\n",
        "\n",
        "In other hand, modeling imbalanced data set can be achieved better with:\n",
        "\n",
        "\n",
        "*   Multiple balancing techniques other than SMOTE.\n",
        "*   Multiple robuste emsemble models like Random Forest.\n",
        "\n",
        "Thanks for reading and hope to [hear](mailto:mohamed.mzaouali@gmail.com) from you soon.\n",
        "\n",
        "\n"
      ],
      "metadata": {
        "id": "otTM9Y5j9jco"
      }
    }
  ],
  "metadata": {
    "colab": {
      "collapsed_sections": [],
      "name": "Project_Classification.ipynb",
      "provenance": [],
      "authorship_tag": "ABX9TyOtLPYNoWcc9mFFTYsw56bK",
      "include_colab_link": true
    },
    "kernelspec": {
      "display_name": "Python 3",
      "name": "python3"
    },
    "language_info": {
      "name": "python"
    }
  },
  "nbformat": 4,
  "nbformat_minor": 0
}