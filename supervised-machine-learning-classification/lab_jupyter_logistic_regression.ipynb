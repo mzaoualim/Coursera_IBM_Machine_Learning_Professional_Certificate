{
  "cells": [
    {
      "cell_type": "markdown",
      "metadata": {
        "id": "B3oRV4ZLX2wo"
      },
      "source": [
        "<p style=\"text-align:center\">\n",
        "    <a href=\"https://skills.network/?utm_medium=Exinfluencer&utm_source=Exinfluencer&utm_content=000026UJ&utm_term=10006555&utm_id=NA-SkillsNetwork-Channel-SkillsNetworkCoursesIBMML241ENSkillsNetwork31576874-2022-01-01\" target=\"_blank\">\n",
        "    <img src=\"https://cf-courses-data.s3.us.cloud-object-storage.appdomain.cloud/assets/logos/SN_web_lightmode.png\" width=\"200\" alt=\"Skills Network Logo\"  />\n",
        "    </a>\n",
        "</p>\n"
      ]
    },
    {
      "cell_type": "markdown",
      "metadata": {
        "id": "kJhOThxAX2wy"
      },
      "source": [
        "# **Logistic Regression**\n"
      ]
    },
    {
      "cell_type": "markdown",
      "metadata": {
        "id": "DTEitUQbX2w7"
      },
      "source": [
        "Estimated time needed: **30** minutes\n"
      ]
    },
    {
      "cell_type": "markdown",
      "metadata": {
        "id": "lrp8LXoOX2w-"
      },
      "source": [
        "In this lab, you will learn about and get hands-on practice with the logistic regression model, a popular and effective classification model. Understanding logistic regression and being able to apply it to classification tasks is essential because logistic regression models form the fundamentals of neural networks.\n"
      ]
    },
    {
      "cell_type": "markdown",
      "metadata": {
        "id": "9rAkXy5YX2xG"
      },
      "source": [
        "We will use a real-world dataset that contains detailed nutrition information about food items for people with diabetes. The objective is to classify whether a diabetic patient should choose More Often, Less Often, or In Moderation for a specific food item based on the nutrition information in the dataset.\n"
      ]
    },
    {
      "cell_type": "markdown",
      "metadata": {
        "id": "56PTTAikX2xJ"
      },
      "source": [
        "## Objectives\n"
      ]
    },
    {
      "cell_type": "markdown",
      "metadata": {
        "id": "_5ZCN8QQX2xM"
      },
      "source": [
        "After completing this lab you will be able to:\n"
      ]
    },
    {
      "cell_type": "markdown",
      "metadata": {
        "id": "djydQSpqX2xO"
      },
      "source": [
        "*   Preprocess and generate training and testing datasets\n",
        "*   Train and fine-tune logistic regression models\n",
        "*   Interpret trained logistic regression models\n",
        "*   Evaluate trained logistic regression models\n"
      ]
    },
    {
      "cell_type": "markdown",
      "metadata": {
        "id": "1tBba7Q0X2xQ"
      },
      "source": [
        "***\n"
      ]
    },
    {
      "cell_type": "markdown",
      "metadata": {
        "id": "TTRZ5EhzX2xU"
      },
      "source": [
        "## Prepare and setup lab environment\n"
      ]
    },
    {
      "cell_type": "code",
      "execution_count": null,
      "metadata": {
        "id": "eX09oqfrX2xX"
      },
      "outputs": [],
      "source": [
        "# All Libraries required for this lab are listed below. The libraries pre-installed on Skills Network Labs are commented.\n",
        "# !mamba install -qy pandas==1.3.3 numpy==1.21.2 ipywidgets==7.4.2 scipy==7.4.2 tqdm==4.62.3 matplotlib==3.5.0 seaborn==0.9.0\n",
        "# Note: If your environment doesn't support \"!mamba install\", use \"!pip install\""
      ]
    },
    {
      "cell_type": "code",
      "execution_count": 1,
      "metadata": {
        "id": "9wzd-_kjX2xg"
      },
      "outputs": [],
      "source": [
        "import pandas as pd\n",
        "import numpy as np\n",
        "from sklearn.preprocessing import OneHotEncoder, LabelEncoder, MinMaxScaler\n",
        "from sklearn.model_selection import train_test_split, learning_curve\n",
        "from sklearn.linear_model import LogisticRegression\n",
        "from sklearn import metrics\n",
        "from sklearn.metrics import classification_report, accuracy_score, confusion_matrix, precision_recall_fscore_support, precision_score, recall_score\n",
        "import matplotlib.pyplot as plt\n",
        "import seaborn as sns\n",
        "%matplotlib inline"
      ]
    },
    {
      "cell_type": "code",
      "execution_count": 2,
      "metadata": {
        "id": "f18IAu9GX2xn"
      },
      "outputs": [],
      "source": [
        "# also set a random state\n",
        "rs = 123"
      ]
    },
    {
      "cell_type": "markdown",
      "metadata": {
        "id": "Gdz7vl5DX2xq"
      },
      "source": [
        "### EDA and Feature Engineering\n"
      ]
    },
    {
      "cell_type": "markdown",
      "metadata": {
        "id": "vdJ9wIVzX2xw"
      },
      "source": [
        "### Load and explore the dataset\n"
      ]
    },
    {
      "cell_type": "markdown",
      "metadata": {
        "id": "b2USwk3XX2xy"
      },
      "source": [
        "First, let's load the dataset as a `Pandas` dataframe and conduct some basic EDA tasks on it.\n"
      ]
    },
    {
      "cell_type": "code",
      "execution_count": 3,
      "metadata": {
        "id": "vePbmYL1X2xz"
      },
      "outputs": [],
      "source": [
        "# Load the dataset\n",
        "dataset_url = \"https://cf-courses-data.s3.us.cloud-object-storage.appdomain.cloud/IBM-ML241EN-SkillsNetwork/labs/datasets/food_items.csv\"\n",
        "food_df = pd.read_csv(dataset_url)"
      ]
    },
    {
      "cell_type": "markdown",
      "metadata": {
        "id": "KWN9bDQNX2x0"
      },
      "source": [
        "And, let's quickly check its column types.\n"
      ]
    },
    {
      "cell_type": "code",
      "execution_count": 4,
      "metadata": {
        "id": "tnUQWgT_X2x2",
        "outputId": "aaddc0af-6a1b-4bbb-f317-de42ead5364b",
        "colab": {
          "base_uri": "https://localhost:8080/"
        }
      },
      "outputs": [
        {
          "output_type": "execute_result",
          "data": {
            "text/plain": [
              "Calories               float64\n",
              "Total Fat                int64\n",
              "Saturated Fat          float64\n",
              "Monounsaturated Fat    float64\n",
              "Polyunsaturated Fat    float64\n",
              "Trans Fat              float64\n",
              "Cholesterol              int64\n",
              "Sodium                 float64\n",
              "Total Carbohydrate     float64\n",
              "Dietary Fiber          float64\n",
              "Sugars                 float64\n",
              "Sugar Alcohol            int64\n",
              "Protein                float64\n",
              "Vitamin A                int64\n",
              "Vitamin C                int64\n",
              "Calcium                  int64\n",
              "Iron                     int64\n",
              "class                   object\n",
              "dtype: object"
            ]
          },
          "metadata": {},
          "execution_count": 4
        }
      ],
      "source": [
        "food_df.dtypes"
      ]
    },
    {
      "cell_type": "markdown",
      "metadata": {
        "id": "_Rt0VtAuX2x5"
      },
      "source": [
        "Print the first ten food items:\n"
      ]
    },
    {
      "cell_type": "code",
      "execution_count": 5,
      "metadata": {
        "id": "dmzMOGlbX2x8",
        "outputId": "72c04f4e-affb-45e9-afc6-8d67d8ea98bc",
        "colab": {
          "base_uri": "https://localhost:8080/",
          "height": 618
        }
      },
      "outputs": [
        {
          "output_type": "execute_result",
          "data": {
            "text/plain": [
              "   Calories  Total Fat  Saturated Fat  Monounsaturated Fat  \\\n",
              "0     149.0          0            0.0                  0.0   \n",
              "1     123.0          0            0.0                  0.0   \n",
              "2     150.0          0            0.0                  0.0   \n",
              "3     110.0          0            0.0                  0.0   \n",
              "4     143.0          0            0.0                  0.0   \n",
              "5     110.0          0            0.0                  0.0   \n",
              "6     142.0          0            0.0                  0.0   \n",
              "7     102.0          0            0.0                  0.0   \n",
              "8     145.0          0            0.0                  0.0   \n",
              "9     171.0          0            0.0                  0.0   \n",
              "\n",
              "   Polyunsaturated Fat  Trans Fat  Cholesterol  Sodium  Total Carbohydrate  \\\n",
              "0                  0.0        0.0            0     9.0                 9.8   \n",
              "1                  0.0        0.0            0     5.0                 6.6   \n",
              "2                  0.0        0.0            0     4.0                11.4   \n",
              "3                  0.0        0.0            0     6.0                 7.0   \n",
              "4                  0.0        0.0            0     7.0                13.1   \n",
              "5                  0.0        0.0            0     6.0                 7.0   \n",
              "6                  0.0        0.0            0    12.0                10.6   \n",
              "7                  0.0        0.0            0    13.0                 5.0   \n",
              "8                  0.0        0.0            0    17.0                11.0   \n",
              "9                  0.0        0.0            0     8.0                13.7   \n",
              "\n",
              "   Dietary Fiber  Sugars  Sugar Alcohol  Protein  Vitamin A  Vitamin C  \\\n",
              "0            0.0     0.0              0      1.3          0          0   \n",
              "1            0.0     0.0              0      0.8          0          0   \n",
              "2            0.0     0.0              0      1.3          0          0   \n",
              "3            0.0     0.0              0      0.8          0          0   \n",
              "4            0.0     0.0              0      1.0          0          0   \n",
              "5            0.0     0.0              0      0.8          0          0   \n",
              "6            0.0     0.0              0      1.2          0          0   \n",
              "7            0.0     0.0              0      0.7          0          0   \n",
              "8            0.0     0.0              0      1.2          0          0   \n",
              "9            0.0     0.0              0      2.5          0          0   \n",
              "\n",
              "   Calcium  Iron            class  \n",
              "0        0     0  'In Moderation'  \n",
              "1        0     0  'In Moderation'  \n",
              "2        0     0  'In Moderation'  \n",
              "3        0     0  'In Moderation'  \n",
              "4        0     0  'In Moderation'  \n",
              "5        0     0  'In Moderation'  \n",
              "6        0     0  'In Moderation'  \n",
              "7        0     0  'In Moderation'  \n",
              "8        0     0  'In Moderation'  \n",
              "9        0     0  'In Moderation'  "
            ],
            "text/html": [
              "\n",
              "  <div id=\"df-22fd7bce-7719-46b8-8617-cb02b5965df6\">\n",
              "    <div class=\"colab-df-container\">\n",
              "      <div>\n",
              "<style scoped>\n",
              "    .dataframe tbody tr th:only-of-type {\n",
              "        vertical-align: middle;\n",
              "    }\n",
              "\n",
              "    .dataframe tbody tr th {\n",
              "        vertical-align: top;\n",
              "    }\n",
              "\n",
              "    .dataframe thead th {\n",
              "        text-align: right;\n",
              "    }\n",
              "</style>\n",
              "<table border=\"1\" class=\"dataframe\">\n",
              "  <thead>\n",
              "    <tr style=\"text-align: right;\">\n",
              "      <th></th>\n",
              "      <th>Calories</th>\n",
              "      <th>Total Fat</th>\n",
              "      <th>Saturated Fat</th>\n",
              "      <th>Monounsaturated Fat</th>\n",
              "      <th>Polyunsaturated Fat</th>\n",
              "      <th>Trans Fat</th>\n",
              "      <th>Cholesterol</th>\n",
              "      <th>Sodium</th>\n",
              "      <th>Total Carbohydrate</th>\n",
              "      <th>Dietary Fiber</th>\n",
              "      <th>Sugars</th>\n",
              "      <th>Sugar Alcohol</th>\n",
              "      <th>Protein</th>\n",
              "      <th>Vitamin A</th>\n",
              "      <th>Vitamin C</th>\n",
              "      <th>Calcium</th>\n",
              "      <th>Iron</th>\n",
              "      <th>class</th>\n",
              "    </tr>\n",
              "  </thead>\n",
              "  <tbody>\n",
              "    <tr>\n",
              "      <th>0</th>\n",
              "      <td>149.0</td>\n",
              "      <td>0</td>\n",
              "      <td>0.0</td>\n",
              "      <td>0.0</td>\n",
              "      <td>0.0</td>\n",
              "      <td>0.0</td>\n",
              "      <td>0</td>\n",
              "      <td>9.0</td>\n",
              "      <td>9.8</td>\n",
              "      <td>0.0</td>\n",
              "      <td>0.0</td>\n",
              "      <td>0</td>\n",
              "      <td>1.3</td>\n",
              "      <td>0</td>\n",
              "      <td>0</td>\n",
              "      <td>0</td>\n",
              "      <td>0</td>\n",
              "      <td>'In Moderation'</td>\n",
              "    </tr>\n",
              "    <tr>\n",
              "      <th>1</th>\n",
              "      <td>123.0</td>\n",
              "      <td>0</td>\n",
              "      <td>0.0</td>\n",
              "      <td>0.0</td>\n",
              "      <td>0.0</td>\n",
              "      <td>0.0</td>\n",
              "      <td>0</td>\n",
              "      <td>5.0</td>\n",
              "      <td>6.6</td>\n",
              "      <td>0.0</td>\n",
              "      <td>0.0</td>\n",
              "      <td>0</td>\n",
              "      <td>0.8</td>\n",
              "      <td>0</td>\n",
              "      <td>0</td>\n",
              "      <td>0</td>\n",
              "      <td>0</td>\n",
              "      <td>'In Moderation'</td>\n",
              "    </tr>\n",
              "    <tr>\n",
              "      <th>2</th>\n",
              "      <td>150.0</td>\n",
              "      <td>0</td>\n",
              "      <td>0.0</td>\n",
              "      <td>0.0</td>\n",
              "      <td>0.0</td>\n",
              "      <td>0.0</td>\n",
              "      <td>0</td>\n",
              "      <td>4.0</td>\n",
              "      <td>11.4</td>\n",
              "      <td>0.0</td>\n",
              "      <td>0.0</td>\n",
              "      <td>0</td>\n",
              "      <td>1.3</td>\n",
              "      <td>0</td>\n",
              "      <td>0</td>\n",
              "      <td>0</td>\n",
              "      <td>0</td>\n",
              "      <td>'In Moderation'</td>\n",
              "    </tr>\n",
              "    <tr>\n",
              "      <th>3</th>\n",
              "      <td>110.0</td>\n",
              "      <td>0</td>\n",
              "      <td>0.0</td>\n",
              "      <td>0.0</td>\n",
              "      <td>0.0</td>\n",
              "      <td>0.0</td>\n",
              "      <td>0</td>\n",
              "      <td>6.0</td>\n",
              "      <td>7.0</td>\n",
              "      <td>0.0</td>\n",
              "      <td>0.0</td>\n",
              "      <td>0</td>\n",
              "      <td>0.8</td>\n",
              "      <td>0</td>\n",
              "      <td>0</td>\n",
              "      <td>0</td>\n",
              "      <td>0</td>\n",
              "      <td>'In Moderation'</td>\n",
              "    </tr>\n",
              "    <tr>\n",
              "      <th>4</th>\n",
              "      <td>143.0</td>\n",
              "      <td>0</td>\n",
              "      <td>0.0</td>\n",
              "      <td>0.0</td>\n",
              "      <td>0.0</td>\n",
              "      <td>0.0</td>\n",
              "      <td>0</td>\n",
              "      <td>7.0</td>\n",
              "      <td>13.1</td>\n",
              "      <td>0.0</td>\n",
              "      <td>0.0</td>\n",
              "      <td>0</td>\n",
              "      <td>1.0</td>\n",
              "      <td>0</td>\n",
              "      <td>0</td>\n",
              "      <td>0</td>\n",
              "      <td>0</td>\n",
              "      <td>'In Moderation'</td>\n",
              "    </tr>\n",
              "    <tr>\n",
              "      <th>5</th>\n",
              "      <td>110.0</td>\n",
              "      <td>0</td>\n",
              "      <td>0.0</td>\n",
              "      <td>0.0</td>\n",
              "      <td>0.0</td>\n",
              "      <td>0.0</td>\n",
              "      <td>0</td>\n",
              "      <td>6.0</td>\n",
              "      <td>7.0</td>\n",
              "      <td>0.0</td>\n",
              "      <td>0.0</td>\n",
              "      <td>0</td>\n",
              "      <td>0.8</td>\n",
              "      <td>0</td>\n",
              "      <td>0</td>\n",
              "      <td>0</td>\n",
              "      <td>0</td>\n",
              "      <td>'In Moderation'</td>\n",
              "    </tr>\n",
              "    <tr>\n",
              "      <th>6</th>\n",
              "      <td>142.0</td>\n",
              "      <td>0</td>\n",
              "      <td>0.0</td>\n",
              "      <td>0.0</td>\n",
              "      <td>0.0</td>\n",
              "      <td>0.0</td>\n",
              "      <td>0</td>\n",
              "      <td>12.0</td>\n",
              "      <td>10.6</td>\n",
              "      <td>0.0</td>\n",
              "      <td>0.0</td>\n",
              "      <td>0</td>\n",
              "      <td>1.2</td>\n",
              "      <td>0</td>\n",
              "      <td>0</td>\n",
              "      <td>0</td>\n",
              "      <td>0</td>\n",
              "      <td>'In Moderation'</td>\n",
              "    </tr>\n",
              "    <tr>\n",
              "      <th>7</th>\n",
              "      <td>102.0</td>\n",
              "      <td>0</td>\n",
              "      <td>0.0</td>\n",
              "      <td>0.0</td>\n",
              "      <td>0.0</td>\n",
              "      <td>0.0</td>\n",
              "      <td>0</td>\n",
              "      <td>13.0</td>\n",
              "      <td>5.0</td>\n",
              "      <td>0.0</td>\n",
              "      <td>0.0</td>\n",
              "      <td>0</td>\n",
              "      <td>0.7</td>\n",
              "      <td>0</td>\n",
              "      <td>0</td>\n",
              "      <td>0</td>\n",
              "      <td>0</td>\n",
              "      <td>'In Moderation'</td>\n",
              "    </tr>\n",
              "    <tr>\n",
              "      <th>8</th>\n",
              "      <td>145.0</td>\n",
              "      <td>0</td>\n",
              "      <td>0.0</td>\n",
              "      <td>0.0</td>\n",
              "      <td>0.0</td>\n",
              "      <td>0.0</td>\n",
              "      <td>0</td>\n",
              "      <td>17.0</td>\n",
              "      <td>11.0</td>\n",
              "      <td>0.0</td>\n",
              "      <td>0.0</td>\n",
              "      <td>0</td>\n",
              "      <td>1.2</td>\n",
              "      <td>0</td>\n",
              "      <td>0</td>\n",
              "      <td>0</td>\n",
              "      <td>0</td>\n",
              "      <td>'In Moderation'</td>\n",
              "    </tr>\n",
              "    <tr>\n",
              "      <th>9</th>\n",
              "      <td>171.0</td>\n",
              "      <td>0</td>\n",
              "      <td>0.0</td>\n",
              "      <td>0.0</td>\n",
              "      <td>0.0</td>\n",
              "      <td>0.0</td>\n",
              "      <td>0</td>\n",
              "      <td>8.0</td>\n",
              "      <td>13.7</td>\n",
              "      <td>0.0</td>\n",
              "      <td>0.0</td>\n",
              "      <td>0</td>\n",
              "      <td>2.5</td>\n",
              "      <td>0</td>\n",
              "      <td>0</td>\n",
              "      <td>0</td>\n",
              "      <td>0</td>\n",
              "      <td>'In Moderation'</td>\n",
              "    </tr>\n",
              "  </tbody>\n",
              "</table>\n",
              "</div>\n",
              "      <button class=\"colab-df-convert\" onclick=\"convertToInteractive('df-22fd7bce-7719-46b8-8617-cb02b5965df6')\"\n",
              "              title=\"Convert this dataframe to an interactive table.\"\n",
              "              style=\"display:none;\">\n",
              "        \n",
              "  <svg xmlns=\"http://www.w3.org/2000/svg\" height=\"24px\"viewBox=\"0 0 24 24\"\n",
              "       width=\"24px\">\n",
              "    <path d=\"M0 0h24v24H0V0z\" fill=\"none\"/>\n",
              "    <path d=\"M18.56 5.44l.94 2.06.94-2.06 2.06-.94-2.06-.94-.94-2.06-.94 2.06-2.06.94zm-11 1L8.5 8.5l.94-2.06 2.06-.94-2.06-.94L8.5 2.5l-.94 2.06-2.06.94zm10 10l.94 2.06.94-2.06 2.06-.94-2.06-.94-.94-2.06-.94 2.06-2.06.94z\"/><path d=\"M17.41 7.96l-1.37-1.37c-.4-.4-.92-.59-1.43-.59-.52 0-1.04.2-1.43.59L10.3 9.45l-7.72 7.72c-.78.78-.78 2.05 0 2.83L4 21.41c.39.39.9.59 1.41.59.51 0 1.02-.2 1.41-.59l7.78-7.78 2.81-2.81c.8-.78.8-2.07 0-2.86zM5.41 20L4 18.59l7.72-7.72 1.47 1.35L5.41 20z\"/>\n",
              "  </svg>\n",
              "      </button>\n",
              "      \n",
              "  <style>\n",
              "    .colab-df-container {\n",
              "      display:flex;\n",
              "      flex-wrap:wrap;\n",
              "      gap: 12px;\n",
              "    }\n",
              "\n",
              "    .colab-df-convert {\n",
              "      background-color: #E8F0FE;\n",
              "      border: none;\n",
              "      border-radius: 50%;\n",
              "      cursor: pointer;\n",
              "      display: none;\n",
              "      fill: #1967D2;\n",
              "      height: 32px;\n",
              "      padding: 0 0 0 0;\n",
              "      width: 32px;\n",
              "    }\n",
              "\n",
              "    .colab-df-convert:hover {\n",
              "      background-color: #E2EBFA;\n",
              "      box-shadow: 0px 1px 2px rgba(60, 64, 67, 0.3), 0px 1px 3px 1px rgba(60, 64, 67, 0.15);\n",
              "      fill: #174EA6;\n",
              "    }\n",
              "\n",
              "    [theme=dark] .colab-df-convert {\n",
              "      background-color: #3B4455;\n",
              "      fill: #D2E3FC;\n",
              "    }\n",
              "\n",
              "    [theme=dark] .colab-df-convert:hover {\n",
              "      background-color: #434B5C;\n",
              "      box-shadow: 0px 1px 3px 1px rgba(0, 0, 0, 0.15);\n",
              "      filter: drop-shadow(0px 1px 2px rgba(0, 0, 0, 0.3));\n",
              "      fill: #FFFFFF;\n",
              "    }\n",
              "  </style>\n",
              "\n",
              "      <script>\n",
              "        const buttonEl =\n",
              "          document.querySelector('#df-22fd7bce-7719-46b8-8617-cb02b5965df6 button.colab-df-convert');\n",
              "        buttonEl.style.display =\n",
              "          google.colab.kernel.accessAllowed ? 'block' : 'none';\n",
              "\n",
              "        async function convertToInteractive(key) {\n",
              "          const element = document.querySelector('#df-22fd7bce-7719-46b8-8617-cb02b5965df6');\n",
              "          const dataTable =\n",
              "            await google.colab.kernel.invokeFunction('convertToInteractive',\n",
              "                                                     [key], {});\n",
              "          if (!dataTable) return;\n",
              "\n",
              "          const docLinkHtml = 'Like what you see? Visit the ' +\n",
              "            '<a target=\"_blank\" href=https://colab.research.google.com/notebooks/data_table.ipynb>data table notebook</a>'\n",
              "            + ' to learn more about interactive tables.';\n",
              "          element.innerHTML = '';\n",
              "          dataTable['output_type'] = 'display_data';\n",
              "          await google.colab.output.renderOutput(dataTable, element);\n",
              "          const docLink = document.createElement('div');\n",
              "          docLink.innerHTML = docLinkHtml;\n",
              "          element.appendChild(docLink);\n",
              "        }\n",
              "      </script>\n",
              "    </div>\n",
              "  </div>\n",
              "  "
            ]
          },
          "metadata": {},
          "execution_count": 5
        }
      ],
      "source": [
        "\n",
        "food_df.head(10)"
      ]
    },
    {
      "cell_type": "markdown",
      "metadata": {
        "id": "DNcTiAnFX2yB"
      },
      "source": [
        "Get the row entries with col 0 to -1 (16).\n"
      ]
    },
    {
      "cell_type": "code",
      "execution_count": 6,
      "metadata": {
        "id": "T98MbtTYX2yD",
        "outputId": "eacfabd2-0fa6-42c9-adac-56334d6c2b23",
        "colab": {
          "base_uri": "https://localhost:8080/"
        }
      },
      "outputs": [
        {
          "output_type": "execute_result",
          "data": {
            "text/plain": [
              "['Calories',\n",
              " 'Total Fat',\n",
              " 'Saturated Fat',\n",
              " 'Monounsaturated Fat',\n",
              " 'Polyunsaturated Fat',\n",
              " 'Trans Fat',\n",
              " 'Cholesterol',\n",
              " 'Sodium',\n",
              " 'Total Carbohydrate',\n",
              " 'Dietary Fiber',\n",
              " 'Sugars',\n",
              " 'Sugar Alcohol',\n",
              " 'Protein',\n",
              " 'Vitamin A',\n",
              " 'Vitamin C',\n",
              " 'Calcium',\n",
              " 'Iron']"
            ]
          },
          "metadata": {},
          "execution_count": 6
        }
      ],
      "source": [
        "\n",
        "feature_cols = list(food_df.iloc[:, :-1].columns)\n",
        "feature_cols"
      ]
    },
    {
      "cell_type": "markdown",
      "metadata": {
        "id": "LTJWomkoX2yF"
      },
      "source": [
        "Obtain descriptive statistics:\n"
      ]
    },
    {
      "cell_type": "code",
      "execution_count": 7,
      "metadata": {
        "id": "Y08AgUoQX2yI",
        "outputId": "247407c2-731c-4dcd-8c14-81bade552835",
        "colab": {
          "base_uri": "https://localhost:8080/",
          "height": 382
        }
      },
      "outputs": [
        {
          "output_type": "execute_result",
          "data": {
            "text/plain": [
              "           Calories     Total Fat  Saturated Fat  Monounsaturated Fat  \\\n",
              "count  13260.000000  13260.000000   13260.000000         13260.000000   \n",
              "mean     133.861086      4.475264       1.450617             0.338069   \n",
              "std       94.227650      5.386340       2.410318             1.345852   \n",
              "min        0.000000      0.000000       0.000000             0.000000   \n",
              "25%       70.000000      0.000000       0.000000             0.000000   \n",
              "50%      120.000000      3.000000       0.500000             0.000000   \n",
              "75%      180.000000      7.000000       2.000000             0.000000   \n",
              "max     2210.000000     43.000000      22.000000            40.000000   \n",
              "\n",
              "       Polyunsaturated Fat     Trans Fat   Cholesterol        Sodium  \\\n",
              "count         13260.000000  13260.000000  13260.000000  13260.000000   \n",
              "mean              0.254660      0.047459      8.857692    241.867142   \n",
              "std               2.230586      0.321402     20.976530    272.284363   \n",
              "min               0.000000      0.000000      0.000000      0.000000   \n",
              "25%               0.000000      0.000000      0.000000     40.000000   \n",
              "50%               0.000000      0.000000      0.000000    135.000000   \n",
              "75%               0.000000      0.000000     10.000000    370.000000   \n",
              "max             235.000000     11.000000    450.000000   2431.000000   \n",
              "\n",
              "       Total Carbohydrate  Dietary Fiber        Sugars  Sugar Alcohol  \\\n",
              "count        13260.000000   13260.000000  13260.000000   13260.000000   \n",
              "mean            18.232020       1.602971      6.645234       0.117949   \n",
              "std             14.786316       3.363879      8.328465       1.121529   \n",
              "min              0.000000       0.000000      0.000000       0.000000   \n",
              "25%              5.000000       0.000000      0.000000       0.000000   \n",
              "50%             17.000000       1.000000      3.000000       0.000000   \n",
              "75%             27.000000       2.000000     11.000000       0.000000   \n",
              "max            270.000000     305.000000    115.000000      31.000000   \n",
              "\n",
              "            Protein     Vitamin A     Vitamin C       Calcium          Iron  \n",
              "count  13260.000000  13260.000000  13260.000000  13260.000000  13260.000000  \n",
              "mean       4.661333      6.287632      6.741855      5.175264      5.235671  \n",
              "std        5.611143     18.374191     23.785100      8.779637      9.119459  \n",
              "min        0.000000      0.000000      0.000000      0.000000      0.000000  \n",
              "25%        1.000000      0.000000      0.000000      0.000000      0.000000  \n",
              "50%        3.000000      0.000000      0.000000      2.000000      2.000000  \n",
              "75%        7.000000      6.000000      2.000000      6.000000      8.000000  \n",
              "max       70.000000    622.000000   1000.000000    110.000000    170.000000  "
            ],
            "text/html": [
              "\n",
              "  <div id=\"df-d0f93474-d977-49f8-bac2-e09366652028\">\n",
              "    <div class=\"colab-df-container\">\n",
              "      <div>\n",
              "<style scoped>\n",
              "    .dataframe tbody tr th:only-of-type {\n",
              "        vertical-align: middle;\n",
              "    }\n",
              "\n",
              "    .dataframe tbody tr th {\n",
              "        vertical-align: top;\n",
              "    }\n",
              "\n",
              "    .dataframe thead th {\n",
              "        text-align: right;\n",
              "    }\n",
              "</style>\n",
              "<table border=\"1\" class=\"dataframe\">\n",
              "  <thead>\n",
              "    <tr style=\"text-align: right;\">\n",
              "      <th></th>\n",
              "      <th>Calories</th>\n",
              "      <th>Total Fat</th>\n",
              "      <th>Saturated Fat</th>\n",
              "      <th>Monounsaturated Fat</th>\n",
              "      <th>Polyunsaturated Fat</th>\n",
              "      <th>Trans Fat</th>\n",
              "      <th>Cholesterol</th>\n",
              "      <th>Sodium</th>\n",
              "      <th>Total Carbohydrate</th>\n",
              "      <th>Dietary Fiber</th>\n",
              "      <th>Sugars</th>\n",
              "      <th>Sugar Alcohol</th>\n",
              "      <th>Protein</th>\n",
              "      <th>Vitamin A</th>\n",
              "      <th>Vitamin C</th>\n",
              "      <th>Calcium</th>\n",
              "      <th>Iron</th>\n",
              "    </tr>\n",
              "  </thead>\n",
              "  <tbody>\n",
              "    <tr>\n",
              "      <th>count</th>\n",
              "      <td>13260.000000</td>\n",
              "      <td>13260.000000</td>\n",
              "      <td>13260.000000</td>\n",
              "      <td>13260.000000</td>\n",
              "      <td>13260.000000</td>\n",
              "      <td>13260.000000</td>\n",
              "      <td>13260.000000</td>\n",
              "      <td>13260.000000</td>\n",
              "      <td>13260.000000</td>\n",
              "      <td>13260.000000</td>\n",
              "      <td>13260.000000</td>\n",
              "      <td>13260.000000</td>\n",
              "      <td>13260.000000</td>\n",
              "      <td>13260.000000</td>\n",
              "      <td>13260.000000</td>\n",
              "      <td>13260.000000</td>\n",
              "      <td>13260.000000</td>\n",
              "    </tr>\n",
              "    <tr>\n",
              "      <th>mean</th>\n",
              "      <td>133.861086</td>\n",
              "      <td>4.475264</td>\n",
              "      <td>1.450617</td>\n",
              "      <td>0.338069</td>\n",
              "      <td>0.254660</td>\n",
              "      <td>0.047459</td>\n",
              "      <td>8.857692</td>\n",
              "      <td>241.867142</td>\n",
              "      <td>18.232020</td>\n",
              "      <td>1.602971</td>\n",
              "      <td>6.645234</td>\n",
              "      <td>0.117949</td>\n",
              "      <td>4.661333</td>\n",
              "      <td>6.287632</td>\n",
              "      <td>6.741855</td>\n",
              "      <td>5.175264</td>\n",
              "      <td>5.235671</td>\n",
              "    </tr>\n",
              "    <tr>\n",
              "      <th>std</th>\n",
              "      <td>94.227650</td>\n",
              "      <td>5.386340</td>\n",
              "      <td>2.410318</td>\n",
              "      <td>1.345852</td>\n",
              "      <td>2.230586</td>\n",
              "      <td>0.321402</td>\n",
              "      <td>20.976530</td>\n",
              "      <td>272.284363</td>\n",
              "      <td>14.786316</td>\n",
              "      <td>3.363879</td>\n",
              "      <td>8.328465</td>\n",
              "      <td>1.121529</td>\n",
              "      <td>5.611143</td>\n",
              "      <td>18.374191</td>\n",
              "      <td>23.785100</td>\n",
              "      <td>8.779637</td>\n",
              "      <td>9.119459</td>\n",
              "    </tr>\n",
              "    <tr>\n",
              "      <th>min</th>\n",
              "      <td>0.000000</td>\n",
              "      <td>0.000000</td>\n",
              "      <td>0.000000</td>\n",
              "      <td>0.000000</td>\n",
              "      <td>0.000000</td>\n",
              "      <td>0.000000</td>\n",
              "      <td>0.000000</td>\n",
              "      <td>0.000000</td>\n",
              "      <td>0.000000</td>\n",
              "      <td>0.000000</td>\n",
              "      <td>0.000000</td>\n",
              "      <td>0.000000</td>\n",
              "      <td>0.000000</td>\n",
              "      <td>0.000000</td>\n",
              "      <td>0.000000</td>\n",
              "      <td>0.000000</td>\n",
              "      <td>0.000000</td>\n",
              "    </tr>\n",
              "    <tr>\n",
              "      <th>25%</th>\n",
              "      <td>70.000000</td>\n",
              "      <td>0.000000</td>\n",
              "      <td>0.000000</td>\n",
              "      <td>0.000000</td>\n",
              "      <td>0.000000</td>\n",
              "      <td>0.000000</td>\n",
              "      <td>0.000000</td>\n",
              "      <td>40.000000</td>\n",
              "      <td>5.000000</td>\n",
              "      <td>0.000000</td>\n",
              "      <td>0.000000</td>\n",
              "      <td>0.000000</td>\n",
              "      <td>1.000000</td>\n",
              "      <td>0.000000</td>\n",
              "      <td>0.000000</td>\n",
              "      <td>0.000000</td>\n",
              "      <td>0.000000</td>\n",
              "    </tr>\n",
              "    <tr>\n",
              "      <th>50%</th>\n",
              "      <td>120.000000</td>\n",
              "      <td>3.000000</td>\n",
              "      <td>0.500000</td>\n",
              "      <td>0.000000</td>\n",
              "      <td>0.000000</td>\n",
              "      <td>0.000000</td>\n",
              "      <td>0.000000</td>\n",
              "      <td>135.000000</td>\n",
              "      <td>17.000000</td>\n",
              "      <td>1.000000</td>\n",
              "      <td>3.000000</td>\n",
              "      <td>0.000000</td>\n",
              "      <td>3.000000</td>\n",
              "      <td>0.000000</td>\n",
              "      <td>0.000000</td>\n",
              "      <td>2.000000</td>\n",
              "      <td>2.000000</td>\n",
              "    </tr>\n",
              "    <tr>\n",
              "      <th>75%</th>\n",
              "      <td>180.000000</td>\n",
              "      <td>7.000000</td>\n",
              "      <td>2.000000</td>\n",
              "      <td>0.000000</td>\n",
              "      <td>0.000000</td>\n",
              "      <td>0.000000</td>\n",
              "      <td>10.000000</td>\n",
              "      <td>370.000000</td>\n",
              "      <td>27.000000</td>\n",
              "      <td>2.000000</td>\n",
              "      <td>11.000000</td>\n",
              "      <td>0.000000</td>\n",
              "      <td>7.000000</td>\n",
              "      <td>6.000000</td>\n",
              "      <td>2.000000</td>\n",
              "      <td>6.000000</td>\n",
              "      <td>8.000000</td>\n",
              "    </tr>\n",
              "    <tr>\n",
              "      <th>max</th>\n",
              "      <td>2210.000000</td>\n",
              "      <td>43.000000</td>\n",
              "      <td>22.000000</td>\n",
              "      <td>40.000000</td>\n",
              "      <td>235.000000</td>\n",
              "      <td>11.000000</td>\n",
              "      <td>450.000000</td>\n",
              "      <td>2431.000000</td>\n",
              "      <td>270.000000</td>\n",
              "      <td>305.000000</td>\n",
              "      <td>115.000000</td>\n",
              "      <td>31.000000</td>\n",
              "      <td>70.000000</td>\n",
              "      <td>622.000000</td>\n",
              "      <td>1000.000000</td>\n",
              "      <td>110.000000</td>\n",
              "      <td>170.000000</td>\n",
              "    </tr>\n",
              "  </tbody>\n",
              "</table>\n",
              "</div>\n",
              "      <button class=\"colab-df-convert\" onclick=\"convertToInteractive('df-d0f93474-d977-49f8-bac2-e09366652028')\"\n",
              "              title=\"Convert this dataframe to an interactive table.\"\n",
              "              style=\"display:none;\">\n",
              "        \n",
              "  <svg xmlns=\"http://www.w3.org/2000/svg\" height=\"24px\"viewBox=\"0 0 24 24\"\n",
              "       width=\"24px\">\n",
              "    <path d=\"M0 0h24v24H0V0z\" fill=\"none\"/>\n",
              "    <path d=\"M18.56 5.44l.94 2.06.94-2.06 2.06-.94-2.06-.94-.94-2.06-.94 2.06-2.06.94zm-11 1L8.5 8.5l.94-2.06 2.06-.94-2.06-.94L8.5 2.5l-.94 2.06-2.06.94zm10 10l.94 2.06.94-2.06 2.06-.94-2.06-.94-.94-2.06-.94 2.06-2.06.94z\"/><path d=\"M17.41 7.96l-1.37-1.37c-.4-.4-.92-.59-1.43-.59-.52 0-1.04.2-1.43.59L10.3 9.45l-7.72 7.72c-.78.78-.78 2.05 0 2.83L4 21.41c.39.39.9.59 1.41.59.51 0 1.02-.2 1.41-.59l7.78-7.78 2.81-2.81c.8-.78.8-2.07 0-2.86zM5.41 20L4 18.59l7.72-7.72 1.47 1.35L5.41 20z\"/>\n",
              "  </svg>\n",
              "      </button>\n",
              "      \n",
              "  <style>\n",
              "    .colab-df-container {\n",
              "      display:flex;\n",
              "      flex-wrap:wrap;\n",
              "      gap: 12px;\n",
              "    }\n",
              "\n",
              "    .colab-df-convert {\n",
              "      background-color: #E8F0FE;\n",
              "      border: none;\n",
              "      border-radius: 50%;\n",
              "      cursor: pointer;\n",
              "      display: none;\n",
              "      fill: #1967D2;\n",
              "      height: 32px;\n",
              "      padding: 0 0 0 0;\n",
              "      width: 32px;\n",
              "    }\n",
              "\n",
              "    .colab-df-convert:hover {\n",
              "      background-color: #E2EBFA;\n",
              "      box-shadow: 0px 1px 2px rgba(60, 64, 67, 0.3), 0px 1px 3px 1px rgba(60, 64, 67, 0.15);\n",
              "      fill: #174EA6;\n",
              "    }\n",
              "\n",
              "    [theme=dark] .colab-df-convert {\n",
              "      background-color: #3B4455;\n",
              "      fill: #D2E3FC;\n",
              "    }\n",
              "\n",
              "    [theme=dark] .colab-df-convert:hover {\n",
              "      background-color: #434B5C;\n",
              "      box-shadow: 0px 1px 3px 1px rgba(0, 0, 0, 0.15);\n",
              "      filter: drop-shadow(0px 1px 2px rgba(0, 0, 0, 0.3));\n",
              "      fill: #FFFFFF;\n",
              "    }\n",
              "  </style>\n",
              "\n",
              "      <script>\n",
              "        const buttonEl =\n",
              "          document.querySelector('#df-d0f93474-d977-49f8-bac2-e09366652028 button.colab-df-convert');\n",
              "        buttonEl.style.display =\n",
              "          google.colab.kernel.accessAllowed ? 'block' : 'none';\n",
              "\n",
              "        async function convertToInteractive(key) {\n",
              "          const element = document.querySelector('#df-d0f93474-d977-49f8-bac2-e09366652028');\n",
              "          const dataTable =\n",
              "            await google.colab.kernel.invokeFunction('convertToInteractive',\n",
              "                                                     [key], {});\n",
              "          if (!dataTable) return;\n",
              "\n",
              "          const docLinkHtml = 'Like what you see? Visit the ' +\n",
              "            '<a target=\"_blank\" href=https://colab.research.google.com/notebooks/data_table.ipynb>data table notebook</a>'\n",
              "            + ' to learn more about interactive tables.';\n",
              "          element.innerHTML = '';\n",
              "          dataTable['output_type'] = 'display_data';\n",
              "          await google.colab.output.renderOutput(dataTable, element);\n",
              "          const docLink = document.createElement('div');\n",
              "          docLink.innerHTML = docLinkHtml;\n",
              "          element.appendChild(docLink);\n",
              "        }\n",
              "      </script>\n",
              "    </div>\n",
              "  </div>\n",
              "  "
            ]
          },
          "metadata": {},
          "execution_count": 7
        }
      ],
      "source": [
        "food_df.iloc[:, :-1].describe()"
      ]
    },
    {
      "cell_type": "markdown",
      "metadata": {
        "id": "Xp-DROUjX2yL"
      },
      "source": [
        "As we can see from the above output, this dataset contains 17 nutrient categories about each food item. These categories include Calories, Total Fat, Protein, Sugar, etc., and are listed as numeric variables. As such, we only need to scale them for training our logistic regression model so that we can compare our feature coefficients directly.\n"
      ]
    },
    {
      "cell_type": "markdown",
      "metadata": {
        "id": "CfqUYr6aX2yO"
      },
      "source": [
        "Next, let's check the target variable in the `class` column to see the label values and their distribution.\n"
      ]
    },
    {
      "cell_type": "code",
      "execution_count": 8,
      "metadata": {
        "id": "sti6omeMX2yR",
        "outputId": "46aebadd-51e1-4102-f2e5-5b7aea753c52",
        "colab": {
          "base_uri": "https://localhost:8080/"
        }
      },
      "outputs": [
        {
          "output_type": "execute_result",
          "data": {
            "text/plain": [
              "class          \n",
              "'In Moderation'    0.501433\n",
              "'Less Often'       0.423906\n",
              "'More Often'       0.074661\n",
              "dtype: float64"
            ]
          },
          "metadata": {},
          "execution_count": 8
        }
      ],
      "source": [
        "# # Get the row entries with the last col 'class'\n",
        "food_df.iloc[:, -1:].value_counts(normalize=True)"
      ]
    },
    {
      "cell_type": "code",
      "execution_count": 9,
      "metadata": {
        "id": "3dlwCOc9X2yT",
        "outputId": "b5827e84-cc4d-4936-82df-dd16e55378d6",
        "colab": {
          "base_uri": "https://localhost:8080/",
          "height": 372
        }
      },
      "outputs": [
        {
          "output_type": "execute_result",
          "data": {
            "text/plain": [
              "<matplotlib.axes._subplots.AxesSubplot at 0x7f593af764d0>"
            ]
          },
          "metadata": {},
          "execution_count": 9
        },
        {
          "output_type": "display_data",
          "data": {
            "text/plain": [
              "<Figure size 432x288 with 1 Axes>"
            ],
            "image/png": "[encoded data removed]"
          },
          "metadata": {
            "needs_background": "light"
          }
        }
      ],
      "source": [
        "food_df.iloc[:, -1:].value_counts().plot.bar(color=['yellow', 'red', 'green'])"
      ]
    },
    {
      "cell_type": "markdown",
      "metadata": {
        "id": "yxcr3FuMX2yV"
      },
      "source": [
        "As we can see from the bar chart above, this dataset has three classes: `In Moderation`, `Less Often`, and `More Often`. The three labels are imbalanced. For diabetic patients, most food items are in the In Moderation and Less Often categories. This makes diabetes diet management very hard, so we could build a machine learning model to help patients choose their food.\n"
      ]
    },
    {
      "cell_type": "markdown",
      "metadata": {
        "id": "CPll0APpX2yW"
      },
      "source": [
        "We have three labels meaning our logistic regression model will be multinomial with three classes.\n",
        "\n",
        "A multinomial logistic regression is a generalized logistic regression model which generates a probability distribution over all classes, based on the logits or exponentiated log-odds calculated for each class (usually more than two).\n"
      ]
    },
    {
      "cell_type": "markdown",
      "metadata": {
        "id": "KrCXapCYX2yX"
      },
      "source": [
        "Also note that a multinomial logistic regression model is different from the `one-vs-rest` binary logistic regression. For `one-vs-rest` schema, you need to train an independent classifier for each class. For example, you need a `More Often` classifier to differentiate a food item between `More Often` and `Not More Often` (or, `In Moderation` and `Less Often`).\n"
      ]
    },
    {
      "cell_type": "markdown",
      "metadata": {
        "id": "FX19-pLFX2yY"
      },
      "source": [
        "### Feature Engineering\n"
      ]
    },
    {
      "cell_type": "markdown",
      "metadata": {
        "id": "-dZuk_RbX2yZ"
      },
      "source": [
        "Now you should have some basic understanding about the food dataset. Next, let's process the raw dataset and construct input data `X` and label/output `y` for logistic regression model training.\n"
      ]
    },
    {
      "cell_type": "code",
      "execution_count": 10,
      "metadata": {
        "id": "TXStk8toX2yb"
      },
      "outputs": [],
      "source": [
        "X_raw = food_df.iloc[:, :-1]\n",
        "y_raw = food_df.iloc[:, -1:]"
      ]
    },
    {
      "cell_type": "markdown",
      "metadata": {
        "id": "DbsByyzSX2yg"
      },
      "source": [
        "Fortunately, all feature columns are numeric so we just need to scale them. Here we use the `MinMaxScaler` provided by `sklearn` for scaling.\n"
      ]
    },
    {
      "cell_type": "code",
      "execution_count": 11,
      "metadata": {
        "id": "0yjB7zbKX2yh"
      },
      "outputs": [],
      "source": [
        "# Create a MinMaxScaler object\n",
        "scaler = MinMaxScaler()"
      ]
    },
    {
      "cell_type": "code",
      "execution_count": 12,
      "metadata": {
        "id": "qVgiwvEpX2yi"
      },
      "outputs": [],
      "source": [
        "# Scaling the raw input features\n",
        "X = scaler.fit_transform(X_raw)"
      ]
    },
    {
      "cell_type": "markdown",
      "metadata": {
        "id": "RlCvfr71X2yj"
      },
      "source": [
        "Let's check the scaled feature value range:\n"
      ]
    },
    {
      "cell_type": "code",
      "execution_count": 13,
      "metadata": {
        "id": "OoZpcFDuX2yj",
        "outputId": "439b4538-42c1-497f-a072-4449a38ca85f",
        "colab": {
          "base_uri": "https://localhost:8080/"
        }
      },
      "outputs": [
        {
          "output_type": "stream",
          "name": "stdout",
          "text": [
            "The range of feature inputs are within 0.0 to 1.0\n"
          ]
        }
      ],
      "source": [
        "print(f\"The range of feature inputs are within {X.min()} to {X.max()}\")"
      ]
    },
    {
      "cell_type": "markdown",
      "metadata": {
        "id": "2DgoU_yjX2yk"
      },
      "source": [
        "For the target variable `y`, let's use the `LabelEncoder` provided by `sklearn` to encode its three class values.\n"
      ]
    },
    {
      "cell_type": "code",
      "execution_count": 14,
      "metadata": {
        "id": "kHje7dL2X2yl"
      },
      "outputs": [],
      "source": [
        "# Create a LabelEncoder object\n",
        "label_encoder = LabelEncoder()"
      ]
    },
    {
      "cell_type": "code",
      "execution_count": 15,
      "metadata": {
        "id": "hHRb-jjIX2ym"
      },
      "outputs": [],
      "source": [
        "# Encode the target variable\n",
        "y = label_encoder.fit_transform(y_raw.values.ravel())"
      ]
    },
    {
      "cell_type": "markdown",
      "metadata": {
        "id": "xFjHi9i8X2yn"
      },
      "source": [
        "The encoded target variable will only contain values `0=In Moderation`, `1=Less Often`, `2=More Often`.\n"
      ]
    },
    {
      "cell_type": "code",
      "execution_count": 16,
      "metadata": {
        "id": "GgrtEuc2X2yn",
        "outputId": "b1edf9b6-accd-4fb2-a732-9f425c66421e",
        "colab": {
          "base_uri": "https://localhost:8080/"
        }
      },
      "outputs": [
        {
          "output_type": "execute_result",
          "data": {
            "text/plain": [
              "(array([0, 1, 2]), array([6649, 5621,  990]))"
            ]
          },
          "metadata": {},
          "execution_count": 16
        }
      ],
      "source": [
        "np.unique(y, return_counts=True)"
      ]
    },
    {
      "cell_type": "markdown",
      "metadata": {
        "id": "9Gs_bEbnX2yo"
      },
      "source": [
        "## Train logistic regression models\n"
      ]
    },
    {
      "cell_type": "markdown",
      "metadata": {
        "id": "1wGS8EeeX2yp"
      },
      "source": [
        "First, let's split the training and testing dataset. Training dataset will be used to train and tune models, and testing dataset will be used to evaluate the models. Note that you may also split a validation dataset from the training dataset for model tuning only.\n"
      ]
    },
    {
      "cell_type": "code",
      "execution_count": 17,
      "metadata": {
        "id": "vlzCPcM3X2yq"
      },
      "outputs": [],
      "source": [
        "# First, let's split the training and testing dataset\n",
        "X_train, X_test, y_train, y_test = train_test_split(X, y, test_size=0.2, stratify=y, random_state = rs)"
      ]
    },
    {
      "cell_type": "markdown",
      "metadata": {
        "id": "_5sQ86wwX2yr"
      },
      "source": [
        "Let's look at the shapes of the split datasets:\n"
      ]
    },
    {
      "cell_type": "code",
      "execution_count": 40,
      "metadata": {
        "id": "ehzasGDyX2yy",
        "outputId": "9a7aaefa-4c1f-4c75-bd01-a6e227d84dc9",
        "colab": {
          "base_uri": "https://localhost:8080/"
        }
      },
      "outputs": [
        {
          "output_type": "stream",
          "name": "stdout",
          "text": [
            "Training dataset shape, X_train: (10608, 17), y_train: (10608,)\n"
          ]
        }
      ],
      "source": [
        "print(f\"Training dataset shape, X_train: {X_train.shape}, y_train: {y_train.shape}\")"
      ]
    },
    {
      "cell_type": "code",
      "execution_count": 41,
      "metadata": {
        "id": "4SmGpsT7X2y1",
        "outputId": "033bbfb6-0ce3-4ecd-c704-2b97ed08ccd7",
        "colab": {
          "base_uri": "https://localhost:8080/"
        }
      },
      "outputs": [
        {
          "output_type": "stream",
          "name": "stdout",
          "text": [
            "Testing dataset shape, X_test: (2652, 17), y_test: (2652,)\n"
          ]
        }
      ],
      "source": [
        "print(f\"Testing dataset shape, X_test: {X_test.shape}, y_test: {y_test.shape}\")"
      ]
    },
    {
      "cell_type": "markdown",
      "metadata": {
        "id": "_pKa6-A6X2y3"
      },
      "source": [
        "OK, now we have the training and testing datasets ready, let's start the model training task.\n"
      ]
    },
    {
      "cell_type": "markdown",
      "metadata": {
        "id": "cEx4LzqxX2y4"
      },
      "source": [
        "We first define a `sklearn.linear_model.LogisticRegression` model with the following arguments, you can check the comment for each argument for what it means.\n"
      ]
    },
    {
      "cell_type": "code",
      "execution_count": 20,
      "metadata": {
        "id": "wc1ht1b_X2y4"
      },
      "outputs": [],
      "source": [
        "# L2 penalty to shrink coefficients without removing any features from the model\n",
        "penalty= 'l2'\n",
        "# Our classification problem is multinomial\n",
        "multi_class = 'multinomial'\n",
        "# Use lbfgs for L2 penalty and multinomial classes\n",
        "solver = 'lbfgs'\n",
        "# Max iteration = 1000\n",
        "max_iter = 1000"
      ]
    },
    {
      "cell_type": "code",
      "execution_count": 21,
      "metadata": {
        "id": "4XksGfHLX2y6"
      },
      "outputs": [],
      "source": [
        "# Define a logistic regression model with above arguments\n",
        "l2_model = LogisticRegression(random_state=rs, penalty=penalty, multi_class=multi_class, solver=solver, max_iter=max_iter)"
      ]
    },
    {
      "cell_type": "markdown",
      "metadata": {
        "id": "tSlIyN8cX2y7"
      },
      "source": [
        "Let's train the model with training input data `X_train` and labels `y_train`:\n"
      ]
    },
    {
      "cell_type": "code",
      "execution_count": 22,
      "metadata": {
        "id": "Wgw9qD_cX2y9",
        "outputId": "6b41617a-85af-49bb-fc29-ffdd8b3ae686",
        "colab": {
          "base_uri": "https://localhost:8080/"
        }
      },
      "outputs": [
        {
          "output_type": "execute_result",
          "data": {
            "text/plain": [
              "LogisticRegression(max_iter=1000, multi_class='multinomial', random_state=123)"
            ]
          },
          "metadata": {},
          "execution_count": 22
        }
      ],
      "source": [
        "l2_model.fit(X_train, y_train)"
      ]
    },
    {
      "cell_type": "code",
      "execution_count": 23,
      "metadata": {
        "id": "YRp-LS_GX2zC"
      },
      "outputs": [],
      "source": [
        "l2_preds = l2_model.predict(X_test)"
      ]
    },
    {
      "cell_type": "markdown",
      "metadata": {
        "id": "rciRaBVQX2zE"
      },
      "source": [
        "Because we may need to evaluate the model multiple times with different model hyper parameters, here we define an utility method to take the ground truths `y_test` and the predictions `preds`, and return a Python `dict` with `accuracy`, `recall`, `precision`, and `f1score`.\n"
      ]
    },
    {
      "cell_type": "code",
      "execution_count": 24,
      "metadata": {
        "id": "GesJ-d0QX2zG"
      },
      "outputs": [],
      "source": [
        "def evaluate_metrics(yt, yp):\n",
        "    results_pos = {}\n",
        "    results_pos['accuracy'] = accuracy_score(yt, yp)\n",
        "    precision, recall, f_beta, _ = precision_recall_fscore_support(yt, yp)\n",
        "    results_pos['recall'] = recall\n",
        "    results_pos['precision'] = precision\n",
        "    results_pos['f1score'] = f_beta\n",
        "    return results_pos"
      ]
    },
    {
      "cell_type": "code",
      "execution_count": 25,
      "metadata": {
        "id": "kKgs0qtvX2zJ",
        "outputId": "7957af67-6521-4d95-b2f1-5eec9d1426e0",
        "colab": {
          "base_uri": "https://localhost:8080/"
        }
      },
      "outputs": [
        {
          "output_type": "execute_result",
          "data": {
            "text/plain": [
              "{'accuracy': 0.774132730015083,\n",
              " 'f1score': array([0.79479274, 0.78009479, 0.50909091]),\n",
              " 'precision': array([0.73001888, 0.8346856 , 0.90909091]),\n",
              " 'recall': array([0.87218045, 0.73220641, 0.35353535])}"
            ]
          },
          "metadata": {},
          "execution_count": 25
        }
      ],
      "source": [
        "evaluate_metrics(y_test, l2_preds)"
      ]
    },
    {
      "cell_type": "markdown",
      "metadata": {
        "id": "YObcpg5xX2zM"
      },
      "source": [
        "As we can see from  the above evaluation results, the logistic regression model has relatively good performance on this multinomial classification task. The overall accuracy is around `0.77` and the f1score is around `0.8`. Note that for `recall`, `precision`, and `f1score`, we output the values for each class to see how the model performs on an individual class. And, we can see from the results, the recall for `class=2` (More often) is not very good. This is actually a common problem called imbalanced classification challenge. We will introduce solution to this problem later in this course.\n"
      ]
    },
    {
      "cell_type": "markdown",
      "metadata": {
        "id": "6emEQRNdX2zO"
      },
      "source": [
        "Next, let's try defining another logistic regression model with l1 penality this time, to see if our classification performance would be improved.\n"
      ]
    },
    {
      "cell_type": "code",
      "execution_count": 26,
      "metadata": {
        "id": "js2i6YDDX2zT"
      },
      "outputs": [],
      "source": [
        "# L1 penalty to shrink coefficients without removing any features from the model\n",
        "penalty= 'l1'\n",
        "# Our classification problem is multinomial\n",
        "multi_class = 'multinomial'\n",
        "# Use saga for L1 penalty and multinomial classes\n",
        "solver = 'saga'\n",
        "# Max iteration = 1000\n",
        "max_iter = 1000"
      ]
    },
    {
      "cell_type": "markdown",
      "metadata": {
        "id": "vXokOR2dX2zU"
      },
      "source": [
        "Then we define another logistic regression model with above arguments using l1 penality and related solver.\n"
      ]
    },
    {
      "cell_type": "code",
      "execution_count": 27,
      "metadata": {
        "id": "OOAykAlpX2zW"
      },
      "outputs": [],
      "source": [
        "# Define a logistic regression model with above arguments\n",
        "l1_model = LogisticRegression(random_state=rs, penalty=penalty, multi_class=multi_class, solver=solver, max_iter = 1000)"
      ]
    },
    {
      "cell_type": "markdown",
      "metadata": {
        "id": "kHznmwiLX2zX"
      },
      "source": [
        "We can start to train the new `l1_model` with the new taining dataset.\n"
      ]
    },
    {
      "cell_type": "code",
      "execution_count": 28,
      "metadata": {
        "id": "JWH_7fRIX2zZ",
        "outputId": "f994bde4-034e-4d49-8c4d-37bc611470ff",
        "colab": {
          "base_uri": "https://localhost:8080/"
        }
      },
      "outputs": [
        {
          "output_type": "execute_result",
          "data": {
            "text/plain": [
              "LogisticRegression(max_iter=1000, multi_class='multinomial', penalty='l1',\n",
              "                   random_state=123, solver='saga')"
            ]
          },
          "metadata": {},
          "execution_count": 28
        }
      ],
      "source": [
        "l1_model.fit(X_train, y_train)"
      ]
    },
    {
      "cell_type": "markdown",
      "metadata": {
        "id": "esa2IX5VX2zb"
      },
      "source": [
        "And, make predictions using the input in the test dataset.\n"
      ]
    },
    {
      "cell_type": "code",
      "execution_count": 29,
      "metadata": {
        "id": "W9RSmrvaX2zc"
      },
      "outputs": [],
      "source": [
        "l1_preds = l1_model.predict(X_test)"
      ]
    },
    {
      "cell_type": "markdown",
      "metadata": {
        "id": "dR-lSWldX2zh"
      },
      "source": [
        "We can also check the class probability distribution using the `predict_proba` function. For example, we want to see the probabilities the first instance in the test dataset:\n"
      ]
    },
    {
      "cell_type": "code",
      "execution_count": 30,
      "metadata": {
        "id": "M7QktzhuX2zj",
        "outputId": "023b2267-a2e1-4aa7-8eaa-91d1ba2e76fb",
        "colab": {
          "base_uri": "https://localhost:8080/"
        }
      },
      "outputs": [
        {
          "output_type": "execute_result",
          "data": {
            "text/plain": [
              "array([3.55065558e-02, 9.64491964e-01, 1.47991419e-06])"
            ]
          },
          "metadata": {},
          "execution_count": 30
        }
      ],
      "source": [
        "odd_ratios = l1_model.predict_proba(X_test[:1, :])[0]\n",
        "odd_ratios"
      ]
    },
    {
      "cell_type": "markdown",
      "metadata": {
        "id": "Vgj4NhzEX2zk"
      },
      "source": [
        "We can see that  Class 1 has the largest probability 0.96. As such, the model prediction for this instance will be class `1` and this is the same as the `predict` method.\n"
      ]
    },
    {
      "cell_type": "code",
      "execution_count": 31,
      "metadata": {
        "id": "z62u2nRXX2zn",
        "outputId": "493c773a-98cc-4ebc-8167-55990f350283",
        "colab": {
          "base_uri": "https://localhost:8080/"
        }
      },
      "outputs": [
        {
          "output_type": "execute_result",
          "data": {
            "text/plain": [
              "1"
            ]
          },
          "metadata": {},
          "execution_count": 31
        }
      ],
      "source": [
        "l1_model.predict(X_test[:1, :])[0]"
      ]
    },
    {
      "cell_type": "markdown",
      "metadata": {
        "id": "8Qua0b5_X2zp"
      },
      "source": [
        "Given the true labels (`y_test`) and predictions, we can evaluate the model performance by calling the utility `evaluate_metrics`  method.\n"
      ]
    },
    {
      "cell_type": "code",
      "execution_count": 32,
      "metadata": {
        "id": "qZqm4WTyX2zq",
        "outputId": "c62cee1b-156b-4754-ad08-1ff0bda068cf",
        "colab": {
          "base_uri": "https://localhost:8080/"
        }
      },
      "outputs": [
        {
          "output_type": "execute_result",
          "data": {
            "text/plain": [
              "{'accuracy': 0.8092006033182504,\n",
              " 'f1score': array([0.82034632, 0.78682353, 0.85012285]),\n",
              " 'precision': array([0.78848821, 0.83516484, 0.8277512 ]),\n",
              " 'recall': array([0.85488722, 0.74377224, 0.87373737])}"
            ]
          },
          "metadata": {},
          "execution_count": 32
        }
      ],
      "source": [
        "evaluate_metrics(y_test, l1_preds)"
      ]
    },
    {
      "cell_type": "markdown",
      "metadata": {
        "id": "rUGzCgEfX2zr"
      },
      "source": [
        "Now, we can see this logistic regression with l1 penalty has much better performance than l2. One possible reason is that l1 penalty may remove some correlated feature variables by shrinking their coefficents to zero. As such, the model is much simplified to avoid overfitting on the training data and better aligned with the logistic regression assumption that all features should be independent.\n"
      ]
    },
    {
      "cell_type": "markdown",
      "metadata": {
        "id": "HQSQnH42X2zs"
      },
      "source": [
        "### Confusion Matrix\n"
      ]
    },
    {
      "cell_type": "markdown",
      "metadata": {
        "id": "vWWke_6uX2zt"
      },
      "source": [
        "We can also plot the confusion matrix based on the true labels and predictions using the `confusion_matrix` method provided by `sklearn`,\n"
      ]
    },
    {
      "cell_type": "code",
      "execution_count": 33,
      "metadata": {
        "id": "7iGRqXg_X2zv"
      },
      "outputs": [],
      "source": [
        "cf = confusion_matrix(y_test, l1_preds)"
      ]
    },
    {
      "cell_type": "markdown",
      "metadata": {
        "id": "Agyg9cSLX2zw"
      },
      "source": [
        "and easily visualize it using a heatmap method provided by `seaborn`.\n"
      ]
    },
    {
      "cell_type": "code",
      "execution_count": 34,
      "metadata": {
        "id": "WvxofL18X2z2",
        "outputId": "0df8a489-8601-40c0-f160-8ee464a156ba",
        "colab": {
          "base_uri": "https://localhost:8080/",
          "height": 716
        }
      },
      "outputs": [
        {
          "output_type": "display_data",
          "data": {
            "text/plain": [
              "<Figure size 1152x864 with 2 Axes>"
            ],
            "image/png": "[encoded data removed]"
          },
          "metadata": {
            "needs_background": "light"
          }
        }
      ],
      "source": [
        "plt.figure(figsize=(16, 12))\n",
        "ax = sns.heatmap(cf, annot=True, fmt=\"d\", xticklabels=[\"In Moderation\", \"Less Often\", \"More Often\"], \n",
        "                 yticklabels=[\"In Moderation\", \"Less Often\", \"More Often\"])\n",
        "ax.set(title=\"Confusion Matrix\");"
      ]
    },
    {
      "cell_type": "markdown",
      "metadata": {
        "id": "iPjzbZg0X2z4"
      },
      "source": [
        "### Interpret logistic regression models\n"
      ]
    },
    {
      "cell_type": "markdown",
      "metadata": {
        "id": "MFsYdhpjX2z6"
      },
      "source": [
        "One way to interpret logistic regression models is by analyzing feature coefficients. Although it may not be as effective as the regular linear regression models because the logistic regression model has a sigmoid function, we can still get a sense for the importance or impact of each feature.\n"
      ]
    },
    {
      "cell_type": "markdown",
      "metadata": {
        "id": "KfatS7uBX2z8"
      },
      "source": [
        "We can check the coefficients for logisti regression model using its `coef_` attribute:\n"
      ]
    },
    {
      "cell_type": "code",
      "execution_count": 35,
      "metadata": {
        "id": "4QQ-iON4X2z-",
        "outputId": "2ce7cef5-a3a7-4801-d331-930fa82fb627",
        "colab": {
          "base_uri": "https://localhost:8080/"
        }
      },
      "outputs": [
        {
          "output_type": "execute_result",
          "data": {
            "text/plain": [
              "array([[ 1.02260612e+01,  0.00000000e+00,  0.00000000e+00,\n",
              "         5.28211590e+00,  0.00000000e+00, -3.70560617e+00,\n",
              "         0.00000000e+00,  9.11923717e-01,  0.00000000e+00,\n",
              "         2.26627496e+01,  0.00000000e+00,  0.00000000e+00,\n",
              "         4.30564271e+00,  1.36942545e-01,  0.00000000e+00,\n",
              "         1.83340368e+00, -2.06761520e-02],\n",
              "       [ 0.00000000e+00,  4.20223530e+00,  2.46648466e+01,\n",
              "         0.00000000e+00,  0.00000000e+00,  0.00000000e+00,\n",
              "         4.94277520e+00,  0.00000000e+00,  1.32251480e+00,\n",
              "        -6.79834695e+00,  1.51669845e+01,  3.46648083e+00,\n",
              "         0.00000000e+00, -1.71144958e+00,  0.00000000e+00,\n",
              "        -1.47866235e-01,  0.00000000e+00],\n",
              "       [-1.11431018e+02, -2.91410454e+01,  0.00000000e+00,\n",
              "         0.00000000e+00,  0.00000000e+00,  0.00000000e+00,\n",
              "         0.00000000e+00, -1.59642876e+00, -4.13437893e+01,\n",
              "         0.00000000e+00, -9.27079323e-01,  0.00000000e+00,\n",
              "         0.00000000e+00,  0.00000000e+00,  0.00000000e+00,\n",
              "         0.00000000e+00,  0.00000000e+00]])"
            ]
          },
          "metadata": {},
          "execution_count": 35
        }
      ],
      "source": [
        "l1_model.coef_"
      ]
    },
    {
      "cell_type": "markdown",
      "metadata": {
        "id": "tjtfveZPX20B"
      },
      "source": [
        "The `coef_` is a coefficients list with three elements, one element is the actual coefficent for class 0, 1, 2. To better analyze the coefficients, let's use three utility methods to sort and visualize them.\n"
      ]
    },
    {
      "cell_type": "code",
      "execution_count": 42,
      "metadata": {
        "id": "Zm_zAZXIX20G"
      },
      "outputs": [],
      "source": [
        "# Extract and sort feature coefficients\n",
        "def get_feature_coefs(regression_model, label_index, columns):\n",
        "    coef_dict = {}\n",
        "    for coef, feat in zip(regression_model.coef_[label_index, :], columns):\n",
        "        if abs(coef) >= 0.01:\n",
        "            coef_dict[feat] = coef\n",
        "    # Sort coefficients\n",
        "    coef_dict = {k: v for k, v in sorted(coef_dict.items(), key=lambda item: item[1])}\n",
        "    return coef_dict\n",
        "\n",
        "# Generate bar colors based on if value is negative or positive\n",
        "def get_bar_colors(values):\n",
        "    color_vals = []\n",
        "    for val in values:\n",
        "        if val <= 0:\n",
        "            color_vals.append('r')\n",
        "        else:\n",
        "            color_vals.append('g')\n",
        "    return color_vals\n",
        "\n",
        "# Visualize coefficients\n",
        "def visualize_coefs(coef_dict):\n",
        "    features = list(coef_dict.keys())\n",
        "    values = list(coef_dict.values())\n",
        "    y_pos = np.arange(len(features))\n",
        "    color_vals = get_bar_colors(values)\n",
        "    plt.rcdefaults()\n",
        "    fig, ax = plt.subplots()\n",
        "    ax.barh(y_pos, values, align='center', color=color_vals)\n",
        "    ax.set_yticks(y_pos)\n",
        "    ax.set_yticklabels(features)\n",
        "    # labels read top-to-bottom\n",
        "    ax.invert_yaxis()  \n",
        "    ax.set_xlabel('Feature Coefficients')\n",
        "    ax.set_title('')\n",
        "    plt.show()"
      ]
    },
    {
      "cell_type": "markdown",
      "metadata": {
        "id": "hiHpHtGnX20H"
      },
      "source": [
        "Then, let's visualize the sorted coefficient for class 1, the `Less Often` class:\n"
      ]
    },
    {
      "cell_type": "code",
      "execution_count": 37,
      "metadata": {
        "id": "oNCk-CIcX20J"
      },
      "outputs": [],
      "source": [
        "# Get the coefficents for Class 1, Less Often\n",
        "coef_dict = get_feature_coefs(l1_model, 1, feature_cols)"
      ]
    },
    {
      "cell_type": "code",
      "execution_count": 38,
      "metadata": {
        "id": "v5iXkbmEX20M",
        "outputId": "8694d00d-433f-4e6f-c802-82cac372c140",
        "colab": {
          "base_uri": "https://localhost:8080/",
          "height": 449
        }
      },
      "outputs": [
        {
          "output_type": "display_data",
          "data": {
            "text/plain": [
              "<Figure size 640x480 with 1 Axes>"
            ],
            "image/png": "[encoded data removed]"
          },
          "metadata": {}
        }
      ],
      "source": [
        "visualize_coefs(coef_dict)"
      ]
    },
    {
      "cell_type": "markdown",
      "metadata": {
        "id": "oIHugQzlX20P"
      },
      "source": [
        "As we can see, unhealthy nutrients such as Saturated Fat, Sugars, Cholesterol, Total Fat, etc., have high positive coefficients. Food items containing unhealthy nutrients will have higher coeficients and will be more likely to be categorized in the 'Less Often' class.\n"
      ]
    },
    {
      "cell_type": "markdown",
      "metadata": {
        "id": "7Yr8-c1AX20Q"
      },
      "source": [
        "Next, let's see the coefficents for Class 2, `More Often`:\n"
      ]
    },
    {
      "cell_type": "code",
      "execution_count": 39,
      "metadata": {
        "id": "H6NkAZpEX20U",
        "outputId": "eaab66e0-852a-4adb-a8a5-d95c41cf25b8",
        "colab": {
          "base_uri": "https://localhost:8080/",
          "height": 449
        }
      },
      "outputs": [
        {
          "output_type": "display_data",
          "data": {
            "text/plain": [
              "<Figure size 640x480 with 1 Axes>"
            ],
            "image/png": "[encoded data removed]"
          },
          "metadata": {}
        }
      ],
      "source": [
        "# Coefficients for Class 2\n",
        "coef_dict = get_feature_coefs(l1_model, 2, feature_cols)\n",
        "visualize_coefs(coef_dict)"
      ]
    },
    {
      "cell_type": "markdown",
      "metadata": {
        "id": "Sb_AXZr8X20X"
      },
      "source": [
        "Conversely, if a food item has a high amount of calories, total carbohydrates, and total fat, then it is unlikely to be categorized in the 'More Often' class.\n"
      ]
    },
    {
      "cell_type": "markdown",
      "metadata": {
        "id": "U0l35_79X20Y"
      },
      "source": [
        "## Coding Exercise: Train and evaluate a logistic regression model with elastic-net penality\n"
      ]
    },
    {
      "cell_type": "markdown",
      "metadata": {
        "id": "iAmBI1WzX20Z"
      },
      "source": [
        "Now, it's your turn to walk through the end-to-end process of defining, building, evaluating, and interpreting a logistic regression model.\n"
      ]
    },
    {
      "cell_type": "markdown",
      "metadata": {
        "id": "p7-UNI1AX20d"
      },
      "source": [
        "### Define a logistic regression with elastic-net penality\n"
      ]
    },
    {
      "cell_type": "code",
      "execution_count": 45,
      "metadata": {
        "id": "rFrZyzatX20o"
      },
      "outputs": [],
      "source": [
        "# Type your code here\n",
        "# HINT: sklearn only support saga solver for elastic-net penality\n",
        "# and you need to set another l1_ratio to be within 0 < l1_ratio <1, in order to actually use elastic-net\n",
        "elastic_net_model = LogisticRegression(random_state=rs,\n",
        "                                       penalty='elasticnet', \n",
        "                                       multi_class=multi_class, \n",
        "                                       solver='saga', \n",
        "                                       max_iter = 1000,\n",
        "                                       l1_ratio = .5)"
      ]
    },
    {
      "cell_type": "markdown",
      "metadata": {
        "id": "z3RzPgc2X20r"
      },
      "source": [
        "### Train the model with training data\n"
      ]
    },
    {
      "cell_type": "code",
      "execution_count": 46,
      "metadata": {
        "id": "FzuC95mBX20v",
        "outputId": "23e7b589-7f00-4da1-c59d-3ea22d636d4d",
        "colab": {
          "base_uri": "https://localhost:8080/"
        }
      },
      "outputs": [
        {
          "output_type": "execute_result",
          "data": {
            "text/plain": [
              "LogisticRegression(l1_ratio=0.5, max_iter=1000, multi_class='multinomial',\n",
              "                   penalty='elasticnet', random_state=123, solver='saga')"
            ]
          },
          "metadata": {},
          "execution_count": 46
        }
      ],
      "source": [
        "# Type your code here\n",
        "elastic_net_model.fit(X_train, y_train)"
      ]
    },
    {
      "cell_type": "markdown",
      "metadata": {
        "id": "Bi13A_OEX20y"
      },
      "source": [
        "### Evaluate the model using accuracy, precision, recall, and F1score\n"
      ]
    },
    {
      "cell_type": "code",
      "execution_count": 48,
      "metadata": {
        "id": "5AQrxq2HX203",
        "outputId": "a63b170b-559d-4c2a-ad83-bf79e947e3be",
        "colab": {
          "base_uri": "https://localhost:8080/"
        }
      },
      "outputs": [
        {
          "output_type": "execute_result",
          "data": {
            "text/plain": [
              "{'accuracy': 0.7907239819004525,\n",
              " 'f1score': array([0.80601188, 0.78120551, 0.7202381 ]),\n",
              " 'precision': array([0.75310255, 0.83723296, 0.87681159]),\n",
              " 'recall': array([0.86691729, 0.73220641, 0.61111111])}"
            ]
          },
          "metadata": {},
          "execution_count": 48
        }
      ],
      "source": [
        "# Type your code here\n",
        "elastic_pred = elastic_net_model.predict(X_test)\n",
        "evaluate_metrics(y_test, elastic_pred)"
      ]
    },
    {
      "cell_type": "markdown",
      "metadata": {
        "id": "nUOO3WhLX205"
      },
      "source": [
        "### Plot confusion matrix\n"
      ]
    },
    {
      "cell_type": "code",
      "execution_count": 49,
      "metadata": {
        "id": "IRVFSpUuX206",
        "outputId": "8d027ac9-917f-41ab-ff18-fd45b343953a",
        "colab": {
          "base_uri": "https://localhost:8080/",
          "height": 1000
        }
      },
      "outputs": [
        {
          "output_type": "display_data",
          "data": {
            "text/plain": [
              "<Figure size 1600x1200 with 2 Axes>"
            ],
            "image/png": "[encoded data removed]"
          },
          "metadata": {}
        }
      ],
      "source": [
        "# Type your code here\n",
        "cf_elastic = confusion_matrix(y_test, elastic_pred)\n",
        "\n",
        "plt.figure(figsize=(16, 12))\n",
        "ax = sns.heatmap(cf_elastic, annot=True, fmt=\"d\", xticklabels=[\"In Moderation\", \"Less Often\", \"More Often\"], \n",
        "                 yticklabels=[\"In Moderation\", \"Less Often\", \"More Often\"])\n",
        "ax.set(title=\"Confusion Matrix\");"
      ]
    },
    {
      "cell_type": "markdown",
      "metadata": {
        "id": "Aw3al0JpX207"
      },
      "source": [
        "### Interpret the model by analysing its coefficients\n"
      ]
    },
    {
      "cell_type": "code",
      "execution_count": 50,
      "metadata": {
        "id": "01kTP80fX208",
        "outputId": "a5518841-f446-4b4d-ed49-103b0fa834dc",
        "colab": {
          "base_uri": "https://localhost:8080/",
          "height": 1000
        }
      },
      "outputs": [
        {
          "output_type": "display_data",
          "data": {
            "text/plain": [
              "<Figure size 640x480 with 1 Axes>"
            ],
            "image/png": "[encoded data removed]"
          },
          "metadata": {}
        },
        {
          "output_type": "display_data",
          "data": {
            "text/plain": [
              "<Figure size 640x480 with 1 Axes>"
            ],
            "image/png": "[encoded data removed]"
          },
          "metadata": {}
        },
        {
          "output_type": "display_data",
          "data": {
            "text/plain": [
              "<Figure size 640x480 with 1 Axes>"
            ],
            "image/png": "[encoded data removed]"
          },
          "metadata": {}
        }
      ],
      "source": [
        "# Type your code here\n",
        "coef_dict_c1 = get_feature_coefs(elastic_net_model, 1, feature_cols)\n",
        "coef_dict_c2 = get_feature_coefs(elastic_net_model, 2, feature_cols)\n",
        "coef_dict_c0 = get_feature_coefs(elastic_net_model, 0, feature_cols)\n",
        "\n",
        "visualize_coefs(coef_dict_c1)\n",
        "visualize_coefs(coef_dict_c2)\n",
        "visualize_coefs(coef_dict_c0)\n"
      ]
    },
    {
      "cell_type": "markdown",
      "metadata": {
        "id": "AqF0MiIkX209"
      },
      "source": [
        "<details><summary>Click here for a sample solution</summary>\n",
        "\n",
        "```python\n",
        "# elasticnet penalty to shrink coefficients without removing any features from the model\n",
        "penalty= 'elasticnet'\n",
        "# Our classification problem is multinomial\n",
        "multi_class = 'multinomial'\n",
        "# Use saga for L1 penalty and multinomial classes\n",
        "solver = 'saga'\n",
        "# Max iteration = 1000\n",
        "max_iter = 1000\n",
        "# l1_ratio\n",
        "l1_ratio = 0.1\n",
        "\n",
        "# Define a elastic-net model\n",
        "en_model = LogisticRegression(random_state=rs, penalty=penalty, multi_class=multi_class, solver=solver, max_iter = 1000, l1_ratio=l1_ratio)\n",
        "en_model.fit(X_train, y_train)\n",
        "# Make predictions\n",
        "preds = en_model.predict(X_test)\n",
        "```\n",
        "\n",
        "</details>\n"
      ]
    },
    {
      "cell_type": "markdown",
      "metadata": {
        "id": "k2AhozdfX21A"
      },
      "source": [
        "## Next steps\n"
      ]
    },
    {
      "cell_type": "markdown",
      "metadata": {
        "id": "2A8AYIusX21C"
      },
      "source": [
        "Great! Now you have learned about and practiced applying a logistic regression model to solve a real-world food classification problem for diabetic patients. You also learned how to evaluate and interpret the trained logistic regression models.\n"
      ]
    },
    {
      "cell_type": "markdown",
      "metadata": {
        "id": "TDkaJx8MX21G"
      },
      "source": [
        "Next, you will be learning other popular classification models with different structures, assumptions, cost functions, and application scenarios.\n"
      ]
    },
    {
      "cell_type": "markdown",
      "metadata": {
        "id": "ipdQ1gRoX21J"
      },
      "source": [
        "## Authors\n"
      ]
    },
    {
      "cell_type": "markdown",
      "metadata": {
        "id": "hjaf9J5LX21K"
      },
      "source": [
        "[Yan Luo](https://www.linkedin.com/in/yan-luo-96288783/?utm_medium=Exinfluencer&utm_source=Exinfluencer&utm_content=000026UJ&utm_term=10006555&utm_id=NA-SkillsNetwork-Channel-SkillsNetworkCoursesIBMML241ENSkillsNetwork31576874-2021-01-01)\n"
      ]
    },
    {
      "cell_type": "markdown",
      "metadata": {
        "id": "bPYzVQNbX21L"
      },
      "source": [
        "### Other Contributors\n"
      ]
    },
    {
      "cell_type": "markdown",
      "metadata": {
        "id": "2H_Z3ynvX21N"
      },
      "source": [
        "## Change Log\n"
      ]
    },
    {
      "cell_type": "markdown",
      "metadata": {
        "id": "ftmp0tMYX21O"
      },
      "source": [
        "| Date (YYYY-MM-DD) | Version | Changed By | Change Description          |\n",
        "| ----------------- | ------- | ---------- | --------------------------- |\n",
        "| 2021-10-25        | 1.0     | Yan        | Created the initial version |\n"
      ]
    },
    {
      "cell_type": "markdown",
      "metadata": {
        "id": "g7eG-ecUX21P"
      },
      "source": [
        "Copyright © 2021 IBM Corporation. All rights reserved.\n"
      ]
    }
  ],
  "metadata": {
    "kernelspec": {
      "display_name": "Python 3",
      "language": "python",
      "name": "python3"
    },
    "language_info": {
      "codemirror_mode": {
        "name": "ipython",
        "version": 3
      },
      "file_extension": ".py",
      "mimetype": "text/x-python",
      "name": "python",
      "nbconvert_exporter": "python",
      "pygments_lexer": "ipython3",
      "version": "3.8.8"
    },
    "colab": {
      "name": "lab_jupyter_logistic_regression.ipynb",
      "provenance": []
    }
  },
  "nbformat": 4,
  "nbformat_minor": 0
}