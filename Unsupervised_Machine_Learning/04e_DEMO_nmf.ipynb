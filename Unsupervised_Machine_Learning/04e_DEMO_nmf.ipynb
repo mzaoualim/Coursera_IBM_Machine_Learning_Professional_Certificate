{
  "cells": [
    {
      "cell_type": "markdown",
      "metadata": {
        "run_control": {
          "marked": true
        },
        "id": "8tHuF7_esZOE"
      },
      "source": [
        "# Machine Learning Foundation\n",
        "\n",
        "## Course 4, Part e: Non-Negative Matrix Factorization DEMO"
      ]
    },
    {
      "cell_type": "markdown",
      "metadata": {
        "id": "ITeGwNmFsZOO"
      },
      "source": [
        "This exercise illustrates usage of Non-negative Matrix factorization and covers techniques related to sparse matrices and some basic work with Natural Langauge Processing.  We will use NMF to look at the top words for given topics."
      ]
    },
    {
      "cell_type": "markdown",
      "metadata": {
        "id": "eJQzCjAzsZOT"
      },
      "source": [
        "## Data"
      ]
    },
    {
      "cell_type": "markdown",
      "metadata": {
        "id": "XYR2j8gjsZOX"
      },
      "source": [
        "We'll be using the BBC dataset. These are articles collected from 5 different topics, with the data pre-processed. \n",
        "\n",
        "These data are available in the data folder (or online [here](http://mlg.ucd.ie/files/datasets/bbc.zip)). The data consists of a few files. The steps we'll be following are:\n",
        "\n",
        "* *bbc.terms* is just a list of words \n",
        "* *bbc.docs* is a list of artcles listed by topic.\n",
        "\n",
        "At a high level, we're going to \n",
        "\n",
        "1. Turn the `bbc.mtx` file into a sparse matrix (a [sparse matrix](https://docs.scipy.org/doc/scipy/reference/sparse.html) format can be useful for matrices with many values that are 0, and save space by storing the position and values of non-zero elements).\n",
        "1. Decompose that sparse matrix using NMF.\n",
        "1. Use the resulting components of NMF to analyze the topics that result."
      ]
    },
    {
      "cell_type": "markdown",
      "metadata": {
        "id": "mPPhw2tQsZOc"
      },
      "source": [
        "## Data Setup"
      ]
    },
    {
      "cell_type": "code",
      "execution_count": 1,
      "metadata": {
        "id": "LTej9Iy6sZOg"
      },
      "outputs": [],
      "source": [
        "with open('/content/bbc.mtx') as f:\n",
        "    content = f.readlines()"
      ]
    },
    {
      "cell_type": "code",
      "execution_count": 2,
      "metadata": {
        "id": "J4C93jvssZOl",
        "outputId": "aa3283f2-5cda-4de5-ce28-91e34da83374",
        "colab": {
          "base_uri": "https://localhost:8080/",
          "height": 35
        }
      },
      "outputs": [
        {
          "output_type": "execute_result",
          "data": {
            "text/plain": [
              "'9635 2225 286774\\n'"
            ],
            "application/vnd.google.colaboratory.intrinsic+json": {
              "type": "string"
            }
          },
          "metadata": {},
          "execution_count": 2
        }
      ],
      "source": [
        "content.pop(0)\n",
        "content.pop(0)"
      ]
    },
    {
      "cell_type": "markdown",
      "metadata": {
        "id": "C7zsTVAEsZOo"
      },
      "source": [
        "## Part 1\n",
        "\n",
        "Here, we will turn this into a list of tuples representing a [sparse matrix](https://docs.scipy.org/doc/scipy/reference/sparse.html). Remember the description of the file from above:\n",
        "\n",
        "* *bbc.mtx* is a list: first column is **wordID**, second is **articleID** and the third is the number of times that word appeared in that article.\n",
        "\n",
        "So, if word 1 appears in article 3, 2 times, one element of our list will be:\n",
        "\n",
        "`(1, 3, 2)`"
      ]
    },
    {
      "cell_type": "code",
      "execution_count": 3,
      "metadata": {
        "id": "kBRp1AaIsZOt",
        "outputId": "113ef568-9ecf-424e-fde5-c8734a417f86",
        "colab": {
          "base_uri": "https://localhost:8080/"
        }
      },
      "outputs": [
        {
          "output_type": "execute_result",
          "data": {
            "text/plain": [
              "[(1, 1, 1),\n",
              " (1, 7, 2),\n",
              " (1, 11, 1),\n",
              " (1, 14, 1),\n",
              " (1, 15, 2),\n",
              " (1, 19, 2),\n",
              " (1, 21, 1),\n",
              " (1, 29, 1)]"
            ]
          },
          "metadata": {},
          "execution_count": 3
        }
      ],
      "source": [
        "sparsemat = [tuple(map(int,map(float,c.split()))) for c in content]\n",
        "# Let's examine the first few elements\n",
        "sparsemat[:8]"
      ]
    },
    {
      "cell_type": "markdown",
      "metadata": {
        "id": "XZdJbjZ8sZO3"
      },
      "source": [
        "## Part 2: Preparing Sparse Matrix data for NMF "
      ]
    },
    {
      "cell_type": "markdown",
      "metadata": {
        "id": "1N_m7USNsZO_"
      },
      "source": [
        "We will use the [coo matrix](https://docs.scipy.org/doc/scipy/reference/generated/scipy.sparse.coo_matrix.html) function to turn the sparse matrix into an array. "
      ]
    },
    {
      "cell_type": "code",
      "execution_count": 4,
      "metadata": {
        "id": "EhRASoPrsZPK"
      },
      "outputs": [],
      "source": [
        "import numpy as np\n",
        "from scipy.sparse import coo_matrix\n",
        "rows = [x[0] for x in sparsemat]\n",
        "cols = [x[1] for x in sparsemat]\n",
        "values = [x[2] for x in sparsemat]\n",
        "coo = coo_matrix((values, (rows, cols)))"
      ]
    },
    {
      "cell_type": "markdown",
      "metadata": {
        "id": "sO7NF-iisZPN"
      },
      "source": [
        "## NMF"
      ]
    },
    {
      "cell_type": "markdown",
      "metadata": {
        "id": "6GhL5M5hsZPP"
      },
      "source": [
        "NMF is a way of decomposing a matrix of documents and words so that one of the matrices can be interpreted as the \"loadings\" or \"weights\" of each word on a topic. "
      ]
    },
    {
      "cell_type": "markdown",
      "metadata": {
        "id": "6vu6Sz0DsZPR"
      },
      "source": [
        "Check out [the NMF documentation](http://scikit-learn.org/stable/modules/generated/sklearn.decomposition.NMF.html) and the [examples of topic extraction using NMF and LDA](http://scikit-learn.org/0.18/auto_examples/applications/topics_extraction_with_nmf_lda.html)."
      ]
    },
    {
      "cell_type": "markdown",
      "metadata": {
        "id": "EM_rSLdjsZPT"
      },
      "source": [
        "## Part 3\n",
        "\n",
        "Here, we will import `NMF`, define a model object with 5 components, and `fit_transform` the data created above."
      ]
    },
    {
      "cell_type": "code",
      "execution_count": 5,
      "metadata": {
        "id": "D1sFOLgwsZPV",
        "outputId": "ad70dea7-8b00-4625-be9d-38df409ab459",
        "colab": {
          "base_uri": "https://localhost:8080/"
        }
      },
      "outputs": [
        {
          "output_type": "execute_result",
          "data": {
            "text/plain": [
              "(9636, 5)"
            ]
          },
          "metadata": {},
          "execution_count": 5
        }
      ],
      "source": [
        "from sklearn.decomposition import NMF\n",
        "model = NMF(n_components=5, init='random', random_state=818)\n",
        "doc_topic = model.fit_transform(coo)\n",
        "\n",
        "doc_topic.shape\n",
        "# we should have 9636 observations (articles) and five latent features"
      ]
    },
    {
      "cell_type": "code",
      "execution_count": 6,
      "metadata": {
        "id": "EiBSUfkvsZPZ",
        "outputId": "6f31b7e2-419c-49fe-bc7c-44a4c6eaa05b",
        "colab": {
          "base_uri": "https://localhost:8080/"
        }
      },
      "outputs": [
        {
          "output_type": "execute_result",
          "data": {
            "text/plain": [
              "array([0, 0, 2, ..., 4, 4, 4])"
            ]
          },
          "metadata": {},
          "execution_count": 6
        }
      ],
      "source": [
        "# find feature with highest value per doc\n",
        "np.argmax(doc_topic, axis=1)"
      ]
    },
    {
      "cell_type": "markdown",
      "metadata": {
        "id": "Cvb5ny9dsZPc"
      },
      "source": [
        "## Part 4: \n",
        "\n",
        "Check out the `components` of this model:"
      ]
    },
    {
      "cell_type": "code",
      "execution_count": 7,
      "metadata": {
        "id": "2ymCGmMPsZPe",
        "outputId": "276cd57e-e83c-485d-ac52-11d0a0954ca9",
        "colab": {
          "base_uri": "https://localhost:8080/"
        }
      },
      "outputs": [
        {
          "output_type": "execute_result",
          "data": {
            "text/plain": [
              "(5, 2226)"
            ]
          },
          "metadata": {},
          "execution_count": 7
        }
      ],
      "source": [
        "model.components_.shape"
      ]
    },
    {
      "cell_type": "markdown",
      "metadata": {
        "id": "7-twe7gKsZPg"
      },
      "source": [
        "This is five rows, each of which is a \"topic\" containing the weights of each word on that topic. The exercise is to _get a list of the top 10 words for each topic_. We can just store this in a list of lists."
      ]
    },
    {
      "cell_type": "markdown",
      "metadata": {
        "id": "pH7KdOabsZPi"
      },
      "source": [
        "**Note:** Just like we read in the data above, we'll have to read in the words from the `bbc.terms` file."
      ]
    },
    {
      "cell_type": "code",
      "execution_count": 8,
      "metadata": {
        "id": "3ncvQmfSsZPj"
      },
      "outputs": [],
      "source": [
        "with open('/content/bbc.terms') as f:\n",
        "    content = f.readlines()\n",
        "words = [c.split()[0] for c in content]"
      ]
    },
    {
      "cell_type": "code",
      "execution_count": 9,
      "metadata": {
        "id": "wwPlRaGesZPl"
      },
      "outputs": [],
      "source": [
        "topic_words = []\n",
        "for r in model.components_:\n",
        "    a = sorted([(v,i) for i,v in enumerate(r)],reverse=True)[0:12]\n",
        "    topic_words.append([words[e[1]] for e in a])"
      ]
    },
    {
      "cell_type": "code",
      "execution_count": 10,
      "metadata": {
        "id": "uHngZMrysZPo",
        "outputId": "a5dfc9b3-c05b-405d-c791-8c1d0b2ae2ba",
        "colab": {
          "base_uri": "https://localhost:8080/"
        }
      },
      "outputs": [
        {
          "output_type": "execute_result",
          "data": {
            "text/plain": [
              "[['bondi',\n",
              "  'stanlei',\n",
              "  'continent',\n",
              "  'mortgag',\n",
              "  'bare',\n",
              "  'least',\n",
              "  'extent',\n",
              "  '200',\n",
              "  'leav',\n",
              "  'frustrat',\n",
              "  'yuan',\n",
              "  'industri'],\n",
              " ['manipul',\n",
              "  'teenag',\n",
              "  'drawn',\n",
              "  'go',\n",
              "  'prosecutor',\n",
              "  'herbert',\n",
              "  'host',\n",
              "  'protest',\n",
              "  'hike',\n",
              "  'nation',\n",
              "  'calcul',\n",
              "  'power'],\n",
              " ['dimens',\n",
              "  'hous',\n",
              "  'march',\n",
              "  'wider',\n",
              "  'owner',\n",
              "  'intend',\n",
              "  'declin',\n",
              "  'forc',\n",
              "  'posit',\n",
              "  'founder',\n",
              "  'york',\n",
              "  'unavail'],\n",
              " ['rome',\n",
              "  'ft',\n",
              "  'regain',\n",
              "  'lawmak',\n",
              "  'outright',\n",
              "  'resum',\n",
              "  'childhood',\n",
              "  'greatest',\n",
              "  'citi',\n",
              "  'stagnat',\n",
              "  'crown',\n",
              "  'bodi'],\n",
              " ['build',\n",
              "  'empir',\n",
              "  'isol',\n",
              "  '£12',\n",
              "  'restructur',\n",
              "  'closer',\n",
              "  'plung',\n",
              "  'depreci',\n",
              "  'durham',\n",
              "  'race',\n",
              "  'juli',\n",
              "  'segreg']]"
            ]
          },
          "metadata": {},
          "execution_count": 10
        }
      ],
      "source": [
        "# Here, each set of words relates to the corresponding topic (ie the first set of words relates to topic 'Business', etc.)\n",
        "topic_words[:5]"
      ]
    },
    {
      "cell_type": "markdown",
      "metadata": {
        "id": "gXvpx2PqsZPq"
      },
      "source": [
        "The original data had 5 topics, as listed in `bbc.docs` (which these topic words relate to). \n",
        "\n",
        "```\n",
        "Business\n",
        "Entertainment\n",
        "Politics\n",
        "Sport\n",
        "Tech\n",
        "```\n",
        "\n",
        "In \"real life\", we would have found a way to use these to inform the model. But for this little demo, we can just compare the recovered topics to the original ones. And they seem to match reasonably well. The order is different, which is to be expected in this kind of model."
      ]
    },
    {
      "cell_type": "code",
      "execution_count": 11,
      "metadata": {
        "id": "IWpa-OYnsZPt",
        "outputId": "6dd65d48-8767-488f-e804-1b861baa7737",
        "colab": {
          "base_uri": "https://localhost:8080/"
        }
      },
      "outputs": [
        {
          "output_type": "execute_result",
          "data": {
            "text/plain": [
              "['business.001\\n',\n",
              " 'business.002\\n',\n",
              " 'business.003\\n',\n",
              " 'business.004\\n',\n",
              " 'business.005\\n',\n",
              " 'business.006\\n',\n",
              " 'business.007\\n',\n",
              " 'business.008\\n']"
            ]
          },
          "metadata": {},
          "execution_count": 11
        }
      ],
      "source": [
        "with open('/content/bbc.docs') as d:\n",
        "    doc_content = d.readlines()\n",
        "    \n",
        "doc_content[:8]"
      ]
    },
    {
      "cell_type": "markdown",
      "metadata": {
        "id": "1xbEKFf2sZPv"
      },
      "source": [
        "---\n",
        "### Machine Learning Foundation (C) 2020 IBM Corporation"
      ]
    }
  ],
  "metadata": {
    "kernelspec": {
      "display_name": "metis",
      "language": "python",
      "name": "metis"
    },
    "language_info": {
      "codemirror_mode": {
        "name": "ipython",
        "version": 3
      },
      "file_extension": ".py",
      "mimetype": "text/x-python",
      "name": "python",
      "nbconvert_exporter": "python",
      "pygments_lexer": "ipython3",
      "version": "3.7.6"
    },
    "colab": {
      "name": "04e_DEMO_nmf.ipynb",
      "provenance": []
    }
  },
  "nbformat": 4,
  "nbformat_minor": 0
}